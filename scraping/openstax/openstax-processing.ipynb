{
 "cells": [
  {
   "cell_type": "code",
   "execution_count": 1,
   "id": "09efadbf",
   "metadata": {
    "execution": {
     "iopub.execute_input": "2023-06-10T15:06:20.892823Z",
     "iopub.status.busy": "2023-06-10T15:06:20.892033Z",
     "iopub.status.idle": "2023-06-10T15:06:33.109553Z",
     "shell.execute_reply": "2023-06-10T15:06:33.107134Z"
    },
    "papermill": {
     "duration": 12.262573,
     "end_time": "2023-06-10T15:06:33.112331",
     "exception": false,
     "start_time": "2023-06-10T15:06:20.849758",
     "status": "completed"
    },
    "tags": []
   },
   "outputs": [
    {
     "name": "stdout",
     "output_type": "stream",
     "text": [
      "Collecting docx2txt\r\n",
      "  Downloading docx2txt-0.8.tar.gz (2.8 kB)\r\n",
      "  Preparing metadata (setup.py) ... \u001b[?25l-\b \bdone\r\n",
      "\u001b[?25hBuilding wheels for collected packages: docx2txt\r\n",
      "  Building wheel for docx2txt (setup.py) ... \u001b[?25l-\b \b\\\b \bdone\r\n",
      "\u001b[?25h  Created wheel for docx2txt: filename=docx2txt-0.8-py3-none-any.whl size=3980 sha256=e71989fee906976fd9a0743632a81c0cfdef470b74c070206aa2f2b7fb076692\r\n",
      "  Stored in directory: /root/.cache/pip/wheels/08/45/4d/5985be6d2ead508294e8660bdf11c974153d1f519e96810d0c\r\n",
      "Successfully built docx2txt\r\n",
      "Installing collected packages: docx2txt\r\n",
      "Successfully installed docx2txt-0.8\r\n",
      "\u001b[33mWARNING: Running pip as the 'root' user can result in broken permissions and conflicting behaviour with the system package manager. It is recommended to use a virtual environment instead: https://pip.pypa.io/warnings/venv\u001b[0m\u001b[33m\r\n",
      "\u001b[0m"
     ]
    }
   ],
   "source": [
    "!pip install docx2txt"
   ]
  },
  {
   "cell_type": "code",
   "execution_count": 2,
   "id": "1236e2a1",
   "metadata": {
    "_cell_guid": "b1076dfc-b9ad-4769-8c92-a6c4dae69d19",
    "_uuid": "8f2839f25d086af736a60e9eeb907d3b93b6e0e5",
    "execution": {
     "iopub.execute_input": "2023-06-10T15:06:33.190248Z",
     "iopub.status.busy": "2023-06-10T15:06:33.189769Z",
     "iopub.status.idle": "2023-06-10T15:06:34.507852Z",
     "shell.execute_reply": "2023-06-10T15:06:34.506670Z"
    },
    "papermill": {
     "duration": 1.360935,
     "end_time": "2023-06-10T15:06:34.510705",
     "exception": false,
     "start_time": "2023-06-10T15:06:33.149770",
     "status": "completed"
    },
    "tags": []
   },
   "outputs": [],
   "source": [
    "import numpy as np\n",
    "import pandas as pd\n",
    "import seaborn as sns\n",
    "import json\n",
    "from glob import glob\n",
    "import gc\n",
    "import docx2txt\n",
    "import re"
   ]
  },
  {
   "cell_type": "code",
   "execution_count": 3,
   "id": "e99befbb",
   "metadata": {
    "execution": {
     "iopub.execute_input": "2023-06-10T15:06:34.585562Z",
     "iopub.status.busy": "2023-06-10T15:06:34.585128Z",
     "iopub.status.idle": "2023-06-10T15:06:34.594732Z",
     "shell.execute_reply": "2023-06-10T15:06:34.592833Z"
    },
    "papermill": {
     "duration": 0.05091,
     "end_time": "2023-06-10T15:06:34.597813",
     "exception": false,
     "start_time": "2023-06-10T15:06:34.546903",
     "status": "completed"
    },
    "tags": []
   },
   "outputs": [],
   "source": [
    "folder = sorted(glob('/kaggle/input/newdataset/csnlpdataset/openstax/openstax/*'))"
   ]
  },
  {
   "cell_type": "markdown",
   "id": "ad273a33",
   "metadata": {
    "papermill": {
     "duration": 0.036431,
     "end_time": "2023-06-10T15:06:34.670840",
     "exception": false,
     "start_time": "2023-06-10T15:06:34.634409",
     "status": "completed"
    },
    "tags": []
   },
   "source": [
    "## World History Volume 1\n",
    "\n",
    "- No Testbank, Each Chapter has Review, Check your Understanding and Reflection Questions\n"
   ]
  },
  {
   "cell_type": "code",
   "execution_count": 4,
   "id": "6f473975",
   "metadata": {
    "execution": {
     "iopub.execute_input": "2023-06-10T15:06:34.744520Z",
     "iopub.status.busy": "2023-06-10T15:06:34.743689Z",
     "iopub.status.idle": "2023-06-10T15:06:34.769698Z",
     "shell.execute_reply": "2023-06-10T15:06:34.768053Z"
    },
    "papermill": {
     "duration": 0.065618,
     "end_time": "2023-06-10T15:06:34.772517",
     "exception": false,
     "start_time": "2023-06-10T15:06:34.706899",
     "status": "completed"
    },
    "tags": []
   },
   "outputs": [],
   "source": [
    "wh1 = sorted(glob('/kaggle/input/newdataset/openstax/openstax/Worldhistory_docx/world-history-volume-1/*.docx'))"
   ]
  },
  {
   "cell_type": "code",
   "execution_count": 5,
   "id": "5eca59c0",
   "metadata": {
    "execution": {
     "iopub.execute_input": "2023-06-10T15:06:34.848941Z",
     "iopub.status.busy": "2023-06-10T15:06:34.848538Z",
     "iopub.status.idle": "2023-06-10T15:06:34.863127Z",
     "shell.execute_reply": "2023-06-10T15:06:34.862347Z"
    },
    "papermill": {
     "duration": 0.054776,
     "end_time": "2023-06-10T15:06:34.865022",
     "exception": false,
     "start_time": "2023-06-10T15:06:34.810246",
     "status": "completed"
    },
    "tags": []
   },
   "outputs": [
    {
     "data": {
      "text/plain": [
       "'Review Questions\\n\\n1. \\n\\nWhat is an example of a primary source?\\n\\na diary entry by a person who lived in the period under discussion\\n\\na modern biography of a person in the period under discussion\\n\\nan account of a nineteenth-century battle in a twenty-first century textbook\\n\\nan article in an academic journal\\n\\n2. \\n\\nWhom do the Chinese view as the Father of History?\\n\\nHomer\\n\\nSantayana\\n\\nHerodotus\\n\\nSima Qian\\n\\n3. \\n\\nWhat interpretation of history assumes that history can be viewed primarily through the lives and choices of leaders?\\n\\ngreat man theory\\n\\nprogressive interpretation\\n\\ngender interpretation\\n\\nMarxist interpretation\\n\\n4. \\n\\nThe belief that history is moved primarily by class struggle is the ______ of history.\\n\\nsocial interpretation theory\\n\\nrevisionist view\\n\\nprogressive interpretation\\n\\nMarxist interpretation\\n\\n5. \\n\\nThe _______ is the most immediate motivator of a historical event.\\n\\ntertiary cause\\n\\nprimary cause\\n\\naction of a great man\\n\\nsocial construct\\n\\n6. \\n\\nOur perspectives are deeply rooted in _______, which we learn from our upbringing and environment.\\n\\neducation\\n\\nsocial constructs\\n\\nhistorical empathy\\n\\ncausation\\n\\nAccess for free at https://openstax.org'"
      ]
     },
     "execution_count": 5,
     "metadata": {},
     "output_type": "execute_result"
    }
   ],
   "source": [
    "text = docx2txt.process(wh1[7])\n",
    "access_for_free = text[-41:]\n",
    "text"
   ]
  },
  {
   "cell_type": "code",
   "execution_count": 6,
   "id": "3a464485",
   "metadata": {
    "execution": {
     "iopub.execute_input": "2023-06-10T15:06:34.942000Z",
     "iopub.status.busy": "2023-06-10T15:06:34.941529Z",
     "iopub.status.idle": "2023-06-10T15:06:34.945432Z",
     "shell.execute_reply": "2023-06-10T15:06:34.944686Z"
    },
    "papermill": {
     "duration": 0.04433,
     "end_time": "2023-06-10T15:06:34.947418",
     "exception": false,
     "start_time": "2023-06-10T15:06:34.903088",
     "status": "completed"
    },
    "tags": []
   },
   "outputs": [],
   "source": [
    "pattern = r'\\n\\n(?:[A-Z].*?)\\n\\n(?:\\d|Access)'\n",
    "# qs = re.findall(pattern, text, re.DOTALL)\n",
    "# qs[1]"
   ]
  },
  {
   "cell_type": "code",
   "execution_count": 7,
   "id": "2ab3abf0",
   "metadata": {
    "execution": {
     "iopub.execute_input": "2023-06-10T15:06:35.023264Z",
     "iopub.status.busy": "2023-06-10T15:06:35.022876Z",
     "iopub.status.idle": "2023-06-10T15:06:35.027493Z",
     "shell.execute_reply": "2023-06-10T15:06:35.026263Z"
    },
    "papermill": {
     "duration": 0.045897,
     "end_time": "2023-06-10T15:06:35.030135",
     "exception": false,
     "start_time": "2023-06-10T15:06:34.984238",
     "status": "completed"
    },
    "tags": []
   },
   "outputs": [],
   "source": [
    "BOOK = 'World History Volume 1'"
   ]
  },
  {
   "cell_type": "code",
   "execution_count": 8,
   "id": "39c4d41c",
   "metadata": {
    "execution": {
     "iopub.execute_input": "2023-06-10T15:06:35.106848Z",
     "iopub.status.busy": "2023-06-10T15:06:35.106124Z",
     "iopub.status.idle": "2023-06-10T15:06:35.119910Z",
     "shell.execute_reply": "2023-06-10T15:06:35.118823Z"
    },
    "papermill": {
     "duration": 0.055402,
     "end_time": "2023-06-10T15:06:35.122323",
     "exception": false,
     "start_time": "2023-06-10T15:06:35.066921",
     "status": "completed"
    },
    "tags": []
   },
   "outputs": [],
   "source": [
    "def extract(files, BOOK):\n",
    "    rows = []\n",
    "    for file in files:\n",
    "        text = docx2txt.process(file)\n",
    "        filename = file.split('/')[-1]\n",
    "        is_question = 'questions' in filename\n",
    "        section_title = re.sub(r\"\\.docx$\", \"\", filename)\n",
    "        if is_question:\n",
    "            pattern = r'\\n\\n(?:[A-Z].*?)\\n\\n(?:\\d|Access)'\n",
    "            qs = re.findall(pattern, text, re.DOTALL)\n",
    "        try:\n",
    "            start = re.search(\"\\nAccess for free\", text).start()\n",
    "            text = text[:start]\n",
    "        except:\n",
    "            text = text.strip(access_for_free)\n",
    "        chapter = filename.split('-')[0]\n",
    "        if is_question:\n",
    "            for q in qs:\n",
    "                #iterate over the questions\n",
    "                fill_blank = False\n",
    "                row = dict()\n",
    "                row['Book'] = BOOK\n",
    "                row['Chapter'] = chapter\n",
    "                row['section_title'] = section_title\n",
    "                row['is_question'] = True\n",
    "                row['text'] = q.strip('Access')\n",
    "                if \"___\" in q:\n",
    "                    fill_blank = True\n",
    "                row['truefalse'] = False\n",
    "                row['fillblank'] = fill_blank\n",
    "                row['mc'] = !fill_blank\n",
    "                rows.append(row)\n",
    "        else:\n",
    "                row = dict()\n",
    "                row['Book'] = BOOK\n",
    "                row['Chapter'] = chapter\n",
    "                row['section_title'] = section_title\n",
    "                row['is_question'] = False\n",
    "                row['text'] = text\n",
    "                rows.append(row)\n",
    "    return rows"
   ]
  },
  {
   "cell_type": "code",
   "execution_count": 9,
   "id": "7b93f61a",
   "metadata": {
    "execution": {
     "iopub.execute_input": "2023-06-10T15:06:35.199391Z",
     "iopub.status.busy": "2023-06-10T15:06:35.198669Z",
     "iopub.status.idle": "2023-06-10T15:06:38.165250Z",
     "shell.execute_reply": "2023-06-10T15:06:38.163195Z"
    },
    "papermill": {
     "duration": 3.008358,
     "end_time": "2023-06-10T15:06:38.168688",
     "exception": false,
     "start_time": "2023-06-10T15:06:35.160330",
     "status": "completed"
    },
    "tags": []
   },
   "outputs": [],
   "source": [
    "#tq stands for text and questions\n",
    "pd.DataFrame(extract(wh1, BOOK)).to_parquet('wh1_tq.pq')\n",
    "# df[df['is_question'] == True].text.iloc[30]"
   ]
  },
  {
   "cell_type": "code",
   "execution_count": 10,
   "id": "15819449",
   "metadata": {
    "execution": {
     "iopub.execute_input": "2023-06-10T15:06:38.245220Z",
     "iopub.status.busy": "2023-06-10T15:06:38.244816Z",
     "iopub.status.idle": "2023-06-10T15:06:38.387676Z",
     "shell.execute_reply": "2023-06-10T15:06:38.385481Z"
    },
    "papermill": {
     "duration": 0.184751,
     "end_time": "2023-06-10T15:06:38.390996",
     "exception": false,
     "start_time": "2023-06-10T15:06:38.206245",
     "status": "completed"
    },
    "tags": []
   },
   "outputs": [
    {
     "data": {
      "text/plain": [
       "21"
      ]
     },
     "execution_count": 10,
     "metadata": {},
     "output_type": "execute_result"
    }
   ],
   "source": [
    "del wh1\n",
    "gc.collect()"
   ]
  },
  {
   "cell_type": "markdown",
   "id": "bedb88f6",
   "metadata": {
    "papermill": {
     "duration": 0.042375,
     "end_time": "2023-06-10T15:06:38.483326",
     "exception": false,
     "start_time": "2023-06-10T15:06:38.440951",
     "status": "completed"
    },
    "tags": []
   },
   "source": [
    "## World History Volume 2\n",
    "\n",
    "- Each Chapter has Application and Reflection Questions\n",
    "- We have a Testbank that is organized See next part"
   ]
  },
  {
   "cell_type": "code",
   "execution_count": 11,
   "id": "c280fe3d",
   "metadata": {
    "execution": {
     "iopub.execute_input": "2023-06-10T15:06:38.562378Z",
     "iopub.status.busy": "2023-06-10T15:06:38.561348Z",
     "iopub.status.idle": "2023-06-10T15:06:38.567362Z",
     "shell.execute_reply": "2023-06-10T15:06:38.565740Z"
    },
    "papermill": {
     "duration": 0.049094,
     "end_time": "2023-06-10T15:06:38.570276",
     "exception": false,
     "start_time": "2023-06-10T15:06:38.521182",
     "status": "completed"
    },
    "tags": []
   },
   "outputs": [],
   "source": [
    "BOOK = 'World History Volume 2'"
   ]
  },
  {
   "cell_type": "code",
   "execution_count": 12,
   "id": "520d4277",
   "metadata": {
    "execution": {
     "iopub.execute_input": "2023-06-10T15:06:38.645067Z",
     "iopub.status.busy": "2023-06-10T15:06:38.644632Z",
     "iopub.status.idle": "2023-06-10T15:06:38.650913Z",
     "shell.execute_reply": "2023-06-10T15:06:38.649287Z"
    },
    "papermill": {
     "duration": 0.046432,
     "end_time": "2023-06-10T15:06:38.653301",
     "exception": false,
     "start_time": "2023-06-10T15:06:38.606869",
     "status": "completed"
    },
    "tags": []
   },
   "outputs": [],
   "source": [
    "wh2 = sorted(glob('/kaggle/input/openstax/openstax/Worldhistory_docx/world-history-volume-2/*.docx'))"
   ]
  },
  {
   "cell_type": "code",
   "execution_count": 13,
   "id": "89323e04",
   "metadata": {
    "execution": {
     "iopub.execute_input": "2023-06-10T15:06:38.728838Z",
     "iopub.status.busy": "2023-06-10T15:06:38.728431Z",
     "iopub.status.idle": "2023-06-10T15:06:38.738507Z",
     "shell.execute_reply": "2023-06-10T15:06:38.737390Z"
    },
    "papermill": {
     "duration": 0.051244,
     "end_time": "2023-06-10T15:06:38.741359",
     "exception": false,
     "start_time": "2023-06-10T15:06:38.690115",
     "status": "completed"
    },
    "tags": []
   },
   "outputs": [],
   "source": [
    "def extract2(files, BOOK):\n",
    "    rows = []\n",
    "    for file in files:\n",
    "        text = docx2txt.process(file)\n",
    "        filename = file.split('/')[-1]\n",
    "        is_question = 'questions' in filename\n",
    "        section_title = re.sub(r\"\\.docx$\", \"\", filename)\n",
    "        if is_question:\n",
    "            pattern = r'\\n\\n(?:[A-Z].*?)\\n\\n(?:\\d|Access)'\n",
    "            qs = re.findall(pattern, text, re.DOTALL)\n",
    "        try:\n",
    "            start = re.search(\"\\nAccess for free\", text).start()\n",
    "            text = text[:start]\n",
    "        except:\n",
    "            text = text.strip(access_for_free)\n",
    "        chapter = filename.split('-')[0]\n",
    "        if is_question:\n",
    "            for q in qs:\n",
    "                #iterate over the questions\n",
    "                fill_blank = False\n",
    "                row = dict()\n",
    "                row['Book'] = BOOK\n",
    "                row['Chapter'] = chapter\n",
    "                row['section_title'] = section_title\n",
    "                row['is_question'] = True\n",
    "                row['text'] = q.strip('Access')\n",
    "                row['truefalse'] = False\n",
    "                row['fillblank'] = \"___\" in q\n",
    "                row['mc'] = True\n",
    "                rows.append(row)\n",
    "        else:\n",
    "                row = dict()\n",
    "                row['Book'] = BOOK\n",
    "                row['Chapter'] = chapter\n",
    "                row['section_title'] = section_title\n",
    "                row['is_question'] = False\n",
    "                row['text'] = text\n",
    "                rows.append(row)\n",
    "    return rows"
   ]
  },
  {
   "cell_type": "code",
   "execution_count": 14,
   "id": "504a3e2f",
   "metadata": {
    "execution": {
     "iopub.execute_input": "2023-06-10T15:06:38.817413Z",
     "iopub.status.busy": "2023-06-10T15:06:38.817023Z",
     "iopub.status.idle": "2023-06-10T15:06:38.826859Z",
     "shell.execute_reply": "2023-06-10T15:06:38.825341Z"
    },
    "papermill": {
     "duration": 0.051347,
     "end_time": "2023-06-10T15:06:38.829891",
     "exception": false,
     "start_time": "2023-06-10T15:06:38.778544",
     "status": "completed"
    },
    "tags": []
   },
   "outputs": [],
   "source": [
    "#tq stands for text and questions\n",
    "pd.DataFrame(extract2(wh2, BOOK = BOOK)).to_parquet('wh2_tq.pq')"
   ]
  },
  {
   "cell_type": "code",
   "execution_count": 15,
   "id": "79fc9454",
   "metadata": {
    "execution": {
     "iopub.execute_input": "2023-06-10T15:06:38.905321Z",
     "iopub.status.busy": "2023-06-10T15:06:38.904948Z",
     "iopub.status.idle": "2023-06-10T15:06:39.031532Z",
     "shell.execute_reply": "2023-06-10T15:06:39.030669Z"
    },
    "papermill": {
     "duration": 0.167339,
     "end_time": "2023-06-10T15:06:39.033776",
     "exception": false,
     "start_time": "2023-06-10T15:06:38.866437",
     "status": "completed"
    },
    "tags": []
   },
   "outputs": [
    {
     "data": {
      "text/plain": [
       "42"
      ]
     },
     "execution_count": 15,
     "metadata": {},
     "output_type": "execute_result"
    }
   ],
   "source": [
    "del wh2\n",
    "gc.collect()"
   ]
  },
  {
   "cell_type": "markdown",
   "id": "74b4f79f",
   "metadata": {
    "papermill": {
     "duration": 0.03724,
     "end_time": "2023-06-10T15:06:39.108303",
     "exception": false,
     "start_time": "2023-06-10T15:06:39.071063",
     "status": "completed"
    },
    "tags": []
   },
   "source": [
    "## WH2 Testbank\n",
    "- testbank has all types of nice questions\n",
    "- right now only extract fillblank or mc flag, but some of them could be more nuanced, but each file is different, FUTURE WORK!"
   ]
  },
  {
   "cell_type": "code",
   "execution_count": 16,
   "id": "0bddbaf4",
   "metadata": {
    "execution": {
     "iopub.execute_input": "2023-06-10T15:06:39.183976Z",
     "iopub.status.busy": "2023-06-10T15:06:39.183587Z",
     "iopub.status.idle": "2023-06-10T15:06:39.200225Z",
     "shell.execute_reply": "2023-06-10T15:06:39.199391Z"
    },
    "papermill": {
     "duration": 0.057286,
     "end_time": "2023-06-10T15:06:39.202581",
     "exception": false,
     "start_time": "2023-06-10T15:06:39.145295",
     "status": "completed"
    },
    "tags": []
   },
   "outputs": [],
   "source": [
    "files = sorted(glob('/kaggle/input/newdataset/openstax/openstax/Worldhistory_vol2_testbank/*.docx'))"
   ]
  },
  {
   "cell_type": "code",
   "execution_count": 17,
   "id": "fdbd6bb0",
   "metadata": {
    "execution": {
     "iopub.execute_input": "2023-06-10T15:06:39.280043Z",
     "iopub.status.busy": "2023-06-10T15:06:39.279196Z",
     "iopub.status.idle": "2023-06-10T15:06:39.285858Z",
     "shell.execute_reply": "2023-06-10T15:06:39.284980Z"
    },
    "papermill": {
     "duration": 0.048202,
     "end_time": "2023-06-10T15:06:39.288250",
     "exception": false,
     "start_time": "2023-06-10T15:06:39.240048",
     "status": "completed"
    },
    "tags": []
   },
   "outputs": [
    {
     "data": {
      "text/plain": [
       "['/kaggle/input/newdataset/openstax/openstax/Worldhistory_vol2_testbank/WorldHistoryVolume2-TestBank-Ch01.docx',\n",
       " '/kaggle/input/newdataset/openstax/openstax/Worldhistory_vol2_testbank/WorldHistoryVolume2-TestBank-Ch02.docx',\n",
       " '/kaggle/input/newdataset/openstax/openstax/Worldhistory_vol2_testbank/WorldHistoryVolume2-TestBank-Ch03.docx',\n",
       " '/kaggle/input/newdataset/openstax/openstax/Worldhistory_vol2_testbank/WorldHistoryVolume2-TestBank-Ch04.docx',\n",
       " '/kaggle/input/newdataset/openstax/openstax/Worldhistory_vol2_testbank/WorldHistoryVolume2-TestBank-Ch05.docx',\n",
       " '/kaggle/input/newdataset/openstax/openstax/Worldhistory_vol2_testbank/WorldHistoryVolume2-TestBank-Ch06.docx',\n",
       " '/kaggle/input/newdataset/openstax/openstax/Worldhistory_vol2_testbank/WorldHistoryVolume2-TestBank-Ch07.docx',\n",
       " '/kaggle/input/newdataset/openstax/openstax/Worldhistory_vol2_testbank/WorldHistoryVolume2-TestBank-Ch08.docx',\n",
       " '/kaggle/input/newdataset/openstax/openstax/Worldhistory_vol2_testbank/WorldHistoryVolume2-TestBank-Ch09.docx',\n",
       " '/kaggle/input/newdataset/openstax/openstax/Worldhistory_vol2_testbank/WorldHistoryVolume2-TestBank-Ch10.docx',\n",
       " '/kaggle/input/newdataset/openstax/openstax/Worldhistory_vol2_testbank/WorldHistoryVolume2-TestBank-Ch11.docx',\n",
       " '/kaggle/input/newdataset/openstax/openstax/Worldhistory_vol2_testbank/WorldHistoryVolume2-TestBank-Ch12.docx',\n",
       " '/kaggle/input/newdataset/openstax/openstax/Worldhistory_vol2_testbank/WorldHistoryVolume2-TestBank-Ch13.docx',\n",
       " '/kaggle/input/newdataset/openstax/openstax/Worldhistory_vol2_testbank/WorldHistoryVolume2-TestBank-Ch14.docx',\n",
       " '/kaggle/input/newdataset/openstax/openstax/Worldhistory_vol2_testbank/WorldHistoryVolume2-TestBank-Ch15.docx']"
      ]
     },
     "execution_count": 17,
     "metadata": {},
     "output_type": "execute_result"
    }
   ],
   "source": [
    "files"
   ]
  },
  {
   "cell_type": "code",
   "execution_count": 18,
   "id": "dbd0c101",
   "metadata": {
    "execution": {
     "iopub.execute_input": "2023-06-10T15:06:39.366409Z",
     "iopub.status.busy": "2023-06-10T15:06:39.365704Z",
     "iopub.status.idle": "2023-06-10T15:06:39.399023Z",
     "shell.execute_reply": "2023-06-10T15:06:39.397967Z"
    },
    "papermill": {
     "duration": 0.076033,
     "end_time": "2023-06-10T15:06:39.402021",
     "exception": false,
     "start_time": "2023-06-10T15:06:39.325988",
     "status": "completed"
    },
    "tags": []
   },
   "outputs": [],
   "source": [
    "text = docx2txt.process(files[0])\n",
    "try:\n",
    "    start = re.search(\"\\nAccess for free\", text).start()\n",
    "    text = text[:start]\n",
    "except:\n",
    "    text = text.strip(access_for_free)"
   ]
  },
  {
   "cell_type": "code",
   "execution_count": 19,
   "id": "7caeb0ac",
   "metadata": {
    "execution": {
     "iopub.execute_input": "2023-06-10T15:06:39.480961Z",
     "iopub.status.busy": "2023-06-10T15:06:39.480537Z",
     "iopub.status.idle": "2023-06-10T15:06:39.491543Z",
     "shell.execute_reply": "2023-06-10T15:06:39.490065Z"
    },
    "papermill": {
     "duration": 0.055267,
     "end_time": "2023-06-10T15:06:39.495191",
     "exception": false,
     "start_time": "2023-06-10T15:06:39.439924",
     "status": "completed"
    },
    "tags": []
   },
   "outputs": [],
   "source": [
    "def extract_wh2tb(files, BOOK):\n",
    "    rows = []\n",
    "    for file in files:\n",
    "        filename = file.split('/')[-1]\n",
    "        chapter = filename.strip('.docx').split('-')[-1].strip('Ch')\n",
    "        chapter = int(chapter)\n",
    "        text = docx2txt.process(file).strip(access_for_free)\n",
    "        questions = re.findall(\"\\n.*\\?\", text)\n",
    "        tf = re.findall(\"\\nTrue or false.*\\n\", text)\n",
    "        try:\n",
    "            start = re.search(\"\\nAccess for free\", text).start()\n",
    "            text = text[:start]\n",
    "        except:\n",
    "            text = text.strip(access_for_free)\n",
    "        for question in questions:\n",
    "            row = dict()\n",
    "            row['Book'] = BOOK\n",
    "            if \"True or false?\" in question:\n",
    "                continue\n",
    "            else:            \n",
    "                row['Chapter'] = chapter\n",
    "                row['question'] = question.strip('\\n')\n",
    "                row['is_question'] = True\n",
    "                if '___' in question:\n",
    "                    row['fillblank'] = True\n",
    "                else:\n",
    "                    row['fillblank'] = False\n",
    "                rows.append(row)\n",
    "        for question in tf: \n",
    "            row = dict()\n",
    "            row['Book'] = BOOK\n",
    "            row['Chapter'] = chapter\n",
    "            row['question'] = question.strip('\\n')\n",
    "            row['is_question'] = True\n",
    "            row['truefalse'] = True\n",
    "            row['fillblank'] = False\n",
    "            rows.append(row)\n",
    "    return rows"
   ]
  },
  {
   "cell_type": "code",
   "execution_count": 20,
   "id": "b9c498e5",
   "metadata": {
    "execution": {
     "iopub.execute_input": "2023-06-10T15:06:39.574501Z",
     "iopub.status.busy": "2023-06-10T15:06:39.573913Z",
     "iopub.status.idle": "2023-06-10T15:06:39.929726Z",
     "shell.execute_reply": "2023-06-10T15:06:39.928281Z"
    },
    "papermill": {
     "duration": 0.397219,
     "end_time": "2023-06-10T15:06:39.932471",
     "exception": false,
     "start_time": "2023-06-10T15:06:39.535252",
     "status": "completed"
    },
    "tags": []
   },
   "outputs": [],
   "source": [
    "pd.DataFrame(extract_wh2tb(files, BOOK)).fillna(False).to_parquet('wh2testbank.pq')"
   ]
  },
  {
   "cell_type": "markdown",
   "id": "52decf8e",
   "metadata": {
    "papermill": {
     "duration": 0.036789,
     "end_time": "2023-06-10T15:06:40.006098",
     "exception": false,
     "start_time": "2023-06-10T15:06:39.969309",
     "status": "completed"
    },
    "tags": []
   },
   "source": [
    "## Psychology 2e \n",
    "- have Testbank\n",
    "- questions are marked end of chapter, critical thinking, review, personal application\n",
    "- lots of Fill blank, questions are very long, maybe to psych you out XD"
   ]
  },
  {
   "cell_type": "code",
   "execution_count": 21,
   "id": "7f6f6e27",
   "metadata": {
    "execution": {
     "iopub.execute_input": "2023-06-10T15:06:40.080853Z",
     "iopub.status.busy": "2023-06-10T15:06:40.080404Z",
     "iopub.status.idle": "2023-06-10T15:06:40.198835Z",
     "shell.execute_reply": "2023-06-10T15:06:40.196992Z"
    },
    "papermill": {
     "duration": 0.159196,
     "end_time": "2023-06-10T15:06:40.201877",
     "exception": false,
     "start_time": "2023-06-10T15:06:40.042681",
     "status": "completed"
    },
    "tags": []
   },
   "outputs": [],
   "source": [
    "files = sorted(glob('/kaggle/input/newdataset/openstax/openstax/psychology-2e-docx/psychology-2e/*.docx'))\n",
    "text = docx2txt.process(files[2])\n",
    "access_for_free = text[-41:]\n",
    "try:\n",
    "    start = re.search(\"\\nAccess for free\", text).start()\n",
    "    text = text[:start]\n",
    "except:\n",
    "    text = text.strip(access_for_free)"
   ]
  },
  {
   "cell_type": "code",
   "execution_count": 22,
   "id": "275aa467",
   "metadata": {
    "execution": {
     "iopub.execute_input": "2023-06-10T15:06:40.280881Z",
     "iopub.status.busy": "2023-06-10T15:06:40.279362Z",
     "iopub.status.idle": "2023-06-10T15:06:40.291092Z",
     "shell.execute_reply": "2023-06-10T15:06:40.290210Z"
    },
    "papermill": {
     "duration": 0.053826,
     "end_time": "2023-06-10T15:06:40.293800",
     "exception": false,
     "start_time": "2023-06-10T15:06:40.239974",
     "status": "completed"
    },
    "tags": []
   },
   "outputs": [],
   "source": [
    "def extract_psych(files, BOOK):\n",
    "    rows = []\n",
    "    for file in files:\n",
    "        text = docx2txt.process(file)\n",
    "        filename = file.split('/')[-1]\n",
    "        is_question = 'questions' in filename\n",
    "        section_title = re.sub(r\"\\.docx$\", \"\", filename)\n",
    "        if is_question:\n",
    "            pattern = r'\\n\\n(?:[A-Z].*?)\\n\\n(?:\\d|Access)'\n",
    "            qs = re.findall(pattern, text, re.DOTALL)\n",
    "        try:\n",
    "            start = re.search(\"\\nAccess for free\", text).start()\n",
    "            text = text[:start]\n",
    "        except:\n",
    "            text = text.strip(access_for_free)\n",
    "        chapter = filename.split('-')[0]\n",
    "        if is_question:\n",
    "            for q in qs:\n",
    "                #iterate over the questions\n",
    "                fill_blank = False\n",
    "                row = dict()\n",
    "                row['Book'] = BOOK\n",
    "                row['Chapter'] = chapter\n",
    "                row['section_title'] = section_title\n",
    "                row['is_question'] = True\n",
    "                row['text'] = q.strip('Access')\n",
    "                if \"___\" in q:\n",
    "                    row['fillblank'] = True\n",
    "                else:\n",
    "                    row['fillblank'] = True\n",
    "                row['truefalse'] = False\n",
    "                row['mc'] = False\n",
    "                    \n",
    "                rows.append(row)\n",
    "        else:\n",
    "                row = dict()\n",
    "                row['Book'] =BOOK\n",
    "                row['Chapter'] = chapter\n",
    "                row['section_title'] = section_title\n",
    "                row['is_question'] = False\n",
    "                row['text'] = text\n",
    "                rows.append(row)\n",
    "    return rows"
   ]
  },
  {
   "cell_type": "code",
   "execution_count": 23,
   "id": "850ad5ae",
   "metadata": {
    "execution": {
     "iopub.execute_input": "2023-06-10T15:06:40.373920Z",
     "iopub.status.busy": "2023-06-10T15:06:40.373447Z",
     "iopub.status.idle": "2023-06-10T15:06:40.378206Z",
     "shell.execute_reply": "2023-06-10T15:06:40.377217Z"
    },
    "papermill": {
     "duration": 0.047538,
     "end_time": "2023-06-10T15:06:40.380873",
     "exception": false,
     "start_time": "2023-06-10T15:06:40.333335",
     "status": "completed"
    },
    "tags": []
   },
   "outputs": [],
   "source": [
    "book = 'Psychology 2e'"
   ]
  },
  {
   "cell_type": "code",
   "execution_count": 24,
   "id": "e17bcd01",
   "metadata": {
    "execution": {
     "iopub.execute_input": "2023-06-10T15:06:40.459259Z",
     "iopub.status.busy": "2023-06-10T15:06:40.458462Z",
     "iopub.status.idle": "2023-06-10T15:06:43.476882Z",
     "shell.execute_reply": "2023-06-10T15:06:43.475255Z"
    },
    "papermill": {
     "duration": 3.060671,
     "end_time": "2023-06-10T15:06:43.479778",
     "exception": false,
     "start_time": "2023-06-10T15:06:40.419107",
     "status": "completed"
    },
    "tags": []
   },
   "outputs": [],
   "source": [
    "pd.DataFrame(extract_psych(files, BOOK = book)).to_parquet('psychology2e_tq.pq')"
   ]
  },
  {
   "cell_type": "code",
   "execution_count": 25,
   "id": "fb3459ed",
   "metadata": {
    "execution": {
     "iopub.execute_input": "2023-06-10T15:06:43.559979Z",
     "iopub.status.busy": "2023-06-10T15:06:43.559347Z",
     "iopub.status.idle": "2023-06-10T15:06:44.700516Z",
     "shell.execute_reply": "2023-06-10T15:06:44.699527Z"
    },
    "papermill": {
     "duration": 1.184668,
     "end_time": "2023-06-10T15:06:44.702500",
     "exception": false,
     "start_time": "2023-06-10T15:06:43.517832",
     "status": "completed"
    },
    "tags": []
   },
   "outputs": [
    {
     "data": {
      "text/html": [
       "<div>\n",
       "<style scoped>\n",
       "    .dataframe tbody tr th:only-of-type {\n",
       "        vertical-align: middle;\n",
       "    }\n",
       "\n",
       "    .dataframe tbody tr th {\n",
       "        vertical-align: top;\n",
       "    }\n",
       "\n",
       "    .dataframe thead th {\n",
       "        text-align: right;\n",
       "    }\n",
       "</style>\n",
       "<table border=\"1\" class=\"dataframe\">\n",
       "  <thead>\n",
       "    <tr style=\"text-align: right;\">\n",
       "      <th></th>\n",
       "      <th>Book</th>\n",
       "      <th>Chapter</th>\n",
       "      <th>section_title</th>\n",
       "      <th>is_question</th>\n",
       "      <th>text</th>\n",
       "      <th>fillblank</th>\n",
       "      <th>truefalse</th>\n",
       "      <th>mc</th>\n",
       "    </tr>\n",
       "  </thead>\n",
       "  <tbody>\n",
       "    <tr>\n",
       "      <th>0</th>\n",
       "      <td>Psychology 2e</td>\n",
       "      <td>1</td>\n",
       "      <td>1-1-what-is-psychology</td>\n",
       "      <td>False</td>\n",
       "      <td>1.1   What Is Psychology?\\n\\nLearning Objectiv...</td>\n",
       "      <td>NaN</td>\n",
       "      <td>NaN</td>\n",
       "      <td>NaN</td>\n",
       "    </tr>\n",
       "    <tr>\n",
       "      <th>1</th>\n",
       "      <td>Psychology 2e</td>\n",
       "      <td>1</td>\n",
       "      <td>1-2-history-of-psychology</td>\n",
       "      <td>False</td>\n",
       "      <td>1.2   History of Psychology\\n\\nLearning Object...</td>\n",
       "      <td>NaN</td>\n",
       "      <td>NaN</td>\n",
       "      <td>NaN</td>\n",
       "    </tr>\n",
       "    <tr>\n",
       "      <th>2</th>\n",
       "      <td>Psychology 2e</td>\n",
       "      <td>1</td>\n",
       "      <td>1-3-contemporary-psychology</td>\n",
       "      <td>False</td>\n",
       "      <td>1.3   Contemporary Psychology\\n\\nLearning Obje...</td>\n",
       "      <td>NaN</td>\n",
       "      <td>NaN</td>\n",
       "      <td>NaN</td>\n",
       "    </tr>\n",
       "    <tr>\n",
       "      <th>3</th>\n",
       "      <td>Psychology 2e</td>\n",
       "      <td>1</td>\n",
       "      <td>1-4-careers-in-psychology</td>\n",
       "      <td>False</td>\n",
       "      <td>1.4   Careers in Psychology\\n\\nLearning Object...</td>\n",
       "      <td>NaN</td>\n",
       "      <td>NaN</td>\n",
       "      <td>NaN</td>\n",
       "    </tr>\n",
       "    <tr>\n",
       "      <th>4</th>\n",
       "      <td>Psychology 2e</td>\n",
       "      <td>1</td>\n",
       "      <td>1-critical-thinking-questions</td>\n",
       "      <td>True</td>\n",
       "      <td>\\n\\nWhy do you think psychology courses like t...</td>\n",
       "      <td>True</td>\n",
       "      <td>False</td>\n",
       "      <td>False</td>\n",
       "    </tr>\n",
       "    <tr>\n",
       "      <th>...</th>\n",
       "      <td>...</td>\n",
       "      <td>...</td>\n",
       "      <td>...</td>\n",
       "      <td>...</td>\n",
       "      <td>...</td>\n",
       "      <td>...</td>\n",
       "      <td>...</td>\n",
       "      <td>...</td>\n",
       "    </tr>\n",
       "    <tr>\n",
       "      <th>700</th>\n",
       "      <td>Psychology 2e</td>\n",
       "      <td>9</td>\n",
       "      <td>9-review-questions</td>\n",
       "      <td>True</td>\n",
       "      <td>\\n\\nWhich of the following is the order of sta...</td>\n",
       "      <td>True</td>\n",
       "      <td>False</td>\n",
       "      <td>False</td>\n",
       "    </tr>\n",
       "    <tr>\n",
       "      <th>701</th>\n",
       "      <td>Psychology 2e</td>\n",
       "      <td>9</td>\n",
       "      <td>9-summary</td>\n",
       "      <td>False</td>\n",
       "      <td>Summary\\n\\n\\n\\n9.1   What Is Lifespan Developm...</td>\n",
       "      <td>NaN</td>\n",
       "      <td>NaN</td>\n",
       "      <td>NaN</td>\n",
       "    </tr>\n",
       "    <tr>\n",
       "      <th>702</th>\n",
       "      <td>Psychology 2e</td>\n",
       "      <td>index.docx</td>\n",
       "      <td>index</td>\n",
       "      <td>False</td>\n",
       "      <td>Index\\n\\nA\\n\\nabsentmindedness 8.3 Problems wi...</td>\n",
       "      <td>NaN</td>\n",
       "      <td>NaN</td>\n",
       "      <td>NaN</td>\n",
       "    </tr>\n",
       "    <tr>\n",
       "      <th>703</th>\n",
       "      <td>Psychology 2e</td>\n",
       "      <td>preface.docx</td>\n",
       "      <td>preface</td>\n",
       "      <td>False</td>\n",
       "      <td>Preface\\n\\nWelcome to Psychology 2e, an OpenSt...</td>\n",
       "      <td>NaN</td>\n",
       "      <td>NaN</td>\n",
       "      <td>NaN</td>\n",
       "    </tr>\n",
       "    <tr>\n",
       "      <th>704</th>\n",
       "      <td>Psychology 2e</td>\n",
       "      <td>references.docx</td>\n",
       "      <td>references</td>\n",
       "      <td>False</td>\n",
       "      <td>References\\n\\nIntroduction to Psychology\\n\\nAm...</td>\n",
       "      <td>NaN</td>\n",
       "      <td>NaN</td>\n",
       "      <td>NaN</td>\n",
       "    </tr>\n",
       "  </tbody>\n",
       "</table>\n",
       "<p>705 rows × 8 columns</p>\n",
       "</div>"
      ],
      "text/plain": [
       "              Book          Chapter                  section_title  \\\n",
       "0    Psychology 2e                1         1-1-what-is-psychology   \n",
       "1    Psychology 2e                1      1-2-history-of-psychology   \n",
       "2    Psychology 2e                1    1-3-contemporary-psychology   \n",
       "3    Psychology 2e                1      1-4-careers-in-psychology   \n",
       "4    Psychology 2e                1  1-critical-thinking-questions   \n",
       "..             ...              ...                            ...   \n",
       "700  Psychology 2e                9             9-review-questions   \n",
       "701  Psychology 2e                9                      9-summary   \n",
       "702  Psychology 2e       index.docx                          index   \n",
       "703  Psychology 2e     preface.docx                        preface   \n",
       "704  Psychology 2e  references.docx                     references   \n",
       "\n",
       "     is_question                                               text fillblank  \\\n",
       "0          False  1.1   What Is Psychology?\\n\\nLearning Objectiv...       NaN   \n",
       "1          False  1.2   History of Psychology\\n\\nLearning Object...       NaN   \n",
       "2          False  1.3   Contemporary Psychology\\n\\nLearning Obje...       NaN   \n",
       "3          False  1.4   Careers in Psychology\\n\\nLearning Object...       NaN   \n",
       "4           True  \\n\\nWhy do you think psychology courses like t...      True   \n",
       "..           ...                                                ...       ...   \n",
       "700         True  \\n\\nWhich of the following is the order of sta...      True   \n",
       "701        False  Summary\\n\\n\\n\\n9.1   What Is Lifespan Developm...       NaN   \n",
       "702        False  Index\\n\\nA\\n\\nabsentmindedness 8.3 Problems wi...       NaN   \n",
       "703        False  Preface\\n\\nWelcome to Psychology 2e, an OpenSt...       NaN   \n",
       "704        False  References\\n\\nIntroduction to Psychology\\n\\nAm...       NaN   \n",
       "\n",
       "    truefalse     mc  \n",
       "0         NaN    NaN  \n",
       "1         NaN    NaN  \n",
       "2         NaN    NaN  \n",
       "3         NaN    NaN  \n",
       "4       False  False  \n",
       "..        ...    ...  \n",
       "700     False  False  \n",
       "701       NaN    NaN  \n",
       "702       NaN    NaN  \n",
       "703       NaN    NaN  \n",
       "704       NaN    NaN  \n",
       "\n",
       "[705 rows x 8 columns]"
      ]
     },
     "execution_count": 25,
     "metadata": {},
     "output_type": "execute_result"
    }
   ],
   "source": [
    "pd.DataFrame(extract_psych(files, BOOK = book))"
   ]
  },
  {
   "cell_type": "markdown",
   "id": "d76f5dc7",
   "metadata": {
    "papermill": {
     "duration": 0.037085,
     "end_time": "2023-06-10T15:06:44.777012",
     "exception": false,
     "start_time": "2023-06-10T15:06:44.739927",
     "status": "completed"
    },
    "tags": []
   },
   "source": [
    "## Psych 2e TB"
   ]
  },
  {
   "cell_type": "code",
   "execution_count": 26,
   "id": "2b14399c",
   "metadata": {
    "execution": {
     "iopub.execute_input": "2023-06-10T15:06:44.853553Z",
     "iopub.status.busy": "2023-06-10T15:06:44.853139Z",
     "iopub.status.idle": "2023-06-10T15:06:44.911456Z",
     "shell.execute_reply": "2023-06-10T15:06:44.909495Z"
    },
    "papermill": {
     "duration": 0.100695,
     "end_time": "2023-06-10T15:06:44.914788",
     "exception": false,
     "start_time": "2023-06-10T15:06:44.814093",
     "status": "completed"
    },
    "tags": []
   },
   "outputs": [],
   "source": [
    "files = sorted(glob('/kaggle/input/newdataset/openstax/openstax/Psychology_testbank/Test Bank/*.docx'))\n",
    "text = docx2txt.process(files[0])\n",
    "access_for_free = text[-70:] #copyright too"
   ]
  },
  {
   "cell_type": "code",
   "execution_count": 27,
   "id": "84f98bd8",
   "metadata": {
    "execution": {
     "iopub.execute_input": "2023-06-10T15:06:44.993556Z",
     "iopub.status.busy": "2023-06-10T15:06:44.993166Z",
     "iopub.status.idle": "2023-06-10T15:06:45.002833Z",
     "shell.execute_reply": "2023-06-10T15:06:45.001806Z"
    },
    "papermill": {
     "duration": 0.051957,
     "end_time": "2023-06-10T15:06:45.004845",
     "exception": false,
     "start_time": "2023-06-10T15:06:44.952888",
     "status": "completed"
    },
    "tags": []
   },
   "outputs": [],
   "source": [
    "def extract_psychtb(files, book):\n",
    "    rows = []\n",
    "    for file in files:\n",
    "        filename = file.split('/')[-1]\n",
    "        chapter = filename.strip('.docx').split('_')[-1].strip('Ch')\n",
    "        chapter = int(chapter)\n",
    "        text = docx2txt.process(file).strip(access_for_free)\n",
    "        questions = re.findall(\"\\n.*\\?\", text)\n",
    "        tf = re.findall(\"\\nTrue or false.*\\n\", text)\n",
    "        for question in questions:\n",
    "            row = dict()\n",
    "            #actually psych has no true or false, but leave it just in case, bc I didn't go over all files\n",
    "            if \"True or false?\" in question:\n",
    "                continue\n",
    "            if \"Text Section:\" in question:\n",
    "                continue\n",
    "            else:        \n",
    "                row['Book'] = book\n",
    "                row['Chapter'] = chapter\n",
    "                row['question'] = question.strip('\\n')\n",
    "                row['is_question'] = True\n",
    "                row['fillblank'] = \"___\" in question\n",
    "                row[\"truefalse\"] = False\n",
    "                rows.append(row)\n",
    "        for question in tf: \n",
    "            row = dict()\n",
    "            row[\"Book\"] = book\n",
    "            row['Chapter'] = chapter\n",
    "            row['question'] = question.strip('\\n')\n",
    "            row['is_question'] = True\n",
    "            row['fillblank'] = '___' in question\n",
    "            row['truefalse'] = True\n",
    "            rows.append(row)\n",
    "    return rows"
   ]
  },
  {
   "cell_type": "code",
   "execution_count": 28,
   "id": "c5763ea2",
   "metadata": {
    "execution": {
     "iopub.execute_input": "2023-06-10T15:06:45.082875Z",
     "iopub.status.busy": "2023-06-10T15:06:45.081348Z",
     "iopub.status.idle": "2023-06-10T15:06:45.939991Z",
     "shell.execute_reply": "2023-06-10T15:06:45.938139Z"
    },
    "papermill": {
     "duration": 0.900749,
     "end_time": "2023-06-10T15:06:45.943146",
     "exception": false,
     "start_time": "2023-06-10T15:06:45.042397",
     "status": "completed"
    },
    "tags": []
   },
   "outputs": [],
   "source": [
    "pd.DataFrame(extract_psychtb(files, book = book)).to_parquet('psych2e_testbank.pq')"
   ]
  },
  {
   "cell_type": "markdown",
   "id": "87a16417",
   "metadata": {
    "papermill": {
     "duration": 0.03769,
     "end_time": "2023-06-10T15:06:46.018211",
     "exception": false,
     "start_time": "2023-06-10T15:06:45.980521",
     "status": "completed"
    },
    "tags": []
   },
   "source": [
    "# Business Ethics\n",
    "\n",
    "- Questions in the docx are marked as \"assessment questions\"\n",
    "- Includes summaries\n",
    "- \"chapter-xy.docx\" files are solutions to the assement questions "
   ]
  },
  {
   "cell_type": "code",
   "execution_count": 29,
   "id": "fdb9c1cc",
   "metadata": {
    "execution": {
     "iopub.execute_input": "2023-06-10T15:06:46.095698Z",
     "iopub.status.busy": "2023-06-10T15:06:46.095282Z",
     "iopub.status.idle": "2023-06-10T15:06:46.130734Z",
     "shell.execute_reply": "2023-06-10T15:06:46.129110Z"
    },
    "papermill": {
     "duration": 0.077632,
     "end_time": "2023-06-10T15:06:46.133676",
     "exception": false,
     "start_time": "2023-06-10T15:06:46.056044",
     "status": "completed"
    },
    "tags": []
   },
   "outputs": [],
   "source": [
    "files = sorted(glob('/kaggle/input/newdataset/openstax/openstax/business-ethics-docx/*.docx'))\n",
    "text = docx2txt.process(files[2])\n",
    "access_for_free = text[-41:]\n",
    "try:\n",
    "    start = re.search(\"\\nAccess for free\", text).start()\n",
    "    text = text[:start]\n",
    "except:\n",
    "    text = text.strip(access_for_free)\n",
    "    \n",
    "BOOK = 'Business Ethics'"
   ]
  },
  {
   "cell_type": "code",
   "execution_count": 30,
   "id": "77df56ca",
   "metadata": {
    "execution": {
     "iopub.execute_input": "2023-06-10T15:06:46.209513Z",
     "iopub.status.busy": "2023-06-10T15:06:46.209169Z",
     "iopub.status.idle": "2023-06-10T15:06:46.214912Z",
     "shell.execute_reply": "2023-06-10T15:06:46.213164Z"
    },
    "papermill": {
     "duration": 0.046577,
     "end_time": "2023-06-10T15:06:46.217572",
     "exception": false,
     "start_time": "2023-06-10T15:06:46.170995",
     "status": "completed"
    },
    "tags": []
   },
   "outputs": [],
   "source": [
    "# wwyd_start = re.search('What Would You Do', text).start()\n",
    "# text[wwyd_start:critical_start]"
   ]
  },
  {
   "cell_type": "code",
   "execution_count": 31,
   "id": "d5e7621f",
   "metadata": {
    "execution": {
     "iopub.execute_input": "2023-06-10T15:06:46.295053Z",
     "iopub.status.busy": "2023-06-10T15:06:46.294669Z",
     "iopub.status.idle": "2023-06-10T15:06:46.300380Z",
     "shell.execute_reply": "2023-06-10T15:06:46.299183Z"
    },
    "papermill": {
     "duration": 0.046946,
     "end_time": "2023-06-10T15:06:46.302457",
     "exception": false,
     "start_time": "2023-06-10T15:06:46.255511",
     "status": "completed"
    },
    "tags": []
   },
   "outputs": [],
   "source": [
    "pattern = r'\\n\\n(?:[A-Z].*?)\\n\\n'\n",
    "qs = re.findall(pattern, text, re.DOTALL)\n",
    "# qs"
   ]
  },
  {
   "cell_type": "code",
   "execution_count": 32,
   "id": "0bc03831",
   "metadata": {
    "execution": {
     "iopub.execute_input": "2023-06-10T15:06:46.383149Z",
     "iopub.status.busy": "2023-06-10T15:06:46.382588Z",
     "iopub.status.idle": "2023-06-10T15:06:46.391060Z",
     "shell.execute_reply": "2023-06-10T15:06:46.389547Z"
    },
    "papermill": {
     "duration": 0.051863,
     "end_time": "2023-06-10T15:06:46.393327",
     "exception": false,
     "start_time": "2023-06-10T15:06:46.341464",
     "status": "completed"
    },
    "tags": []
   },
   "outputs": [],
   "source": [
    "def get_question(q, chapter, section_title, book):\n",
    "    row = dict()\n",
    "    row['Book'] = book\n",
    "    row['Chapter'] = chapter\n",
    "    row['section_title'] = section_title\n",
    "    row['is_question'] = True\n",
    "    row['text'] = q.strip('Access')\n",
    "    row['truefalse'] = False\n",
    "    row['fillblank'] = \"___\" in q\n",
    "    row['mc'] = \"___\" in q\n",
    "    return row"
   ]
  },
  {
   "cell_type": "code",
   "execution_count": 33,
   "id": "e2a01d56",
   "metadata": {
    "execution": {
     "iopub.execute_input": "2023-06-10T15:06:46.469789Z",
     "iopub.status.busy": "2023-06-10T15:06:46.469341Z",
     "iopub.status.idle": "2023-06-10T15:06:46.474663Z",
     "shell.execute_reply": "2023-06-10T15:06:46.473710Z"
    },
    "papermill": {
     "duration": 0.046891,
     "end_time": "2023-06-10T15:06:46.477106",
     "exception": false,
     "start_time": "2023-06-10T15:06:46.430215",
     "status": "completed"
    },
    "tags": []
   },
   "outputs": [],
   "source": [
    "# for file in files:\n",
    "#     filename = file.split('/')[-1]\n",
    "#     chapter = filename.split('-')[0]\n",
    "#     section_title = re.sub(r\"\\.docx$\", \"\", filename)\n",
    "#     if 'endnotes' in filename:\n",
    "#         print(f\"filename: {filename}, chapter: {chapter}, section: {section_title}\")"
   ]
  },
  {
   "cell_type": "code",
   "execution_count": 34,
   "id": "e160c4da",
   "metadata": {
    "execution": {
     "iopub.execute_input": "2023-06-10T15:06:46.553358Z",
     "iopub.status.busy": "2023-06-10T15:06:46.552968Z",
     "iopub.status.idle": "2023-06-10T15:06:46.568563Z",
     "shell.execute_reply": "2023-06-10T15:06:46.567224Z"
    },
    "papermill": {
     "duration": 0.056695,
     "end_time": "2023-06-10T15:06:46.570766",
     "exception": false,
     "start_time": "2023-06-10T15:06:46.514071",
     "status": "completed"
    },
    "tags": []
   },
   "outputs": [],
   "source": [
    "def extract_bethics(files, BOOK):\n",
    "    rows = []\n",
    "    for file in files:\n",
    "        text = docx2txt.process(file).strip(access_for_free)\n",
    "        filename = file.split('/')[-1]\n",
    "        section_title = re.sub(r\"\\.docx$\", \"\", filename)\n",
    "        chapter = filename.split('-')[0]\n",
    "        is_question = \"questions\" in filename\n",
    "        if is_question:\n",
    "            pattern = r'\\n\\n(?:[A-Z].*?)\\n\\n(?:\\d|Access)'\n",
    "            qs = re.findall(pattern, text, re.DOTALL)\n",
    "        try:\n",
    "            start = re.search(\"\\nAccess for free\", text).start()\n",
    "            text = text[:start]\n",
    "        except:\n",
    "            text = text.strip(access_for_free)\n",
    "        \n",
    "        if is_question:\n",
    "            for q in qs:\n",
    "                #iterate over the questions\n",
    "                row = get_question(q,\n",
    "                                   chapter,\n",
    "                                   section_title,\n",
    "                                   book = BOOK\n",
    "                                    )\n",
    "                rows.append(row)\n",
    "        else:\n",
    "            try:    \n",
    "                critical_start = re.search('Critical Thinking', text).start()\n",
    "                critical = text[critical_start:].split('\\n\\n')[1:]\n",
    "                text = text[:critical_start]\n",
    "                try:\n",
    "                    wwyd_start = re.search('What Would You Do', text).start()\n",
    "                    wwyd = text[wwyd_start:critical_start]\n",
    "                except:\n",
    "                    wwyd = None\n",
    "            except:\n",
    "                text = text\n",
    "                critical = []\n",
    "                wwyd = None\n",
    "            if wwyd != None:\n",
    "                row = dict()\n",
    "                row['Book'] = BOOK\n",
    "                row['Chapter'] = chapter\n",
    "                row['section_title'] = section_title\n",
    "                row['is_question'] = True\n",
    "                row['text'] = wwyd\n",
    "                row['truefalse'] = False\n",
    "                row['fillblank'] = \"___\" in q\n",
    "                row['mc'] = \"___\" in q\n",
    "                row['open_ended'] = False\n",
    "                rows.append(row)\n",
    "                \n",
    "            row = dict()\n",
    "            row['Book'] = BOOK\n",
    "            row['Chapter'] = chapter\n",
    "            row['section_title'] = section_title\n",
    "            row['is_question'] = \"questions\" in filename\n",
    "            row['text'] = text\n",
    "            row['question_answers'] = bool(re.search('chapter-[1-9]', filename))\n",
    "            if row['question_answers']:\n",
    "                row['Chapter'] = section_title.split('-')[-1]\n",
    "            rows.append(row)\n",
    "            for q in critical:\n",
    "                row = dict()\n",
    "                row['Book'] = BOOK\n",
    "                row['Chapter'] = chapter\n",
    "                row['section_title'] = section_title\n",
    "                row['is_question'] = True\n",
    "                row['text'] = q.strip('Access')\n",
    "                row['truefalse'] = False\n",
    "                row['fillblank'] = \"___\" in q\n",
    "                row['mc'] = \"___\" in q\n",
    "                row['open_ended'] = True\n",
    "                rows.append(row)\n",
    "    return rows"
   ]
  },
  {
   "cell_type": "code",
   "execution_count": 35,
   "id": "0b52a798",
   "metadata": {
    "execution": {
     "iopub.execute_input": "2023-06-10T15:06:46.648249Z",
     "iopub.status.busy": "2023-06-10T15:06:46.647851Z",
     "iopub.status.idle": "2023-06-10T15:06:48.130476Z",
     "shell.execute_reply": "2023-06-10T15:06:48.128677Z"
    },
    "papermill": {
     "duration": 1.525352,
     "end_time": "2023-06-10T15:06:48.133777",
     "exception": false,
     "start_time": "2023-06-10T15:06:46.608425",
     "status": "completed"
    },
    "tags": []
   },
   "outputs": [
    {
     "data": {
      "text/plain": [
       "'Business Ethics'"
      ]
     },
     "execution_count": 35,
     "metadata": {},
     "output_type": "execute_result"
    }
   ],
   "source": [
    "pd.DataFrame(extract_bethics(files, BOOK = BOOK)).to_parquet('business_ethics_tq.pq')\n",
    "BOOK"
   ]
  },
  {
   "cell_type": "markdown",
   "id": "48415b46",
   "metadata": {
    "papermill": {
     "duration": 0.037674,
     "end_time": "2023-06-10T15:06:48.209303",
     "exception": false,
     "start_time": "2023-06-10T15:06:48.171629",
     "status": "completed"
    },
    "tags": []
   },
   "source": [
    "# Business Ethics Testbank\n",
    "\n",
    "- MC Questions\n",
    "- Fill the blank Questions\n",
    "- True or False\n",
    "- Short Answer\n",
    "- Have Difficulty rating\n"
   ]
  },
  {
   "cell_type": "code",
   "execution_count": 36,
   "id": "2231da6b",
   "metadata": {
    "execution": {
     "iopub.execute_input": "2023-06-10T15:06:48.286266Z",
     "iopub.status.busy": "2023-06-10T15:06:48.285494Z",
     "iopub.status.idle": "2023-06-10T15:06:48.370229Z",
     "shell.execute_reply": "2023-06-10T15:06:48.369163Z"
    },
    "papermill": {
     "duration": 0.1269,
     "end_time": "2023-06-10T15:06:48.373485",
     "exception": false,
     "start_time": "2023-06-10T15:06:48.246585",
     "status": "completed"
    },
    "tags": []
   },
   "outputs": [],
   "source": [
    "files = sorted(glob('/kaggle/input/newdataset/openstax/openstax/BusinessEthics-TestBank/Test Banks/*.docx'))\n",
    "text = docx2txt.process(files[0])\n",
    "access_for_free = text[-85:] #copyright too"
   ]
  },
  {
   "cell_type": "code",
   "execution_count": 37,
   "id": "1d64e109",
   "metadata": {
    "execution": {
     "iopub.execute_input": "2023-06-10T15:06:48.452407Z",
     "iopub.status.busy": "2023-06-10T15:06:48.452033Z",
     "iopub.status.idle": "2023-06-10T15:06:48.457499Z",
     "shell.execute_reply": "2023-06-10T15:06:48.456158Z"
    },
    "papermill": {
     "duration": 0.049193,
     "end_time": "2023-06-10T15:06:48.460311",
     "exception": false,
     "start_time": "2023-06-10T15:06:48.411118",
     "status": "completed"
    },
    "tags": []
   },
   "outputs": [
    {
     "name": "stdout",
     "output_type": "stream",
     "text": [
      "/kaggle/input/newdataset/openstax/openstax/BusinessEthics-TestBank/Test Banks/OSX_EthicsTB_Ch01_WhyEthicsMatters.docx\n",
      "/kaggle/input/newdataset/openstax/openstax/BusinessEthics-TestBank/Test Banks/OSX_EthicsTB_Ch02_EthicsFromAntiquity.docx\n",
      "/kaggle/input/newdataset/openstax/openstax/BusinessEthics-TestBank/Test Banks/OSX_EthicsTB_Ch03_DefiningAndPrioritizingStakeholders.docx\n",
      "/kaggle/input/newdataset/openstax/openstax/BusinessEthics-TestBank/Test Banks/OSX_EthicsTB_Ch04_ThreeSpecialStakeholders.docx\n",
      "/kaggle/input/newdataset/openstax/openstax/BusinessEthics-TestBank/Test Banks/OSX_EthicsTB_Ch05_ImpactofCulture.docx\n",
      "/kaggle/input/newdataset/openstax/openstax/BusinessEthics-TestBank/Test Banks/OSX_EthicsTB_Ch06_EmployersOweEmployees.docx\n",
      "/kaggle/input/newdataset/openstax/openstax/BusinessEthics-TestBank/Test Banks/OSX_EthicsTB_Ch07_EmployeesOweEmployers.docx\n",
      "/kaggle/input/newdataset/openstax/openstax/BusinessEthics-TestBank/Test Banks/OSX_EthicsTB_Ch08_RightsofAll.docx\n",
      "/kaggle/input/newdataset/openstax/openstax/BusinessEthics-TestBank/Test Banks/OSX_EthicsTB_Ch09_ProfessionsUnderMicroscope.docx\n",
      "/kaggle/input/newdataset/openstax/openstax/BusinessEthics-TestBank/Test Banks/OSX_EthicsTB_Ch10_ChangingWorkEnvironments.docx\n"
     ]
    }
   ],
   "source": [
    "for file in files:\n",
    "    print(file)"
   ]
  },
  {
   "cell_type": "code",
   "execution_count": 38,
   "id": "da057226",
   "metadata": {
    "execution": {
     "iopub.execute_input": "2023-06-10T15:06:48.542244Z",
     "iopub.status.busy": "2023-06-10T15:06:48.540902Z",
     "iopub.status.idle": "2023-06-10T15:06:48.553331Z",
     "shell.execute_reply": "2023-06-10T15:06:48.551938Z"
    },
    "papermill": {
     "duration": 0.057103,
     "end_time": "2023-06-10T15:06:48.556313",
     "exception": false,
     "start_time": "2023-06-10T15:06:48.499210",
     "status": "completed"
    },
    "tags": []
   },
   "outputs": [],
   "source": [
    "def extract_bethicstb(files, BOOK):\n",
    "    rows = []\n",
    "    for file in files:\n",
    "        filename = file.split('/')[-1]\n",
    "        chapter = re.sub(r\"Ch\", \"\", file.split('/')[-1].split('_')[-2])\n",
    "        chapter = int(chapter)\n",
    "        text = docx2txt.process(file).strip(access_for_free)\n",
    "        questions = re.findall(\"\\n.*\\?\", text)\n",
    "        tf = re.findall(\"\\nTrue or false.*\\n\", text)\n",
    "        short_answers = re.findall(\"\\n..*\\n\\nSample Answer:?\", text)\n",
    "        for sa in short_answers:\n",
    "            row = dict()\n",
    "            row['Book'] = BOOK\n",
    "            sa = re.sub(\"\\n\\nSample Answer:\", \"\", sa)\n",
    "            row['Chapter'] = chapter\n",
    "            row['question'] = sa.strip('\\n')\n",
    "            row['is_question'] = True\n",
    "            row['open_ended'] = True\n",
    "            rows.append(row)\n",
    "        #creates some duplicates\n",
    "        for question in questions:\n",
    "            row = dict()\n",
    "            #actually psych has no true or false, but leave it just in case, bc I didn't go over all files\n",
    "            if \"True or false?\" in question:\n",
    "                continue\n",
    "            if \"Text Section:\" in question:\n",
    "                continue\n",
    "            else:\n",
    "                row['Book'] = BOOK\n",
    "                row['Chapter'] = chapter\n",
    "                row['question'] = question.strip('\\n')\n",
    "                row['is_question'] = True\n",
    "                rows.append(row)\n",
    "        for question in tf: \n",
    "            row = dict()\n",
    "            row['Book'] = BOOK\n",
    "            row['Chapter'] = chapter\n",
    "            row['question'] = question.strip('\\n')\n",
    "            row['is_question'] = True\n",
    "            row['truefalse'] = True\n",
    "            row['fillblank'] = '___' in question\n",
    "            rows.append(row)\n",
    "    return rows"
   ]
  },
  {
   "cell_type": "code",
   "execution_count": 39,
   "id": "ac527dd8",
   "metadata": {
    "execution": {
     "iopub.execute_input": "2023-06-10T15:06:48.635863Z",
     "iopub.status.busy": "2023-06-10T15:06:48.634504Z",
     "iopub.status.idle": "2023-06-10T15:06:49.568509Z",
     "shell.execute_reply": "2023-06-10T15:06:49.567488Z"
    },
    "papermill": {
     "duration": 0.976309,
     "end_time": "2023-06-10T15:06:49.571247",
     "exception": false,
     "start_time": "2023-06-10T15:06:48.594938",
     "status": "completed"
    },
    "tags": []
   },
   "outputs": [],
   "source": [
    "pd.DataFrame(extract_bethicstb(files, BOOK)).to_parquet('business_ethics_testbank.pq')"
   ]
  },
  {
   "cell_type": "code",
   "execution_count": 40,
   "id": "991eebd5",
   "metadata": {
    "execution": {
     "iopub.execute_input": "2023-06-10T15:06:49.650110Z",
     "iopub.status.busy": "2023-06-10T15:06:49.649614Z",
     "iopub.status.idle": "2023-06-10T15:06:50.384507Z",
     "shell.execute_reply": "2023-06-10T15:06:50.383576Z"
    },
    "papermill": {
     "duration": 0.777121,
     "end_time": "2023-06-10T15:06:50.386445",
     "exception": false,
     "start_time": "2023-06-10T15:06:49.609324",
     "status": "completed"
    },
    "tags": []
   },
   "outputs": [
    {
     "data": {
      "text/html": [
       "<div>\n",
       "<style scoped>\n",
       "    .dataframe tbody tr th:only-of-type {\n",
       "        vertical-align: middle;\n",
       "    }\n",
       "\n",
       "    .dataframe tbody tr th {\n",
       "        vertical-align: top;\n",
       "    }\n",
       "\n",
       "    .dataframe thead th {\n",
       "        text-align: right;\n",
       "    }\n",
       "</style>\n",
       "<table border=\"1\" class=\"dataframe\">\n",
       "  <thead>\n",
       "    <tr style=\"text-align: right;\">\n",
       "      <th></th>\n",
       "      <th>Book</th>\n",
       "      <th>Chapter</th>\n",
       "      <th>question</th>\n",
       "      <th>is_question</th>\n",
       "      <th>open_ended</th>\n",
       "      <th>truefalse</th>\n",
       "      <th>fillblank</th>\n",
       "    </tr>\n",
       "  </thead>\n",
       "  <tbody>\n",
       "    <tr>\n",
       "      <th>0</th>\n",
       "      <td>Business Ethics</td>\n",
       "      <td>1</td>\n",
       "      <td>Provide five examples of stakeholders.</td>\n",
       "      <td>True</td>\n",
       "      <td>True</td>\n",
       "      <td>NaN</td>\n",
       "      <td>NaN</td>\n",
       "    </tr>\n",
       "    <tr>\n",
       "      <th>1</th>\n",
       "      <td>Business Ethics</td>\n",
       "      <td>1</td>\n",
       "      <td>What motivated Mark Faris to be a white-collar...</td>\n",
       "      <td>True</td>\n",
       "      <td>True</td>\n",
       "      <td>NaN</td>\n",
       "      <td>NaN</td>\n",
       "    </tr>\n",
       "    <tr>\n",
       "      <th>2</th>\n",
       "      <td>Business Ethics</td>\n",
       "      <td>1</td>\n",
       "      <td>How are stockholders also stakeholders? Explai...</td>\n",
       "      <td>True</td>\n",
       "      <td>True</td>\n",
       "      <td>NaN</td>\n",
       "      <td>NaN</td>\n",
       "    </tr>\n",
       "    <tr>\n",
       "      <th>3</th>\n",
       "      <td>Business Ethics</td>\n",
       "      <td>1</td>\n",
       "      <td>What is compliance, and how is does it operate?</td>\n",
       "      <td>True</td>\n",
       "      <td>True</td>\n",
       "      <td>NaN</td>\n",
       "      <td>NaN</td>\n",
       "    </tr>\n",
       "    <tr>\n",
       "      <th>4</th>\n",
       "      <td>Business Ethics</td>\n",
       "      <td>1</td>\n",
       "      <td>Explain the concept of corporate social respon...</td>\n",
       "      <td>True</td>\n",
       "      <td>True</td>\n",
       "      <td>NaN</td>\n",
       "      <td>NaN</td>\n",
       "    </tr>\n",
       "    <tr>\n",
       "      <th>...</th>\n",
       "      <td>...</td>\n",
       "      <td>...</td>\n",
       "      <td>...</td>\n",
       "      <td>...</td>\n",
       "      <td>...</td>\n",
       "      <td>...</td>\n",
       "      <td>...</td>\n",
       "    </tr>\n",
       "    <tr>\n",
       "      <th>519</th>\n",
       "      <td>Business Ethics</td>\n",
       "      <td>10</td>\n",
       "      <td>True or false? There is a prevailing view that...</td>\n",
       "      <td>True</td>\n",
       "      <td>NaN</td>\n",
       "      <td>True</td>\n",
       "      <td>False</td>\n",
       "    </tr>\n",
       "    <tr>\n",
       "      <th>520</th>\n",
       "      <td>Business Ethics</td>\n",
       "      <td>10</td>\n",
       "      <td>True or false? Stressed workers are less produ...</td>\n",
       "      <td>True</td>\n",
       "      <td>NaN</td>\n",
       "      <td>True</td>\n",
       "      <td>False</td>\n",
       "    </tr>\n",
       "    <tr>\n",
       "      <th>521</th>\n",
       "      <td>Business Ethics</td>\n",
       "      <td>10</td>\n",
       "      <td>True or false? Millennials do not believe inte...</td>\n",
       "      <td>True</td>\n",
       "      <td>NaN</td>\n",
       "      <td>True</td>\n",
       "      <td>False</td>\n",
       "    </tr>\n",
       "    <tr>\n",
       "      <th>522</th>\n",
       "      <td>Business Ethics</td>\n",
       "      <td>10</td>\n",
       "      <td>True or false? Flextime is a practical way to ...</td>\n",
       "      <td>True</td>\n",
       "      <td>NaN</td>\n",
       "      <td>True</td>\n",
       "      <td>False</td>\n",
       "    </tr>\n",
       "    <tr>\n",
       "      <th>523</th>\n",
       "      <td>Business Ethics</td>\n",
       "      <td>10</td>\n",
       "      <td>True or false? Automation advancements are lik...</td>\n",
       "      <td>True</td>\n",
       "      <td>NaN</td>\n",
       "      <td>True</td>\n",
       "      <td>False</td>\n",
       "    </tr>\n",
       "  </tbody>\n",
       "</table>\n",
       "<p>524 rows × 7 columns</p>\n",
       "</div>"
      ],
      "text/plain": [
       "                Book  Chapter  \\\n",
       "0    Business Ethics        1   \n",
       "1    Business Ethics        1   \n",
       "2    Business Ethics        1   \n",
       "3    Business Ethics        1   \n",
       "4    Business Ethics        1   \n",
       "..               ...      ...   \n",
       "519  Business Ethics       10   \n",
       "520  Business Ethics       10   \n",
       "521  Business Ethics       10   \n",
       "522  Business Ethics       10   \n",
       "523  Business Ethics       10   \n",
       "\n",
       "                                              question  is_question  \\\n",
       "0               Provide five examples of stakeholders.         True   \n",
       "1    What motivated Mark Faris to be a white-collar...         True   \n",
       "2    How are stockholders also stakeholders? Explai...         True   \n",
       "3     What is compliance, and how is does it operate?          True   \n",
       "4    Explain the concept of corporate social respon...         True   \n",
       "..                                                 ...          ...   \n",
       "519  True or false? There is a prevailing view that...         True   \n",
       "520  True or false? Stressed workers are less produ...         True   \n",
       "521  True or false? Millennials do not believe inte...         True   \n",
       "522  True or false? Flextime is a practical way to ...         True   \n",
       "523  True or false? Automation advancements are lik...         True   \n",
       "\n",
       "    open_ended truefalse fillblank  \n",
       "0         True       NaN       NaN  \n",
       "1         True       NaN       NaN  \n",
       "2         True       NaN       NaN  \n",
       "3         True       NaN       NaN  \n",
       "4         True       NaN       NaN  \n",
       "..         ...       ...       ...  \n",
       "519        NaN      True     False  \n",
       "520        NaN      True     False  \n",
       "521        NaN      True     False  \n",
       "522        NaN      True     False  \n",
       "523        NaN      True     False  \n",
       "\n",
       "[524 rows x 7 columns]"
      ]
     },
     "execution_count": 40,
     "metadata": {},
     "output_type": "execute_result"
    }
   ],
   "source": [
    "pd.DataFrame(extract_bethicstb(files, BOOK))"
   ]
  },
  {
   "cell_type": "markdown",
   "id": "07603863",
   "metadata": {
    "papermill": {
     "duration": 0.037891,
     "end_time": "2023-06-10T15:06:50.462432",
     "exception": false,
     "start_time": "2023-06-10T15:06:50.424541",
     "status": "completed"
    },
    "tags": []
   },
   "source": [
    "# Philosophy\n",
    "\n",
    "- end of chapter review questions\n",
    "- end of chapter references, key terms, summary\n",
    "- sometimes further reading\n"
   ]
  },
  {
   "cell_type": "code",
   "execution_count": 41,
   "id": "d01a6368",
   "metadata": {
    "execution": {
     "iopub.execute_input": "2023-06-10T15:06:50.541469Z",
     "iopub.status.busy": "2023-06-10T15:06:50.541031Z",
     "iopub.status.idle": "2023-06-10T15:06:50.582781Z",
     "shell.execute_reply": "2023-06-10T15:06:50.581525Z"
    },
    "papermill": {
     "duration": 0.085011,
     "end_time": "2023-06-10T15:06:50.585850",
     "exception": false,
     "start_time": "2023-06-10T15:06:50.500839",
     "status": "completed"
    },
    "tags": []
   },
   "outputs": [],
   "source": [
    "files = sorted(glob('/kaggle/input/newdataset/openstax/openstax/introduction-philosophy/introduction-philosophy/*.docx'))\n",
    "text = docx2txt.process(files[8])\n",
    "access_for_free = text[-41:] #copyright too\n",
    "# access_for_free\n",
    "try:\n",
    "    start = re.search(\"\\nAccess for free\", text).start()\n",
    "    text = text[:start]\n",
    "except:\n",
    "    text = text.strip(access_for_free)\n",
    "book = 'Philosophy'"
   ]
  },
  {
   "cell_type": "code",
   "execution_count": 42,
   "id": "155d0f8f",
   "metadata": {
    "execution": {
     "iopub.execute_input": "2023-06-10T15:06:50.665315Z",
     "iopub.status.busy": "2023-06-10T15:06:50.664945Z",
     "iopub.status.idle": "2023-06-10T15:06:50.669963Z",
     "shell.execute_reply": "2023-06-10T15:06:50.668738Z"
    },
    "papermill": {
     "duration": 0.047661,
     "end_time": "2023-06-10T15:06:50.671987",
     "exception": false,
     "start_time": "2023-06-10T15:06:50.624326",
     "status": "completed"
    },
    "tags": []
   },
   "outputs": [],
   "source": [
    "\n",
    "pattern = r'\\n\\n(?:[A-Z].*?)\\n\\n(?:\\d|Access)'\n",
    "qs = re.findall(pattern, text, re.DOTALL)\n",
    "# qs"
   ]
  },
  {
   "cell_type": "code",
   "execution_count": 43,
   "id": "8d74abbd",
   "metadata": {
    "execution": {
     "iopub.execute_input": "2023-06-10T15:06:50.749067Z",
     "iopub.status.busy": "2023-06-10T15:06:50.748718Z",
     "iopub.status.idle": "2023-06-10T15:06:50.758612Z",
     "shell.execute_reply": "2023-06-10T15:06:50.756817Z"
    },
    "papermill": {
     "duration": 0.051284,
     "end_time": "2023-06-10T15:06:50.761103",
     "exception": false,
     "start_time": "2023-06-10T15:06:50.709819",
     "status": "completed"
    },
    "tags": []
   },
   "outputs": [],
   "source": [
    "def extract_phil(files, book):\n",
    "    rows = []\n",
    "    for file in files:\n",
    "        text = docx2txt.process(file).strip(access_for_free)\n",
    "        filename = file.split('/')[-1]\n",
    "        section_title = re.sub(r\"\\.docx$\", \"\", filename)\n",
    "        chapter = filename.split('-')[0]\n",
    "        is_question = \"questions\" in filename\n",
    "        if is_question:\n",
    "            pattern = r'\\n\\n(?:[A-Z].*?)\\n\\n(?:\\d|Access)'\n",
    "            qs = re.findall(pattern, text, re.DOTALL)\n",
    "            for q in qs:\n",
    "                row = get_question(q.strip('\\n\\n'),\n",
    "                                    chapter,\n",
    "                                    section_title,\n",
    "                                    book = book)\n",
    "                rows.append(row)\n",
    "        else:\n",
    "            row = dict()\n",
    "            row['Book'] = book\n",
    "            row['Chapter'] = chapter\n",
    "            row['section_title'] = section_title\n",
    "            row['is_question'] = False\n",
    "            row['text'] = text.strip('\\n\\n')\n",
    "            rows.append(row)\n",
    "    return rows"
   ]
  },
  {
   "cell_type": "code",
   "execution_count": 44,
   "id": "4777f765",
   "metadata": {
    "execution": {
     "iopub.execute_input": "2023-06-10T15:06:50.840266Z",
     "iopub.status.busy": "2023-06-10T15:06:50.839835Z",
     "iopub.status.idle": "2023-06-10T15:06:52.781266Z",
     "shell.execute_reply": "2023-06-10T15:06:52.779730Z"
    },
    "papermill": {
     "duration": 1.98393,
     "end_time": "2023-06-10T15:06:52.783979",
     "exception": false,
     "start_time": "2023-06-10T15:06:50.800049",
     "status": "completed"
    },
    "tags": []
   },
   "outputs": [],
   "source": [
    "pd.DataFrame(extract_phil(files, book = book)).to_parquet('philosophy_tq.pq')"
   ]
  },
  {
   "cell_type": "markdown",
   "id": "dbff3803",
   "metadata": {
    "papermill": {
     "duration": 0.038464,
     "end_time": "2023-06-10T15:06:52.861806",
     "exception": false,
     "start_time": "2023-06-10T15:06:52.823342",
     "status": "completed"
    },
    "tags": []
   },
   "source": [
    "# Philosophy Testbank\n",
    "\n",
    "- MC but not marked like in others\n",
    "- True or false"
   ]
  },
  {
   "cell_type": "code",
   "execution_count": 45,
   "id": "d6a34983",
   "metadata": {
    "execution": {
     "iopub.execute_input": "2023-06-10T15:06:52.941578Z",
     "iopub.status.busy": "2023-06-10T15:06:52.941159Z",
     "iopub.status.idle": "2023-06-10T15:06:52.996054Z",
     "shell.execute_reply": "2023-06-10T15:06:52.994216Z"
    },
    "papermill": {
     "duration": 0.098319,
     "end_time": "2023-06-10T15:06:52.999186",
     "exception": false,
     "start_time": "2023-06-10T15:06:52.900867",
     "status": "completed"
    },
    "tags": []
   },
   "outputs": [
    {
     "data": {
      "text/plain": [
       "'\\n\\n\\n\\nThis file is copyright 2022, Rice University. All Rights Reserved. \\n\\n\\n\\n05/12/22                                                                                                                                                       2'"
      ]
     },
     "execution_count": 45,
     "metadata": {},
     "output_type": "execute_result"
    }
   ],
   "source": [
    "files = sorted(glob('/kaggle/input/newdataset/openstax/openstax/Philosophy_testbank/*.docx'))\n",
    "text = docx2txt.process(files[0])\n",
    "access_for_free = text[-235:] #copyright too\n",
    "access_for_free"
   ]
  },
  {
   "cell_type": "code",
   "execution_count": 46,
   "id": "250dd2b2",
   "metadata": {
    "execution": {
     "iopub.execute_input": "2023-06-10T15:06:53.077397Z",
     "iopub.status.busy": "2023-06-10T15:06:53.077055Z",
     "iopub.status.idle": "2023-06-10T15:06:53.086733Z",
     "shell.execute_reply": "2023-06-10T15:06:53.084915Z"
    },
    "papermill": {
     "duration": 0.052276,
     "end_time": "2023-06-10T15:06:53.089225",
     "exception": false,
     "start_time": "2023-06-10T15:06:53.036949",
     "status": "completed"
    },
    "tags": []
   },
   "outputs": [
    {
     "data": {
      "text/plain": [
       "'1'"
      ]
     },
     "execution_count": 46,
     "metadata": {},
     "output_type": "execute_result"
    }
   ],
   "source": [
    "re.sub(r\"Ch\", \"\", files[0].split('/')[-1].split('-')[-1]).strip('.docx')"
   ]
  },
  {
   "cell_type": "code",
   "execution_count": 47,
   "id": "dbd7ddf8",
   "metadata": {
    "execution": {
     "iopub.execute_input": "2023-06-10T15:06:53.169571Z",
     "iopub.status.busy": "2023-06-10T15:06:53.169199Z",
     "iopub.status.idle": "2023-06-10T15:06:53.181301Z",
     "shell.execute_reply": "2023-06-10T15:06:53.179906Z"
    },
    "papermill": {
     "duration": 0.056032,
     "end_time": "2023-06-10T15:06:53.184052",
     "exception": false,
     "start_time": "2023-06-10T15:06:53.128020",
     "status": "completed"
    },
    "tags": []
   },
   "outputs": [],
   "source": [
    "def extract_philtb(files, book):\n",
    "    rows = []\n",
    "    for file in files:\n",
    "        filename = file.split('/')[-1]\n",
    "        chapter = re.sub(r\"Ch\", \"\", file.split('/')[-1].split('-')[-1]).strip('.docx')\n",
    "        chapter = int(chapter)\n",
    "        text = docx2txt.process(file).strip(access_for_free)\n",
    "        questions = re.findall(\"\\n.*\\?\", text)\n",
    "        tf = re.findall(\"\\nTrue or false.*\\n\", text)\n",
    "        short_answers = re.findall(\"\\n..*\\n\\nSample Answer:?\", text)\n",
    "        for sa in short_answers:\n",
    "            row = dict()\n",
    "            sa = re.sub(\"\\n\\nSample Answer:\", \"\", sa)\n",
    "            row['Book'] = book\n",
    "            row['Chapter'] = chapter\n",
    "            row['question'] = sa.strip('\\n')\n",
    "            row['is_question'] = True\n",
    "            row['open_ended'] = True\n",
    "            rows.append(row)\n",
    "        #creates some duplicates\n",
    "        for question in questions:\n",
    "            row = dict()\n",
    "            #actually psych has no true or false, but leave it just in case, bc I didn't go over all files\n",
    "            if \"True or false?\" in question:\n",
    "                continue\n",
    "            if \"Text Section:\" in question:\n",
    "                continue\n",
    "            else:\n",
    "                row['Book'] = book\n",
    "                row['Chapter'] = chapter\n",
    "                row['question'] = question.strip('\\n')\n",
    "                row['is_question'] = True\n",
    "                rows.append(row)\n",
    "        for question in tf: \n",
    "            row = dict()\n",
    "            row['Book'] = book\n",
    "            row['Chapter'] = chapter\n",
    "            row['question'] = question.strip('\\n')\n",
    "            row['is_question'] = True\n",
    "            row['truefalse'] = True\n",
    "            rows.append(row)\n",
    "    return rows"
   ]
  },
  {
   "cell_type": "code",
   "execution_count": 48,
   "id": "88cd98f2",
   "metadata": {
    "execution": {
     "iopub.execute_input": "2023-06-10T15:06:53.263789Z",
     "iopub.status.busy": "2023-06-10T15:06:53.263281Z",
     "iopub.status.idle": "2023-06-10T15:06:53.848339Z",
     "shell.execute_reply": "2023-06-10T15:06:53.847306Z"
    },
    "papermill": {
     "duration": 0.628175,
     "end_time": "2023-06-10T15:06:53.851416",
     "exception": false,
     "start_time": "2023-06-10T15:06:53.223241",
     "status": "completed"
    },
    "tags": []
   },
   "outputs": [
    {
     "name": "stdout",
     "output_type": "stream",
     "text": [
      "Philosophy\n"
     ]
    }
   ],
   "source": [
    "pd.DataFrame(extract_philtb(files, book)).to_parquet('philosophy_testbank.pq')\n",
    "print(book)"
   ]
  },
  {
   "cell_type": "markdown",
   "id": "607426fb",
   "metadata": {
    "papermill": {
     "duration": 0.038437,
     "end_time": "2023-06-10T15:06:53.929015",
     "exception": false,
     "start_time": "2023-06-10T15:06:53.890578",
     "status": "completed"
    },
    "tags": []
   },
   "source": [
    "# Business Law Essentials\n",
    "\n",
    "- assesement questions end of chapter\n",
    "- answers \"chapter-[1-9][1-9]\" odd numbered questions only :-S\n",
    "- endnotes at end of every chapter, summary and key terms basically\n"
   ]
  },
  {
   "cell_type": "code",
   "execution_count": 49,
   "id": "029e6541",
   "metadata": {
    "execution": {
     "iopub.execute_input": "2023-06-10T15:06:54.008657Z",
     "iopub.status.busy": "2023-06-10T15:06:54.008268Z",
     "iopub.status.idle": "2023-06-10T15:06:54.042886Z",
     "shell.execute_reply": "2023-06-10T15:06:54.041578Z"
    },
    "papermill": {
     "duration": 0.077981,
     "end_time": "2023-06-10T15:06:54.045847",
     "exception": false,
     "start_time": "2023-06-10T15:06:53.967866",
     "status": "completed"
    },
    "tags": []
   },
   "outputs": [],
   "source": [
    "files = sorted(glob('/kaggle/input/newdataset/openstax/openstax/Business_Law_Essentials_Docx-customizable/business-law-i-essentials/*.docx'))\n",
    "text = docx2txt.process(files[2])\n",
    "access_for_free = text[-41:]\n",
    "access_for_free\n",
    "BOOK = 'Business Law Essentials'"
   ]
  },
  {
   "cell_type": "code",
   "execution_count": 50,
   "id": "762666cc",
   "metadata": {
    "execution": {
     "iopub.execute_input": "2023-06-10T15:06:54.124708Z",
     "iopub.status.busy": "2023-06-10T15:06:54.124300Z",
     "iopub.status.idle": "2023-06-10T15:06:54.958822Z",
     "shell.execute_reply": "2023-06-10T15:06:54.957058Z"
    },
    "papermill": {
     "duration": 0.877793,
     "end_time": "2023-06-10T15:06:54.962199",
     "exception": false,
     "start_time": "2023-06-10T15:06:54.084406",
     "status": "completed"
    },
    "tags": []
   },
   "outputs": [
    {
     "data": {
      "text/plain": [
       "'Business Law Essentials'"
      ]
     },
     "execution_count": 50,
     "metadata": {},
     "output_type": "execute_result"
    }
   ],
   "source": [
    "pd.DataFrame(extract_bethics(files, BOOK)).to_parquet('business_law_essentials_tq.pq')\n",
    "BOOK"
   ]
  },
  {
   "cell_type": "markdown",
   "id": "12729baf",
   "metadata": {
    "papermill": {
     "duration": 0.037345,
     "end_time": "2023-06-10T15:06:55.037674",
     "exception": false,
     "start_time": "2023-06-10T15:06:55.000329",
     "status": "completed"
    },
    "tags": []
   },
   "source": [
    "# Business Law Testbank \n",
    "Only has instructor answers"
   ]
  },
  {
   "cell_type": "markdown",
   "id": "5d2df278",
   "metadata": {
    "papermill": {
     "duration": 0.038332,
     "end_time": "2023-06-10T15:06:55.114352",
     "exception": false,
     "start_time": "2023-06-10T15:06:55.076020",
     "status": "completed"
    },
    "tags": []
   },
   "source": [
    "# Entrepreneurship\n",
    "\n",
    "- discussion, review, case questions\n",
    "- end of chapter summaries, key-terms, and links to outside resources"
   ]
  },
  {
   "cell_type": "code",
   "execution_count": 51,
   "id": "0ee882b9",
   "metadata": {
    "execution": {
     "iopub.execute_input": "2023-06-10T15:06:55.194122Z",
     "iopub.status.busy": "2023-06-10T15:06:55.193537Z",
     "iopub.status.idle": "2023-06-10T15:06:55.254275Z",
     "shell.execute_reply": "2023-06-10T15:06:55.253162Z"
    },
    "papermill": {
     "duration": 0.103202,
     "end_time": "2023-06-10T15:06:55.256954",
     "exception": false,
     "start_time": "2023-06-10T15:06:55.153752",
     "status": "completed"
    },
    "tags": []
   },
   "outputs": [],
   "source": [
    "files = sorted(glob('/kaggle/input/newdataset/openstax/openstax/entrepreneurship-docx/*.docx'))\n",
    "text = docx2txt.process(files[0])\n",
    "access_for_free = text[-41:] #copyright too\n",
    "BOOK = 'Entrepreneurship'"
   ]
  },
  {
   "cell_type": "code",
   "execution_count": 52,
   "id": "12ceaf8b",
   "metadata": {
    "execution": {
     "iopub.execute_input": "2023-06-10T15:06:55.337020Z",
     "iopub.status.busy": "2023-06-10T15:06:55.336623Z",
     "iopub.status.idle": "2023-06-10T15:06:55.345635Z",
     "shell.execute_reply": "2023-06-10T15:06:55.344131Z"
    },
    "papermill": {
     "duration": 0.052061,
     "end_time": "2023-06-10T15:06:55.348378",
     "exception": false,
     "start_time": "2023-06-10T15:06:55.296317",
     "status": "completed"
    },
    "tags": []
   },
   "outputs": [],
   "source": [
    "def extract_entrep(files, book):\n",
    "    rows = []\n",
    "    for file in files:\n",
    "        row = dict()\n",
    "        text = docx2txt.process(file).strip(access_for_free)\n",
    "        filename = file.split('/')[-1]\n",
    "        section_title = re.sub(r\"\\.docx$\", \"\", filename)\n",
    "        chapter = filename.split('-')[0]\n",
    "        is_question = \"questions\" in filename\n",
    "        if is_question:\n",
    "            pattern = r'\\n\\n(?:[A-Z].*?)\\n\\n(?:\\d|Access)'\n",
    "            qs = re.findall(pattern, text, re.DOTALL)\n",
    "            for q in qs:\n",
    "                row = get_question(q.strip('\\n\\n'),\n",
    "                                    chapter,\n",
    "                                    section_title,\n",
    "                                    book = book)\n",
    "                rows.append(row)\n",
    "        else:\n",
    "            row = dict()\n",
    "            row['Book'] = book\n",
    "            row['Chapter'] = chapter\n",
    "            row['section_title'] = section_title\n",
    "            row['is_question'] = False\n",
    "            row['text'] = text.strip('\\n\\n')\n",
    "            rows.append(row)\n",
    "    return rows"
   ]
  },
  {
   "cell_type": "code",
   "execution_count": 53,
   "id": "4fdeafe3",
   "metadata": {
    "execution": {
     "iopub.execute_input": "2023-06-10T15:06:55.428109Z",
     "iopub.status.busy": "2023-06-10T15:06:55.427747Z",
     "iopub.status.idle": "2023-06-10T15:06:57.735694Z",
     "shell.execute_reply": "2023-06-10T15:06:57.734376Z"
    },
    "papermill": {
     "duration": 2.351068,
     "end_time": "2023-06-10T15:06:57.738809",
     "exception": false,
     "start_time": "2023-06-10T15:06:55.387741",
     "status": "completed"
    },
    "tags": []
   },
   "outputs": [
    {
     "name": "stdout",
     "output_type": "stream",
     "text": [
      "Entrepreneurship\n"
     ]
    }
   ],
   "source": [
    "pd.DataFrame(extract_entrep(files, book = BOOK)).to_parquet('entrepreneurship.pq')\n",
    "print(BOOK)"
   ]
  },
  {
   "cell_type": "markdown",
   "id": "cc4edb95",
   "metadata": {
    "papermill": {
     "duration": 0.038162,
     "end_time": "2023-06-10T15:06:57.815302",
     "exception": false,
     "start_time": "2023-06-10T15:06:57.777140",
     "status": "completed"
    },
    "tags": []
   },
   "source": [
    "# Entrepreneurship Testbank\n",
    "\n",
    "- MC/Fill in the blank\n",
    "- True or false\n",
    "- Short Answer"
   ]
  },
  {
   "cell_type": "code",
   "execution_count": 54,
   "id": "8a68ffd4",
   "metadata": {
    "execution": {
     "iopub.execute_input": "2023-06-10T15:06:57.958533Z",
     "iopub.status.busy": "2023-06-10T15:06:57.958145Z",
     "iopub.status.idle": "2023-06-10T15:06:58.040261Z",
     "shell.execute_reply": "2023-06-10T15:06:58.038500Z"
    },
    "papermill": {
     "duration": 0.125476,
     "end_time": "2023-06-10T15:06:58.042967",
     "exception": false,
     "start_time": "2023-06-10T15:06:57.917491",
     "status": "completed"
    },
    "tags": []
   },
   "outputs": [
    {
     "data": {
      "text/plain": [
       "' his seventies. Yunus is known for supporting women as micro-entrepreneurs, and 97 percent of Grameen bank borrowers are women.\\n\\n\\n\\nDifficulty: Moderate\\n\\n\\n\\nThis file is copyright 2020, Rice University. All Rights Reserved.\\n\\nPage 1 of 12'"
      ]
     },
     "execution_count": 54,
     "metadata": {},
     "output_type": "execute_result"
    }
   ],
   "source": [
    "files = sorted(glob('/kaggle/input/newdataset/openstax/openstax/EShip-TestBanks/Test Banks/*.docx'))\n",
    "text = docx2txt.process(files[2])\n",
    "access_for_free = text[-235:] #copyright too\n",
    "access_for_free"
   ]
  },
  {
   "cell_type": "code",
   "execution_count": 55,
   "id": "3c06132f",
   "metadata": {
    "execution": {
     "iopub.execute_input": "2023-06-10T15:06:58.123738Z",
     "iopub.status.busy": "2023-06-10T15:06:58.123311Z",
     "iopub.status.idle": "2023-06-10T15:06:58.136777Z",
     "shell.execute_reply": "2023-06-10T15:06:58.134982Z"
    },
    "papermill": {
     "duration": 0.056996,
     "end_time": "2023-06-10T15:06:58.139364",
     "exception": false,
     "start_time": "2023-06-10T15:06:58.082368",
     "status": "completed"
    },
    "tags": []
   },
   "outputs": [],
   "source": [
    "def extract_enttb(files, BOOK):\n",
    "    rows = []\n",
    "    for file in files:\n",
    "        filename = file.split('/')[-1]\n",
    "        chapter = re.sub(r\"Ch\", \"\", file.split('/')[-1].split('_')[-2])\n",
    "        chapter = int(chapter)\n",
    "        text = docx2txt.process(file).strip(access_for_free)\n",
    "        questions = re.findall(\"\\n.*\\?\", text)\n",
    "        tf = re.findall(\"\\nTrue or false.*\\n\", text)\n",
    "        short_answers = re.findall(\"\\n..*\\n\\nSample Answer:?\", text)\n",
    "        for sa in short_answers:\n",
    "            row = dict()\n",
    "            row['Book'] = BOOK\n",
    "            sa = re.sub(\"\\n\\nSample Answer:\", \"\", sa)\n",
    "            row['Chapter'] = chapter\n",
    "            row['question'] = sa.strip('\\n')\n",
    "            row['is_question'] = True\n",
    "            row['open_ended'] = True\n",
    "            rows.append(row)\n",
    "        #creates some duplicates\n",
    "        for question in questions:\n",
    "            row = dict()\n",
    "            #actually psych has no true or false, but leave it just in case, bc I didn't go over all files\n",
    "            if \"True or false?\" in question:\n",
    "                continue\n",
    "            if \"Text Section:\" in question:\n",
    "                continue\n",
    "            else:\n",
    "                row['Book'] = BOOK\n",
    "                row['Chapter'] = chapter\n",
    "                row['question'] = question.strip('\\n')\n",
    "                row['is_question'] = True\n",
    "                rows.append(row)\n",
    "        for question in tf: \n",
    "            row = dict()\n",
    "            row['Book'] = BOOK\n",
    "            row['Chapter'] = chapter\n",
    "            row['question'] = question.strip('\\n')\n",
    "            row['is_question'] = True\n",
    "            row['truefalse'] = True\n",
    "            row['fillblank'] = '___' in question\n",
    "            rows.append(row)\n",
    "    return rows"
   ]
  },
  {
   "cell_type": "code",
   "execution_count": 56,
   "id": "cd7a0fdb",
   "metadata": {
    "execution": {
     "iopub.execute_input": "2023-06-10T15:06:58.218978Z",
     "iopub.status.busy": "2023-06-10T15:06:58.218574Z",
     "iopub.status.idle": "2023-06-10T15:06:59.288633Z",
     "shell.execute_reply": "2023-06-10T15:06:59.286943Z"
    },
    "papermill": {
     "duration": 1.112333,
     "end_time": "2023-06-10T15:06:59.291084",
     "exception": false,
     "start_time": "2023-06-10T15:06:58.178751",
     "status": "completed"
    },
    "tags": []
   },
   "outputs": [
    {
     "name": "stdout",
     "output_type": "stream",
     "text": [
      "Entrepreneurship\n"
     ]
    }
   ],
   "source": [
    "pd.DataFrame(extract_enttb(files, BOOK = BOOK)).to_parquet('entrepreneurship_testbank.pq')\n",
    "print(BOOK)"
   ]
  },
  {
   "cell_type": "markdown",
   "id": "ed63f54f",
   "metadata": {
    "papermill": {
     "duration": 0.041261,
     "end_time": "2023-06-10T15:06:59.373465",
     "exception": false,
     "start_time": "2023-06-10T15:06:59.332204",
     "status": "completed"
    },
    "tags": []
   },
   "source": [
    "# Introduction to Business\n",
    "- questions are in a separate file, though most sections have a concept check which is questions, they are always at the end of the file\n"
   ]
  },
  {
   "cell_type": "code",
   "execution_count": 57,
   "id": "d8ad5306",
   "metadata": {
    "execution": {
     "iopub.execute_input": "2023-06-10T15:06:59.458415Z",
     "iopub.status.busy": "2023-06-10T15:06:59.457991Z",
     "iopub.status.idle": "2023-06-10T15:06:59.551865Z",
     "shell.execute_reply": "2023-06-10T15:06:59.549877Z"
    },
    "papermill": {
     "duration": 0.140104,
     "end_time": "2023-06-10T15:06:59.554581",
     "exception": false,
     "start_time": "2023-06-10T15:06:59.414477",
     "status": "completed"
    },
    "tags": []
   },
   "outputs": [],
   "source": [
    "files = sorted(glob('/kaggle/input/newdataset/openstax/openstax/Introduction_to_Business_Docx-customizable/introduction-business/*.docx'))\n",
    "text = docx2txt.process(files[2])\n",
    "access_for_free = text[-41:] #copyright too\n",
    "book = 'Introduction to Business'"
   ]
  },
  {
   "cell_type": "code",
   "execution_count": 58,
   "id": "2db2a08d",
   "metadata": {
    "execution": {
     "iopub.execute_input": "2023-06-10T15:06:59.636366Z",
     "iopub.status.busy": "2023-06-10T15:06:59.635949Z",
     "iopub.status.idle": "2023-06-10T15:06:59.643905Z",
     "shell.execute_reply": "2023-06-10T15:06:59.642206Z"
    },
    "papermill": {
     "duration": 0.052794,
     "end_time": "2023-06-10T15:06:59.647195",
     "exception": false,
     "start_time": "2023-06-10T15:06:59.594401",
     "status": "completed"
    },
    "tags": []
   },
   "outputs": [
    {
     "data": {
      "text/plain": [
       "['\\n\\nWhat is economics, and how can you benefit from understanding basic economic concepts?\\n\\nCompare and contrast the world’s major economic systems. Why is capitalism growing, communism declining, and socialism still popular?\\n\\nWhat is the difference between macroeconomics and microeconomics?']"
      ]
     },
     "execution_count": 58,
     "metadata": {},
     "output_type": "execute_result"
    }
   ],
   "source": [
    "re.findall('\\n\\nConcept Check(.*?)\\n\\nA', text, re.DOTALL)"
   ]
  },
  {
   "cell_type": "code",
   "execution_count": 59,
   "id": "8696fe2e",
   "metadata": {
    "execution": {
     "iopub.execute_input": "2023-06-10T15:06:59.728571Z",
     "iopub.status.busy": "2023-06-10T15:06:59.728192Z",
     "iopub.status.idle": "2023-06-10T15:06:59.741518Z",
     "shell.execute_reply": "2023-06-10T15:06:59.739959Z"
    },
    "papermill": {
     "duration": 0.056746,
     "end_time": "2023-06-10T15:06:59.743850",
     "exception": false,
     "start_time": "2023-06-10T15:06:59.687104",
     "status": "completed"
    },
    "tags": []
   },
   "outputs": [],
   "source": [
    "def extract_introbiz(files, book):\n",
    "    rows = []\n",
    "    for file in files:\n",
    "        \n",
    "        text = docx2txt.process(file)\n",
    "        try:\n",
    "#             print(f\"have questions in: {file}\")\n",
    "            conceptchecks = re.findall('\\n\\nConcept Check(.*?)\\n\\nA', text, re.DOTALL)[0].split('\\n\\n')#before removing access because I need it to match\n",
    "        except:\n",
    "            conceptchecks = []\n",
    "#             print(f\"no questions in {file}\")\n",
    "        text = text.strip(access_for_free)\n",
    "        try:\n",
    "            end = re.search('\\n\\nConcept Check', text, re.DOTALL).start()\n",
    "            text = text[:end]\n",
    "        except:\n",
    "            print(f'no concept check in {file}')\n",
    "        filename = file.split('/')[-1]\n",
    "        section_title = re.sub(r\"\\.docx$\", \"\", filename)\n",
    "        chapter = filename.split('-')[0]\n",
    "        is_question = 'questions' in filename\n",
    "        if is_question:\n",
    "            pattern = r'\\n\\n(?:[A-Z].*?)\\n\\n(?:\\d|Access)'\n",
    "            qs = re.findall(pattern, text, re.DOTALL)\n",
    "            for q in qs:\n",
    "                row = get_question(q.strip('\\n\\n'),\n",
    "                                    chapter,\n",
    "                                    section_title,\n",
    "                                    book = book)\n",
    "                rows.append(row)\n",
    "        else:    \n",
    "            row = dict()\n",
    "            row['Book'] = book\n",
    "            row['Chapter'] = chapter\n",
    "            row['section_title'] = section_title\n",
    "            row['is_question'] = \"questions\" in filename\n",
    "            row['text'] = text\n",
    "            rows.append(row)\n",
    "            for cc in conceptchecks:\n",
    "                if len(cc) == 0:\n",
    "                    continue\n",
    "                row = dict()\n",
    "                row['Book'] = book\n",
    "                row['Chapter'] = chapter\n",
    "                row['section_title'] = section_title\n",
    "                row['is_question'] = True\n",
    "                row['text'] = cc\n",
    "                rows.append(row)\n",
    "    return rows"
   ]
  },
  {
   "cell_type": "code",
   "execution_count": 60,
   "id": "3e9fbf9b",
   "metadata": {
    "execution": {
     "iopub.execute_input": "2023-06-10T15:06:59.823961Z",
     "iopub.status.busy": "2023-06-10T15:06:59.823542Z",
     "iopub.status.idle": "2023-06-10T15:07:03.233446Z",
     "shell.execute_reply": "2023-06-10T15:07:03.232372Z"
    },
    "papermill": {
     "duration": 3.452655,
     "end_time": "2023-06-10T15:07:03.235922",
     "exception": false,
     "start_time": "2023-06-10T15:06:59.783267",
     "status": "completed"
    },
    "tags": []
   },
   "outputs": [
    {
     "name": "stdout",
     "output_type": "stream",
     "text": [
      "no concept check in /kaggle/input/newdataset/openstax/openstax/Introduction_to_Business_Docx-customizable/introduction-business/1-critical-thinking-case.docx\n",
      "no concept check in /kaggle/input/newdataset/openstax/openstax/Introduction_to_Business_Docx-customizable/introduction-business/1-ethics-activity.docx\n",
      "no concept check in /kaggle/input/newdataset/openstax/openstax/Introduction_to_Business_Docx-customizable/introduction-business/1-hot-links-address-book.docx\n",
      "no concept check in /kaggle/input/newdataset/openstax/openstax/Introduction_to_Business_Docx-customizable/introduction-business/1-introduction.docx\n",
      "no concept check in /kaggle/input/newdataset/openstax/openstax/Introduction_to_Business_Docx-customizable/introduction-business/1-key-terms.docx\n",
      "no concept check in /kaggle/input/newdataset/openstax/openstax/Introduction_to_Business_Docx-customizable/introduction-business/1-preparing-for-tomorrows-workplace-skills.docx\n",
      "no concept check in /kaggle/input/newdataset/openstax/openstax/Introduction_to_Business_Docx-customizable/introduction-business/1-summary-of-learning-outcomes.docx\n",
      "no concept check in /kaggle/input/newdataset/openstax/openstax/Introduction_to_Business_Docx-customizable/introduction-business/1-working-the-net.docx\n",
      "no concept check in /kaggle/input/newdataset/openstax/openstax/Introduction_to_Business_Docx-customizable/introduction-business/10-critical-thinking-case.docx\n",
      "no concept check in /kaggle/input/newdataset/openstax/openstax/Introduction_to_Business_Docx-customizable/introduction-business/10-ethics-activity.docx\n",
      "no concept check in /kaggle/input/newdataset/openstax/openstax/Introduction_to_Business_Docx-customizable/introduction-business/10-hot-links-address-book.docx\n",
      "no concept check in /kaggle/input/newdataset/openstax/openstax/Introduction_to_Business_Docx-customizable/introduction-business/10-introduction.docx\n",
      "no concept check in /kaggle/input/newdataset/openstax/openstax/Introduction_to_Business_Docx-customizable/introduction-business/10-key-terms.docx\n",
      "no concept check in /kaggle/input/newdataset/openstax/openstax/Introduction_to_Business_Docx-customizable/introduction-business/10-preparing-for-tomorrows-workplace-skills.docx\n",
      "no concept check in /kaggle/input/newdataset/openstax/openstax/Introduction_to_Business_Docx-customizable/introduction-business/10-summary-of-learning-outcomes.docx\n",
      "no concept check in /kaggle/input/newdataset/openstax/openstax/Introduction_to_Business_Docx-customizable/introduction-business/10-working-the-net.docx\n",
      "no concept check in /kaggle/input/newdataset/openstax/openstax/Introduction_to_Business_Docx-customizable/introduction-business/11-critical-thinking-case.docx\n",
      "no concept check in /kaggle/input/newdataset/openstax/openstax/Introduction_to_Business_Docx-customizable/introduction-business/11-ethics-activity.docx\n",
      "no concept check in /kaggle/input/newdataset/openstax/openstax/Introduction_to_Business_Docx-customizable/introduction-business/11-hot-links-address-book.docx\n",
      "no concept check in /kaggle/input/newdataset/openstax/openstax/Introduction_to_Business_Docx-customizable/introduction-business/11-introduction.docx\n",
      "no concept check in /kaggle/input/newdataset/openstax/openstax/Introduction_to_Business_Docx-customizable/introduction-business/11-key-terms.docx\n",
      "no concept check in /kaggle/input/newdataset/openstax/openstax/Introduction_to_Business_Docx-customizable/introduction-business/11-preparing-for-tomorrows-workplace-skills.docx\n",
      "no concept check in /kaggle/input/newdataset/openstax/openstax/Introduction_to_Business_Docx-customizable/introduction-business/11-summary-of-learning-outcomes.docx\n",
      "no concept check in /kaggle/input/newdataset/openstax/openstax/Introduction_to_Business_Docx-customizable/introduction-business/11-working-the-net.docx\n",
      "no concept check in /kaggle/input/newdataset/openstax/openstax/Introduction_to_Business_Docx-customizable/introduction-business/12-critical-thinking-case.docx\n",
      "no concept check in /kaggle/input/newdataset/openstax/openstax/Introduction_to_Business_Docx-customizable/introduction-business/12-ethics-activity.docx\n",
      "no concept check in /kaggle/input/newdataset/openstax/openstax/Introduction_to_Business_Docx-customizable/introduction-business/12-hot-links-address-book.docx\n",
      "no concept check in /kaggle/input/newdataset/openstax/openstax/Introduction_to_Business_Docx-customizable/introduction-business/12-introduction.docx\n",
      "no concept check in /kaggle/input/newdataset/openstax/openstax/Introduction_to_Business_Docx-customizable/introduction-business/12-key-terms.docx\n",
      "no concept check in /kaggle/input/newdataset/openstax/openstax/Introduction_to_Business_Docx-customizable/introduction-business/12-preparing-for-tomorrows-workplace-skills.docx\n",
      "no concept check in /kaggle/input/newdataset/openstax/openstax/Introduction_to_Business_Docx-customizable/introduction-business/12-summary-of-learning-outcomes.docx\n",
      "no concept check in /kaggle/input/newdataset/openstax/openstax/Introduction_to_Business_Docx-customizable/introduction-business/12-working-the-net.docx\n",
      "no concept check in /kaggle/input/newdataset/openstax/openstax/Introduction_to_Business_Docx-customizable/introduction-business/13-critical-thinking-case.docx\n",
      "no concept check in /kaggle/input/newdataset/openstax/openstax/Introduction_to_Business_Docx-customizable/introduction-business/13-ethics-activity.docx\n",
      "no concept check in /kaggle/input/newdataset/openstax/openstax/Introduction_to_Business_Docx-customizable/introduction-business/13-hot-links-address-book.docx\n",
      "no concept check in /kaggle/input/newdataset/openstax/openstax/Introduction_to_Business_Docx-customizable/introduction-business/13-introduction.docx\n",
      "no concept check in /kaggle/input/newdataset/openstax/openstax/Introduction_to_Business_Docx-customizable/introduction-business/13-key-terms.docx\n",
      "no concept check in /kaggle/input/newdataset/openstax/openstax/Introduction_to_Business_Docx-customizable/introduction-business/13-preparing-for-tomorrows-workplace-skills.docx\n",
      "no concept check in /kaggle/input/newdataset/openstax/openstax/Introduction_to_Business_Docx-customizable/introduction-business/13-summary-of-learning-outcomes.docx\n",
      "no concept check in /kaggle/input/newdataset/openstax/openstax/Introduction_to_Business_Docx-customizable/introduction-business/13-working-the-net.docx\n",
      "no concept check in /kaggle/input/newdataset/openstax/openstax/Introduction_to_Business_Docx-customizable/introduction-business/14-critical-thinking-case.docx\n",
      "no concept check in /kaggle/input/newdataset/openstax/openstax/Introduction_to_Business_Docx-customizable/introduction-business/14-ethics-activity.docx\n",
      "no concept check in /kaggle/input/newdataset/openstax/openstax/Introduction_to_Business_Docx-customizable/introduction-business/14-hot-links-address-book.docx\n",
      "no concept check in /kaggle/input/newdataset/openstax/openstax/Introduction_to_Business_Docx-customizable/introduction-business/14-introduction.docx\n",
      "no concept check in /kaggle/input/newdataset/openstax/openstax/Introduction_to_Business_Docx-customizable/introduction-business/14-key-terms.docx\n",
      "no concept check in /kaggle/input/newdataset/openstax/openstax/Introduction_to_Business_Docx-customizable/introduction-business/14-preparing-for-tomorrows-workplace-skills.docx\n",
      "no concept check in /kaggle/input/newdataset/openstax/openstax/Introduction_to_Business_Docx-customizable/introduction-business/14-summary-of-learning-outcomes.docx\n",
      "no concept check in /kaggle/input/newdataset/openstax/openstax/Introduction_to_Business_Docx-customizable/introduction-business/14-working-the-net.docx\n",
      "no concept check in /kaggle/input/newdataset/openstax/openstax/Introduction_to_Business_Docx-customizable/introduction-business/15-critical-thinking-case.docx\n",
      "no concept check in /kaggle/input/newdataset/openstax/openstax/Introduction_to_Business_Docx-customizable/introduction-business/15-ethics-activity.docx\n",
      "no concept check in /kaggle/input/newdataset/openstax/openstax/Introduction_to_Business_Docx-customizable/introduction-business/15-hot-links-address-book.docx\n",
      "no concept check in /kaggle/input/newdataset/openstax/openstax/Introduction_to_Business_Docx-customizable/introduction-business/15-introduction.docx\n",
      "no concept check in /kaggle/input/newdataset/openstax/openstax/Introduction_to_Business_Docx-customizable/introduction-business/15-key-terms.docx\n",
      "no concept check in /kaggle/input/newdataset/openstax/openstax/Introduction_to_Business_Docx-customizable/introduction-business/15-preparing-for-tomorrows-workplace-skills.docx\n",
      "no concept check in /kaggle/input/newdataset/openstax/openstax/Introduction_to_Business_Docx-customizable/introduction-business/15-summary-of-learning-outcomes.docx\n",
      "no concept check in /kaggle/input/newdataset/openstax/openstax/Introduction_to_Business_Docx-customizable/introduction-business/15-working-the-net.docx\n",
      "no concept check in /kaggle/input/newdataset/openstax/openstax/Introduction_to_Business_Docx-customizable/introduction-business/16-critical-thinking-case.docx\n",
      "no concept check in /kaggle/input/newdataset/openstax/openstax/Introduction_to_Business_Docx-customizable/introduction-business/16-ethics-activity.docx\n",
      "no concept check in /kaggle/input/newdataset/openstax/openstax/Introduction_to_Business_Docx-customizable/introduction-business/16-hot-links-address-book.docx\n",
      "no concept check in /kaggle/input/newdataset/openstax/openstax/Introduction_to_Business_Docx-customizable/introduction-business/16-introduction.docx\n",
      "no concept check in /kaggle/input/newdataset/openstax/openstax/Introduction_to_Business_Docx-customizable/introduction-business/16-key-terms.docx\n",
      "no concept check in /kaggle/input/newdataset/openstax/openstax/Introduction_to_Business_Docx-customizable/introduction-business/16-preparing-for-tomorrows-workplace-skills.docx\n",
      "no concept check in /kaggle/input/newdataset/openstax/openstax/Introduction_to_Business_Docx-customizable/introduction-business/16-summary-of-learning-outcomes.docx\n",
      "no concept check in /kaggle/input/newdataset/openstax/openstax/Introduction_to_Business_Docx-customizable/introduction-business/16-working-the-net.docx\n",
      "no concept check in /kaggle/input/newdataset/openstax/openstax/Introduction_to_Business_Docx-customizable/introduction-business/17-1-learn-the-basics-of-business.docx\n",
      "no concept check in /kaggle/input/newdataset/openstax/openstax/Introduction_to_Business_Docx-customizable/introduction-business/17-2-developing-interpersonal-skills-is-key-to-your-success.docx\n",
      "no concept check in /kaggle/input/newdataset/openstax/openstax/Introduction_to_Business_Docx-customizable/introduction-business/17-3-make-your-future-happen-learn-to-plan.docx\n",
      "no concept check in /kaggle/input/newdataset/openstax/openstax/Introduction_to_Business_Docx-customizable/introduction-business/17-4-going-to-college-is-an-opportunity-of-a-lifetime-never-drop-out.docx\n",
      "no concept check in /kaggle/input/newdataset/openstax/openstax/Introduction_to_Business_Docx-customizable/introduction-business/17-5-get-your-career-off-on-the-right-track.docx\n",
      "no concept check in /kaggle/input/newdataset/openstax/openstax/Introduction_to_Business_Docx-customizable/introduction-business/17-6-self-test-scoring-guidelines.docx\n",
      "no concept check in /kaggle/input/newdataset/openstax/openstax/Introduction_to_Business_Docx-customizable/introduction-business/17-introduction.docx\n",
      "no concept check in /kaggle/input/newdataset/openstax/openstax/Introduction_to_Business_Docx-customizable/introduction-business/2-critical-thinking-case.docx\n",
      "no concept check in /kaggle/input/newdataset/openstax/openstax/Introduction_to_Business_Docx-customizable/introduction-business/2-ethics-activity.docx\n",
      "no concept check in /kaggle/input/newdataset/openstax/openstax/Introduction_to_Business_Docx-customizable/introduction-business/2-hot-links-address-book.docx\n",
      "no concept check in /kaggle/input/newdataset/openstax/openstax/Introduction_to_Business_Docx-customizable/introduction-business/2-introduction.docx\n",
      "no concept check in /kaggle/input/newdataset/openstax/openstax/Introduction_to_Business_Docx-customizable/introduction-business/2-key-terms.docx\n",
      "no concept check in /kaggle/input/newdataset/openstax/openstax/Introduction_to_Business_Docx-customizable/introduction-business/2-preparing-for-tomorrows-workplace-skills.docx\n",
      "no concept check in /kaggle/input/newdataset/openstax/openstax/Introduction_to_Business_Docx-customizable/introduction-business/2-summary-of-learning-outcomes.docx\n",
      "no concept check in /kaggle/input/newdataset/openstax/openstax/Introduction_to_Business_Docx-customizable/introduction-business/2-working-the-net.docx\n",
      "no concept check in /kaggle/input/newdataset/openstax/openstax/Introduction_to_Business_Docx-customizable/introduction-business/3-critical-thinking-case.docx\n",
      "no concept check in /kaggle/input/newdataset/openstax/openstax/Introduction_to_Business_Docx-customizable/introduction-business/3-ethics-activity.docx\n",
      "no concept check in /kaggle/input/newdataset/openstax/openstax/Introduction_to_Business_Docx-customizable/introduction-business/3-hot-links-address-book.docx\n",
      "no concept check in /kaggle/input/newdataset/openstax/openstax/Introduction_to_Business_Docx-customizable/introduction-business/3-introduction.docx\n",
      "no concept check in /kaggle/input/newdataset/openstax/openstax/Introduction_to_Business_Docx-customizable/introduction-business/3-key-terms.docx\n",
      "no concept check in /kaggle/input/newdataset/openstax/openstax/Introduction_to_Business_Docx-customizable/introduction-business/3-preparing-for-tomorrows-workplace-skills.docx\n",
      "no concept check in /kaggle/input/newdataset/openstax/openstax/Introduction_to_Business_Docx-customizable/introduction-business/3-summary-of-learning-outcomes.docx\n",
      "no concept check in /kaggle/input/newdataset/openstax/openstax/Introduction_to_Business_Docx-customizable/introduction-business/3-working-the-net.docx\n",
      "no concept check in /kaggle/input/newdataset/openstax/openstax/Introduction_to_Business_Docx-customizable/introduction-business/4-critical-thinking-case.docx\n",
      "no concept check in /kaggle/input/newdataset/openstax/openstax/Introduction_to_Business_Docx-customizable/introduction-business/4-ethics-activity.docx\n",
      "no concept check in /kaggle/input/newdataset/openstax/openstax/Introduction_to_Business_Docx-customizable/introduction-business/4-hot-links-address-book.docx\n",
      "no concept check in /kaggle/input/newdataset/openstax/openstax/Introduction_to_Business_Docx-customizable/introduction-business/4-introduction.docx\n",
      "no concept check in /kaggle/input/newdataset/openstax/openstax/Introduction_to_Business_Docx-customizable/introduction-business/4-key-terms.docx\n",
      "no concept check in /kaggle/input/newdataset/openstax/openstax/Introduction_to_Business_Docx-customizable/introduction-business/4-preparing-for-tomorrows-workplace-skills.docx\n",
      "no concept check in /kaggle/input/newdataset/openstax/openstax/Introduction_to_Business_Docx-customizable/introduction-business/4-summary-of-learning-outcomes.docx\n",
      "no concept check in /kaggle/input/newdataset/openstax/openstax/Introduction_to_Business_Docx-customizable/introduction-business/4-working-the-net.docx\n",
      "no concept check in /kaggle/input/newdataset/openstax/openstax/Introduction_to_Business_Docx-customizable/introduction-business/5-critical-thinking-case.docx\n",
      "no concept check in /kaggle/input/newdataset/openstax/openstax/Introduction_to_Business_Docx-customizable/introduction-business/5-ethics-activity.docx\n",
      "no concept check in /kaggle/input/newdataset/openstax/openstax/Introduction_to_Business_Docx-customizable/introduction-business/5-hot-links-address-book.docx\n",
      "no concept check in /kaggle/input/newdataset/openstax/openstax/Introduction_to_Business_Docx-customizable/introduction-business/5-introduction.docx\n",
      "no concept check in /kaggle/input/newdataset/openstax/openstax/Introduction_to_Business_Docx-customizable/introduction-business/5-key-terms.docx\n",
      "no concept check in /kaggle/input/newdataset/openstax/openstax/Introduction_to_Business_Docx-customizable/introduction-business/5-preparing-for-tomorrows-workplace-skills.docx\n",
      "no concept check in /kaggle/input/newdataset/openstax/openstax/Introduction_to_Business_Docx-customizable/introduction-business/5-summary-of-learning-outcomes.docx\n",
      "no concept check in /kaggle/input/newdataset/openstax/openstax/Introduction_to_Business_Docx-customizable/introduction-business/5-working-the-net.docx\n",
      "no concept check in /kaggle/input/newdataset/openstax/openstax/Introduction_to_Business_Docx-customizable/introduction-business/6-critical-thinking-case.docx\n",
      "no concept check in /kaggle/input/newdataset/openstax/openstax/Introduction_to_Business_Docx-customizable/introduction-business/6-ethics-activity.docx\n",
      "no concept check in /kaggle/input/newdataset/openstax/openstax/Introduction_to_Business_Docx-customizable/introduction-business/6-hot-links-address-book.docx\n",
      "no concept check in /kaggle/input/newdataset/openstax/openstax/Introduction_to_Business_Docx-customizable/introduction-business/6-introduction.docx\n",
      "no concept check in /kaggle/input/newdataset/openstax/openstax/Introduction_to_Business_Docx-customizable/introduction-business/6-key-terms.docx\n",
      "no concept check in /kaggle/input/newdataset/openstax/openstax/Introduction_to_Business_Docx-customizable/introduction-business/6-preparing-for-tomorrows-workplace-skills.docx\n",
      "no concept check in /kaggle/input/newdataset/openstax/openstax/Introduction_to_Business_Docx-customizable/introduction-business/6-summary-of-learning-outcomes.docx\n",
      "no concept check in /kaggle/input/newdataset/openstax/openstax/Introduction_to_Business_Docx-customizable/introduction-business/6-working-the-net.docx\n",
      "no concept check in /kaggle/input/newdataset/openstax/openstax/Introduction_to_Business_Docx-customizable/introduction-business/7-critical-thinking-case.docx\n",
      "no concept check in /kaggle/input/newdataset/openstax/openstax/Introduction_to_Business_Docx-customizable/introduction-business/7-ethics-activity.docx\n",
      "no concept check in /kaggle/input/newdataset/openstax/openstax/Introduction_to_Business_Docx-customizable/introduction-business/7-hot-links-address-book.docx\n",
      "no concept check in /kaggle/input/newdataset/openstax/openstax/Introduction_to_Business_Docx-customizable/introduction-business/7-introduction.docx\n",
      "no concept check in /kaggle/input/newdataset/openstax/openstax/Introduction_to_Business_Docx-customizable/introduction-business/7-key-terms.docx\n",
      "no concept check in /kaggle/input/newdataset/openstax/openstax/Introduction_to_Business_Docx-customizable/introduction-business/7-preparing-for-tomorrows-workplace-skills.docx\n",
      "no concept check in /kaggle/input/newdataset/openstax/openstax/Introduction_to_Business_Docx-customizable/introduction-business/7-summary-of-learning-outcomes.docx\n",
      "no concept check in /kaggle/input/newdataset/openstax/openstax/Introduction_to_Business_Docx-customizable/introduction-business/7-working-the-net.docx\n",
      "no concept check in /kaggle/input/newdataset/openstax/openstax/Introduction_to_Business_Docx-customizable/introduction-business/8-critical-thinking-case.docx\n",
      "no concept check in /kaggle/input/newdataset/openstax/openstax/Introduction_to_Business_Docx-customizable/introduction-business/8-ethics-activity.docx\n",
      "no concept check in /kaggle/input/newdataset/openstax/openstax/Introduction_to_Business_Docx-customizable/introduction-business/8-hot-links-address-book.docx\n",
      "no concept check in /kaggle/input/newdataset/openstax/openstax/Introduction_to_Business_Docx-customizable/introduction-business/8-introduction.docx\n",
      "no concept check in /kaggle/input/newdataset/openstax/openstax/Introduction_to_Business_Docx-customizable/introduction-business/8-key-terms.docx\n",
      "no concept check in /kaggle/input/newdataset/openstax/openstax/Introduction_to_Business_Docx-customizable/introduction-business/8-preparing-for-tomorrows-workplace-skills.docx\n",
      "no concept check in /kaggle/input/newdataset/openstax/openstax/Introduction_to_Business_Docx-customizable/introduction-business/8-summary-of-learning-outcomes.docx\n",
      "no concept check in /kaggle/input/newdataset/openstax/openstax/Introduction_to_Business_Docx-customizable/introduction-business/8-working-the-net.docx\n",
      "no concept check in /kaggle/input/newdataset/openstax/openstax/Introduction_to_Business_Docx-customizable/introduction-business/9-critical-thinking-case.docx\n",
      "no concept check in /kaggle/input/newdataset/openstax/openstax/Introduction_to_Business_Docx-customizable/introduction-business/9-ethics-activity.docx\n",
      "no concept check in /kaggle/input/newdataset/openstax/openstax/Introduction_to_Business_Docx-customizable/introduction-business/9-hot-links-address-book.docx\n",
      "no concept check in /kaggle/input/newdataset/openstax/openstax/Introduction_to_Business_Docx-customizable/introduction-business/9-introduction.docx\n",
      "no concept check in /kaggle/input/newdataset/openstax/openstax/Introduction_to_Business_Docx-customizable/introduction-business/9-key-terms.docx\n",
      "no concept check in /kaggle/input/newdataset/openstax/openstax/Introduction_to_Business_Docx-customizable/introduction-business/9-preparing-for-tomorrows-workplace-skills.docx\n",
      "no concept check in /kaggle/input/newdataset/openstax/openstax/Introduction_to_Business_Docx-customizable/introduction-business/9-summary-of-learning-outcomes.docx\n",
      "no concept check in /kaggle/input/newdataset/openstax/openstax/Introduction_to_Business_Docx-customizable/introduction-business/9-working-the-net.docx\n",
      "no concept check in /kaggle/input/newdataset/openstax/openstax/Introduction_to_Business_Docx-customizable/introduction-business/a-understanding-the-legal-and-tax-environment.docx\n",
      "no concept check in /kaggle/input/newdataset/openstax/openstax/Introduction_to_Business_Docx-customizable/introduction-business/index.docx\n",
      "no concept check in /kaggle/input/newdataset/openstax/openstax/Introduction_to_Business_Docx-customizable/introduction-business/preface.docx\n",
      "no concept check in /kaggle/input/newdataset/openstax/openstax/Introduction_to_Business_Docx-customizable/introduction-business/references.docx\n",
      "Introduction to Business\n"
     ]
    }
   ],
   "source": [
    "pd.DataFrame(extract_introbiz(files, book)).to_parquet('intro2biz_tq.pq')\n",
    "print(book)"
   ]
  },
  {
   "cell_type": "markdown",
   "id": "41149637",
   "metadata": {
    "papermill": {
     "duration": 0.041364,
     "end_time": "2023-06-10T15:07:03.318801",
     "exception": false,
     "start_time": "2023-06-10T15:07:03.277437",
     "status": "completed"
    },
    "tags": []
   },
   "source": [
    "# Review Questions\n",
    "- this one is actually very nice, each section has review questions and they are ordered"
   ]
  },
  {
   "cell_type": "code",
   "execution_count": 61,
   "id": "7e14c020",
   "metadata": {
    "execution": {
     "iopub.execute_input": "2023-06-10T15:07:03.402777Z",
     "iopub.status.busy": "2023-06-10T15:07:03.402379Z",
     "iopub.status.idle": "2023-06-10T15:07:03.455736Z",
     "shell.execute_reply": "2023-06-10T15:07:03.454460Z"
    },
    "papermill": {
     "duration": 0.098311,
     "end_time": "2023-06-10T15:07:03.458580",
     "exception": false,
     "start_time": "2023-06-10T15:07:03.360269",
     "status": "completed"
    },
    "tags": []
   },
   "outputs": [
    {
     "data": {
      "text/plain": [
       "'Introduction to Business'"
      ]
     },
     "execution_count": 61,
     "metadata": {},
     "output_type": "execute_result"
    }
   ],
   "source": [
    "files = sorted(glob('/kaggle/input/newdataset/openstax/openstax/Introduction_to_Business_Review_Questions/Review Questions/*.docx'))\n",
    "text = docx2txt.process(files[3])\n",
    "# access_for_free = text[-605:] #copyright too\n",
    "# access_for_free\n",
    "book"
   ]
  },
  {
   "cell_type": "code",
   "execution_count": 62,
   "id": "50aee546",
   "metadata": {
    "execution": {
     "iopub.execute_input": "2023-06-10T15:07:03.544209Z",
     "iopub.status.busy": "2023-06-10T15:07:03.543116Z",
     "iopub.status.idle": "2023-06-10T15:07:03.552363Z",
     "shell.execute_reply": "2023-06-10T15:07:03.551040Z"
    },
    "papermill": {
     "duration": 0.054231,
     "end_time": "2023-06-10T15:07:03.554581",
     "exception": false,
     "start_time": "2023-06-10T15:07:03.500350",
     "status": "completed"
    },
    "tags": []
   },
   "outputs": [
    {
     "data": {
      "text/plain": [
       "'\\nTo answer a particular question, visit the respective chapter section reading in the OpenStax Introduction to Business textbook. Questions were derived from textbook content: https://openstax.org/details/books/introduction-business\\n\\n\\n\\nThis OpenStax ancillary resource is © Rice University under a CC BY 4.0 International license; it may be reproduced or modified but must be attributed to OpenStax, Rice University and any changes must be noted.\\n\\nFor more free, peer-reviewed, openly licensed resources visit OpenStax.org.'"
      ]
     },
     "execution_count": 62,
     "metadata": {},
     "output_type": "execute_result"
    }
   ],
   "source": [
    "start = re.search(\"\\nTo answer a particular question\", text).start()\n",
    "access_for_free = text[start:] #copyright too\n",
    "access_for_free"
   ]
  },
  {
   "cell_type": "code",
   "execution_count": 63,
   "id": "48188dab",
   "metadata": {
    "execution": {
     "iopub.execute_input": "2023-06-10T15:07:03.638077Z",
     "iopub.status.busy": "2023-06-10T15:07:03.637679Z",
     "iopub.status.idle": "2023-06-10T15:07:03.646229Z",
     "shell.execute_reply": "2023-06-10T15:07:03.644950Z"
    },
    "papermill": {
     "duration": 0.053202,
     "end_time": "2023-06-10T15:07:03.648567",
     "exception": false,
     "start_time": "2023-06-10T15:07:03.595365",
     "status": "completed"
    },
    "tags": []
   },
   "outputs": [
    {
     "data": {
      "text/plain": [
       "['7.1 Review Questions',\n",
       " '7.3 Review Questions',\n",
       " '7.4 Review Questions',\n",
       " '7.6 Review Questions',\n",
       " '7.7 Review Questions']"
      ]
     },
     "execution_count": 63,
     "metadata": {},
     "output_type": "execute_result"
    }
   ],
   "source": [
    "re.findall('[1-9]\\.[1-9] Review Questions', text) #word :-/"
   ]
  },
  {
   "cell_type": "code",
   "execution_count": 64,
   "id": "14f33f21",
   "metadata": {
    "execution": {
     "iopub.execute_input": "2023-06-10T15:07:03.732436Z",
     "iopub.status.busy": "2023-06-10T15:07:03.732062Z",
     "iopub.status.idle": "2023-06-10T15:07:03.742254Z",
     "shell.execute_reply": "2023-06-10T15:07:03.740694Z"
    },
    "papermill": {
     "duration": 0.055072,
     "end_time": "2023-06-10T15:07:03.745091",
     "exception": false,
     "start_time": "2023-06-10T15:07:03.690019",
     "status": "completed"
    },
    "tags": []
   },
   "outputs": [
    {
     "data": {
      "text/plain": [
       "['',\n",
       " 'Define the following terms',\n",
       " 'Organization',\n",
       " 'Division of Labor',\n",
       " 'Specialization',\n",
       " 'Departmentalization',\n",
       " 'Organizational Chart',\n",
       " 'What are the 3 organizing or structuring processes?',\n",
       " 'Which organizing process determines work activities and divides up tasks?',\n",
       " 'Which organizing process focuses on grouping jobs and employees?',\n",
       " 'What does delegation do?',\n",
       " 'What is an organization?',\n",
       " 'Division of Labor',\n",
       " 'What are traditional organization structures? ',\n",
       " 'What does departmentalization facilitate?',\n",
       " 'What is the purpose of an organizational chart?',\n",
       " 'What are the 5 basic types of departmentalization?',\n",
       " 'Which form of departmentalization is based on the primary functions performed within an organizational unit?',\n",
       " 'What type of organization might use functional departmentalization?',\n",
       " 'What is product departmentalization based on, and what types of organizations would this work well for?',\n",
       " 'What types of organizations would benefit from process departmentalization?',\n",
       " '',\n",
       " '',\n",
       " 'What types of consumer services might use customer departmentalization?',\n",
       " 'Why would an organization utilize geographic departmentalization?',\n",
       " 'How is line organization designed, and who has direct control over all activities?',\n",
       " 'What do line organizations do as they grow and become more complex?',\n",
       " 'What do staff positions provide in line-and-staff organizations? Where would you find these in an organization?',\n",
       " 'How does the staff position help the line position achieve the organization’s goals?',\n",
       " 'What areas are staff positions found in?\\n']"
      ]
     },
     "execution_count": 64,
     "metadata": {},
     "output_type": "execute_result"
    }
   ],
   "source": [
    "re.findall('Review Questions(.*?)\\n[1-9]', text, re.DOTALL)[0].split('\\n\\n')"
   ]
  },
  {
   "cell_type": "code",
   "execution_count": 65,
   "id": "e15965c7",
   "metadata": {
    "execution": {
     "iopub.execute_input": "2023-06-10T15:07:03.828853Z",
     "iopub.status.busy": "2023-06-10T15:07:03.828444Z",
     "iopub.status.idle": "2023-06-10T15:07:03.837526Z",
     "shell.execute_reply": "2023-06-10T15:07:03.835600Z"
    },
    "papermill": {
     "duration": 0.054524,
     "end_time": "2023-06-10T15:07:03.840734",
     "exception": false,
     "start_time": "2023-06-10T15:07:03.786210",
     "status": "completed"
    },
    "tags": []
   },
   "outputs": [
    {
     "data": {
      "text/plain": [
       "'12'"
      ]
     },
     "execution_count": 65,
     "metadata": {},
     "output_type": "execute_result"
    }
   ],
   "source": [
    "files[8].split('/')[-1].strip('.docx').split('Ch ')[-1]"
   ]
  },
  {
   "cell_type": "code",
   "execution_count": 66,
   "id": "8c9d5463",
   "metadata": {
    "execution": {
     "iopub.execute_input": "2023-06-10T15:07:03.927513Z",
     "iopub.status.busy": "2023-06-10T15:07:03.927122Z",
     "iopub.status.idle": "2023-06-10T15:07:03.936880Z",
     "shell.execute_reply": "2023-06-10T15:07:03.935247Z"
    },
    "papermill": {
     "duration": 0.056814,
     "end_time": "2023-06-10T15:07:03.939912",
     "exception": false,
     "start_time": "2023-06-10T15:07:03.883098",
     "status": "completed"
    },
    "tags": []
   },
   "outputs": [],
   "source": [
    "def extract_introbiz_questions(files, book):\n",
    "    rows = []\n",
    "#     book = 'Introduction to Business'\n",
    "    for file in files:\n",
    "        text = docx2txt.process(file)\n",
    "        start = re.search(\"\\nTo answer a particular question\", text).start()\n",
    "        access_for_free = text[start:] #here not all are the same\n",
    "        text = text.strip(access_for_free)\n",
    "        review_questions = re.findall('Review Questions(.*?)\\n[1-9]', text, re.DOTALL)\n",
    "        for i, qs in enumerate(review_questions):\n",
    "            filename = file.split('/')[-1]\n",
    "            section_title = re.sub(r\"\\.docx$\", \"\", filename)\n",
    "            chapter = section_title.split('Ch ')[-1]\n",
    "            for q in qs.split('\\n\\n'):\n",
    "                if len(q) == 0:\n",
    "                    continue\n",
    "                row = dict()\n",
    "                row['Book'] = book\n",
    "                row['Chapter'] = chapter\n",
    "                row['section_title'] = section_title\n",
    "                row['is_question'] = True\n",
    "                row['text'] = q\n",
    "#                 row['section'] = str(chapter).strip('0') + \".\" + str(i + 1)/\n",
    "                rows.append(row)\n",
    "    return rows"
   ]
  },
  {
   "cell_type": "code",
   "execution_count": 67,
   "id": "5c103bf1",
   "metadata": {
    "execution": {
     "iopub.execute_input": "2023-06-10T15:07:04.025307Z",
     "iopub.status.busy": "2023-06-10T15:07:04.024960Z",
     "iopub.status.idle": "2023-06-10T15:07:04.631489Z",
     "shell.execute_reply": "2023-06-10T15:07:04.629847Z"
    },
    "papermill": {
     "duration": 0.652938,
     "end_time": "2023-06-10T15:07:04.635543",
     "exception": false,
     "start_time": "2023-06-10T15:07:03.982605",
     "status": "completed"
    },
    "tags": []
   },
   "outputs": [],
   "source": [
    "pd.DataFrame(extract_introbiz_questions(files, book)).to_parquet('intro2biz_review_questions.pq')\n"
   ]
  },
  {
   "cell_type": "markdown",
   "id": "be9e3b95",
   "metadata": {
    "papermill": {
     "duration": 0.041022,
     "end_time": "2023-06-10T15:07:04.718139",
     "exception": false,
     "start_time": "2023-06-10T15:07:04.677117",
     "status": "completed"
    },
    "tags": []
   },
   "source": [
    "# Intro2Biz Testbank\n",
    "- this one even has a testbank\n"
   ]
  },
  {
   "cell_type": "code",
   "execution_count": 68,
   "id": "264b48f4",
   "metadata": {
    "execution": {
     "iopub.execute_input": "2023-06-10T15:07:04.802550Z",
     "iopub.status.busy": "2023-06-10T15:07:04.801131Z",
     "iopub.status.idle": "2023-06-10T15:07:04.809691Z",
     "shell.execute_reply": "2023-06-10T15:07:04.808175Z"
    },
    "papermill": {
     "duration": 0.052898,
     "end_time": "2023-06-10T15:07:04.812004",
     "exception": false,
     "start_time": "2023-06-10T15:07:04.759106",
     "status": "completed"
    },
    "tags": []
   },
   "outputs": [
    {
     "data": {
      "text/plain": [
       "'/kaggle/input/newdataset/openstax/openstax/Introduction_to_Business_Review_Questions/Review Questions/Introduction to Business Review Questions Ch 06.docx'"
      ]
     },
     "execution_count": 68,
     "metadata": {},
     "output_type": "execute_result"
    }
   ],
   "source": [
    "files[2]"
   ]
  },
  {
   "cell_type": "code",
   "execution_count": 69,
   "id": "a70121e8",
   "metadata": {
    "execution": {
     "iopub.execute_input": "2023-06-10T15:07:04.898541Z",
     "iopub.status.busy": "2023-06-10T15:07:04.898146Z",
     "iopub.status.idle": "2023-06-10T15:07:04.968245Z",
     "shell.execute_reply": "2023-06-10T15:07:04.966398Z"
    },
    "papermill": {
     "duration": 0.117943,
     "end_time": "2023-06-10T15:07:04.971538",
     "exception": false,
     "start_time": "2023-06-10T15:07:04.853595",
     "status": "completed"
    },
    "tags": []
   },
   "outputs": [],
   "source": [
    "files = sorted(glob('/kaggle/input/newdataset/openstax/openstax/IntroductiontoBusiness-Test_Bank/Test Bank/*.docx'))\n",
    "text = docx2txt.process(files[2])\n",
    "# text"
   ]
  },
  {
   "cell_type": "code",
   "execution_count": 70,
   "id": "39725b4e",
   "metadata": {
    "execution": {
     "iopub.execute_input": "2023-06-10T15:07:05.057507Z",
     "iopub.status.busy": "2023-06-10T15:07:05.057118Z",
     "iopub.status.idle": "2023-06-10T15:07:05.066328Z",
     "shell.execute_reply": "2023-06-10T15:07:05.064248Z"
    },
    "papermill": {
     "duration": 0.055353,
     "end_time": "2023-06-10T15:07:05.069208",
     "exception": false,
     "start_time": "2023-06-10T15:07:05.013855",
     "status": "completed"
    },
    "tags": []
   },
   "outputs": [
    {
     "data": {
      "text/plain": [
       "'/kaggle/input/newdataset/openstax/openstax/IntroductiontoBusiness-Test_Bank/Test Bank/IntroductiontoBusiness-TB-Ch02.docx'"
      ]
     },
     "execution_count": 70,
     "metadata": {},
     "output_type": "execute_result"
    }
   ],
   "source": [
    "files[2]"
   ]
  },
  {
   "cell_type": "code",
   "execution_count": 71,
   "id": "5afaae8e",
   "metadata": {
    "execution": {
     "iopub.execute_input": "2023-06-10T15:07:05.153440Z",
     "iopub.status.busy": "2023-06-10T15:07:05.153072Z",
     "iopub.status.idle": "2023-06-10T15:07:05.160898Z",
     "shell.execute_reply": "2023-06-10T15:07:05.159572Z"
    },
    "papermill": {
     "duration": 0.052325,
     "end_time": "2023-06-10T15:07:05.162903",
     "exception": false,
     "start_time": "2023-06-10T15:07:05.110578",
     "status": "completed"
    },
    "tags": []
   },
   "outputs": [],
   "source": [
    "def extract_biztb(files, book):\n",
    "    rows = []\n",
    "    for file in files:\n",
    "        filename = file.split('/')[-1].strip('.docx')\n",
    "        chapter = filename.split('-')[-1].strip('Ch')\n",
    "        text = docx2txt.process(file)\n",
    "        questions = re.findall('[1-9]\\.(.*)\\n', text)\n",
    "        for q in questions:\n",
    "            if 'OpenStax' in q:\n",
    "                continue\n",
    "            row = dict()\n",
    "            row['Book'] = book\n",
    "            row['Chapter'] = chapter\n",
    "            row['text'] = q\n",
    "            row['is_question'] = True\n",
    "            rows.append(row)\n",
    "    return rows"
   ]
  },
  {
   "cell_type": "code",
   "execution_count": 72,
   "id": "ee815ebd",
   "metadata": {
    "execution": {
     "iopub.execute_input": "2023-06-10T15:07:05.245109Z",
     "iopub.status.busy": "2023-06-10T15:07:05.244775Z",
     "iopub.status.idle": "2023-06-10T15:07:06.918630Z",
     "shell.execute_reply": "2023-06-10T15:07:06.916757Z"
    },
    "papermill": {
     "duration": 1.718244,
     "end_time": "2023-06-10T15:07:06.921509",
     "exception": false,
     "start_time": "2023-06-10T15:07:05.203265",
     "status": "completed"
    },
    "tags": []
   },
   "outputs": [],
   "source": [
    "pd.DataFrame(extract_biztb(files, book)).to_parquet('intro2biz_testbank.pq')"
   ]
  },
  {
   "cell_type": "code",
   "execution_count": 73,
   "id": "1ffd58eb",
   "metadata": {
    "execution": {
     "iopub.execute_input": "2023-06-10T15:07:07.006098Z",
     "iopub.status.busy": "2023-06-10T15:07:07.005696Z",
     "iopub.status.idle": "2023-06-10T15:07:08.663599Z",
     "shell.execute_reply": "2023-06-10T15:07:08.662884Z"
    },
    "papermill": {
     "duration": 1.703695,
     "end_time": "2023-06-10T15:07:08.666166",
     "exception": false,
     "start_time": "2023-06-10T15:07:06.962471",
     "status": "completed"
    },
    "tags": []
   },
   "outputs": [
    {
     "data": {
      "text/html": [
       "<div>\n",
       "<style scoped>\n",
       "    .dataframe tbody tr th:only-of-type {\n",
       "        vertical-align: middle;\n",
       "    }\n",
       "\n",
       "    .dataframe tbody tr th {\n",
       "        vertical-align: top;\n",
       "    }\n",
       "\n",
       "    .dataframe thead th {\n",
       "        text-align: right;\n",
       "    }\n",
       "</style>\n",
       "<table border=\"1\" class=\"dataframe\">\n",
       "  <thead>\n",
       "    <tr style=\"text-align: right;\">\n",
       "      <th></th>\n",
       "      <th>Book</th>\n",
       "      <th>Chapter</th>\n",
       "      <th>text</th>\n",
       "      <th>is_question</th>\n",
       "    </tr>\n",
       "  </thead>\n",
       "  <tbody>\n",
       "    <tr>\n",
       "      <th>720</th>\n",
       "      <td>Introduction to Business</td>\n",
       "      <td>06</td>\n",
       "      <td>An organization's _____ is its general purpos...</td>\n",
       "      <td>True</td>\n",
       "    </tr>\n",
       "    <tr>\n",
       "      <th>386</th>\n",
       "      <td>Introduction to Business</td>\n",
       "      <td>03</td>\n",
       "      <td>The World Bank's emphasis has recently shifte...</td>\n",
       "      <td>True</td>\n",
       "    </tr>\n",
       "    <tr>\n",
       "      <th>288</th>\n",
       "      <td>Introduction to Business</td>\n",
       "      <td>02</td>\n",
       "      <td>____ are the individuals or groups to whom a ...</td>\n",
       "      <td>True</td>\n",
       "    </tr>\n",
       "    <tr>\n",
       "      <th>1467</th>\n",
       "      <td>Introduction to Business</td>\n",
       "      <td>11</td>\n",
       "      <td>When compared to the consumer market, the bus...</td>\n",
       "      <td>True</td>\n",
       "    </tr>\n",
       "    <tr>\n",
       "      <th>214</th>\n",
       "      <td>Introduction to Business</td>\n",
       "      <td>02</td>\n",
       "      <td>Human rights include an individual’s right to...</td>\n",
       "      <td>True</td>\n",
       "    </tr>\n",
       "    <tr>\n",
       "      <th>736</th>\n",
       "      <td>Introduction to Business</td>\n",
       "      <td>06</td>\n",
       "      <td>The Austrian-company Wienerberger is the worl...</td>\n",
       "      <td>True</td>\n",
       "    </tr>\n",
       "    <tr>\n",
       "      <th>429</th>\n",
       "      <td>Introduction to Business</td>\n",
       "      <td>03</td>\n",
       "      <td>_____ is the sense of national consciousness ...</td>\n",
       "      <td>True</td>\n",
       "    </tr>\n",
       "    <tr>\n",
       "      <th>1</th>\n",
       "      <td>Introduction to Business</td>\n",
       "      <td>Preface</td>\n",
       "      <td>Lecture outline interspersed with lecture ti...</td>\n",
       "      <td>True</td>\n",
       "    </tr>\n",
       "    <tr>\n",
       "      <th>246</th>\n",
       "      <td>Introduction to Business</td>\n",
       "      <td>02</td>\n",
       "      <td>The _____ for the Music Teacher's National As...</td>\n",
       "      <td>True</td>\n",
       "    </tr>\n",
       "    <tr>\n",
       "      <th>909</th>\n",
       "      <td>Introduction to Business</td>\n",
       "      <td>07</td>\n",
       "      <td>As the CEO of Constellation Brands, the world...</td>\n",
       "      <td>True</td>\n",
       "    </tr>\n",
       "  </tbody>\n",
       "</table>\n",
       "</div>"
      ],
      "text/plain": [
       "                          Book  Chapter  \\\n",
       "720   Introduction to Business       06   \n",
       "386   Introduction to Business       03   \n",
       "288   Introduction to Business       02   \n",
       "1467  Introduction to Business       11   \n",
       "214   Introduction to Business       02   \n",
       "736   Introduction to Business       06   \n",
       "429   Introduction to Business       03   \n",
       "1     Introduction to Business  Preface   \n",
       "246   Introduction to Business       02   \n",
       "909   Introduction to Business       07   \n",
       "\n",
       "                                                   text  is_question  \n",
       "720    An organization's _____ is its general purpos...         True  \n",
       "386    The World Bank's emphasis has recently shifte...         True  \n",
       "288    ____ are the individuals or groups to whom a ...         True  \n",
       "1467   When compared to the consumer market, the bus...         True  \n",
       "214    Human rights include an individual’s right to...         True  \n",
       "736    The Austrian-company Wienerberger is the worl...         True  \n",
       "429    _____ is the sense of national consciousness ...         True  \n",
       "1       Lecture outline interspersed with lecture ti...         True  \n",
       "246    The _____ for the Music Teacher's National As...         True  \n",
       "909    As the CEO of Constellation Brands, the world...         True  "
      ]
     },
     "execution_count": 73,
     "metadata": {},
     "output_type": "execute_result"
    }
   ],
   "source": [
    "pd.DataFrame(extract_biztb(files, book)).sample(10)"
   ]
  },
  {
   "cell_type": "markdown",
   "id": "d4239fd2",
   "metadata": {
    "papermill": {
     "duration": 0.041824,
     "end_time": "2023-06-10T15:07:08.749580",
     "exception": false,
     "start_time": "2023-06-10T15:07:08.707756",
     "status": "completed"
    },
    "tags": []
   },
   "source": [
    "# Introduction to Business Statistics\n",
    "- Questions are directly in text, some are quantitative linked to tables. Unsure how to process this\n",
    "- Good Questions are in Homework and Instructor Solutions manual, however, would need clean the text first I presume"
   ]
  },
  {
   "cell_type": "code",
   "execution_count": 74,
   "id": "e98fcdfc",
   "metadata": {
    "execution": {
     "iopub.execute_input": "2023-06-10T15:07:08.834516Z",
     "iopub.status.busy": "2023-06-10T15:07:08.833195Z",
     "iopub.status.idle": "2023-06-10T15:07:08.924094Z",
     "shell.execute_reply": "2023-06-10T15:07:08.922198Z"
    },
    "papermill": {
     "duration": 0.136708,
     "end_time": "2023-06-10T15:07:08.927444",
     "exception": false,
     "start_time": "2023-06-10T15:07:08.790736",
     "status": "completed"
    },
    "tags": []
   },
   "outputs": [],
   "source": [
    "files = sorted(glob('/kaggle/input/newdataset/openstax/openstax/Introductory-Business-Statistics_Docx-customization/Introductory-Business-Statistics_Docx-customization/*.docx'))\n",
    "text = docx2txt.process(files[2])\n",
    "book = 'Business Statistics'"
   ]
  },
  {
   "cell_type": "code",
   "execution_count": 75,
   "id": "dcdd288b",
   "metadata": {
    "execution": {
     "iopub.execute_input": "2023-06-10T15:07:09.014071Z",
     "iopub.status.busy": "2023-06-10T15:07:09.013565Z",
     "iopub.status.idle": "2023-06-10T15:07:09.021967Z",
     "shell.execute_reply": "2023-06-10T15:07:09.020389Z"
    },
    "papermill": {
     "duration": 0.055088,
     "end_time": "2023-06-10T15:07:09.025090",
     "exception": false,
     "start_time": "2023-06-10T15:07:08.970002",
     "status": "completed"
    },
    "tags": []
   },
   "outputs": [],
   "source": [
    "def extract_biz_stats(files, book):\n",
    "    \n",
    "    rows = []\n",
    "    skip = ['homework', 'practice', 'references', 'solutions', 'key-terms', 'index', 'preface']\n",
    "    for file in files:\n",
    "        filename = file.split('/')[-1].strip('.docx')\n",
    "        if any([s for s in skip if s in filename]):\n",
    "            continue\n",
    "        else:\n",
    "            text = docx2txt.process(file)\n",
    "            start = re.search(\"\\n\\nAccess\", text).start()\n",
    "            text = text[:start]\n",
    "            chapter = filename.split('-')[0]\n",
    "            row = dict()\n",
    "            row['Book'] = book\n",
    "            row['Chapter'] = chapter\n",
    "            row['section_title'] = filename\n",
    "            row['text'] = text\n",
    "            row['is_question'] = False\n",
    "            rows.append(row)\n",
    "    return rows"
   ]
  },
  {
   "cell_type": "code",
   "execution_count": 76,
   "id": "a5f28193",
   "metadata": {
    "execution": {
     "iopub.execute_input": "2023-06-10T15:07:09.112929Z",
     "iopub.status.busy": "2023-06-10T15:07:09.112476Z",
     "iopub.status.idle": "2023-06-10T15:07:12.424975Z",
     "shell.execute_reply": "2023-06-10T15:07:12.422898Z"
    },
    "papermill": {
     "duration": 3.360076,
     "end_time": "2023-06-10T15:07:12.427971",
     "exception": false,
     "start_time": "2023-06-10T15:07:09.067895",
     "status": "completed"
    },
    "tags": []
   },
   "outputs": [
    {
     "data": {
      "text/html": [
       "<div>\n",
       "<style scoped>\n",
       "    .dataframe tbody tr th:only-of-type {\n",
       "        vertical-align: middle;\n",
       "    }\n",
       "\n",
       "    .dataframe tbody tr th {\n",
       "        vertical-align: top;\n",
       "    }\n",
       "\n",
       "    .dataframe thead th {\n",
       "        text-align: right;\n",
       "    }\n",
       "</style>\n",
       "<table border=\"1\" class=\"dataframe\">\n",
       "  <thead>\n",
       "    <tr style=\"text-align: right;\">\n",
       "      <th></th>\n",
       "      <th>Book</th>\n",
       "      <th>Chapter</th>\n",
       "      <th>section_title</th>\n",
       "      <th>text</th>\n",
       "      <th>is_question</th>\n",
       "    </tr>\n",
       "  </thead>\n",
       "  <tbody>\n",
       "    <tr>\n",
       "      <th>60</th>\n",
       "      <td>Business Statistics</td>\n",
       "      <td>4</td>\n",
       "      <td>4-4-poisson-distribution</td>\n",
       "      <td>4.4   Poisson Distribution\\n\\nAnother useful p...</td>\n",
       "      <td>False</td>\n",
       "    </tr>\n",
       "    <tr>\n",
       "      <th>98</th>\n",
       "      <td>Business Statistics</td>\n",
       "      <td>b</td>\n",
       "      <td>b-mathematical-phrases-symbols-and-formulas</td>\n",
       "      <td>Appendix  B   Mathematical Phrases, Symbols, a...</td>\n",
       "      <td>False</td>\n",
       "    </tr>\n",
       "    <tr>\n",
       "      <th>41</th>\n",
       "      <td>Business Statistics</td>\n",
       "      <td>2</td>\n",
       "      <td>2-3-measures-of-the-center-of-the-data</td>\n",
       "      <td>2.3   Measures of the Center of the Data\\n\\nTh...</td>\n",
       "      <td>False</td>\n",
       "    </tr>\n",
       "    <tr>\n",
       "      <th>18</th>\n",
       "      <td>Business Statistics</td>\n",
       "      <td>11</td>\n",
       "      <td>11-5-test-for-homogeneity</td>\n",
       "      <td>11.5   Test for Homogeneity\\n\\nThe goodness–of...</td>\n",
       "      <td>False</td>\n",
       "    </tr>\n",
       "    <tr>\n",
       "      <th>27</th>\n",
       "      <td>Business Statistics</td>\n",
       "      <td>12</td>\n",
       "      <td>12-chapter-review</td>\n",
       "      <td>Chapter Review\\n\\n\\n\\n12.1   Test of Two Varia...</td>\n",
       "      <td>False</td>\n",
       "    </tr>\n",
       "    <tr>\n",
       "      <th>33</th>\n",
       "      <td>Business Statistics</td>\n",
       "      <td>13</td>\n",
       "      <td>13-4-the-regression-equation</td>\n",
       "      <td>13.4   The Regression Equation\\n\\nRegression a...</td>\n",
       "      <td>False</td>\n",
       "    </tr>\n",
       "    <tr>\n",
       "      <th>7</th>\n",
       "      <td>Business Statistics</td>\n",
       "      <td>10</td>\n",
       "      <td>10-3-test-for-differences-in-means-assuming-eq...</td>\n",
       "      <td>10.3   Test for Differences in Means: Assuming...</td>\n",
       "      <td>False</td>\n",
       "    </tr>\n",
       "    <tr>\n",
       "      <th>3</th>\n",
       "      <td>Business Statistics</td>\n",
       "      <td>1</td>\n",
       "      <td>1-chapter-review</td>\n",
       "      <td>Chapter Review\\n\\n\\n\\n1.1   Definitions of Sta...</td>\n",
       "      <td>False</td>\n",
       "    </tr>\n",
       "    <tr>\n",
       "      <th>25</th>\n",
       "      <td>Business Statistics</td>\n",
       "      <td>12</td>\n",
       "      <td>12-3-the-f-distribution-and-the-f-rati</td>\n",
       "      <td>12.3   The F Distribution and the F-Ratio\\n\\nT...</td>\n",
       "      <td>False</td>\n",
       "    </tr>\n",
       "    <tr>\n",
       "      <th>86</th>\n",
       "      <td>Business Statistics</td>\n",
       "      <td>8</td>\n",
       "      <td>8-4-calculating-the-sample-size-n-continuous-a...</td>\n",
       "      <td>8.4   Calculating the Sample Size n: Continuou...</td>\n",
       "      <td>False</td>\n",
       "    </tr>\n",
       "  </tbody>\n",
       "</table>\n",
       "</div>"
      ],
      "text/plain": [
       "                   Book Chapter  \\\n",
       "60  Business Statistics       4   \n",
       "98  Business Statistics       b   \n",
       "41  Business Statistics       2   \n",
       "18  Business Statistics      11   \n",
       "27  Business Statistics      12   \n",
       "33  Business Statistics      13   \n",
       "7   Business Statistics      10   \n",
       "3   Business Statistics       1   \n",
       "25  Business Statistics      12   \n",
       "86  Business Statistics       8   \n",
       "\n",
       "                                        section_title  \\\n",
       "60                           4-4-poisson-distribution   \n",
       "98        b-mathematical-phrases-symbols-and-formulas   \n",
       "41             2-3-measures-of-the-center-of-the-data   \n",
       "18                          11-5-test-for-homogeneity   \n",
       "27                                  12-chapter-review   \n",
       "33                       13-4-the-regression-equation   \n",
       "7   10-3-test-for-differences-in-means-assuming-eq...   \n",
       "3                                    1-chapter-review   \n",
       "25             12-3-the-f-distribution-and-the-f-rati   \n",
       "86  8-4-calculating-the-sample-size-n-continuous-a...   \n",
       "\n",
       "                                                 text  is_question  \n",
       "60  4.4   Poisson Distribution\\n\\nAnother useful p...        False  \n",
       "98  Appendix  B   Mathematical Phrases, Symbols, a...        False  \n",
       "41  2.3   Measures of the Center of the Data\\n\\nTh...        False  \n",
       "18  11.5   Test for Homogeneity\\n\\nThe goodness–of...        False  \n",
       "27  Chapter Review\\n\\n\\n\\n12.1   Test of Two Varia...        False  \n",
       "33  13.4   The Regression Equation\\n\\nRegression a...        False  \n",
       "7   10.3   Test for Differences in Means: Assuming...        False  \n",
       "3   Chapter Review\\n\\n\\n\\n1.1   Definitions of Sta...        False  \n",
       "25  12.3   The F Distribution and the F-Ratio\\n\\nT...        False  \n",
       "86  8.4   Calculating the Sample Size n: Continuou...        False  "
      ]
     },
     "execution_count": 76,
     "metadata": {},
     "output_type": "execute_result"
    }
   ],
   "source": [
    "pd.DataFrame(extract_biz_stats(files, book)).to_parquet('bizstatistics_texts.pq')\n",
    "pd.DataFrame(extract_biz_stats(files, book)).sample(10)"
   ]
  },
  {
   "cell_type": "markdown",
   "id": "7e3c321d",
   "metadata": {
    "papermill": {
     "duration": 0.043042,
     "end_time": "2023-06-10T15:07:12.512584",
     "exception": false,
     "start_time": "2023-06-10T15:07:12.469542",
     "status": "completed"
    },
    "tags": []
   },
   "source": [
    "# Biz Stats Instructor Answers Guide\n",
    "- Basically all Question and Answer pairs\n",
    "- very well organized\n",
    "- Chapter 12 has empty exercises (also in files) it's probably incomplete, should remove\n"
   ]
  },
  {
   "cell_type": "code",
   "execution_count": 77,
   "id": "ce7692e8",
   "metadata": {
    "execution": {
     "iopub.execute_input": "2023-06-10T15:07:12.598356Z",
     "iopub.status.busy": "2023-06-10T15:07:12.597932Z",
     "iopub.status.idle": "2023-06-10T15:07:13.107673Z",
     "shell.execute_reply": "2023-06-10T15:07:13.105808Z"
    },
    "papermill": {
     "duration": 0.555852,
     "end_time": "2023-06-10T15:07:13.111207",
     "exception": false,
     "start_time": "2023-06-10T15:07:12.555355",
     "status": "completed"
    },
    "tags": []
   },
   "outputs": [],
   "source": [
    "files = sorted(glob('/kaggle/input/newdataset/openstax/openstax/Introductory_Business_Statistics_Instructor_Answer_Guide_WCI1hPS/Introductory Business Statistics Instructor Answer Guide/*.docx'))\n",
    "text = docx2txt.process(files[2])\n",
    "# text"
   ]
  },
  {
   "cell_type": "code",
   "execution_count": 78,
   "id": "94f9e9d6",
   "metadata": {
    "execution": {
     "iopub.execute_input": "2023-06-10T15:07:13.198728Z",
     "iopub.status.busy": "2023-06-10T15:07:13.198289Z",
     "iopub.status.idle": "2023-06-10T15:07:13.207073Z",
     "shell.execute_reply": "2023-06-10T15:07:13.205615Z"
    },
    "papermill": {
     "duration": 0.056041,
     "end_time": "2023-06-10T15:07:13.209955",
     "exception": false,
     "start_time": "2023-06-10T15:07:13.153914",
     "status": "completed"
    },
    "tags": []
   },
   "outputs": [
    {
     "data": {
      "text/plain": [
       "81780"
      ]
     },
     "execution_count": 78,
     "metadata": {},
     "output_type": "execute_result"
    }
   ],
   "source": [
    "re.search(\"\\nCopyright\", text).start()"
   ]
  },
  {
   "cell_type": "code",
   "execution_count": 79,
   "id": "417cd309",
   "metadata": {
    "execution": {
     "iopub.execute_input": "2023-06-10T15:07:13.297503Z",
     "iopub.status.busy": "2023-06-10T15:07:13.296625Z",
     "iopub.status.idle": "2023-06-10T15:07:13.304113Z",
     "shell.execute_reply": "2023-06-10T15:07:13.302619Z"
    },
    "papermill": {
     "duration": 0.054152,
     "end_time": "2023-06-10T15:07:13.307212",
     "exception": false,
     "start_time": "2023-06-10T15:07:13.253060",
     "status": "completed"
    },
    "tags": []
   },
   "outputs": [
    {
     "data": {
      "text/plain": [
       "'01'"
      ]
     },
     "execution_count": 79,
     "metadata": {},
     "output_type": "execute_result"
    }
   ],
   "source": [
    "files[0].split('/')[-1].strip('.docx').split('-')[-1].strip('Ch')"
   ]
  },
  {
   "cell_type": "code",
   "execution_count": 80,
   "id": "57607c46",
   "metadata": {
    "execution": {
     "iopub.execute_input": "2023-06-10T15:07:13.394226Z",
     "iopub.status.busy": "2023-06-10T15:07:13.393521Z",
     "iopub.status.idle": "2023-06-10T15:07:13.401663Z",
     "shell.execute_reply": "2023-06-10T15:07:13.400523Z"
    },
    "papermill": {
     "duration": 0.054791,
     "end_time": "2023-06-10T15:07:13.404366",
     "exception": false,
     "start_time": "2023-06-10T15:07:13.349575",
     "status": "completed"
    },
    "tags": []
   },
   "outputs": [
    {
     "data": {
      "text/plain": [
       "'.\\n\\nA box is filled with several party favors. It contains 12 hats, 15 noisemakers, ten finger traps, and five bags of confetti. One party favor is chosen from the box at random.\\n\\nLet H = the event of getting a hat.\\n\\nLet N = the event of getting a noisemaker.\\n\\nLet F = the event of getting a finger trap.\\n\\nLet C = the event of getting a bag of confetti.\\n\\nFind P(H).'"
      ]
     },
     "execution_count": 80,
     "metadata": {},
     "output_type": "execute_result"
    }
   ],
   "source": [
    "re.findall('Exercise [1-9](.*?)\\n\\nSolution', text, re.DOTALL)[1]"
   ]
  },
  {
   "cell_type": "code",
   "execution_count": 81,
   "id": "1a3bfb40",
   "metadata": {
    "execution": {
     "iopub.execute_input": "2023-06-10T15:07:13.491280Z",
     "iopub.status.busy": "2023-06-10T15:07:13.490141Z",
     "iopub.status.idle": "2023-06-10T15:07:13.499537Z",
     "shell.execute_reply": "2023-06-10T15:07:13.497853Z"
    },
    "papermill": {
     "duration": 0.056562,
     "end_time": "2023-06-10T15:07:13.502504",
     "exception": false,
     "start_time": "2023-06-10T15:07:13.445942",
     "status": "completed"
    },
    "tags": []
   },
   "outputs": [],
   "source": [
    "def extract_bizstats_questions(files, book):\n",
    "    print(f\"book: {book}\")\n",
    "    rows = []\n",
    "#     book = 'Business Statistics'\n",
    "    for file in files:\n",
    "        filename = file.split('/')[-1].strip('.docx')\n",
    "        text = docx2txt.process(file)\n",
    "        try:\n",
    "            start = re.search(\"\\nCopyright\", text).start()\n",
    "            text = text[:start]\n",
    "        except:\n",
    "            text = text\n",
    "        chapter = filename.split('-')[-1].strip('Ch')\n",
    "        questions = re.findall('Exercise [1-9](.*?)\\n\\nSolution', text, re.DOTALL)\n",
    "        for q in questions:\n",
    "            row = dict()\n",
    "            row['Book'] = book\n",
    "            row['Chapter'] = chapter\n",
    "            row['section_title'] = filename\n",
    "            row['text'] = q\n",
    "            row['is_question'] = True\n",
    "            rows.append(row)\n",
    "    return rows"
   ]
  },
  {
   "cell_type": "code",
   "execution_count": 82,
   "id": "9f6b6594",
   "metadata": {
    "execution": {
     "iopub.execute_input": "2023-06-10T15:07:13.589131Z",
     "iopub.status.busy": "2023-06-10T15:07:13.587923Z",
     "iopub.status.idle": "2023-06-10T15:07:16.447741Z",
     "shell.execute_reply": "2023-06-10T15:07:16.446226Z"
    },
    "papermill": {
     "duration": 2.906365,
     "end_time": "2023-06-10T15:07:16.450492",
     "exception": false,
     "start_time": "2023-06-10T15:07:13.544127",
     "status": "completed"
    },
    "tags": []
   },
   "outputs": [
    {
     "name": "stdout",
     "output_type": "stream",
     "text": [
      "book: Business Statistics\n"
     ]
    }
   ],
   "source": [
    "pd.DataFrame(extract_bizstats_questions(files, book)).to_parquet('bizstats_questions.pq')"
   ]
  },
  {
   "cell_type": "markdown",
   "id": "74d18310",
   "metadata": {
    "papermill": {
     "duration": 0.041775,
     "end_time": "2023-06-10T15:07:16.535247",
     "exception": false,
     "start_time": "2023-06-10T15:07:16.493472",
     "status": "completed"
    },
    "tags": []
   },
   "source": [
    "# Organizational Behaviour\n",
    "- has one file with questions for each chapter \"review questions\"\n",
    "- has one \"critical thinking case\" for each chapter, with a case study and questions, (is the whole file a question or should split?)\n",
    "- some chapers have \"managerial decision exercises\" and \"managerial skills application exercises\" which are exercises and questions\n",
    "- every section has a \"concept check\" with 2 questions"
   ]
  },
  {
   "cell_type": "code",
   "execution_count": 83,
   "id": "b297b220",
   "metadata": {
    "execution": {
     "iopub.execute_input": "2023-06-10T15:07:16.622674Z",
     "iopub.status.busy": "2023-06-10T15:07:16.622256Z",
     "iopub.status.idle": "2023-06-10T15:07:16.629542Z",
     "shell.execute_reply": "2023-06-10T15:07:16.628605Z"
    },
    "papermill": {
     "duration": 0.05354,
     "end_time": "2023-06-10T15:07:16.631533",
     "exception": false,
     "start_time": "2023-06-10T15:07:16.577993",
     "status": "completed"
    },
    "tags": []
   },
   "outputs": [
    {
     "data": {
      "text/plain": [
       "'/kaggle/input/newdataset/openstax/openstax/Introductory_Business_Statistics_Instructor_Answer_Guide_WCI1hPS/Introductory Business Statistics Instructor Answer Guide/BusinessStatistics-IAG-Ch06.docx'"
      ]
     },
     "execution_count": 83,
     "metadata": {},
     "output_type": "execute_result"
    }
   ],
   "source": [
    "files[5]"
   ]
  },
  {
   "cell_type": "code",
   "execution_count": 84,
   "id": "06f3b70b",
   "metadata": {
    "execution": {
     "iopub.execute_input": "2023-06-10T15:07:16.717106Z",
     "iopub.status.busy": "2023-06-10T15:07:16.716704Z",
     "iopub.status.idle": "2023-06-10T15:07:16.825777Z",
     "shell.execute_reply": "2023-06-10T15:07:16.824274Z"
    },
    "papermill": {
     "duration": 0.15504,
     "end_time": "2023-06-10T15:07:16.828445",
     "exception": false,
     "start_time": "2023-06-10T15:07:16.673405",
     "status": "completed"
    },
    "tags": []
   },
   "outputs": [],
   "source": [
    "files = sorted(glob('/kaggle/input/newdataset/openstax/openstax/organizational-behavior/organizational-behavior/*.docx'))\n",
    "text = docx2txt.process(files[5])\n",
    "# text"
   ]
  },
  {
   "cell_type": "code",
   "execution_count": 85,
   "id": "d99e6aed",
   "metadata": {
    "execution": {
     "iopub.execute_input": "2023-06-10T15:07:16.914243Z",
     "iopub.status.busy": "2023-06-10T15:07:16.913792Z",
     "iopub.status.idle": "2023-06-10T15:07:16.921356Z",
     "shell.execute_reply": "2023-06-10T15:07:16.919163Z"
    },
    "papermill": {
     "duration": 0.054426,
     "end_time": "2023-06-10T15:07:16.924609",
     "exception": false,
     "start_time": "2023-06-10T15:07:16.870183",
     "status": "completed"
    },
    "tags": []
   },
   "outputs": [],
   "source": [
    "cq = re.findall('Critical Thinking Case\\n\\n(.*?)$', text, re.DOTALL)[0]\n",
    "# qs = re.findall('*?Questions\\n\\n(.*?)$', cq, re.DOTALL)#[0].split('\\n\\n')\n",
    "# cq"
   ]
  },
  {
   "cell_type": "code",
   "execution_count": 86,
   "id": "09bc1228",
   "metadata": {
    "execution": {
     "iopub.execute_input": "2023-06-10T15:07:17.009080Z",
     "iopub.status.busy": "2023-06-10T15:07:17.008601Z",
     "iopub.status.idle": "2023-06-10T15:07:17.017479Z",
     "shell.execute_reply": "2023-06-10T15:07:17.015461Z"
    },
    "papermill": {
     "duration": 0.054044,
     "end_time": "2023-06-10T15:07:17.019911",
     "exception": false,
     "start_time": "2023-06-10T15:07:16.965867",
     "status": "completed"
    },
    "tags": []
   },
   "outputs": [
    {
     "data": {
      "text/plain": [
       "['',\n",
       " 'How has the current cultural environment of our country shaped the way that companies are looking at their own corporate cultural standards?',\n",
       " 'What are the potential downfalls and positive influences of the “Netflix way”?',\n",
       " 'How does Netflix’s internal culture negatively or positively affect their ability to stay competitive and deliver cutting-edge content?',\n",
       " 'Sources: B. Stelter, “The Weinstein Effect: Harvey Weinstein scandal sparks movements in Hollywood and beyond,” CNN Business, October 20, 2017, https://money.cnn.com/2017/10/20/media/weinstein-effect-harvey-weinstein/; L. Hertzler, “Talking #MeToo, one year after bombshell Weinstein allegations,” Penn Today, October 30, 2018, https://penntoday.upenn.edu/news/talking-me-too-one-year-later; S. Ramachandaran and J. Flint, “At Netflix, Radical Transparency and Blunt Firings Unsettle the Ranks,” Wall Street Journal, October 25, 2018, https://www.wsj.com/articles/at-netflix-radical-transparency-and-blunt-firings-unsettle-the-ranks-1540497174.',\n",
       " 'Access for free at https://openstax.org']"
      ]
     },
     "execution_count": 86,
     "metadata": {},
     "output_type": "execute_result"
    }
   ],
   "source": [
    "cq[re.search('\\nQuestions:', cq, re.DOTALL).end():].split('\\n\\n')"
   ]
  },
  {
   "cell_type": "code",
   "execution_count": 87,
   "id": "adce3a77",
   "metadata": {
    "execution": {
     "iopub.execute_input": "2023-06-10T15:07:17.107836Z",
     "iopub.status.busy": "2023-06-10T15:07:17.107427Z",
     "iopub.status.idle": "2023-06-10T15:07:17.111894Z",
     "shell.execute_reply": "2023-06-10T15:07:17.110912Z"
    },
    "papermill": {
     "duration": 0.051941,
     "end_time": "2023-06-10T15:07:17.113869",
     "exception": false,
     "start_time": "2023-06-10T15:07:17.061928",
     "status": "completed"
    },
    "tags": []
   },
   "outputs": [],
   "source": [
    "# re.findall('Review Questions\\n\\n(.*?)$', text, re.DOTALL)[0].split('\\n\\n')\n",
    "# # re.findall('\\n\\n.*Questions\\n\\n(.*?)$', cq, re.DOTALL)[0].split('\\n\\n')\n",
    "BOOK = 'Organizational Behaviour'"
   ]
  },
  {
   "cell_type": "code",
   "execution_count": 88,
   "id": "cd16f39c",
   "metadata": {
    "execution": {
     "iopub.execute_input": "2023-06-10T15:07:17.200926Z",
     "iopub.status.busy": "2023-06-10T15:07:17.200424Z",
     "iopub.status.idle": "2023-06-10T15:07:17.225006Z",
     "shell.execute_reply": "2023-06-10T15:07:17.223458Z"
    },
    "papermill": {
     "duration": 0.071849,
     "end_time": "2023-06-10T15:07:17.228073",
     "exception": false,
     "start_time": "2023-06-10T15:07:17.156224",
     "status": "completed"
    },
    "tags": []
   },
   "outputs": [],
   "source": [
    "question_files = ['critical-thinking-case', 'questions', 'exercises']\n",
    "def extract_ob_tq(files, BOOK):\n",
    "    print(f\"book: {BOOK}\")\n",
    "    rows = []\n",
    "    for file in files:\n",
    "        row = dict()\n",
    "        text = docx2txt.process(file)\n",
    "        try:\n",
    "            start = re.search(\"\\nAccess for free\", text).start()\n",
    "            text = text[:start]\n",
    "        except:\n",
    "            text = text\n",
    "        filename = file.split('/')[-1]\n",
    "        section_title = re.sub(r\"\\.docx$\", \"\", filename)\n",
    "        chapter = filename.split('-')[0]\n",
    "        is_question = any(q for q in question_files if q in file)\n",
    "        if is_question:\n",
    "            if 'exercises' in filename and 'managerial' in filename:\n",
    "                qs = re.findall('Managerial Decision Exercises\\n(.*?)$', text, re.DOTALL)[0].split('\\n\\n')\n",
    "                for q in qs:\n",
    "                    row = dict()\n",
    "                    row['Book'] = BOOK\n",
    "                    row['Chapter'] = chapter\n",
    "                    row['section_title'] = section_title\n",
    "                    row['is_question'] = True\n",
    "                    row['text'] = q.strip('\\n\\n').strip('\\n')\n",
    "                    rows.append(row)\n",
    "            elif 'exercises' in filename and 'skills' in filename:\n",
    "                qs = re.findall('Management Skills Application Exercises\\n(.*?)$', text, re.DOTALL)[0].split('\\n\\n')\n",
    "                for q in qs:\n",
    "                    row = dict()\n",
    "                    row['Book'] = BOOK\n",
    "                    row['Chapter'] = chapter\n",
    "                    row['section_title'] = section_title\n",
    "                    row['is_question'] = True\n",
    "                    row['text'] = q.strip('\\n\\n').strip('\\n')\n",
    "                    rows.append(row)\n",
    "            elif 'critical-thinking-case' in filename:\n",
    "                try:\n",
    "                    cq = re.findall('Critical Thinking Case\\n\\n(.*?)$', text, re.DOTALL)[0]\n",
    "                    qs = re.findall('\\n\\n.*Questions\\n\\n(.*?)$', cq, re.DOTALL)[0].split('\\n\\n')\n",
    "#                     print(f\"success:{qs} \\n\\n {cq} \\n\\n\")\n",
    "                except:\n",
    "                    start = re.search('Questions:', cq).end()\n",
    "                    end = re.search('Sources:', cq).start()\n",
    "                    qs = cq[start:end].split('\\n\\n')\n",
    "#                     print(f\"Critical Thinking: {filename}\")\n",
    "                for q in qs:\n",
    "                    row = dict()\n",
    "                    row['Book'] = BOOK\n",
    "                    if len(q) == 0:\n",
    "                        continue\n",
    "                    row['Chapter'] = chapter\n",
    "                    row['section_title'] = section_title\n",
    "                    row['is_question'] = True\n",
    "                    row['text'] = q.strip('\\n\\n').strip('\\n')\n",
    "                    rows.append(row)\n",
    "                row = dict()\n",
    "                row['Book'] = BOOK\n",
    "                row['Chapter'] = chapter\n",
    "                row['section_title'] = section_title\n",
    "                row['is_question'] = False\n",
    "                row['text'] = q.strip('\\n\\n').strip('\\n')\n",
    "                rows.append(row)\n",
    "            # Last case review Questions\n",
    "            elif 'questions' in filename:\n",
    "                qs = re.findall('Review Questions\\n\\n(.*?)$', text, re.DOTALL)[0].split('\\n\\n')\n",
    "                for q in qs:\n",
    "                    row = dict()\n",
    "                    row['Book'] = BOOK\n",
    "                    row['Chapter'] = chapter\n",
    "                    row['section_title'] = section_title\n",
    "                    row['is_question'] = True\n",
    "                    row['text'] = q.strip('\\n\\n').strip('\\n')\n",
    "                    rows.append(row)\n",
    "            else:\n",
    "                print(f\"this file is missing: {filename}\")\n",
    "                continue\n",
    "        else:\n",
    "#             concepts = re.findall('Concept Check\\n\\n.*?$', text, re.DOTALL)[0].split('\\n\\n')[1:]\n",
    "            try:\n",
    "                start = re.search(\"\\nConcept Check\", text).start()\n",
    "                concepts = text[start:].split('\\n\\n')[1:]\n",
    "                text = text[:start]\n",
    "            except:\n",
    "                concepts = []\n",
    "            for concept in concepts:\n",
    "                row = dict()\n",
    "                row['Book'] = BOOK\n",
    "                row['Chapter'] = chapter\n",
    "                row['section_title'] = section_title\n",
    "                row['is_question'] = True\n",
    "                row['text'] = concept #text.strip('\\n\\n').strip('\\n')\n",
    "                rows.append(row)\n",
    "            row = dict()\n",
    "            row['Book'] = BOOK\n",
    "            row['Chapter'] = chapter\n",
    "            row['section_title'] = section_title\n",
    "            row['is_question'] = False\n",
    "            row['text'] = text.strip('\\n\\n').strip('\\n')\n",
    "            rows.append(row)\n",
    "    return rows"
   ]
  },
  {
   "cell_type": "code",
   "execution_count": 89,
   "id": "f4f739e4",
   "metadata": {
    "execution": {
     "iopub.execute_input": "2023-06-10T15:07:17.317384Z",
     "iopub.status.busy": "2023-06-10T15:07:17.316963Z",
     "iopub.status.idle": "2023-06-10T15:07:20.240195Z",
     "shell.execute_reply": "2023-06-10T15:07:20.238979Z"
    },
    "papermill": {
     "duration": 2.971014,
     "end_time": "2023-06-10T15:07:20.242890",
     "exception": false,
     "start_time": "2023-06-10T15:07:17.271876",
     "status": "completed"
    },
    "tags": []
   },
   "outputs": [
    {
     "name": "stdout",
     "output_type": "stream",
     "text": [
      "book: Organizational Behaviour\n",
      "this file is missing: b-scoring-keys-for-self-assessment-exercises.docx\n"
     ]
    }
   ],
   "source": [
    "pd.DataFrame(extract_ob_tq(files, BOOK)).to_parquet('organizational_behaviour_tq.pq')"
   ]
  },
  {
   "cell_type": "markdown",
   "id": "83de3072",
   "metadata": {
    "papermill": {
     "duration": 0.042425,
     "end_time": "2023-06-10T15:07:20.328198",
     "exception": false,
     "start_time": "2023-06-10T15:07:20.285773",
     "status": "completed"
    },
    "tags": []
   },
   "source": [
    "# Organizational Behaviour Testbank\n",
    "\n",
    "-"
   ]
  },
  {
   "cell_type": "code",
   "execution_count": 90,
   "id": "47c6e441",
   "metadata": {
    "execution": {
     "iopub.execute_input": "2023-06-10T15:07:20.415687Z",
     "iopub.status.busy": "2023-06-10T15:07:20.415275Z",
     "iopub.status.idle": "2023-06-10T15:07:20.448588Z",
     "shell.execute_reply": "2023-06-10T15:07:20.447457Z"
    },
    "papermill": {
     "duration": 0.07963,
     "end_time": "2023-06-10T15:07:20.451512",
     "exception": false,
     "start_time": "2023-06-10T15:07:20.371882",
     "status": "completed"
    },
    "tags": []
   },
   "outputs": [],
   "source": [
    "files = sorted(glob('/kaggle/input/newdataset/openstax/openstax/OrganizationalBehaviour-TestBank/OrgB-TestBank/*.docx'))\n",
    "text = docx2txt.process(files[0])\n",
    "# text"
   ]
  },
  {
   "cell_type": "code",
   "execution_count": 91,
   "id": "9ffc7551",
   "metadata": {
    "execution": {
     "iopub.execute_input": "2023-06-10T15:07:20.540303Z",
     "iopub.status.busy": "2023-06-10T15:07:20.539900Z",
     "iopub.status.idle": "2023-06-10T15:07:20.551134Z",
     "shell.execute_reply": "2023-06-10T15:07:20.549435Z"
    },
    "papermill": {
     "duration": 0.058878,
     "end_time": "2023-06-10T15:07:20.554185",
     "exception": false,
     "start_time": "2023-06-10T15:07:20.495307",
     "status": "completed"
    },
    "tags": []
   },
   "outputs": [],
   "source": [
    "tf = re.findall(r'LEARNING OUTCOME: [1-9](.*?)a\\. True', text, re.DOTALL)"
   ]
  },
  {
   "cell_type": "code",
   "execution_count": 92,
   "id": "7eadedc2",
   "metadata": {
    "execution": {
     "iopub.execute_input": "2023-06-10T15:07:20.643546Z",
     "iopub.status.busy": "2023-06-10T15:07:20.643150Z",
     "iopub.status.idle": "2023-06-10T15:07:20.649207Z",
     "shell.execute_reply": "2023-06-10T15:07:20.648058Z"
    },
    "papermill": {
     "duration": 0.053004,
     "end_time": "2023-06-10T15:07:20.651881",
     "exception": false,
     "start_time": "2023-06-10T15:07:20.598877",
     "status": "completed"
    },
    "tags": []
   },
   "outputs": [],
   "source": [
    "mcfb = re.findall(r'LEARNING OUTCOME:.*?E\\..*?\\n\\n', text, re.DOTALL)[1:]"
   ]
  },
  {
   "cell_type": "code",
   "execution_count": 93,
   "id": "ea6bc884",
   "metadata": {
    "execution": {
     "iopub.execute_input": "2023-06-10T15:07:20.738126Z",
     "iopub.status.busy": "2023-06-10T15:07:20.737758Z",
     "iopub.status.idle": "2023-06-10T15:07:20.744781Z",
     "shell.execute_reply": "2023-06-10T15:07:20.743277Z"
    },
    "papermill": {
     "duration": 0.052617,
     "end_time": "2023-06-10T15:07:20.747038",
     "exception": false,
     "start_time": "2023-06-10T15:07:20.694421",
     "status": "completed"
    },
    "tags": []
   },
   "outputs": [
    {
     "data": {
      "text/plain": [
       "'06'"
      ]
     },
     "execution_count": 93,
     "metadata": {},
     "output_type": "execute_result"
    }
   ],
   "source": [
    "files[5].split('/')[-1].strip('.docx').split(' ')[-1]"
   ]
  },
  {
   "cell_type": "code",
   "execution_count": 94,
   "id": "54ac1826",
   "metadata": {
    "execution": {
     "iopub.execute_input": "2023-06-10T15:07:20.833805Z",
     "iopub.status.busy": "2023-06-10T15:07:20.833387Z",
     "iopub.status.idle": "2023-06-10T15:07:20.846925Z",
     "shell.execute_reply": "2023-06-10T15:07:20.845249Z"
    },
    "papermill": {
     "duration": 0.060822,
     "end_time": "2023-06-10T15:07:20.849695",
     "exception": false,
     "start_time": "2023-06-10T15:07:20.788873",
     "status": "completed"
    },
    "tags": []
   },
   "outputs": [],
   "source": [
    "def extract_ob_testbank(files, BOOK):\n",
    "    print(f\"book: {BOOK}\")\n",
    "    rows = []\n",
    "    for file in files:\n",
    "        text = docx2txt.process(file)\n",
    "        filename = file.split('/')[-1].strip('.docx')\n",
    "        chapter = filename.split(' ')[-1]\n",
    "        print(f\"filename: {filename}, chapter: {chapter}\")\n",
    "        start = re.search(\"\\nThis file is copyright\", text).start()\n",
    "        text[:start]\n",
    "        tf = re.findall(r'LEARNING OUTCOME: [1-9](.*?)a\\. True', text, re.DOTALL)\n",
    "        mcfb = re.findall(r'LEARNING OUTCOME:.*?E\\..*?\\n\\n', text, re.DOTALL)[1:]\n",
    "        for q in tf:\n",
    "            q = re.sub(r\"LEARNING OUTCOME: [1-9]\", \"\", q)\n",
    "            row = dict()\n",
    "            row['Book'] = BOOK\n",
    "            row['Chapter'] = chapter\n",
    "            row['text'] = q.strip('\\n\\n').strip('\\n')\n",
    "            row['is_question'] = True\n",
    "            row['truefalse'] = True\n",
    "            row['fillblank'] = False\n",
    "            row['mc'] = False\n",
    "            rows.append(row)\n",
    "        for q in mcfb:\n",
    "            q = re.sub(r\"LEARNING OUTCOME: [1-9]\", \"\", q)\n",
    "            row = dict()\n",
    "            row['Book'] = BOOK\n",
    "            row['Chapter'] = chapter\n",
    "            row['text'] = q.strip('\\n\\n').strip('\\n')\n",
    "            row['is_question'] = True\n",
    "            row['truefalse'] = False\n",
    "            fb = 0\n",
    "            if \"___\" in q:\n",
    "                fb += 1\n",
    "            row['fillblank'] = bool(fb)\n",
    "            row['mc'] = bool(fb)\n",
    "            rows.append(row)\n",
    "    return rows"
   ]
  },
  {
   "cell_type": "code",
   "execution_count": 95,
   "id": "10b85f0b",
   "metadata": {
    "execution": {
     "iopub.execute_input": "2023-06-10T15:07:20.936630Z",
     "iopub.status.busy": "2023-06-10T15:07:20.936165Z",
     "iopub.status.idle": "2023-06-10T15:07:21.865146Z",
     "shell.execute_reply": "2023-06-10T15:07:21.862273Z"
    },
    "papermill": {
     "duration": 0.976264,
     "end_time": "2023-06-10T15:07:21.868245",
     "exception": false,
     "start_time": "2023-06-10T15:07:20.891981",
     "status": "completed"
    },
    "tags": []
   },
   "outputs": [
    {
     "name": "stdout",
     "output_type": "stream",
     "text": [
      "book: Organizational Behaviour\n",
      "filename: Organizational Behavior-TB Ch 01, chapter: 01\n",
      "filename: Organizational Behavior-TB Ch 02, chapter: 02\n",
      "filename: Organizational Behavior-TB Ch 03, chapter: 03\n",
      "filename: Organizational Behavior-TB Ch 04, chapter: 04\n",
      "filename: Organizational Behavior-TB Ch 05, chapter: 05\n",
      "filename: Organizational Behavior-TB Ch 06, chapter: 06\n",
      "filename: Organizational Behavior-TB Ch 08, chapter: 08\n",
      "filename: Organizational Behavior-TB Ch 09, chapter: 09\n",
      "filename: Organizational Behavior-TB Ch 10, chapter: 10\n",
      "filename: Organizational Behavior-TB Ch 11, chapter: 11\n",
      "filename: Organizational Behavior-TB Ch 13, chapter: 13\n",
      "filename: Organizational Behavior-TB Ch 14, chapter: 14\n",
      "filename: Organizational Behavior-TB Ch 15, chapter: 15\n",
      "filename: Organizational Behavior-TB Ch 16, chapter: 16\n",
      "filename: Organizational Behavior-TB Ch 17, chapter: 17\n",
      "filename: Organizational Behavior-TB Ch 18, chapter: 18\n",
      "filename: Organizational Behavior-TB Ch 19, chapter: 19\n",
      "filename: Orgazizational Behavior_Test_Bank_Preface_TOC_Cover, chapter: Behavior_Test_Bank_Preface_TOC_Cover\n"
     ]
    }
   ],
   "source": [
    "pd.DataFrame(extract_ob_testbank(files, BOOK)).to_parquet('organizational_behaviour_testbank.pq')"
   ]
  },
  {
   "cell_type": "markdown",
   "id": "1fa0d5e1",
   "metadata": {
    "papermill": {
     "duration": 0.045337,
     "end_time": "2023-06-10T15:07:21.957942",
     "exception": false,
     "start_time": "2023-06-10T15:07:21.912605",
     "status": "completed"
    },
    "tags": []
   },
   "source": [
    "# Accounting 1 (Principles of Financial Accounting\n",
    "\n",
    "- has lots of exercises \"exercise-set\" and \"problem-set\" for each chapter\n",
    "- has multiple choice for each chapter\n",
    "- answers under chapter-[1-9] files"
   ]
  },
  {
   "cell_type": "code",
   "execution_count": 96,
   "id": "bc6d33d0",
   "metadata": {
    "execution": {
     "iopub.execute_input": "2023-06-10T15:07:22.053069Z",
     "iopub.status.busy": "2023-06-10T15:07:22.052102Z",
     "iopub.status.idle": "2023-06-10T15:07:22.163523Z",
     "shell.execute_reply": "2023-06-10T15:07:22.161443Z"
    },
    "papermill": {
     "duration": 0.160831,
     "end_time": "2023-06-10T15:07:22.166876",
     "exception": false,
     "start_time": "2023-06-10T15:07:22.006045",
     "status": "completed"
    },
    "tags": []
   },
   "outputs": [],
   "source": [
    "files = sorted(glob('/kaggle/input/newdataset/openstax/openstax/principles-financial-accounting/principles-financial-accounting/*.docx'))\n",
    "text = docx2txt.process(files[18])\n",
    "# text"
   ]
  },
  {
   "cell_type": "code",
   "execution_count": 97,
   "id": "c1357ebd",
   "metadata": {
    "execution": {
     "iopub.execute_input": "2023-06-10T15:07:22.257676Z",
     "iopub.status.busy": "2023-06-10T15:07:22.257271Z",
     "iopub.status.idle": "2023-06-10T15:07:22.264692Z",
     "shell.execute_reply": "2023-06-10T15:07:22.263609Z"
    },
    "papermill": {
     "duration": 0.055884,
     "end_time": "2023-06-10T15:07:22.266743",
     "exception": false,
     "start_time": "2023-06-10T15:07:22.210859",
     "status": "completed"
    },
    "tags": []
   },
   "outputs": [
    {
     "data": {
      "text/plain": [
       "['/kaggle/input/newdataset/openstax/openstax/principles-financial-accounting/principles-financial-accounting/1-1-explain-the-importance-of-accounting-and-distinguish-between-financial-and-managerial-accounting.docx',\n",
       " '/kaggle/input/newdataset/openstax/openstax/principles-financial-accounting/principles-financial-accounting/1-2-identify-users-of-accounting-information-and-how-they-apply-information.docx',\n",
       " '/kaggle/input/newdataset/openstax/openstax/principles-financial-accounting/principles-financial-accounting/1-3-describe-typical-accounting-activities-and-the-role-accountants-play-in-identifying-recording-and-reporting-financial-activities.docx']"
      ]
     },
     "execution_count": 97,
     "metadata": {},
     "output_type": "execute_result"
    }
   ],
   "source": [
    "files[:3]"
   ]
  },
  {
   "cell_type": "code",
   "execution_count": 98,
   "id": "aa6f43b4",
   "metadata": {
    "execution": {
     "iopub.execute_input": "2023-06-10T15:07:22.354855Z",
     "iopub.status.busy": "2023-06-10T15:07:22.354486Z",
     "iopub.status.idle": "2023-06-10T15:07:22.360394Z",
     "shell.execute_reply": "2023-06-10T15:07:22.358754Z"
    },
    "papermill": {
     "duration": 0.053417,
     "end_time": "2023-06-10T15:07:22.362959",
     "exception": false,
     "start_time": "2023-06-10T15:07:22.309542",
     "status": "completed"
    },
    "tags": []
   },
   "outputs": [],
   "source": [
    "BOOK = 'Accounting 1'"
   ]
  },
  {
   "cell_type": "code",
   "execution_count": 99,
   "id": "490c97e1",
   "metadata": {
    "execution": {
     "iopub.execute_input": "2023-06-10T15:07:22.468966Z",
     "iopub.status.busy": "2023-06-10T15:07:22.468563Z",
     "iopub.status.idle": "2023-06-10T15:07:22.476285Z",
     "shell.execute_reply": "2023-06-10T15:07:22.475065Z"
    },
    "papermill": {
     "duration": 0.066731,
     "end_time": "2023-06-10T15:07:22.479879",
     "exception": false,
     "start_time": "2023-06-10T15:07:22.413148",
     "status": "completed"
    },
    "tags": []
   },
   "outputs": [
    {
     "data": {
      "text/plain": [
       "'\\nTo answer a particular question, visit the respective chapter section reading in the OpenStax Introduction to Business textbook. Questions were derived from textbook content: https://openstax.org/details/books/introduction-business\\n\\n\\n\\nThis OpenStax ancillary resource is © Rice University under a CC BY 4.0 International license; it may be reproduced or modified but must be attributed to OpenStax, Rice University and any changes must be noted.\\n\\nFor more free, peer-reviewed, openly licensed resources visit OpenStax.org.'"
      ]
     },
     "execution_count": 99,
     "metadata": {},
     "output_type": "execute_result"
    }
   ],
   "source": [
    "access_for_free"
   ]
  },
  {
   "cell_type": "code",
   "execution_count": 100,
   "id": "87b2c950",
   "metadata": {
    "execution": {
     "iopub.execute_input": "2023-06-10T15:07:22.569291Z",
     "iopub.status.busy": "2023-06-10T15:07:22.568923Z",
     "iopub.status.idle": "2023-06-10T15:07:22.577441Z",
     "shell.execute_reply": "2023-06-10T15:07:22.575897Z"
    },
    "papermill": {
     "duration": 0.056503,
     "end_time": "2023-06-10T15:07:22.580123",
     "exception": false,
     "start_time": "2023-06-10T15:07:22.523620",
     "status": "completed"
    },
    "tags": []
   },
   "outputs": [
    {
     "data": {
      "text/plain": [
       "'If a company has four lots of products for sale, purchase 1 (earliest) for $17, purchase 2 (middle) for $15, purchase 3 (middle) for $12, and purchase 4 (latest) for $14, which cost would be assumed to be sold first using LIFO costing?\\n\\n$17\\n\\n$15\\n\\n$12\\n\\n$14'"
      ]
     },
     "execution_count": 100,
     "metadata": {},
     "output_type": "execute_result"
    }
   ],
   "source": [
    "problems = re.findall('\\n\\nLO  (.*?)\\n\\n[1-9]\\.', text, re.DOTALL)\n",
    "re.sub('[1-9][0-9]\\.[1-9]', '', problems[0])"
   ]
  },
  {
   "cell_type": "code",
   "execution_count": 101,
   "id": "c857f555",
   "metadata": {
    "execution": {
     "iopub.execute_input": "2023-06-10T15:07:22.667757Z",
     "iopub.status.busy": "2023-06-10T15:07:22.667337Z",
     "iopub.status.idle": "2023-06-10T15:07:22.685809Z",
     "shell.execute_reply": "2023-06-10T15:07:22.684100Z"
    },
    "papermill": {
     "duration": 0.064832,
     "end_time": "2023-06-10T15:07:22.688168",
     "exception": false,
     "start_time": "2023-06-10T15:07:22.623336",
     "status": "completed"
    },
    "tags": []
   },
   "outputs": [],
   "source": [
    "def accounting1(files, BOOK):\n",
    "    print(BOOK)\n",
    "    rows = []\n",
    "    questions = ['problem-set', 'exercise-set', 'multiple-choice']\n",
    "    for file in files:\n",
    "        row = dict()\n",
    "        text = docx2txt.process(file).strip(access_for_free)\n",
    "        try:\n",
    "            start = re.search(\"\\nAccess for free\", text).start()\n",
    "            text = text[:start]\n",
    "        except:\n",
    "            text = text\n",
    "        filename = file.split('/')[-1]\n",
    "        section_title = re.sub(r\"\\.docx$\", \"\", filename)\n",
    "        chapter = filename.split('-')[0]\n",
    "        is_question = any(s for s in questions if s in filename)\n",
    "        if is_question:\n",
    "            if 'problem-set' in filename:\n",
    "                problems = re.findall('\\n\\nLO  (.*?)\\n\\nPA', text, re.DOTALL)\n",
    "                for problem in problems:\n",
    "                    row = dict()\n",
    "                    row['Book'] = BOOK\n",
    "                    if int(chapter) > 9:\n",
    "                        problem = re.sub('[1-9][0-9]\\.[1-9]', '', problem)\n",
    "                    else:\n",
    "                        problem = re.sub('[1-9]\\.[1-9]', '', problem)\n",
    "                    row['Chapter'] = chapter\n",
    "                    row['section_title'] = section_title\n",
    "                    row['is_question'] = is_question\n",
    "                    row['text'] = problem\n",
    "                    row['question_answers'] = False\n",
    "                    rows.append(row)\n",
    "            elif 'exercise-set' in filename:\n",
    "                problems = re.findall('\\n\\nLO  (.*?)\\n\\nEA', text, re.DOTALL)\n",
    "                for problem in problems:\n",
    "                    row = dict()\n",
    "                    row['Book'] = BOOK\n",
    "                    if int(chapter) > 9:\n",
    "                        problem = re.sub('[1-9][0-9]\\.[1-9]', '', problem)\n",
    "                    else:\n",
    "                        problem = re.sub('[1-9]\\.[1-9]', '', problem)\n",
    "                    row['Chapter'] = chapter\n",
    "                    row['section_title'] = section_title\n",
    "                    row['is_question'] = is_question\n",
    "                    row['text'] = problem\n",
    "                    row['question_answers'] = False\n",
    "                    rows.append(row)\n",
    "            elif 'multiple-choice' in filename:\n",
    "                problems = re.findall('\\n\\nLO  (.*?)\\n\\n[1-9]\\.', text, re.DOTALL)\n",
    "                for problem in problems:\n",
    "                    row = dict()\n",
    "                    row['Book'] = BOOK\n",
    "                    if int(chapter) > 9:\n",
    "                        problem = re.sub('[1-9][0-9]\\.[1-9]', '', problem)\n",
    "                    else:\n",
    "                        problem = re.sub('[1-9]\\.[1-9]', '', problem)\n",
    "                    row['Chapter'] = chapter\n",
    "                    row['section_title'] = section_title\n",
    "                    row['is_question'] = is_question\n",
    "                    row['text'] = problem\n",
    "                    row['question_answers'] = False\n",
    "                    rows.append(row)\n",
    "        else:\n",
    "            row = dict()\n",
    "            row['Book'] = BOOK\n",
    "            row['Chapter'] = chapter\n",
    "            row['section_title'] = section_title\n",
    "            row['is_question'] = is_question\n",
    "            row['text'] = text\n",
    "            row['question_answers'] = bool(re.search('chapter-[1-9]', filename))\n",
    "            if row['question_answers']:\n",
    "                row['Chapter'] = section_title.split('-')[-1]\n",
    "            rows.append(row)\n",
    "    return rows"
   ]
  },
  {
   "cell_type": "code",
   "execution_count": 102,
   "id": "fe2587c7",
   "metadata": {
    "execution": {
     "iopub.execute_input": "2023-06-10T15:07:22.777293Z",
     "iopub.status.busy": "2023-06-10T15:07:22.776882Z",
     "iopub.status.idle": "2023-06-10T15:07:26.840465Z",
     "shell.execute_reply": "2023-06-10T15:07:26.838790Z"
    },
    "papermill": {
     "duration": 4.111641,
     "end_time": "2023-06-10T15:07:26.843391",
     "exception": false,
     "start_time": "2023-06-10T15:07:22.731750",
     "status": "completed"
    },
    "tags": []
   },
   "outputs": [
    {
     "name": "stdout",
     "output_type": "stream",
     "text": [
      "Accounting 1\n"
     ]
    }
   ],
   "source": [
    "pd.DataFrame(accounting1(files, BOOK)).to_parquet('accounting1_tq.pq')"
   ]
  },
  {
   "cell_type": "markdown",
   "id": "b0da199e",
   "metadata": {
    "papermill": {
     "duration": 0.045012,
     "end_time": "2023-06-10T15:07:26.931768",
     "exception": false,
     "start_time": "2023-06-10T15:07:26.886756",
     "status": "completed"
    },
    "tags": []
   },
   "source": [
    "# Accounting 2 (Managerial Accounting)\n",
    "- same format as Accounting 1\n"
   ]
  },
  {
   "cell_type": "code",
   "execution_count": 103,
   "id": "b2462f7e",
   "metadata": {
    "execution": {
     "iopub.execute_input": "2023-06-10T15:07:27.018837Z",
     "iopub.status.busy": "2023-06-10T15:07:27.018449Z",
     "iopub.status.idle": "2023-06-10T15:07:27.114570Z",
     "shell.execute_reply": "2023-06-10T15:07:27.113445Z"
    },
    "papermill": {
     "duration": 0.142472,
     "end_time": "2023-06-10T15:07:27.117155",
     "exception": false,
     "start_time": "2023-06-10T15:07:26.974683",
     "status": "completed"
    },
    "tags": []
   },
   "outputs": [],
   "source": [
    "files = sorted(glob('/kaggle/input/newdataset/openstax/openstax/principles-managerial-accounting/principles-managerial-accounting/*.docx'))\n",
    "text = docx2txt.process(files[18])\n",
    "BOOK = 'Accounting 2'"
   ]
  },
  {
   "cell_type": "code",
   "execution_count": 104,
   "id": "7e32fd30",
   "metadata": {
    "execution": {
     "iopub.execute_input": "2023-06-10T15:07:27.205360Z",
     "iopub.status.busy": "2023-06-10T15:07:27.204410Z",
     "iopub.status.idle": "2023-06-10T15:07:29.914990Z",
     "shell.execute_reply": "2023-06-10T15:07:29.912323Z"
    },
    "papermill": {
     "duration": 2.757547,
     "end_time": "2023-06-10T15:07:29.917755",
     "exception": false,
     "start_time": "2023-06-10T15:07:27.160208",
     "status": "completed"
    },
    "tags": []
   },
   "outputs": [
    {
     "name": "stdout",
     "output_type": "stream",
     "text": [
      "Accounting 2\n"
     ]
    }
   ],
   "source": [
    "pd.DataFrame(accounting1(files, BOOK)).to_parquet('accounting2_tq.pq')"
   ]
  },
  {
   "cell_type": "markdown",
   "id": "f1acf9e0",
   "metadata": {
    "papermill": {
     "duration": 0.043423,
     "end_time": "2023-06-10T15:07:30.003748",
     "exception": false,
     "start_time": "2023-06-10T15:07:29.960325",
     "status": "completed"
    },
    "tags": []
   },
   "source": [
    "# Finance\n",
    "- review questions and multiple choice questions in separate files for each chapter\n",
    "- no questions in text\n",
    "- there are video questions I skip them "
   ]
  },
  {
   "cell_type": "code",
   "execution_count": 105,
   "id": "8479f677",
   "metadata": {
    "execution": {
     "iopub.execute_input": "2023-06-10T15:07:30.093347Z",
     "iopub.status.busy": "2023-06-10T15:07:30.092972Z",
     "iopub.status.idle": "2023-06-10T15:07:30.214363Z",
     "shell.execute_reply": "2023-06-10T15:07:30.213087Z"
    },
    "papermill": {
     "duration": 0.168768,
     "end_time": "2023-06-10T15:07:30.216970",
     "exception": false,
     "start_time": "2023-06-10T15:07:30.048202",
     "status": "completed"
    },
    "tags": []
   },
   "outputs": [],
   "source": [
    "files = sorted(glob('/kaggle/input/newdataset/openstax/openstax/principles-finance-docx/*.docx'))\n",
    "text = docx2txt.process(files[9])\n",
    "start = re.search(\"\\nAccess for free\", text).start()\n",
    "text = text[:start]\n",
    "BOOK = 'Finance'"
   ]
  },
  {
   "cell_type": "code",
   "execution_count": 106,
   "id": "84a65f67",
   "metadata": {
    "execution": {
     "iopub.execute_input": "2023-06-10T15:07:30.306473Z",
     "iopub.status.busy": "2023-06-10T15:07:30.305898Z",
     "iopub.status.idle": "2023-06-10T15:07:30.312866Z",
     "shell.execute_reply": "2023-06-10T15:07:30.311469Z"
    },
    "papermill": {
     "duration": 0.054149,
     "end_time": "2023-06-10T15:07:30.315879",
     "exception": false,
     "start_time": "2023-06-10T15:07:30.261730",
     "status": "completed"
    },
    "tags": []
   },
   "outputs": [
    {
     "name": "stdout",
     "output_type": "stream",
     "text": [
      "1-1-what-is-finance.docx\n",
      "1\n",
      "1-1-what-is-finance\n"
     ]
    }
   ],
   "source": [
    "file = files[0]\n",
    "filename = file.split('/')[-1]\n",
    "section_title = re.sub(r\"\\.docx$\", \"\", filename)\n",
    "chapter = filename.split('-')[0]\n",
    "print(filename)\n",
    "print(chapter)\n",
    "print(section_title)"
   ]
  },
  {
   "cell_type": "code",
   "execution_count": 107,
   "id": "3662b84d",
   "metadata": {
    "execution": {
     "iopub.execute_input": "2023-06-10T15:07:30.403260Z",
     "iopub.status.busy": "2023-06-10T15:07:30.402873Z",
     "iopub.status.idle": "2023-06-10T15:07:30.420528Z",
     "shell.execute_reply": "2023-06-10T15:07:30.419485Z"
    },
    "papermill": {
     "duration": 0.064477,
     "end_time": "2023-06-10T15:07:30.423390",
     "exception": false,
     "start_time": "2023-06-10T15:07:30.358913",
     "status": "completed"
    },
    "tags": []
   },
   "outputs": [],
   "source": [
    "def finance(files, BOOK):\n",
    "    rows = []\n",
    "    questions = ['problem-set', 'questions', 'multiple-choice']\n",
    "    for file in files:\n",
    "        #questions related to a video students watch\n",
    "        if 'video-activity' in file:\n",
    "            continue\n",
    "        text = docx2txt.process(file)\n",
    "        try:\n",
    "            start = re.search(\"\\nAccess for free\", text).start()\n",
    "            text = text[:start]\n",
    "        except:\n",
    "            text = text\n",
    "        \n",
    "        filename = file.split('/')[-1]\n",
    "        section_title = re.sub(r\"\\.docx$\", \"\", filename)\n",
    "#         print(section_title)\n",
    "        chapter = filename.split('-')[0]\n",
    "        is_question = any(s for s in questions if s in filename)\n",
    "        if is_question:\n",
    "            if 'questions' in filename:\n",
    "                problems = re.findall('\\n\\n[1-9]\\. \\n\\n(.*?)\\n\\n', text, re.DOTALL) + re.findall('\\n\\n([A-Z].*?)\\n\\n', text, re.DOTALL)\n",
    "                \n",
    "                for problem in problems:\n",
    "                    row = dict()\n",
    "                    row['Book'] = BOOK\n",
    "#                     print(problem)\n",
    "                    row['Chapter'] = chapter\n",
    "                    row['section_title'] = section_title\n",
    "                    row['is_question'] = is_question\n",
    "                    row['text'] = problem\n",
    "                    row['question_answers'] = False\n",
    "                    row['mc_option'] = False\n",
    "                    row['fillblank'] = False\n",
    "                    row['mc'] = False\n",
    "                    rows.append(row)\n",
    "                    \n",
    "            elif 'multiple-choice' in filename:\n",
    "                problems = re.findall('\\n\\n((?:[A-Za-z]|_|[a-z]).*?)\\n\\n', text, re.DOTALL)\n",
    "                for i, problem in enumerate(problems):\n",
    "                    row = dict()\n",
    "                    row['Book'] = BOOK\n",
    "#                     print(problem)\n",
    "                    if i % 3 == 0:      \n",
    "                        row['Chapter'] = chapter\n",
    "                        row['section_title'] = section_title\n",
    "                        row['is_question'] = True\n",
    "                        row['text'] = problem\n",
    "                        row['question_answers'] = False\n",
    "                        fb = 0\n",
    "                        if \"___\" in problem:\n",
    "                            fb += 1\n",
    "                        row['fillblank'] = bool(fb)\n",
    "                        row['mc_option'] = False\n",
    "                        row['mc_num'] = i+1\n",
    "                        row['mc'] = True\n",
    "                        rows.append(row)\n",
    "                    else:\n",
    "                        \n",
    "                        row['Chapter'] = chapter\n",
    "                        row['section_title'] = section_title\n",
    "                        row['is_question'] = is_question\n",
    "                        row['text'] = problem\n",
    "                        row['question_answers'] = False\n",
    "                        row['mc_option'] = True\n",
    "                        row['mc_num'] = i + 1\n",
    "                        row['mc'] = True\n",
    "                        rows.append(row)\n",
    "        else:\n",
    "            row = dict()\n",
    "            row['Book'] = BOOK\n",
    "            row['Chapter'] = chapter\n",
    "            row['section_title'] = section_title\n",
    "            row['is_question'] = is_question\n",
    "            row['text'] = text\n",
    "            row['question_answers'] = bool(re.search('chapter-[1-9]', filename))\n",
    "            if row['question_answers']:\n",
    "                row['Chapter'] = section_title.split('-')[-1]\n",
    "            rows.append(row)\n",
    "    return rows"
   ]
  },
  {
   "cell_type": "code",
   "execution_count": 108,
   "id": "8da70818",
   "metadata": {
    "execution": {
     "iopub.execute_input": "2023-06-10T15:07:30.512368Z",
     "iopub.status.busy": "2023-06-10T15:07:30.511957Z",
     "iopub.status.idle": "2023-06-10T15:07:33.578022Z",
     "shell.execute_reply": "2023-06-10T15:07:33.576272Z"
    },
    "papermill": {
     "duration": 3.113434,
     "end_time": "2023-06-10T15:07:33.580631",
     "exception": false,
     "start_time": "2023-06-10T15:07:30.467197",
     "status": "completed"
    },
    "tags": []
   },
   "outputs": [],
   "source": [
    "pd.DataFrame(finance(files, BOOK)).to_parquet('finance_tq.pq')"
   ]
  },
  {
   "cell_type": "code",
   "execution_count": 109,
   "id": "0935b9ec",
   "metadata": {
    "execution": {
     "iopub.execute_input": "2023-06-10T15:07:33.671140Z",
     "iopub.status.busy": "2023-06-10T15:07:33.670722Z",
     "iopub.status.idle": "2023-06-10T15:07:33.676528Z",
     "shell.execute_reply": "2023-06-10T15:07:33.674817Z"
    },
    "papermill": {
     "duration": 0.05426,
     "end_time": "2023-06-10T15:07:33.679754",
     "exception": false,
     "start_time": "2023-06-10T15:07:33.625494",
     "status": "completed"
    },
    "tags": []
   },
   "outputs": [],
   "source": [
    "# df = pd.DataFrame(finance(files, BOOK))\n",
    "# df.head(50)"
   ]
  },
  {
   "cell_type": "markdown",
   "id": "ee4a47fa",
   "metadata": {
    "papermill": {
     "duration": 0.043834,
     "end_time": "2023-06-10T15:07:33.769165",
     "exception": false,
     "start_time": "2023-06-10T15:07:33.725331",
     "status": "completed"
    },
    "tags": []
   },
   "source": [
    "# Finance Testbank\n",
    "- Have multiple choice\n",
    "- True or False\n",
    "- Problems"
   ]
  },
  {
   "cell_type": "code",
   "execution_count": 110,
   "id": "975aa65b",
   "metadata": {
    "execution": {
     "iopub.execute_input": "2023-06-10T15:07:33.859079Z",
     "iopub.status.busy": "2023-06-10T15:07:33.858693Z",
     "iopub.status.idle": "2023-06-10T15:07:33.866706Z",
     "shell.execute_reply": "2023-06-10T15:07:33.864827Z"
    },
    "papermill": {
     "duration": 0.056054,
     "end_time": "2023-06-10T15:07:33.869663",
     "exception": false,
     "start_time": "2023-06-10T15:07:33.813609",
     "status": "completed"
    },
    "tags": []
   },
   "outputs": [
    {
     "data": {
      "text/plain": [
       "13"
      ]
     },
     "execution_count": 110,
     "metadata": {},
     "output_type": "execute_result"
    }
   ],
   "source": [
    "length = 11\n",
    "len('IMPRESSIONIST')"
   ]
  },
  {
   "cell_type": "code",
   "execution_count": 111,
   "id": "1af68d13",
   "metadata": {
    "execution": {
     "iopub.execute_input": "2023-06-10T15:07:33.960621Z",
     "iopub.status.busy": "2023-06-10T15:07:33.960197Z",
     "iopub.status.idle": "2023-06-10T15:07:34.031999Z",
     "shell.execute_reply": "2023-06-10T15:07:34.030277Z"
    },
    "papermill": {
     "duration": 0.120748,
     "end_time": "2023-06-10T15:07:34.034574",
     "exception": false,
     "start_time": "2023-06-10T15:07:33.913826",
     "status": "completed"
    },
    "tags": []
   },
   "outputs": [],
   "source": [
    "files = sorted(glob('/kaggle/input/newdataset/openstax/openstax/Finance_TestBank/Test Bank/*.docx'))\n",
    "text = docx2txt.process(files[5])\n",
    "# BOOK = ''"
   ]
  },
  {
   "cell_type": "code",
   "execution_count": 112,
   "id": "4ea905dc",
   "metadata": {
    "execution": {
     "iopub.execute_input": "2023-06-10T15:07:34.125837Z",
     "iopub.status.busy": "2023-06-10T15:07:34.125437Z",
     "iopub.status.idle": "2023-06-10T15:07:34.141245Z",
     "shell.execute_reply": "2023-06-10T15:07:34.140195Z"
    },
    "papermill": {
     "duration": 0.065859,
     "end_time": "2023-06-10T15:07:34.144423",
     "exception": false,
     "start_time": "2023-06-10T15:07:34.078564",
     "status": "completed"
    },
    "tags": []
   },
   "outputs": [
    {
     "data": {
      "text/plain": [
       "['\\n\\nTEST BANK\\n\\n\\n\\n\\n\\n\\n\\n\\n\\nTEST BANKs\\n\\n\\n\\n\\n\\n\\nChapter 14\\n\\nTest Bank\\n\\nRegression Analysis in Finance\\n\\nThese questions and problems can all be solved in a classroom setting using a handheld financial calculator.\\n\\nTrue or False Questions\\n\\nThe numerical value of a correlation coefficient must always fall in the interval from 0 to 1 inclusive.\\n\\nTrue\\n\\nFalse',\n",
       " '\\n\\nSection 14.1 LO 1 Easy\\n\\nThe residual of a linear regression equation is calculated by subtracting the predicted y value from the observed y value, which can only produce a positive result.\\n\\nTrue\\n\\nFalse',\n",
       " '\\n\\nSection 14.2 LO 1 Moderate\\n\\nThe slope of a linear regression line and its correlation coefficient will always have the same sign. Either both will be positive or both will be negative.\\n\\nTrue\\n\\nFalse']"
      ]
     },
     "execution_count": 112,
     "metadata": {},
     "output_type": "execute_result"
    }
   ],
   "source": [
    "tf = re.findall('\\n\\n[A-Za-z].*?\\.\\n\\nTrue\\n\\nFalse', text, re.DOTALL)\n",
    "tf"
   ]
  },
  {
   "cell_type": "code",
   "execution_count": 113,
   "id": "a9709fe6",
   "metadata": {
    "execution": {
     "iopub.execute_input": "2023-06-10T15:07:34.234808Z",
     "iopub.status.busy": "2023-06-10T15:07:34.234413Z",
     "iopub.status.idle": "2023-06-10T15:07:34.245403Z",
     "shell.execute_reply": "2023-06-10T15:07:34.244121Z"
    },
    "papermill": {
     "duration": 0.059603,
     "end_time": "2023-06-10T15:07:34.248384",
     "exception": false,
     "start_time": "2023-06-10T15:07:34.188781",
     "status": "completed"
    },
    "tags": []
   },
   "outputs": [
    {
     "data": {
      "text/plain": [
       "'\\n\\nThe chief financial officer of a company determines that there is a strong positive correlation between the company’s stock price and the Russell 2000 index. Which of the following is a valid interpretation of this correlation?\\n\\nAn increase in the Russell 2000 index will cause a decrease in the stock price.\\n\\nAn increase in the Russell 2000 index will cause an increase in the stock price.\\n\\nAs the Russell 2000 index increases, the stock price tends to decrease.\\n\\nAs the Russell 2000 index increases, the stock price tends to increase.\\n\\nSection '"
      ]
     },
     "execution_count": 113,
     "metadata": {},
     "output_type": "execute_result"
    }
   ],
   "source": [
    "problem_end = re.search(\"\\n\\nProblems\\n\\n\", text).end()\n",
    "problem_start = re.search(\"\\n\\nProblems\\n\\n\", text).start()\n",
    "mc_start = re.search('\\n\\nMultiple Choice Questions\\n\\n', text, re.DOTALL).start()\n",
    "problem_text = text[problem_end:]\n",
    "problems = re.findall('\\n\\n.*?\\n\\nSection ', problem_text, re.DOTALL)\n",
    "mc = re.findall('\\n\\n.*?\\n\\nSection ', text[mc_start:problem_start], re.DOTALL)\n",
    "mc[4]"
   ]
  },
  {
   "cell_type": "code",
   "execution_count": 114,
   "id": "c1fc106c",
   "metadata": {
    "execution": {
     "iopub.execute_input": "2023-06-10T15:07:34.338402Z",
     "iopub.status.busy": "2023-06-10T15:07:34.338023Z",
     "iopub.status.idle": "2023-06-10T15:07:34.356088Z",
     "shell.execute_reply": "2023-06-10T15:07:34.355058Z"
    },
    "papermill": {
     "duration": 0.066821,
     "end_time": "2023-06-10T15:07:34.359120",
     "exception": false,
     "start_time": "2023-06-10T15:07:34.292299",
     "status": "completed"
    },
    "tags": []
   },
   "outputs": [],
   "source": [
    "def finance_tb(files, BOOK):\n",
    "    print(f\"Book: {BOOK}\")\n",
    "    rows = []\n",
    "    for file in files:\n",
    "        filename = file.split('/')[-1].strip('.docx')\n",
    "        text = docx2txt.process(file)\n",
    "        start = re.search(\"\\tThis file is copyright\", text).start()\n",
    "        try:\n",
    "            text = text[:start]\n",
    "        except:\n",
    "            try:\n",
    "                start = re.search(\"\\n\\nTest Bank\\n\", text).start()\n",
    "                text = text[start:]\n",
    "            except:\n",
    "                text = text\n",
    "        text = text.strip(\"\\n\\nTest Bank\")\n",
    "        chapter = filename.split('Ch')[-1]\n",
    "        tf = re.findall('\\n\\n[A-Za-z].*?\\.\\n\\nTrue\\n\\nFalse', text, re.DOTALL)\n",
    "        try:\n",
    "            problem_end = re.search(\"\\n\\nProblems\\n\\n\", text).end()\n",
    "            problem_start = re.search(\"\\n\\nProblems\\n\\n\", text).start()\n",
    "            problem_text = text[problem_end:]\n",
    "            problems = re.findall('\\n\\n.*?\\n\\nSection ', problem_text, re.DOTALL)\n",
    "            try:\n",
    "                mc_start = re.search('\\n\\nMultiple Choice Questions\\n\\n', text, re.DOTALL).start()\n",
    "                mc = re.findall('\\n\\n.*?\\n\\nSection ', text[mc_start:problem_start], re.DOTALL)\n",
    "            except:\n",
    "                print(\"no mc questions\")\n",
    "        except:\n",
    "            problems = []\n",
    "            mc_start = re.search('\\n\\nMultiple Choice Questions\\n\\n', text, re.DOTALL).start()\n",
    "            mc = re.findall('\\n\\n.*?\\n\\nSection ', text[mc_start:], re.DOTALL)\n",
    "\n",
    "        #go over the problems\n",
    "        for problem in problems:\n",
    "            row = dict()\n",
    "            row['Book'] = BOOK\n",
    "            row['Chapter'] = chapter\n",
    "            row['section_title'] = section_title\n",
    "            row['is_question'] = True\n",
    "            row['text'] = problem\n",
    "            row['question_answers'] = False\n",
    "            row['truefalse'] = 0\n",
    "            fb = 0\n",
    "            if \"___\" in q:\n",
    "                fb += 1\n",
    "            row['fillblank'] = bool(fb)\n",
    "            row['mc'] = False\n",
    "            rows.append(row)\n",
    "        for q in mc:\n",
    "            row = dict()\n",
    "            row['Book'] = BOOK\n",
    "            row['Chapter'] = chapter\n",
    "            row['section_title'] = section_title\n",
    "            row['is_question'] = True\n",
    "            row['text'] = q\n",
    "            row['question_answers'] = False\n",
    "            row['truefalse'] = 0\n",
    "            fb = 0\n",
    "            if \"___\" in q:\n",
    "                fb += 1\n",
    "            row['fillblank'] = bool(fb)\n",
    "            row['mc'] = True\n",
    "            rows.append(row)\n",
    "        for q in tf:\n",
    "            row = dict()\n",
    "            row['Book'] = BOOK\n",
    "            row['Chapter'] = chapter\n",
    "            row['section_title'] = section_title\n",
    "            row['is_question'] = True\n",
    "            row['text'] = q\n",
    "            row['question_answers'] = False\n",
    "            row['truefalse'] = 1\n",
    "            fb = 0\n",
    "            if \"___\" in q:\n",
    "                fb += 1\n",
    "            row['fillblank'] = bool(fb)\n",
    "            row['mc'] = False\n",
    "            rows.append(row)\n",
    "    return rows"
   ]
  },
  {
   "cell_type": "code",
   "execution_count": 115,
   "id": "bbdd0c7d",
   "metadata": {
    "execution": {
     "iopub.execute_input": "2023-06-10T15:07:34.455926Z",
     "iopub.status.busy": "2023-06-10T15:07:34.454612Z",
     "iopub.status.idle": "2023-06-10T15:07:35.604089Z",
     "shell.execute_reply": "2023-06-10T15:07:35.602561Z"
    },
    "papermill": {
     "duration": 1.197691,
     "end_time": "2023-06-10T15:07:35.607085",
     "exception": false,
     "start_time": "2023-06-10T15:07:34.409394",
     "status": "completed"
    },
    "tags": []
   },
   "outputs": [
    {
     "name": "stdout",
     "output_type": "stream",
     "text": [
      "Book: Finance\n",
      "no mc questions\n",
      "no mc questions\n",
      "no mc questions\n"
     ]
    }
   ],
   "source": [
    "pd.DataFrame(finance_tb(files, BOOK)).to_parquet('finance_testbank.pq')"
   ]
  },
  {
   "cell_type": "code",
   "execution_count": 116,
   "id": "4556f6c9",
   "metadata": {
    "execution": {
     "iopub.execute_input": "2023-06-10T15:07:35.699353Z",
     "iopub.status.busy": "2023-06-10T15:07:35.698932Z",
     "iopub.status.idle": "2023-06-10T15:07:36.691281Z",
     "shell.execute_reply": "2023-06-10T15:07:36.689776Z"
    },
    "papermill": {
     "duration": 1.040985,
     "end_time": "2023-06-10T15:07:36.694580",
     "exception": false,
     "start_time": "2023-06-10T15:07:35.653595",
     "status": "completed"
    },
    "tags": []
   },
   "outputs": [
    {
     "name": "stdout",
     "output_type": "stream",
     "text": [
      "Book: Finance\n",
      "no mc questions\n",
      "no mc questions\n",
      "no mc questions\n"
     ]
    },
    {
     "data": {
      "text/html": [
       "<div>\n",
       "<style scoped>\n",
       "    .dataframe tbody tr th:only-of-type {\n",
       "        vertical-align: middle;\n",
       "    }\n",
       "\n",
       "    .dataframe tbody tr th {\n",
       "        vertical-align: top;\n",
       "    }\n",
       "\n",
       "    .dataframe thead th {\n",
       "        text-align: right;\n",
       "    }\n",
       "</style>\n",
       "<table border=\"1\" class=\"dataframe\">\n",
       "  <thead>\n",
       "    <tr style=\"text-align: right;\">\n",
       "      <th></th>\n",
       "      <th>Book</th>\n",
       "      <th>Chapter</th>\n",
       "      <th>section_title</th>\n",
       "      <th>is_question</th>\n",
       "      <th>text</th>\n",
       "      <th>question_answers</th>\n",
       "      <th>truefalse</th>\n",
       "      <th>fillblank</th>\n",
       "      <th>mc</th>\n",
       "    </tr>\n",
       "  </thead>\n",
       "  <tbody>\n",
       "    <tr>\n",
       "      <th>256</th>\n",
       "      <td>Finance</td>\n",
       "      <td>19</td>\n",
       "      <td>1-1-what-is-finance</td>\n",
       "      <td>True</td>\n",
       "      <td>\\n\\nWorking capital ratios, like any financial...</td>\n",
       "      <td>False</td>\n",
       "      <td>0</td>\n",
       "      <td>True</td>\n",
       "      <td>True</td>\n",
       "    </tr>\n",
       "    <tr>\n",
       "      <th>269</th>\n",
       "      <td>Finance</td>\n",
       "      <td>19</td>\n",
       "      <td>1-1-what-is-finance</td>\n",
       "      <td>True</td>\n",
       "      <td>\\n\\nIf an account receivable is deemed to be u...</td>\n",
       "      <td>False</td>\n",
       "      <td>0</td>\n",
       "      <td>False</td>\n",
       "      <td>True</td>\n",
       "    </tr>\n",
       "    <tr>\n",
       "      <th>168</th>\n",
       "      <td>Finance</td>\n",
       "      <td>15</td>\n",
       "      <td>1-1-what-is-finance</td>\n",
       "      <td>True</td>\n",
       "      <td>\\n\\nThe relationship between the salaries of f...</td>\n",
       "      <td>False</td>\n",
       "      <td>0</td>\n",
       "      <td>False</td>\n",
       "      <td>True</td>\n",
       "    </tr>\n",
       "    <tr>\n",
       "      <th>352</th>\n",
       "      <td>Finance</td>\n",
       "      <td>4</td>\n",
       "      <td>1-1-what-is-finance</td>\n",
       "      <td>True</td>\n",
       "      <td>\\n\\nFill in the blanks using the Accounting Eq...</td>\n",
       "      <td>False</td>\n",
       "      <td>0</td>\n",
       "      <td>False</td>\n",
       "      <td>False</td>\n",
       "    </tr>\n",
       "    <tr>\n",
       "      <th>55</th>\n",
       "      <td>Finance</td>\n",
       "      <td>11</td>\n",
       "      <td>1-1-what-is-finance</td>\n",
       "      <td>True</td>\n",
       "      <td>\\n\\nA company’s market capitalization refers t...</td>\n",
       "      <td>False</td>\n",
       "      <td>0</td>\n",
       "      <td>False</td>\n",
       "      <td>True</td>\n",
       "    </tr>\n",
       "    <tr>\n",
       "      <th>20</th>\n",
       "      <td>Finance</td>\n",
       "      <td>1</td>\n",
       "      <td>1-1-what-is-finance</td>\n",
       "      <td>True</td>\n",
       "      <td>\\n\\nWhat is the key difference between money m...</td>\n",
       "      <td>False</td>\n",
       "      <td>0</td>\n",
       "      <td>False</td>\n",
       "      <td>True</td>\n",
       "    </tr>\n",
       "    <tr>\n",
       "      <th>371</th>\n",
       "      <td>Finance</td>\n",
       "      <td>4</td>\n",
       "      <td>1-1-what-is-finance</td>\n",
       "      <td>True</td>\n",
       "      <td>\\n\\nMost foreign exchange rates are determined...</td>\n",
       "      <td>False</td>\n",
       "      <td>0</td>\n",
       "      <td>True</td>\n",
       "      <td>True</td>\n",
       "    </tr>\n",
       "    <tr>\n",
       "      <th>64</th>\n",
       "      <td>Finance</td>\n",
       "      <td>11</td>\n",
       "      <td>1-1-what-is-finance</td>\n",
       "      <td>True</td>\n",
       "      <td>\\n\\nAn argument is made for companies not to p...</td>\n",
       "      <td>False</td>\n",
       "      <td>0</td>\n",
       "      <td>True</td>\n",
       "      <td>True</td>\n",
       "    </tr>\n",
       "    <tr>\n",
       "      <th>27</th>\n",
       "      <td>Finance</td>\n",
       "      <td>10</td>\n",
       "      <td>1-1-what-is-finance</td>\n",
       "      <td>True</td>\n",
       "      <td>\\n\\nMultiple Choice Questions\\n\\nA bond might ...</td>\n",
       "      <td>False</td>\n",
       "      <td>0</td>\n",
       "      <td>False</td>\n",
       "      <td>True</td>\n",
       "    </tr>\n",
       "    <tr>\n",
       "      <th>440</th>\n",
       "      <td>Finance</td>\n",
       "      <td>7</td>\n",
       "      <td>1-1-what-is-finance</td>\n",
       "      <td>True</td>\n",
       "      <td>\\n\\nHow many years will it take for $3,700 to ...</td>\n",
       "      <td>False</td>\n",
       "      <td>0</td>\n",
       "      <td>False</td>\n",
       "      <td>False</td>\n",
       "    </tr>\n",
       "  </tbody>\n",
       "</table>\n",
       "</div>"
      ],
      "text/plain": [
       "        Book Chapter        section_title  is_question  \\\n",
       "256  Finance      19  1-1-what-is-finance         True   \n",
       "269  Finance      19  1-1-what-is-finance         True   \n",
       "168  Finance      15  1-1-what-is-finance         True   \n",
       "352  Finance       4  1-1-what-is-finance         True   \n",
       "55   Finance      11  1-1-what-is-finance         True   \n",
       "20   Finance       1  1-1-what-is-finance         True   \n",
       "371  Finance       4  1-1-what-is-finance         True   \n",
       "64   Finance      11  1-1-what-is-finance         True   \n",
       "27   Finance      10  1-1-what-is-finance         True   \n",
       "440  Finance       7  1-1-what-is-finance         True   \n",
       "\n",
       "                                                  text  question_answers  \\\n",
       "256  \\n\\nWorking capital ratios, like any financial...             False   \n",
       "269  \\n\\nIf an account receivable is deemed to be u...             False   \n",
       "168  \\n\\nThe relationship between the salaries of f...             False   \n",
       "352  \\n\\nFill in the blanks using the Accounting Eq...             False   \n",
       "55   \\n\\nA company’s market capitalization refers t...             False   \n",
       "20   \\n\\nWhat is the key difference between money m...             False   \n",
       "371  \\n\\nMost foreign exchange rates are determined...             False   \n",
       "64   \\n\\nAn argument is made for companies not to p...             False   \n",
       "27   \\n\\nMultiple Choice Questions\\n\\nA bond might ...             False   \n",
       "440  \\n\\nHow many years will it take for $3,700 to ...             False   \n",
       "\n",
       "     truefalse  fillblank     mc  \n",
       "256          0       True   True  \n",
       "269          0      False   True  \n",
       "168          0      False   True  \n",
       "352          0      False  False  \n",
       "55           0      False   True  \n",
       "20           0      False   True  \n",
       "371          0       True   True  \n",
       "64           0       True   True  \n",
       "27           0      False   True  \n",
       "440          0      False  False  "
      ]
     },
     "execution_count": 116,
     "metadata": {},
     "output_type": "execute_result"
    }
   ],
   "source": [
    "pd.DataFrame(finance_tb(files, BOOK)).sample(10)"
   ]
  },
  {
   "cell_type": "markdown",
   "id": "35bedec6",
   "metadata": {
    "papermill": {
     "duration": 0.044964,
     "end_time": "2023-06-10T15:07:36.784483",
     "exception": false,
     "start_time": "2023-06-10T15:07:36.739519",
     "status": "completed"
    },
    "tags": []
   },
   "source": [
    "# Principles of Management\n",
    "- concept checks at every section\n",
    "- critical thinking case some chapters\n",
    "- review questions every chapter\n",
    "- managerial skills and managerial decision exercises\n",
    "- has separate review questions folder with extra questions :yay:\n",
    "\n"
   ]
  },
  {
   "cell_type": "code",
   "execution_count": 117,
   "id": "9e17bec2",
   "metadata": {
    "execution": {
     "iopub.execute_input": "2023-06-10T15:07:36.880057Z",
     "iopub.status.busy": "2023-06-10T15:07:36.879520Z",
     "iopub.status.idle": "2023-06-10T15:07:36.887409Z",
     "shell.execute_reply": "2023-06-10T15:07:36.885439Z"
    },
    "papermill": {
     "duration": 0.059203,
     "end_time": "2023-06-10T15:07:36.891321",
     "exception": false,
     "start_time": "2023-06-10T15:07:36.832118",
     "status": "completed"
    },
    "tags": []
   },
   "outputs": [
    {
     "name": "stdout",
     "output_type": "stream",
     "text": [
      "file: 0, PrinciplesofFinance-TestBank-Ch1.docx\n",
      "file: 1, PrinciplesofFinance-TestBank-Ch10.docx\n",
      "file: 2, PrinciplesofFinance-TestBank-Ch11.docx\n",
      "file: 3, PrinciplesofFinance-TestBank-Ch12.docx\n",
      "file: 4, PrinciplesofFinance-TestBank-Ch13.docx\n",
      "file: 5, PrinciplesofFinance-TestBank-Ch14.docx\n",
      "file: 6, PrinciplesofFinance-TestBank-Ch15.docx\n",
      "file: 7, PrinciplesofFinance-TestBank-Ch16.docx\n",
      "file: 8, PrinciplesofFinance-TestBank-Ch17.docx\n",
      "file: 9, PrinciplesofFinance-TestBank-Ch18.docx\n",
      "file: 10, PrinciplesofFinance-TestBank-Ch19.docx\n",
      "file: 11, PrinciplesofFinance-TestBank-Ch2.docx\n",
      "file: 12, PrinciplesofFinance-TestBank-Ch20.docx\n",
      "file: 13, PrinciplesofFinance-TestBank-Ch3.docx\n",
      "file: 14, PrinciplesofFinance-TestBank-Ch4.docx\n",
      "file: 15, PrinciplesofFinance-TestBank-Ch5.docx\n",
      "file: 16, PrinciplesofFinance-TestBank-Ch6.docx\n",
      "file: 17, PrinciplesofFinance-TestBank-Ch7.docx\n",
      "file: 18, PrinciplesofFinance-TestBank-Ch8.docx\n",
      "file: 19, PrinciplesofFinance-TestBank-Ch9.docx\n"
     ]
    }
   ],
   "source": [
    "for i, file in enumerate(files):\n",
    "    print(f\"file: {i}, {file.split('/')[-1]}\")"
   ]
  },
  {
   "cell_type": "code",
   "execution_count": 118,
   "id": "51ac9209",
   "metadata": {
    "execution": {
     "iopub.execute_input": "2023-06-10T15:07:36.989976Z",
     "iopub.status.busy": "2023-06-10T15:07:36.988227Z",
     "iopub.status.idle": "2023-06-10T15:07:37.076122Z",
     "shell.execute_reply": "2023-06-10T15:07:37.074507Z"
    },
    "papermill": {
     "duration": 0.140043,
     "end_time": "2023-06-10T15:07:37.079152",
     "exception": false,
     "start_time": "2023-06-10T15:07:36.939109",
     "status": "completed"
    },
    "tags": []
   },
   "outputs": [],
   "source": [
    "files = sorted(glob('/kaggle/input/newdataset/openstax/openstax/principles-management/principles-management/*.docx'))\n",
    "text = docx2txt.process(files[88])\n",
    "BOOK = 'Principles of Management'"
   ]
  },
  {
   "cell_type": "code",
   "execution_count": 119,
   "id": "0f5606e9",
   "metadata": {
    "execution": {
     "iopub.execute_input": "2023-06-10T15:07:37.172767Z",
     "iopub.status.busy": "2023-06-10T15:07:37.172331Z",
     "iopub.status.idle": "2023-06-10T15:07:37.180362Z",
     "shell.execute_reply": "2023-06-10T15:07:37.179101Z"
    },
    "papermill": {
     "duration": 0.057164,
     "end_time": "2023-06-10T15:07:37.182910",
     "exception": false,
     "start_time": "2023-06-10T15:07:37.125746",
     "status": "completed"
    },
    "tags": []
   },
   "outputs": [
    {
     "data": {
      "text/plain": [
       "['What are the three major types of communication?',\n",
       " 'How can you manage the inflow of electronic communication?',\n",
       " 'What are the major influences on organizational communication, and how can organizational design affect communication?',\n",
       " 'Access for free at https://openstax.org']"
      ]
     },
     "execution_count": 119,
     "metadata": {},
     "output_type": "execute_result"
    }
   ],
   "source": [
    "start = re.search(\"\\nConcept Check\", text).start()\n",
    "concepts = text[start:].split('\\n\\n')[1:]\n",
    "concepts"
   ]
  },
  {
   "cell_type": "code",
   "execution_count": 120,
   "id": "26a1aaf7",
   "metadata": {
    "execution": {
     "iopub.execute_input": "2023-06-10T15:07:37.277544Z",
     "iopub.status.busy": "2023-06-10T15:07:37.277136Z",
     "iopub.status.idle": "2023-06-10T15:07:37.299426Z",
     "shell.execute_reply": "2023-06-10T15:07:37.298489Z"
    },
    "papermill": {
     "duration": 0.071962,
     "end_time": "2023-06-10T15:07:37.302049",
     "exception": false,
     "start_time": "2023-06-10T15:07:37.230087",
     "status": "completed"
    },
    "tags": []
   },
   "outputs": [],
   "source": [
    "question_files = ['critical-thinking-case', 'questions', 'exercises']\n",
    "def management(files, BOOK):\n",
    "    print(f\"Book: {BOOK}\")\n",
    "    rows = []\n",
    "    for file in files:\n",
    "        \n",
    "        text = docx2txt.process(file)\n",
    "        try:\n",
    "            start = re.search(\"\\nAccess for free\", text).start()\n",
    "            text = text[:start]\n",
    "        except:\n",
    "            text = text\n",
    "        filename = file.split('/')[-1]\n",
    "        section_title = re.sub(r\"\\.docx$\", \"\", filename)\n",
    "        chapter = filename.split('-')[0]\n",
    "        is_question = any(q for q in question_files if q in file)\n",
    "        if is_question:\n",
    "            if 'exercises' in filename and 'managerial' in filename:\n",
    "                qs = re.findall('Managerial Decision Exercises\\n(.*?)$', text, re.DOTALL)[0].split('\\n\\n')\n",
    "                for q in qs:\n",
    "                    row = dict()\n",
    "                    row['Book'] = BOOK\n",
    "                    row['Chapter'] = chapter\n",
    "                    row['section_title'] = section_title\n",
    "                    row['is_question'] = True\n",
    "                    row['text'] = q.strip('\\n\\n').strip('\\n')\n",
    "                    rows.append(row)\n",
    "            elif 'exercises' in filename and 'skills' in filename:\n",
    "                qs = re.findall('Management Skills Application Exercises\\n(.*?)$', text, re.DOTALL)[0].split('\\n\\n')\n",
    "                for q in qs:\n",
    "                    row = dict()\n",
    "                    row['Book'] = BOOK\n",
    "                    row['Chapter'] = chapter\n",
    "                    row['section_title'] = section_title\n",
    "                    row['is_question'] = True\n",
    "                    row['text'] = q.strip('\\n\\n').strip('\\n')\n",
    "                    rows.append(row)\n",
    "            elif 'critical-thinking-case' in filename:\n",
    "                try:\n",
    "                    cq = re.findall('Critical Thinking Case\\n\\n(.*?)$', text, re.DOTALL)[0]\n",
    "                    qs = re.findall('\\n\\n.*Questions\\n\\n(.*?)$', cq, re.DOTALL)[0].split('\\n\\n')\n",
    "#                     print(f\"success:{qs} \\n\\n {cq} \\n\\n\")\n",
    "                except:\n",
    "                    start = re.search('Questions:', cq).end()\n",
    "                    end = re.search('Sources:', cq).start()\n",
    "                    qs = cq[start:end].split('\\n\\n')\n",
    "#                     print(f\"Critical Thinking: {filename}\")\n",
    "                for q in qs:\n",
    "                    if len(q) == 0:\n",
    "                        continue\n",
    "                    row = dict()\n",
    "                    row['Book'] = BOOK\n",
    "                    row['Chapter'] = chapter\n",
    "                    row['section_title'] = section_title\n",
    "                    row['is_question'] = True\n",
    "                    row['text'] = q.strip('\\n\\n').strip('\\n')\n",
    "                    rows.append(row)\n",
    "                row = dict()\n",
    "                row['Book'] = BOOK\n",
    "                row['Chapter'] = chapter\n",
    "                row['section_title'] = section_title\n",
    "                row['is_question'] = False\n",
    "                row['text'] = q.strip('\\n\\n').strip('\\n')\n",
    "                rows.append(row)\n",
    "            # Last case review Questions\n",
    "            elif 'questions' in filename:\n",
    "                qs = re.findall('Review Questions\\n\\n(.*?)$', text, re.DOTALL)[0].split('\\n\\n')\n",
    "                for q in qs:\n",
    "                    row = dict()\n",
    "                    row['Book'] = BOOK\n",
    "                    row['Chapter'] = chapter\n",
    "                    row['section_title'] = section_title\n",
    "                    row['is_question'] = True\n",
    "                    row['text'] = q.strip('\\n\\n').strip('\\n')\n",
    "                    rows.append(row)\n",
    "            else:\n",
    "                print(f\"this file is missing: {filename}\")\n",
    "                continue\n",
    "        else:\n",
    "#             concepts = re.findall('Concept Check\\n\\n.*?$', text, re.DOTALL)[0].split('\\n\\n')[1:]\n",
    "            try:\n",
    "                start = re.search(\"\\nConcept Check\", text).start()\n",
    "                concepts = text[start:].split('\\n\\n')[1:]\n",
    "                text = text[:start]\n",
    "            except:\n",
    "                concepts = []\n",
    "            for concept in concepts:\n",
    "                row = dict()\n",
    "                row['Book'] = BOOK\n",
    "                row['Chapter'] = chapter\n",
    "                row['section_title'] = section_title\n",
    "                row['is_question'] = True\n",
    "                row['text'] = concept\n",
    "                row['concept'] = 1\n",
    "#                 print(row)\n",
    "                rows.append(row)\n",
    "            row = dict()\n",
    "            row['Book'] = BOOK\n",
    "            row['Chapter'] = chapter\n",
    "            row['section_title'] = section_title\n",
    "            row['is_question'] = False\n",
    "            row['text'] = text.strip('\\n\\n').strip('\\n')\n",
    "            rows.append(row)\n",
    "    return rows"
   ]
  },
  {
   "cell_type": "code",
   "execution_count": 121,
   "id": "0bd91a0f",
   "metadata": {
    "execution": {
     "iopub.execute_input": "2023-06-10T15:07:37.398031Z",
     "iopub.status.busy": "2023-06-10T15:07:37.397613Z",
     "iopub.status.idle": "2023-06-10T15:07:40.349126Z",
     "shell.execute_reply": "2023-06-10T15:07:40.347900Z"
    },
    "papermill": {
     "duration": 3.00278,
     "end_time": "2023-06-10T15:07:40.352085",
     "exception": false,
     "start_time": "2023-06-10T15:07:37.349305",
     "status": "completed"
    },
    "tags": []
   },
   "outputs": [
    {
     "name": "stdout",
     "output_type": "stream",
     "text": [
      "Book: Principles of Management\n"
     ]
    }
   ],
   "source": [
    "# df = pd.DataFrame(management(files))\n",
    "pd.DataFrame(management(files, BOOK)).to_parquet('management_tq.pq')\n",
    "# flag = df[\"concept\"] == 1\n",
    "# df[flag].text.unique()[0]"
   ]
  },
  {
   "cell_type": "markdown",
   "id": "018dccce",
   "metadata": {
    "papermill": {
     "duration": 0.044965,
     "end_time": "2023-06-10T15:07:40.442862",
     "exception": false,
     "start_time": "2023-06-10T15:07:40.397897",
     "status": "completed"
    },
    "tags": []
   },
   "source": [
    "# Management Review Questions\n",
    "- very detailed review questions to each section\n",
    "- each section has a small summary/intro too\n"
   ]
  },
  {
   "cell_type": "code",
   "execution_count": 122,
   "id": "cf5c82cf",
   "metadata": {
    "execution": {
     "iopub.execute_input": "2023-06-10T15:07:40.537467Z",
     "iopub.status.busy": "2023-06-10T15:07:40.537048Z",
     "iopub.status.idle": "2023-06-10T15:07:40.639931Z",
     "shell.execute_reply": "2023-06-10T15:07:40.637889Z"
    },
    "papermill": {
     "duration": 0.153612,
     "end_time": "2023-06-10T15:07:40.643149",
     "exception": false,
     "start_time": "2023-06-10T15:07:40.489537",
     "status": "completed"
    },
    "tags": []
   },
   "outputs": [],
   "source": [
    "files = sorted(glob('/kaggle/input/newdataset/openstax/openstax/OpenStax_PrinciplesofManagement_Review_Questions/OpenStax_PrinciplesofManagement_Review_Questions/*.docx'))\n",
    "text = docx2txt.process(files[4])\n",
    "# text"
   ]
  },
  {
   "cell_type": "code",
   "execution_count": 123,
   "id": "e6695f8d",
   "metadata": {
    "execution": {
     "iopub.execute_input": "2023-06-10T15:07:40.736253Z",
     "iopub.status.busy": "2023-06-10T15:07:40.735842Z",
     "iopub.status.idle": "2023-06-10T15:07:40.743319Z",
     "shell.execute_reply": "2023-06-10T15:07:40.742154Z"
    },
    "papermill": {
     "duration": 0.057008,
     "end_time": "2023-06-10T15:07:40.745983",
     "exception": false,
     "start_time": "2023-06-10T15:07:40.688975",
     "status": "completed"
    },
    "tags": []
   },
   "outputs": [
    {
     "data": {
      "text/plain": [
       "'01'"
      ]
     },
     "execution_count": 123,
     "metadata": {},
     "output_type": "execute_result"
    }
   ],
   "source": [
    "files[0].split('/')[-1].strip('.docx').split('Ch')[-1]"
   ]
  },
  {
   "cell_type": "code",
   "execution_count": 124,
   "id": "6bce931b",
   "metadata": {
    "execution": {
     "iopub.execute_input": "2023-06-10T15:07:40.842703Z",
     "iopub.status.busy": "2023-06-10T15:07:40.842296Z",
     "iopub.status.idle": "2023-06-10T15:07:40.852297Z",
     "shell.execute_reply": "2023-06-10T15:07:40.850699Z"
    },
    "papermill": {
     "duration": 0.061831,
     "end_time": "2023-06-10T15:07:40.855238",
     "exception": false,
     "start_time": "2023-06-10T15:07:40.793407",
     "status": "completed"
    },
    "tags": []
   },
   "outputs": [],
   "source": [
    "def management_rq(files, BOOK):\n",
    "    print(f\"Book: {BOOK}\")\n",
    "    rows = []\n",
    "    for file in files:\n",
    "        filename = file.split('/')[-1].strip('.docx')\n",
    "        text = docx2txt.process(file)\n",
    "        start = re.search(\"\\n\\nTo answer a particular question,\", text).start()\n",
    "        text = text[:start]\n",
    "        chapter = filename.split('Ch')[-1]\n",
    "        review_questions = re.findall('[1-9]\\.[1-9] Review Questions.*?\\n\\n[1-9]', text, re.DOTALL)\n",
    "        for section in review_questions:\n",
    "            for q in section.split('\\n\\n'):\n",
    "                if re.match('[1-9]\\.[1-9]', q):\n",
    "                    continue\n",
    "                else:\n",
    "                    row = dict()\n",
    "                    row['Book'] = BOOK\n",
    "                    row['Chapter'] = chapter\n",
    "                    row['section_title'] = filename\n",
    "                    row['text'] = q\n",
    "                    row['is_question'] = True\n",
    "                    rows.append(row)\n",
    "    return rows"
   ]
  },
  {
   "cell_type": "code",
   "execution_count": 125,
   "id": "2775ca4a",
   "metadata": {
    "execution": {
     "iopub.execute_input": "2023-06-10T15:07:40.953611Z",
     "iopub.status.busy": "2023-06-10T15:07:40.952253Z",
     "iopub.status.idle": "2023-06-10T15:07:41.287190Z",
     "shell.execute_reply": "2023-06-10T15:07:41.285850Z"
    },
    "papermill": {
     "duration": 0.387808,
     "end_time": "2023-06-10T15:07:41.289740",
     "exception": false,
     "start_time": "2023-06-10T15:07:40.901932",
     "status": "completed"
    },
    "tags": []
   },
   "outputs": [
    {
     "name": "stdout",
     "output_type": "stream",
     "text": [
      "Book: Principles of Management\n"
     ]
    }
   ],
   "source": [
    "pd.DataFrame(management_rq(files, BOOK)).to_parquet('management_review_questions.pq')"
   ]
  },
  {
   "cell_type": "markdown",
   "id": "f0550fa2",
   "metadata": {
    "papermill": {
     "duration": 0.047492,
     "end_time": "2023-06-10T15:07:41.384743",
     "exception": false,
     "start_time": "2023-06-10T15:07:41.337251",
     "status": "completed"
    },
    "tags": []
   },
   "source": [
    "# Principles of Microeconomics\n",
    "\n",
    "- no questions in the text\n",
    "- each chapter has problems, review questions, self-check questions\n",
    "- some have critical thinking questions\n",
    "- We have answers to all self-check questions they are in the chapter files\n"
   ]
  },
  {
   "cell_type": "code",
   "execution_count": 126,
   "id": "87da401e",
   "metadata": {
    "execution": {
     "iopub.execute_input": "2023-06-10T15:07:41.482506Z",
     "iopub.status.busy": "2023-06-10T15:07:41.481820Z",
     "iopub.status.idle": "2023-06-10T15:07:41.552713Z",
     "shell.execute_reply": "2023-06-10T15:07:41.550959Z"
    },
    "papermill": {
     "duration": 0.122048,
     "end_time": "2023-06-10T15:07:41.555585",
     "exception": false,
     "start_time": "2023-06-10T15:07:41.433537",
     "status": "completed"
    },
    "tags": []
   },
   "outputs": [],
   "source": [
    "files = sorted(glob('/kaggle/input/newdataset/openstax/openstax/ap-microeconomics-2e-docx/*.docx'))\n",
    "text = docx2txt.process(files[3])\n",
    "BOOK = 'Microeconomics 2e'"
   ]
  },
  {
   "cell_type": "code",
   "execution_count": 127,
   "id": "1b87f0b5",
   "metadata": {
    "execution": {
     "iopub.execute_input": "2023-06-10T15:07:41.652710Z",
     "iopub.status.busy": "2023-06-10T15:07:41.651528Z",
     "iopub.status.idle": "2023-06-10T15:07:41.657747Z",
     "shell.execute_reply": "2023-06-10T15:07:41.657020Z"
    },
    "papermill": {
     "duration": 0.05755,
     "end_time": "2023-06-10T15:07:41.659884",
     "exception": false,
     "start_time": "2023-06-10T15:07:41.602334",
     "status": "completed"
    },
    "tags": []
   },
   "outputs": [
    {
     "data": {
      "text/plain": [
       "'/kaggle/input/newdataset/openstax/openstax/ap-microeconomics-2e-docx/12-critical-thinking-questions.docx'"
      ]
     },
     "execution_count": 127,
     "metadata": {},
     "output_type": "execute_result"
    }
   ],
   "source": [
    "files[36]"
   ]
  },
  {
   "cell_type": "code",
   "execution_count": 128,
   "id": "ffb303e7",
   "metadata": {
    "execution": {
     "iopub.execute_input": "2023-06-10T15:07:41.756715Z",
     "iopub.status.busy": "2023-06-10T15:07:41.753978Z",
     "iopub.status.idle": "2023-06-10T15:07:41.760458Z",
     "shell.execute_reply": "2023-06-10T15:07:41.759256Z"
    },
    "papermill": {
     "duration": 0.057182,
     "end_time": "2023-06-10T15:07:41.763239",
     "exception": false,
     "start_time": "2023-06-10T15:07:41.706057",
     "status": "completed"
    },
    "tags": []
   },
   "outputs": [],
   "source": [
    "# for file in files:\n",
    "#     if 'chapter' in file:\n",
    "#         print(file)"
   ]
  },
  {
   "cell_type": "code",
   "execution_count": 129,
   "id": "27fa7b49",
   "metadata": {
    "execution": {
     "iopub.execute_input": "2023-06-10T15:07:41.859572Z",
     "iopub.status.busy": "2023-06-10T15:07:41.858563Z",
     "iopub.status.idle": "2023-06-10T15:07:41.864402Z",
     "shell.execute_reply": "2023-06-10T15:07:41.862731Z"
    },
    "papermill": {
     "duration": 0.057047,
     "end_time": "2023-06-10T15:07:41.867217",
     "exception": false,
     "start_time": "2023-06-10T15:07:41.810170",
     "status": "completed"
    },
    "tags": []
   },
   "outputs": [],
   "source": [
    "# q = re.findall('\\n\\n[A-Z].*?\\n\\n[1-9]', text, re.DOTALL)\n",
    "# q"
   ]
  },
  {
   "cell_type": "code",
   "execution_count": 130,
   "id": "164b532c",
   "metadata": {
    "execution": {
     "iopub.execute_input": "2023-06-10T15:07:41.968971Z",
     "iopub.status.busy": "2023-06-10T15:07:41.968522Z",
     "iopub.status.idle": "2023-06-10T15:07:41.984429Z",
     "shell.execute_reply": "2023-06-10T15:07:41.982608Z"
    },
    "papermill": {
     "duration": 0.072796,
     "end_time": "2023-06-10T15:07:41.987620",
     "exception": false,
     "start_time": "2023-06-10T15:07:41.914824",
     "status": "completed"
    },
    "tags": []
   },
   "outputs": [],
   "source": [
    "question_files = ['problems', 'questions']\n",
    "def ap_micro(files, BOOK):\n",
    "    print(f\"Book: {BOOK}\")\n",
    "    rows = []\n",
    "    for file in files:\n",
    "        if 'chapter' in file:\n",
    "            #answers to self-check questions\n",
    "            continue\n",
    "        if 'references' in file or 'preface' in file:\n",
    "            continue\n",
    "        row = dict()\n",
    "        row['Book'] = BOOK\n",
    "        text = docx2txt.process(file)\n",
    "        try:\n",
    "            start = re.search(\"\\nAccess for free\", text).start()\n",
    "            text = text[:start]\n",
    "        except:\n",
    "            text = text\n",
    "        filename = file.split('/')[-1]\n",
    "        section_title = re.sub(r\"\\.docx$\", \"\", filename)\n",
    "        chapter = filename.split('-')[0]\n",
    "        if 'a' in chapter or 'b' in chapter or 'c' in chapter:\n",
    "            continue\n",
    "        is_question = any(q for q in question_files if q in file)\n",
    "        if is_question:\n",
    "            if 'review' in filename or 'self-check' in filename or 'critical' in filename:\n",
    "                qs = re.findall('\\n\\n[A-Z].*?\\n\\n', text, re.DOTALL)\n",
    "                for q in qs:\n",
    "                    row = dict()\n",
    "                    row['Book'] = BOOK\n",
    "                    row['Chapter'] = chapter\n",
    "                    row['section_title'] = section_title\n",
    "                    row['is_question'] = True\n",
    "                    row['text'] = q.strip('\\n\\n').strip('\\n')\n",
    "                    rows.append(row)\n",
    "            elif 'problems' in filename:\n",
    "                qs = re.findall('\\n\\n[A-Z].*?(?:\\n\\n[1-9]|\\n\\nAccess)', text, re.DOTALL)\n",
    "                for q in qs:\n",
    "                    row = dict()\n",
    "                    row['Book'] = BOOK\n",
    "                    row['Chapter'] = chapter\n",
    "                    row['section_title'] = section_title\n",
    "                    row['is_question'] = True\n",
    "                    row['text'] = q.strip('\\n\\n').strip('\\n')\n",
    "                    rows.append(row)\n",
    "        else:\n",
    "            row = dict()\n",
    "            row['Book'] = BOOK\n",
    "            row['Chapter'] = chapter\n",
    "            row['section_title'] = section_title\n",
    "            row['is_question'] = False\n",
    "            row['text'] = text.strip('\\n\\n').strip('\\n')\n",
    "            rows.append(row)\n",
    "    return rows"
   ]
  },
  {
   "cell_type": "code",
   "execution_count": 131,
   "id": "338bb17f",
   "metadata": {
    "execution": {
     "iopub.execute_input": "2023-06-10T15:07:42.085210Z",
     "iopub.status.busy": "2023-06-10T15:07:42.084809Z",
     "iopub.status.idle": "2023-06-10T15:07:44.108909Z",
     "shell.execute_reply": "2023-06-10T15:07:44.107232Z"
    },
    "papermill": {
     "duration": 2.076751,
     "end_time": "2023-06-10T15:07:44.111865",
     "exception": false,
     "start_time": "2023-06-10T15:07:42.035114",
     "status": "completed"
    },
    "tags": []
   },
   "outputs": [
    {
     "name": "stdout",
     "output_type": "stream",
     "text": [
      "Book: Microeconomics 2e\n"
     ]
    }
   ],
   "source": [
    "pd.DataFrame(ap_micro(files, BOOK = BOOK)).to_parquet('microeconomics2e_tq.pq')"
   ]
  },
  {
   "cell_type": "markdown",
   "id": "58fe845b",
   "metadata": {
    "papermill": {
     "duration": 0.045671,
     "end_time": "2023-06-10T15:07:44.203963",
     "exception": false,
     "start_time": "2023-06-10T15:07:44.158292",
     "status": "completed"
    },
    "tags": []
   },
   "source": [
    "# Microeconomics 2e Testbank\n",
    "\n",
    "- Has multiple choice and essay questions for each chapter\n",
    "- some files indicate that some chapters may have true or false, but I couldn't find any and looked through all files. I.e at the end it says how many questions of each type are there and it always says True/False: 0"
   ]
  },
  {
   "cell_type": "code",
   "execution_count": 132,
   "id": "5b38e527",
   "metadata": {
    "execution": {
     "iopub.execute_input": "2023-06-10T15:07:44.298327Z",
     "iopub.status.busy": "2023-06-10T15:07:44.297963Z",
     "iopub.status.idle": "2023-06-10T15:07:44.410448Z",
     "shell.execute_reply": "2023-06-10T15:07:44.408365Z"
    },
    "papermill": {
     "duration": 0.162982,
     "end_time": "2023-06-10T15:07:44.413286",
     "exception": false,
     "start_time": "2023-06-10T15:07:44.250304",
     "status": "completed"
    },
    "tags": []
   },
   "outputs": [
    {
     "data": {
      "text/plain": [
       "'Chapter 4 Test Bank \\n\\n\\n\\nMultiple Choice Questions\\n\\n\\n\\n\\n\\n1. The “law of supply” functions in labor markets; that is, a higher ___________ for labor leads to a higher quantity of labor supplied.\\n\\n\\n\\nA. price \\n\\nB. demand\\n\\nC. supply\\n\\nD. quantity\\n\\n\\n\\nAnswer: A\\t\\n\\n\\n\\nReference:\\n\\n\\n\\nExplanation:\\n\\n\\n\\n\\n\\n2. As the _'"
      ]
     },
     "execution_count": 132,
     "metadata": {},
     "output_type": "execute_result"
    }
   ],
   "source": [
    "files = sorted(glob('/kaggle/input/newdataset/openstax/openstax/AP_Micro_2e_Test_Bank/*.docx'))\n",
    "text = docx2txt.process(files[3])\n",
    "text[:300]\n",
    "# BOOK = 'Microeconomics 2e'"
   ]
  },
  {
   "cell_type": "code",
   "execution_count": 133,
   "id": "402b0786",
   "metadata": {
    "execution": {
     "iopub.execute_input": "2023-06-10T15:07:44.517173Z",
     "iopub.status.busy": "2023-06-10T15:07:44.516449Z",
     "iopub.status.idle": "2023-06-10T15:07:46.201335Z",
     "shell.execute_reply": "2023-06-10T15:07:46.199125Z"
    },
    "papermill": {
     "duration": 1.736178,
     "end_time": "2023-06-10T15:07:46.204141",
     "exception": false,
     "start_time": "2023-06-10T15:07:44.467963",
     "status": "completed"
    },
    "tags": []
   },
   "outputs": [],
   "source": [
    "for file in files:\n",
    "    text = docx2txt.process(file)\n",
    "    if not re.search('Essay Questions', text):\n",
    "        print(f'have not: {file}')\n",
    "    if not re.search('Multiple Choice Questions', text):\n",
    "        print(f'have not: {file}')\n",
    "    "
   ]
  },
  {
   "cell_type": "code",
   "execution_count": 134,
   "id": "5da67ec7",
   "metadata": {
    "execution": {
     "iopub.execute_input": "2023-06-10T15:07:46.300027Z",
     "iopub.status.busy": "2023-06-10T15:07:46.299593Z",
     "iopub.status.idle": "2023-06-10T15:07:46.307924Z",
     "shell.execute_reply": "2023-06-10T15:07:46.306064Z"
    },
    "papermill": {
     "duration": 0.060476,
     "end_time": "2023-06-10T15:07:46.310685",
     "exception": false,
     "start_time": "2023-06-10T15:07:46.250209",
     "status": "completed"
    },
    "tags": []
   },
   "outputs": [],
   "source": [
    "# essay = text[essay_start:]\n",
    "# essay = re.findall('\\n\\n\\n\\n[1-9].(.*?)\\n\\n\\n\\nExplanation', essay, re.DOTALL)\n",
    "# # mcq[:3]\n",
    "# essay"
   ]
  },
  {
   "cell_type": "markdown",
   "id": "6764ac2d",
   "metadata": {
    "papermill": {
     "duration": 0.044831,
     "end_time": "2023-06-10T15:07:46.402212",
     "exception": false,
     "start_time": "2023-06-10T15:07:46.357381",
     "status": "completed"
    },
    "tags": []
   },
   "source": [
    "\\n\\n\\n\\n1. A tariff differs from a quota in that a tariff is:\\n\\n\\n\\nA. levied on imports, whereas a quota is imposed on exports.\\n\\nB. levied on exports, whereas a quota is imposed on imports.\\n\\nC. a tax levied on exports, whereas a quota is a limit on the number of units of a good that can be exported.\\n\\nD. a tax imposed on imports, whereas a quota is an absolute limit to the number of units of a good that can be imported.\\n\\n\\n\\nAnswer:"
   ]
  },
  {
   "cell_type": "code",
   "execution_count": 135,
   "id": "731d5603",
   "metadata": {
    "execution": {
     "iopub.execute_input": "2023-06-10T15:07:46.496299Z",
     "iopub.status.busy": "2023-06-10T15:07:46.495468Z",
     "iopub.status.idle": "2023-06-10T15:07:46.501327Z",
     "shell.execute_reply": "2023-06-10T15:07:46.499931Z"
    },
    "papermill": {
     "duration": 0.056142,
     "end_time": "2023-06-10T15:07:46.504123",
     "exception": false,
     "start_time": "2023-06-10T15:07:46.447981",
     "status": "completed"
    },
    "tags": []
   },
   "outputs": [],
   "source": [
    "# mcq = text[multiple_start:essay_start]\n",
    "# mcq = re.findall('\\n\\n\\n\\n[1-9].(.*?)\\n\\n\\n\\nAnswer', mcq, re.DOTALL)\n",
    "# mcq[:3]"
   ]
  },
  {
   "cell_type": "code",
   "execution_count": 136,
   "id": "6c7fabd5",
   "metadata": {
    "execution": {
     "iopub.execute_input": "2023-06-10T15:07:46.598570Z",
     "iopub.status.busy": "2023-06-10T15:07:46.598178Z",
     "iopub.status.idle": "2023-06-10T15:07:46.612455Z",
     "shell.execute_reply": "2023-06-10T15:07:46.610472Z"
    },
    "papermill": {
     "duration": 0.064874,
     "end_time": "2023-06-10T15:07:46.615266",
     "exception": false,
     "start_time": "2023-06-10T15:07:46.550392",
     "status": "completed"
    },
    "tags": []
   },
   "outputs": [],
   "source": [
    "def micro2e_testbank(files, BOOK):\n",
    "    print(f\"Book: {BOOK}\")\n",
    "    rows = []\n",
    "    for file in files:\n",
    "        text = docx2txt.process(file)\n",
    "        filename = file.split('/')[-1].strip('.docx')\n",
    "        chapter = filename.split('TestBank-')[-1].split('-')[0].strip('Ch')\n",
    "        #get multiple choice questions\n",
    "        multiple_start = re.search('Multiple Choice Questions', text).start() \n",
    "        essay_start = re.search('Essay Questions', text).start()\n",
    "        mcq = text[multiple_start:essay_start]\n",
    "        mcq = re.findall('\\n\\n\\n\\n[1-9].(.*?)\\n\\n\\n\\nAnswer', mcq, re.DOTALL)\n",
    "        #get essay questions\n",
    "        essay = text[essay_start:]\n",
    "        if 'Test Bank Statistics Summary' in essay:\n",
    "            essay_end = re.search('Test Bank Statistics', essay).start()\n",
    "            essay = essay[:essay_end]\n",
    "        essay = re.findall('\\n\\n\\n\\n[1-9].(.*?)\\n\\n\\n\\nExplanation', essay, re.DOTALL)\n",
    "        for q in mcq:\n",
    "            q = q.strip(\" \")\n",
    "            fill_blank = False\n",
    "            if '___' in q:\n",
    "                fill_blank = True\n",
    "            row = dict()\n",
    "            row['Book'] = BOOK\n",
    "            row['Chapter'] = chapter\n",
    "            row['text'] = q.strip('\\n\\n').strip('\\n')\n",
    "            row['is_question'] = True\n",
    "            row['truefalse'] = False\n",
    "            row['fillblank'] = fill_blank\n",
    "            row['mc'] = True\n",
    "            rows.append(row)\n",
    "        for q in essay:\n",
    "            q = q.strip(\" \")\n",
    "            row = dict()\n",
    "            row['Book'] = BOOK\n",
    "            row['Chapter'] = chapter\n",
    "            row['text'] = q.strip('\\n\\n').strip('\\n')\n",
    "            row['is_question'] = True\n",
    "            row['truefalse'] = False\n",
    "            row['fillblank'] = False\n",
    "            row['mc'] = False\n",
    "            rows.append(row)\n",
    "    return rows"
   ]
  },
  {
   "cell_type": "code",
   "execution_count": 137,
   "id": "cd81c6ed",
   "metadata": {
    "execution": {
     "iopub.execute_input": "2023-06-10T15:07:46.710471Z",
     "iopub.status.busy": "2023-06-10T15:07:46.710090Z",
     "iopub.status.idle": "2023-06-10T15:07:48.384866Z",
     "shell.execute_reply": "2023-06-10T15:07:48.383966Z"
    },
    "papermill": {
     "duration": 1.724708,
     "end_time": "2023-06-10T15:07:48.387601",
     "exception": false,
     "start_time": "2023-06-10T15:07:46.662893",
     "status": "completed"
    },
    "tags": []
   },
   "outputs": [
    {
     "name": "stdout",
     "output_type": "stream",
     "text": [
      "Book: Microeconomics 2e\n"
     ]
    }
   ],
   "source": [
    "pd.DataFrame(micro2e_testbank(files, BOOK = BOOK)).to_parquet('micro2e_testbank.pq')"
   ]
  },
  {
   "cell_type": "markdown",
   "id": "100bae6e",
   "metadata": {
    "papermill": {
     "duration": 0.047661,
     "end_time": "2023-06-10T15:07:48.482159",
     "exception": false,
     "start_time": "2023-06-10T15:07:48.434498",
     "status": "completed"
    },
    "tags": []
   },
   "source": [
    "# Principles of Macroeconomics 2e Testbank\n",
    "- same as micro eco also no true false, so odd\n"
   ]
  },
  {
   "cell_type": "code",
   "execution_count": 138,
   "id": "df6e88a2",
   "metadata": {
    "execution": {
     "iopub.execute_input": "2023-06-10T15:07:48.578372Z",
     "iopub.status.busy": "2023-06-10T15:07:48.577628Z",
     "iopub.status.idle": "2023-06-10T15:07:48.668379Z",
     "shell.execute_reply": "2023-06-10T15:07:48.667043Z"
    },
    "papermill": {
     "duration": 0.141858,
     "end_time": "2023-06-10T15:07:48.671271",
     "exception": false,
     "start_time": "2023-06-10T15:07:48.529413",
     "status": "completed"
    },
    "tags": []
   },
   "outputs": [],
   "source": [
    "files = sorted(glob('/kaggle/input/newdataset/openstax/openstax/APMacroEconomics2e-TestBank/APMacroEconomics2e-TestBank/*.docx'))\n",
    "text = docx2txt.process(files[3])\n",
    "BOOK = 'Macroeconomics 2e'"
   ]
  },
  {
   "cell_type": "code",
   "execution_count": 139,
   "id": "f3623ce5",
   "metadata": {
    "execution": {
     "iopub.execute_input": "2023-06-10T15:07:48.765966Z",
     "iopub.status.busy": "2023-06-10T15:07:48.765553Z",
     "iopub.status.idle": "2023-06-10T15:07:48.775367Z",
     "shell.execute_reply": "2023-06-10T15:07:48.774097Z"
    },
    "papermill": {
     "duration": 0.05981,
     "end_time": "2023-06-10T15:07:48.777418",
     "exception": false,
     "start_time": "2023-06-10T15:07:48.717608",
     "status": "completed"
    },
    "tags": []
   },
   "outputs": [
    {
     "data": {
      "text/plain": [
       "'16'"
      ]
     },
     "execution_count": 139,
     "metadata": {},
     "output_type": "execute_result"
    }
   ],
   "source": [
    "files[-1].split('/')[-1].strip('.docx').split('-')[1].strip(\"TestBankCh\")"
   ]
  },
  {
   "cell_type": "code",
   "execution_count": 140,
   "id": "0dc2e849",
   "metadata": {
    "execution": {
     "iopub.execute_input": "2023-06-10T15:07:48.870917Z",
     "iopub.status.busy": "2023-06-10T15:07:48.869518Z",
     "iopub.status.idle": "2023-06-10T15:07:48.883114Z",
     "shell.execute_reply": "2023-06-10T15:07:48.882001Z"
    },
    "papermill": {
     "duration": 0.063589,
     "end_time": "2023-06-10T15:07:48.885912",
     "exception": false,
     "start_time": "2023-06-10T15:07:48.822323",
     "status": "completed"
    },
    "tags": []
   },
   "outputs": [],
   "source": [
    "def macro2e_testbank(files, BOOK):\n",
    "    print(f\"Book: {BOOK}\")\n",
    "    rows = []\n",
    "    for file in files:\n",
    "        text = docx2txt.process(file)\n",
    "        filename = file.split('/')[-1].strip('.docx')\n",
    "        if 'TestBankCh' in filename:\n",
    "            chapter = filename.split('-')[1].strip(\"TestBankCh\")\n",
    "        else:\n",
    "            chapter = filename.split('TestBank-')[-1].split('-')[0].strip('Ch')\n",
    "        #get multiple choice questions\n",
    "        multiple_start = re.search('Multiple Choice Questions', text).start() \n",
    "        essay_start = re.search('Essay Questions', text).start()\n",
    "        mcq = text[multiple_start:essay_start]\n",
    "        mcq = re.findall('\\n\\n\\n\\n[1-9].(.*?)\\n\\n\\n\\nAnswer', mcq, re.DOTALL)\n",
    "        #get essay questions\n",
    "        essay = text[essay_start:]\n",
    "        if 'Test Bank Statistics Summary' in essay:\n",
    "            essay_end = re.search('Test Bank Statistics', essay).start()\n",
    "            essay = essay[:essay_end]\n",
    "        essay = re.findall('\\n\\n\\n\\n[1-9].(.*?)\\n\\n\\n\\nExplanation', essay, re.DOTALL)\n",
    "        for q in mcq:\n",
    "            q = q.strip(\" \")\n",
    "            fill_blank = False\n",
    "            if '___' in q:\n",
    "                fill_blank = True\n",
    "            row = dict()\n",
    "            row['Book'] = BOOK\n",
    "            row['Chapter'] = chapter\n",
    "            row['text'] = q.strip('\\n\\n').strip('\\n')\n",
    "            row['is_question'] = True\n",
    "            row['truefalse'] = False\n",
    "            row['fillblank'] = fill_blank\n",
    "            row['mc'] = True\n",
    "            rows.append(row)\n",
    "        for q in essay:\n",
    "            q = q.strip(\" \")\n",
    "            row = dict()\n",
    "            row['Book'] = BOOK\n",
    "            row['Chapter'] = chapter\n",
    "            row['text'] = q.strip('\\n\\n').strip('\\n')\n",
    "            row['is_question'] = True\n",
    "            row['truefalse'] = False\n",
    "            row['fillblank'] = False\n",
    "            row['mc'] = False\n",
    "            rows.append(row)\n",
    "    return rows"
   ]
  },
  {
   "cell_type": "code",
   "execution_count": 141,
   "id": "a07ade66",
   "metadata": {
    "execution": {
     "iopub.execute_input": "2023-06-10T15:07:48.983354Z",
     "iopub.status.busy": "2023-06-10T15:07:48.982271Z",
     "iopub.status.idle": "2023-06-10T15:07:49.878775Z",
     "shell.execute_reply": "2023-06-10T15:07:49.877138Z"
    },
    "papermill": {
     "duration": 0.94791,
     "end_time": "2023-06-10T15:07:49.881465",
     "exception": false,
     "start_time": "2023-06-10T15:07:48.933555",
     "status": "completed"
    },
    "tags": []
   },
   "outputs": [
    {
     "name": "stdout",
     "output_type": "stream",
     "text": [
      "Book: Macroeconomics 2e\n"
     ]
    }
   ],
   "source": [
    "pd.DataFrame(macro2e_testbank(files, BOOK)).to_parquet('macroeconomics2e_testbank')"
   ]
  },
  {
   "cell_type": "markdown",
   "id": "9b16f0ea",
   "metadata": {
    "papermill": {
     "duration": 0.045958,
     "end_time": "2023-06-10T15:07:49.974337",
     "exception": false,
     "start_time": "2023-06-10T15:07:49.928379",
     "status": "completed"
    },
    "tags": []
   },
   "source": [
    "# Principles of MacroEconomics 2e"
   ]
  },
  {
   "cell_type": "markdown",
   "id": "3466e5d0",
   "metadata": {
    "papermill": {
     "duration": 0.04699,
     "end_time": "2023-06-10T15:07:50.069744",
     "exception": false,
     "start_time": "2023-06-10T15:07:50.022754",
     "status": "completed"
    },
    "tags": []
   },
   "source": [
    "- same structure as micro 2e, \n",
    "- could possibly get rid of the extra files appendices?"
   ]
  },
  {
   "cell_type": "code",
   "execution_count": 142,
   "id": "16dad63d",
   "metadata": {
    "execution": {
     "iopub.execute_input": "2023-06-10T15:07:50.167500Z",
     "iopub.status.busy": "2023-06-10T15:07:50.167089Z",
     "iopub.status.idle": "2023-06-10T15:07:50.250898Z",
     "shell.execute_reply": "2023-06-10T15:07:50.249765Z"
    },
    "papermill": {
     "duration": 0.135137,
     "end_time": "2023-06-10T15:07:50.253041",
     "exception": false,
     "start_time": "2023-06-10T15:07:50.117904",
     "status": "completed"
    },
    "tags": []
   },
   "outputs": [
    {
     "data": {
      "text/plain": [
       "\"1.4   How To Organize Economies: An Overview of Economic Systems\\n\\nLearning Objectives\\n\\nBy the end of this section, you will be able to:\\n\\nContrast traditional economies, command economies, and market economies\\n\\nExplain gross domestic product (GDP)\\n\\nAssess the importance and effects of globalization\\n\\nThink about what a complex system a modern economy is. It includes all production of goods and services, all buying and selling, all employment. The economic life of every individual is interrelated, at least to a small extent, with the economic lives of thousands or even millions of other individuals. Who organizes and coordinates this system? Who ensures that, for example, the number of televisions a society provides is the same as the amount it needs and wants? Who ensures that the right number of employees work in the electronics industry? Who ensures that televisions are produced in the best way possible? How does it all get done?\\n\\nThere are at least three ways that societies organize an economy. The first is the traditional economy, which is the oldest economic system and is used in parts of Asia, Africa, and South America. Traditional economies organize their economic affairs the way they have always done (i.e., tradition). Occupations stay in the family. Most families are farmers who grow the crops using traditional methods. What you produce is what you consume. Because tradition drives the way of life, there is little economic progress or development.\\n\\n\\n\\nFigure  1.7   A Command Economy   Ancient Egypt was an example of a command economy. (Credit: Jay Bergesen/Flickr Creative Commons)\\n\\nCommand economies are very different. In a command economy, economic effort is devoted to goals passed down from a ruler or ruling class. Ancient Egypt was a good example: a large part of economic life was devoted to building pyramids, like those in Figure 1.7, for the pharaohs. Medieval manor life is another example: the lord provided the land for growing crops and protection in the event of war. In return, vassals provided labor and soldiers to do the lord’s bidding. In the last century, communism emphasized command economies.\\n\\nIn a command economy, the government decides what goods and services will be produced and what prices it will charge for them. The government decides what methods of production to use and sets wages for workers. The government provides many necessities like healthcare and education for free. Currently, Cuba and North Korea have command economies.\\n\\n\\n\\nFigure  1.8   A Market Economy   Nothing says “market” more than The New York Stock Exchange. (Credit: Erik Drost/Flickr Creative Commons)\\n\\nAlthough command economies have a very centralized structure for economic decisions, market economies have a very decentralized structure. A market is an institution that brings together buyers and sellers of goods or services, who may be either individuals or businesses. The New York Stock Exchange (Figure 1.8) is a prime example of a market which brings buyers and sellers together. In a market economy, decision-making is decentralized. Market economies are based on private enterprise: the private individuals or groups of private individuals own and operate the means of production (resources and businesses). Businesses supply goods and services based on demand. (In a command economy, by contrast, the government owns resources and businesses.) Supply of goods and services depends on what the demands are. A person’s income is based on his or her ability to convert resources (especially labor) into something that society values. The more society values the person’s output, the higher the income (think Lady Gaga or LeBron James). In this scenario, market forces, not governments, determine economic decisions.\\n\\nMost economies in the real world are mixed. They combine elements of command and market (and even traditional) systems. The U.S. economy is positioned toward the market-oriented end of the spectrum. Many countries in Europe and Latin America, while primarily market-oriented, have a greater degree of government involvement in economic decisions than the U.S. economy. China and Russia, while over the past several decades have moved more in the direction of having a market-oriented system, remain closer to the command economy end of the spectrum. The Heritage Foundation provides perspective on countries’ economic freedom, as the following Clear It Up feature discusses.\\n\\nClear It Up\\n\\nWhat countries are considered economically free?\\n\\nWho is in control of economic decisions? Are people free to do what they want and to work where they want? Are businesses free to produce when they want and what they choose, and to hire and fire as they wish? Are banks free to choose who will receive loans, or does the government control these kinds of choices? Each year, researchers at the Heritage Foundation and the Wall Street Journal look at 50 different categories of economic freedom for countries around the world. They give each nation a score based on the extent of economic freedom in each category. Note that while the Heritage Foundation/WSJ index is widely cited by an array of scholars and publications, it should be regarded as only one viewpoint. Some experts indicate that the index’s category choices and scores are politically biased. However, the index and others like it provide a useful resource for critical discussion of economic freedom.\\n\\nThe 2016 Heritage Foundation’s Index of Economic Freedom report ranked 178 countries around the world: Table 1.1 lists some examples of the most free and the least free countries. Although technically not a separate country, Hong Kong has been granted a degree of autonomy such that, for purposes of measuring economic statistics, it is often treated as a separate country. Several additional countries were not ranked because of extreme instability that made judgments about economic freedom impossible. These countries include Afghanistan, Iraq, Libya, Syria, Somalia, and Yemen.\\n\\nThe assigned rankings are inevitably based on estimates, yet even these rough measures can be useful for discerning trends. In 2015, 101 of the 178 included countries shifted toward greater economic freedom, although 77 of the countries shifted toward less economic freedom. In recent decades, the overall trend has been a higher level of economic freedom around the world.\\n\\nMost Economic Freedom\\n\\nLeast Economic Freedom\\n\\n1. Hong Kong\\n\\n167. Timor-Leste\\n\\n2. Singapore\\n\\n168. Democratic Republic of Congo\\n\\n3. New Zealand\\n\\n169. Argentina\\n\\n4. Switzerland\\n\\n170. Equatorial Guinea\\n\\n5. Australia\\n\\n171. Iran\\n\\n6. Canada\\n\\n172. Republic of Congo\\n\\n7. Chile\\n\\n173. Eritrea\\n\\n8. Ireland\\n\\n174. Turkmenistan\\n\\n9. Estonia\\n\\n175. Zimbabwe\\n\\n10. United Kingdom\\n\\n176. Venezuela\\n\\n11. United States\\n\\n177. Cuba\\n\\n12. Denmark\\n\\n178. North Korea\\n\\nTable  1.1   Economic Freedoms, 2016   (Source: The Heritage Foundation, 2016 Index of Economic Freedom, Country Rankings, http://www.heritage.org/index/ranking)\\n\\nRegulations: The Rules of the Game\\n\\nMarkets and government regulations are always entangled. There is no such thing as an absolutely free market. Regulations always define the “rules of the game” in the economy. Economies that are primarily market-oriented have fewer regulations—ideally just enough to maintain an even playing field for participants. At a minimum, these laws govern matters like safeguarding private property against theft, protecting people from violence, enforcing legal contracts, preventing fraud, and collecting taxes. Conversely, even the most command-oriented economies operate using markets. How else would buying and selling occur? The government heavily regulates decisions of what to produce and prices to charge. Heavily regulated economies often have underground economies (or black markets), which are markets where the buyers and sellers make transactions without the government’s approval.\\n\\nThe question of how to organize economic institutions is typically not a black-or-white choice between all market or all government, but instead involves a balancing act over the appropriate combination of market freedom and government rules.\\n\\n\\n\\nFigure  1.9   Globalization   Cargo ships are one mode of transportation for shipping goods in the global economy. (Credit: Raul Valdez/Flickr Creative Commons)\\n\\nThe Rise of Globalization\\n\\nRecent decades have seen a trend toward globalization, which is the expanding cultural, political, and economic connections between people around the world. One measure of this is the increased buying and selling of goods, services, and assets across national borders—in other words, international trade and financial capital flows.\\n\\nGlobalization has occurred for a number of reasons. Improvements in shipping, as illustrated by the container ship in Figure 1.9, and air cargo have driven down transportation costs. Innovations in computing and telecommunications have made it easier and cheaper to manage long-distance economic connections of production and sales. Many valuable products and services in the modern economy can take the form of information—for example: computer software; financial advice; travel planning; music, books and movies; and blueprints for designing a building. These products and many others can be transported over telephones and computer networks at ever-lower costs. Finally, international agreements and treaties between countries have encouraged greater trade.\\n\\nTable 1.2 presents one measure of globalization. It shows the percentage of domestic economic production that was exported for a selection of countries from 2010 to 2015, according to an entity known as The World Bank. Exports are the goods and services that one produces domestically and sells abroad. Imports are the goods and services that one produces abroad and then sells domestically. Gross domestic product (GDP) measures the size of total production in an economy. Thus, the ratio of exports divided by GDP measures what share of a country’s total economic production is sold in other countries.\\n\\nCountry\\n\\n2010\\n\\n2011\\n\\n2012\\n\\n2013\\n\\n2014\\n\\n2015\\n\\n\\n\\nHigher Income Countries\\n\\n\\n\\n\\n\\n\\n\\n\\n\\n\\n\\n\\n\\n\\n\\nUnited States\\n\\n12.4\\n\\n13.6\\n\\n13.6\\n\\n13.5\\n\\n13.5\\n\\n12.6\\n\\n\\n\\nBelgium\\n\\n76.2\\n\\n81.4\\n\\n82.2\\n\\n82.8\\n\\n84.0\\n\\n84.4\\n\\n\\n\\nCanada\\n\\n29.1\\n\\n30.7\\n\\n30.0\\n\\n30.1\\n\\n31.7\\n\\n31.5\\n\\n\\n\\nFrance\\n\\n26.0\\n\\n27.8\\n\\n28.1\\n\\n28.3\\n\\n29.0\\n\\n30.0\\n\\n\\n\\nMiddle Income Countries\\n\\n\\n\\n\\n\\n\\n\\n\\n\\n\\n\\n\\n\\n\\n\\nBrazil\\n\\n10.9\\n\\n11.9\\n\\n12.6\\n\\n12.6\\n\\n11.2\\n\\n13.0\\n\\n\\n\\nMexico\\n\\n29.9\\n\\n31.2\\n\\n32.6\\n\\n31.7\\n\\n32.3\\n\\n35.3\\n\\n\\n\\nSouth Korea\\n\\n49.4\\n\\n55.7\\n\\n56.3\\n\\n53.9\\n\\n50.3\\n\\n45.9\\n\\n\\n\\nLower Income Countries\\n\\n\\n\\n\\n\\n\\n\\n\\n\\n\\n\\n\\n\\n\\n\\nChad\\n\\n36.8\\n\\n38.9\\n\\n36.9\\n\\n32.2\\n\\n34.2\\n\\n29.8\\n\\n\\n\\nChina\\n\\n29.4\\n\\n28.5\\n\\n27.3\\n\\n26.4\\n\\n23.9\\n\\n22.4\\n\\n\\n\\nIndia\\n\\n22.0\\n\\n23.9\\n\\n24.0\\n\\n24.8\\n\\n22.9\\n\\n-\\n\\n\\n\\nNigeria\\n\\n25.3\\n\\n31.3\\n\\n31.4\\n\\n18.0\\n\\n18.4\\n\\n-\\n\\n\\n\\nTable  1.2   The Extent of Globalization (exports/GDP)   (Source: http://databank.worldbank.org/data/)\\n\\nIn recent decades, the export/GDP ratio has generally risen, both worldwide and for the U.S. economy. Interestingly, the share of U.S. exports in proportion to the U.S. economy is well below the global average, in part because large economies like the United States can contain more of the division of labor inside their national borders. However, smaller economies like Belgium, Korea, and Canada need to trade across their borders with other countries to take full advantage of division of labor, specialization, and economies of scale. In this sense, the enormous U.S. economy is less affected by globalization than most other countries.\\n\\nTable 1.2 indicates that many medium and low income countries around the world, like Mexico and China, have also experienced a surge of globalization in recent decades. If an astronaut in orbit could put on special glasses that make all economic transactions visible as brightly colored lines and look down at Earth, the astronaut would see the planet covered with connections.\\n\\nDespite the rise in globalization over the last few decades, in recent years we've seen significant pushback against globalization from people across the world concerned about loss of jobs, loss of political sovereignty, and increased economic inequality. Prominent examples of this pushback include the 2016 vote in Great Britain to exit the European Union (i.e. Brexit), and the election of Donald J. Trump for President of the United States.\\n\\nHopefully, you now have an idea about economics. Before you move to any other chapter of study, be sure to read the very important appendix to this chapter called The Use of Mathematics in Principles of Economics. It is essential that you learn more about how to read and use models in economics.\\n\\nBring It Home\\n\\nDecisions ... Decisions in the Social Media Age\\n\\nThe world we live in today provides nearly instant access to a wealth of information. Consider that as recently as the late 1970s, the Farmer’s Almanac, along with the Weather Bureau of the U.S. Department of Agriculture, were the primary sources American farmers used to determine when to plant and harvest their crops. Today, farmers are more likely to access, online, weather forecasts from the National Oceanic and Atmospheric Administration or watch the Weather Channel. After all, knowing the upcoming forecast could drive when to harvest crops. Consequently, knowing the upcoming weather could change the amount of crop harvested.\\n\\nSome relatively new information forums, such as Facebook, are rapidly changing how information is distributed; hence, influencing decision making. In 2014, the Pew Research Center reported that 71% of online adults use Facebook. This social media forum posts topics ranging from the National Basketball Association, to celebrity singers and performers, to farmers.\\n\\nInformation helps us make decisions as simple as what to wear today to how many reporters the media should send to cover a crash. Each of these decisions is an economic decision. After all, resources are scarce. If the media send ten reporters to cover an accident, they are not available to cover other stories or complete other tasks. Information provides the necessary knowledge to make the best possible decisions on how to utilize scarce resources. Welcome to the world of economics!\\n\\nAccess for free at https://openstax.org\""
      ]
     },
     "execution_count": 142,
     "metadata": {},
     "output_type": "execute_result"
    }
   ],
   "source": [
    "files = sorted(glob('/kaggle/input/newdataset/openstax/openstax/ap-macroeconomics-2e-docx/*.docx'))\n",
    "text = docx2txt.process(files[3])\n",
    "text"
   ]
  },
  {
   "cell_type": "code",
   "execution_count": 143,
   "id": "a14b1f61",
   "metadata": {
    "execution": {
     "iopub.execute_input": "2023-06-10T15:07:50.406590Z",
     "iopub.status.busy": "2023-06-10T15:07:50.405945Z",
     "iopub.status.idle": "2023-06-10T15:07:50.418586Z",
     "shell.execute_reply": "2023-06-10T15:07:50.417813Z"
    },
    "papermill": {
     "duration": 0.121493,
     "end_time": "2023-06-10T15:07:50.421062",
     "exception": false,
     "start_time": "2023-06-10T15:07:50.299569",
     "status": "completed"
    },
    "tags": []
   },
   "outputs": [],
   "source": [
    "question_files = ['problems', 'questions']\n",
    "def ap_macro(files, BOOK):\n",
    "    print(f\"book: {BOOK}\")\n",
    "    rows = []\n",
    "    for file in files:\n",
    "        if 'chapter' in file:\n",
    "            #answers to self-check questions\n",
    "            continue\n",
    "        if 'references' in file or 'preface' in file:\n",
    "            continue\n",
    "        row = dict()\n",
    "        text = docx2txt.process(file)\n",
    "        try:\n",
    "            start = re.search(\"\\nAccess for free\", text).start()\n",
    "            text = text[:start]\n",
    "        except:\n",
    "            text = text\n",
    "        filename = file.split('/')[-1]\n",
    "        section_title = re.sub(r\"\\.docx$\", \"\", filename)\n",
    "        chapter = filename.split('-')[0]\n",
    "        if 'a' in chapter or 'b' in chapter or 'c' in chapter:\n",
    "            continue\n",
    "        is_question = any(q for q in question_files if q in file)\n",
    "        if is_question:\n",
    "            if 'review' in filename or 'self-check' in filename or 'critical' in filename:\n",
    "                qs = re.findall('\\n\\n[A-Z].*?\\n\\n', text, re.DOTALL)\n",
    "                for q in qs:\n",
    "                    row = dict()\n",
    "                    row['Book'] = BOOK\n",
    "                    row['Chapter'] = chapter\n",
    "                    row['section_title'] = section_title\n",
    "                    row['is_question'] = True\n",
    "                    row['text'] = q.strip('\\n\\n').strip('\\n')\n",
    "                    rows.append(row)\n",
    "            elif 'problems' in filename:\n",
    "                qs = re.findall('\\n\\n[A-Z].*?(?:\\n\\n[1-9]|\\n\\nAccess)', text, re.DOTALL)\n",
    "                for q in qs:\n",
    "                    row = dict()\n",
    "                    row['Book'] = BOOK\n",
    "                    row['Chapter'] = chapter\n",
    "                    row['section_title'] = section_title\n",
    "                    row['is_question'] = True\n",
    "                    row['text'] = q.strip('\\n\\n').strip('\\n')\n",
    "                    rows.append(row)\n",
    "        else:\n",
    "            row = dict()\n",
    "            row['Book'] = BOOK\n",
    "            row['Chapter'] = chapter\n",
    "            row['section_title'] = section_title\n",
    "            row['is_question'] = False\n",
    "            row['text'] = text.strip('\\n\\n').strip('\\n')\n",
    "            rows.append(row)\n",
    "    return rows"
   ]
  },
  {
   "cell_type": "code",
   "execution_count": 144,
   "id": "dc0ff63e",
   "metadata": {
    "execution": {
     "iopub.execute_input": "2023-06-10T15:07:50.517675Z",
     "iopub.status.busy": "2023-06-10T15:07:50.516373Z",
     "iopub.status.idle": "2023-06-10T15:07:52.778175Z",
     "shell.execute_reply": "2023-06-10T15:07:52.776778Z"
    },
    "papermill": {
     "duration": 2.312633,
     "end_time": "2023-06-10T15:07:52.780879",
     "exception": false,
     "start_time": "2023-06-10T15:07:50.468246",
     "status": "completed"
    },
    "tags": []
   },
   "outputs": [
    {
     "name": "stdout",
     "output_type": "stream",
     "text": [
      "book: Macroeconomics 2e\n"
     ]
    }
   ],
   "source": [
    "pd.DataFrame(ap_macro(files, BOOK)).to_parquet('macroeconomics2e_tq.pq')"
   ]
  },
  {
   "cell_type": "markdown",
   "id": "df98e6d8",
   "metadata": {
    "papermill": {
     "duration": 0.0473,
     "end_time": "2023-06-10T15:07:52.875692",
     "exception": false,
     "start_time": "2023-06-10T15:07:52.828392",
     "status": "completed"
    },
    "tags": []
   },
   "source": [
    "# Principles of Microeconomics 3e\n",
    "- same as micro 2e but more content (bigger chapters, also more questions) though much is redundant, may need to filter for duplicates\n",
    "- questions every chapter, review, critical thinking and self-check questions\n",
    "- problems almost every chapter"
   ]
  },
  {
   "cell_type": "code",
   "execution_count": 145,
   "id": "1c627bd0",
   "metadata": {
    "execution": {
     "iopub.execute_input": "2023-06-10T15:07:52.971324Z",
     "iopub.status.busy": "2023-06-10T15:07:52.970908Z",
     "iopub.status.idle": "2023-06-10T15:07:55.674211Z",
     "shell.execute_reply": "2023-06-10T15:07:55.672614Z"
    },
    "papermill": {
     "duration": 2.754772,
     "end_time": "2023-06-10T15:07:55.677289",
     "exception": false,
     "start_time": "2023-06-10T15:07:52.922517",
     "status": "completed"
    },
    "tags": []
   },
   "outputs": [
    {
     "name": "stdout",
     "output_type": "stream",
     "text": [
      "Book: Microeconomics 3e\n"
     ]
    }
   ],
   "source": [
    "files = sorted(glob('/kaggle/input/newdataset/openstax/openstax/Macroeconomics3e_docx/*.docx'))\n",
    "BOOK = 'Microeconomics 3e'\n",
    "pd.DataFrame(ap_micro(files, BOOK)).to_parquet('microeconomics3e_tq.pq')"
   ]
  },
  {
   "cell_type": "markdown",
   "id": "0576dff5",
   "metadata": {
    "papermill": {
     "duration": 0.048245,
     "end_time": "2023-06-10T15:07:55.773848",
     "exception": false,
     "start_time": "2023-06-10T15:07:55.725603",
     "status": "completed"
    },
    "tags": []
   },
   "source": [
    "# MicroEconomics Testbank\n",
    "- mostly the same too\n",
    "- issues with redundancy again"
   ]
  },
  {
   "cell_type": "code",
   "execution_count": 146,
   "id": "86fb5bc7",
   "metadata": {
    "execution": {
     "iopub.execute_input": "2023-06-10T15:07:55.873290Z",
     "iopub.status.busy": "2023-06-10T15:07:55.872829Z",
     "iopub.status.idle": "2023-06-10T15:07:55.957861Z",
     "shell.execute_reply": "2023-06-10T15:07:55.955928Z"
    },
    "papermill": {
     "duration": 0.137569,
     "end_time": "2023-06-10T15:07:55.960365",
     "exception": false,
     "start_time": "2023-06-10T15:07:55.822796",
     "status": "completed"
    },
    "tags": []
   },
   "outputs": [
    {
     "data": {
      "text/plain": [
       "'Chapter 4 Test Bank \\n\\n\\n\\nMultiple Choice Questions\\n\\n\\n\\n\\n\\n1. The “law of supply” functions in labor markets; that is, a higher ___________ for labor leads to a higher quantity of labor supplied.\\n\\n\\n\\nA. price \\n\\nB. demand\\n\\nC. supply\\n\\nD. quantity\\n\\n\\n\\nAnswer: A\\t\\n\\n\\n\\nReference:\\n\\n\\n\\nExplanation:\\n\\n\\n\\n\\n\\n2. As the _'"
      ]
     },
     "execution_count": 146,
     "metadata": {},
     "output_type": "execute_result"
    }
   ],
   "source": [
    "files = sorted(glob('/kaggle/input/newdataset/openstax/openstax/Microeconomics3e_Test_Bank/*.docx'))\n",
    "text = docx2txt.process(files[3])\n",
    "text[:300]"
   ]
  },
  {
   "cell_type": "code",
   "execution_count": 147,
   "id": "882f658a",
   "metadata": {
    "execution": {
     "iopub.execute_input": "2023-06-10T15:07:56.064295Z",
     "iopub.status.busy": "2023-06-10T15:07:56.063461Z",
     "iopub.status.idle": "2023-06-10T15:07:56.072678Z",
     "shell.execute_reply": "2023-06-10T15:07:56.071725Z"
    },
    "papermill": {
     "duration": 0.064955,
     "end_time": "2023-06-10T15:07:56.075202",
     "exception": false,
     "start_time": "2023-06-10T15:07:56.010247",
     "status": "completed"
    },
    "tags": []
   },
   "outputs": [
    {
     "data": {
      "text/plain": [
       "['/kaggle/input/newdataset/openstax/openstax/Microeconomics3e_Test_Bank/Microeconomics2e-TestBank-Ch01-welcome.docx',\n",
       " '/kaggle/input/newdataset/openstax/openstax/Microeconomics3e_Test_Bank/Microeconomics2e-TestBank-Ch02-choice-in-world-of-scarcity.docx',\n",
       " '/kaggle/input/newdataset/openstax/openstax/Microeconomics3e_Test_Bank/Microeconomics2e-TestBank-Ch03-demand-and-supply.docx',\n",
       " '/kaggle/input/newdataset/openstax/openstax/Microeconomics3e_Test_Bank/Microeconomics2e-TestBank-Ch04-labor-financialmarkets.docx',\n",
       " '/kaggle/input/newdataset/openstax/openstax/Microeconomics3e_Test_Bank/Microeconomics2e-TestBank-Ch05_elasticity.docx',\n",
       " '/kaggle/input/newdataset/openstax/openstax/Microeconomics3e_Test_Bank/Microeconomics2e-TestBank-Ch06-consumer-choices.docx',\n",
       " '/kaggle/input/newdataset/openstax/openstax/Microeconomics3e_Test_Bank/Microeconomics2e-TestBank-Ch07-cost-industry-structure.docx',\n",
       " '/kaggle/input/newdataset/openstax/openstax/Microeconomics3e_Test_Bank/Microeconomics2e-TestBank-Ch08-perfect-competition.docx',\n",
       " '/kaggle/input/newdataset/openstax/openstax/Microeconomics3e_Test_Bank/Microeconomics2e-TestBank-Ch09-monopoly.docx',\n",
       " '/kaggle/input/newdataset/openstax/openstax/Microeconomics3e_Test_Bank/Microeconomics2e-TestBank-Ch10-monop-competion-oligopoly.docx',\n",
       " '/kaggle/input/newdataset/openstax/openstax/Microeconomics3e_Test_Bank/Microeconomics2e-TestBank-Ch11-monopoly-antitrust-policy.docx',\n",
       " '/kaggle/input/newdataset/openstax/openstax/Microeconomics3e_Test_Bank/Microeconomics2e-TestBank-Ch12-env-protection-negative-externalities.docx',\n",
       " '/kaggle/input/newdataset/openstax/openstax/Microeconomics3e_Test_Bank/Microeconomics2e-TestBank-Ch13-positive-externalities-public-goods.docx',\n",
       " '/kaggle/input/newdataset/openstax/openstax/Microeconomics3e_Test_Bank/Microeconomics2e-TestBank-Ch14-labor-markets-income.docx',\n",
       " '/kaggle/input/newdataset/openstax/openstax/Microeconomics3e_Test_Bank/Microeconomics2e-TestBank-Ch15-poverty-economic-inequality.docx',\n",
       " '/kaggle/input/newdataset/openstax/openstax/Microeconomics3e_Test_Bank/Microeconomics2e-TestBank-Ch16-information-risk-insurance.docx',\n",
       " '/kaggle/input/newdataset/openstax/openstax/Microeconomics3e_Test_Bank/Microeconomics2e-TestBank-Ch17-financial-markets.docx',\n",
       " '/kaggle/input/newdataset/openstax/openstax/Microeconomics3e_Test_Bank/Microeconomics2e-TestBank-Ch18-public-economy.docx',\n",
       " '/kaggle/input/newdataset/openstax/openstax/Microeconomics3e_Test_Bank/Microeconomics2e-TestBank-Ch19-international-trade.docx',\n",
       " '/kaggle/input/newdataset/openstax/openstax/Microeconomics3e_Test_Bank/Microeconomics2e-TestBank-Ch20-globalization-and-protectionism.docx']"
      ]
     },
     "execution_count": 147,
     "metadata": {},
     "output_type": "execute_result"
    }
   ],
   "source": [
    "files"
   ]
  },
  {
   "cell_type": "code",
   "execution_count": 148,
   "id": "66cf31dc",
   "metadata": {
    "execution": {
     "iopub.execute_input": "2023-06-10T15:07:56.179674Z",
     "iopub.status.busy": "2023-06-10T15:07:56.178769Z",
     "iopub.status.idle": "2023-06-10T15:07:56.188001Z",
     "shell.execute_reply": "2023-06-10T15:07:56.186518Z"
    },
    "papermill": {
     "duration": 0.065601,
     "end_time": "2023-06-10T15:07:56.191188",
     "exception": false,
     "start_time": "2023-06-10T15:07:56.125587",
     "status": "completed"
    },
    "tags": []
   },
   "outputs": [
    {
     "data": {
      "text/plain": [
       "['Ch05_elasticity']"
      ]
     },
     "execution_count": 148,
     "metadata": {},
     "output_type": "execute_result"
    }
   ],
   "source": [
    "files[4].split('/')[-1].strip('.docx').split('TestBank-')[-1].split('-')"
   ]
  },
  {
   "cell_type": "code",
   "execution_count": 149,
   "id": "0d4c4a76",
   "metadata": {
    "execution": {
     "iopub.execute_input": "2023-06-10T15:07:56.291816Z",
     "iopub.status.busy": "2023-06-10T15:07:56.291328Z",
     "iopub.status.idle": "2023-06-10T15:07:56.306205Z",
     "shell.execute_reply": "2023-06-10T15:07:56.304763Z"
    },
    "papermill": {
     "duration": 0.069044,
     "end_time": "2023-06-10T15:07:56.309169",
     "exception": false,
     "start_time": "2023-06-10T15:07:56.240125",
     "status": "completed"
    },
    "tags": []
   },
   "outputs": [],
   "source": [
    "def micro2e_testbank(files, BOOK):\n",
    "    print(f\"Book: {BOOK}\")\n",
    "    rows = []\n",
    "    for file in files:\n",
    "        text = docx2txt.process(file)\n",
    "        filename = file.split('/')[-1].strip('.docx')\n",
    "        chapter = filename.split('TestBank-')[-1].split('-')[0].strip('Ch')\n",
    "        #get multiple choice questions\n",
    "        multiple_start = re.search('Multiple Choice Questions', text).start() \n",
    "        essay_start = re.search('Essay Questions', text).start()\n",
    "        mcq = text[multiple_start:essay_start]\n",
    "        mcq = re.findall('\\n\\n\\n\\n[1-9].(.*?)\\n\\n\\n\\nAnswer', mcq, re.DOTALL)\n",
    "        #get essay questions\n",
    "        essay = text[essay_start:]\n",
    "        if 'Test Bank Statistics Summary' in essay:\n",
    "            essay_end = re.search('Test Bank Statistics', essay).start()\n",
    "            essay = essay[:essay_end]\n",
    "        essay = re.findall('\\n\\n\\n\\n[1-9].(.*?)\\n\\n\\n\\nExplanation', essay, re.DOTALL)\n",
    "        for q in mcq:\n",
    "            q = q.strip(\" \")\n",
    "            fill_blank = False\n",
    "            if '___' in q:\n",
    "                fill_blank = True\n",
    "            row = dict()\n",
    "            row['Book'] = BOOK\n",
    "            row['Chapter'] = chapter\n",
    "            row['text'] = q.strip('\\n\\n').strip('\\n')\n",
    "            row['is_question'] = True\n",
    "            row['truefalse'] = False\n",
    "            row['fillblank'] = fill_blank\n",
    "            row['mc'] = True\n",
    "            rows.append(row)\n",
    "        for q in essay:\n",
    "            q = q.strip(\" \")\n",
    "            row = dict()\n",
    "            row['Book'] = BOOK\n",
    "            row['Chapter'] = chapter\n",
    "            row['text'] = q.strip('\\n\\n').strip('\\n')\n",
    "            row['is_question'] = True\n",
    "            row['truefalse'] = False\n",
    "            row['fillblank'] = False\n",
    "            row['mc'] = False\n",
    "            rows.append(row)\n",
    "    return rows"
   ]
  },
  {
   "cell_type": "code",
   "execution_count": 150,
   "id": "ac3be4ff",
   "metadata": {
    "execution": {
     "iopub.execute_input": "2023-06-10T15:07:56.411547Z",
     "iopub.status.busy": "2023-06-10T15:07:56.411104Z",
     "iopub.status.idle": "2023-06-10T15:07:58.871893Z",
     "shell.execute_reply": "2023-06-10T15:07:58.870365Z"
    },
    "papermill": {
     "duration": 2.516672,
     "end_time": "2023-06-10T15:07:58.875587",
     "exception": false,
     "start_time": "2023-06-10T15:07:56.358915",
     "status": "completed"
    },
    "tags": []
   },
   "outputs": [
    {
     "name": "stdout",
     "output_type": "stream",
     "text": [
      "Book: Microeconomics 3e\n"
     ]
    }
   ],
   "source": [
    "\n",
    "microtb = pd.DataFrame(micro2e_testbank(files, BOOK))\n",
    "microtb['Chapter'] = microtb['Chapter'].replace('05_elasticity', '05')"
   ]
  },
  {
   "cell_type": "code",
   "execution_count": 151,
   "id": "e39fa817",
   "metadata": {
    "execution": {
     "iopub.execute_input": "2023-06-10T15:07:58.980253Z",
     "iopub.status.busy": "2023-06-10T15:07:58.979902Z",
     "iopub.status.idle": "2023-06-10T15:07:58.994365Z",
     "shell.execute_reply": "2023-06-10T15:07:58.992931Z"
    },
    "papermill": {
     "duration": 0.070641,
     "end_time": "2023-06-10T15:07:58.997530",
     "exception": false,
     "start_time": "2023-06-10T15:07:58.926889",
     "status": "completed"
    },
    "tags": []
   },
   "outputs": [
    {
     "data": {
      "text/plain": [
       "array(['01', '02', '03', '04', '05', '06', '07', '08', '09', '10', '11',\n",
       "       '12', '13', '14', '15', '16', '17', '18', '19', '20'], dtype=object)"
      ]
     },
     "execution_count": 151,
     "metadata": {},
     "output_type": "execute_result"
    }
   ],
   "source": [
    "microtb.Chapter.unique()"
   ]
  },
  {
   "cell_type": "code",
   "execution_count": 152,
   "id": "74824b78",
   "metadata": {
    "execution": {
     "iopub.execute_input": "2023-06-10T15:07:59.102132Z",
     "iopub.status.busy": "2023-06-10T15:07:59.101732Z",
     "iopub.status.idle": "2023-06-10T15:07:59.115350Z",
     "shell.execute_reply": "2023-06-10T15:07:59.114246Z"
    },
    "papermill": {
     "duration": 0.069835,
     "end_time": "2023-06-10T15:07:59.118110",
     "exception": false,
     "start_time": "2023-06-10T15:07:59.048275",
     "status": "completed"
    },
    "tags": []
   },
   "outputs": [],
   "source": [
    "microtb.to_parquet('micro3e_testbank.pq')"
   ]
  },
  {
   "cell_type": "code",
   "execution_count": 153,
   "id": "ee024693",
   "metadata": {
    "execution": {
     "iopub.execute_input": "2023-06-10T15:07:59.220592Z",
     "iopub.status.busy": "2023-06-10T15:07:59.220169Z",
     "iopub.status.idle": "2023-06-10T15:07:59.229142Z",
     "shell.execute_reply": "2023-06-10T15:07:59.227584Z"
    },
    "papermill": {
     "duration": 0.063701,
     "end_time": "2023-06-10T15:07:59.231267",
     "exception": false,
     "start_time": "2023-06-10T15:07:59.167566",
     "status": "completed"
    },
    "tags": []
   },
   "outputs": [
    {
     "data": {
      "text/plain": [
       "array(['01', '02', '03', '04', '05', '06', '07', '08', '09', '10', '11',\n",
       "       '12', '13', '14', '15', '16', '17', '18', '19', '20'], dtype=object)"
      ]
     },
     "execution_count": 153,
     "metadata": {},
     "output_type": "execute_result"
    }
   ],
   "source": [
    "microtb[microtb.is_question == 1].Chapter.unique()"
   ]
  },
  {
   "cell_type": "markdown",
   "id": "73e047d6",
   "metadata": {
    "papermill": {
     "duration": 0.049172,
     "end_time": "2023-06-10T15:07:59.330557",
     "exception": false,
     "start_time": "2023-06-10T15:07:59.281385",
     "status": "completed"
    },
    "tags": []
   },
   "source": [
    "# Principles of Macroeconomics 3e\n",
    "- lucky same again"
   ]
  },
  {
   "cell_type": "code",
   "execution_count": 154,
   "id": "06e59841",
   "metadata": {
    "execution": {
     "iopub.execute_input": "2023-06-10T15:07:59.430407Z",
     "iopub.status.busy": "2023-06-10T15:07:59.430049Z",
     "iopub.status.idle": "2023-06-10T15:08:00.399334Z",
     "shell.execute_reply": "2023-06-10T15:08:00.398202Z"
    },
    "papermill": {
     "duration": 1.022293,
     "end_time": "2023-06-10T15:08:00.402133",
     "exception": false,
     "start_time": "2023-06-10T15:07:59.379840",
     "status": "completed"
    },
    "tags": []
   },
   "outputs": [
    {
     "name": "stdout",
     "output_type": "stream",
     "text": [
      "book: Macroeconomics 3e\n"
     ]
    }
   ],
   "source": [
    "files = sorted(glob('/kaggle/input/newdataset/openstax/openstax/Macroeconomics3e_docx/*.docx'))\n",
    "BOOK = 'Macroeconomics 3e'\n",
    "pd.DataFrame(ap_macro(files, BOOK)).to_parquet('macroeconomics3e_tq.pq')"
   ]
  },
  {
   "cell_type": "code",
   "execution_count": 155,
   "id": "5db7a353",
   "metadata": {
    "execution": {
     "iopub.execute_input": "2023-06-10T15:08:00.504346Z",
     "iopub.status.busy": "2023-06-10T15:08:00.503924Z",
     "iopub.status.idle": "2023-06-10T15:08:01.431487Z",
     "shell.execute_reply": "2023-06-10T15:08:01.430431Z"
    },
    "papermill": {
     "duration": 0.980576,
     "end_time": "2023-06-10T15:08:01.433495",
     "exception": false,
     "start_time": "2023-06-10T15:08:00.452919",
     "status": "completed"
    },
    "tags": []
   },
   "outputs": [
    {
     "name": "stdout",
     "output_type": "stream",
     "text": [
      "book: Macroeconomics 3e\n"
     ]
    },
    {
     "data": {
      "text/html": [
       "<div>\n",
       "<style scoped>\n",
       "    .dataframe tbody tr th:only-of-type {\n",
       "        vertical-align: middle;\n",
       "    }\n",
       "\n",
       "    .dataframe tbody tr th {\n",
       "        vertical-align: top;\n",
       "    }\n",
       "\n",
       "    .dataframe thead th {\n",
       "        text-align: right;\n",
       "    }\n",
       "</style>\n",
       "<table border=\"1\" class=\"dataframe\">\n",
       "  <thead>\n",
       "    <tr style=\"text-align: right;\">\n",
       "      <th></th>\n",
       "      <th>Book</th>\n",
       "      <th>Chapter</th>\n",
       "      <th>section_title</th>\n",
       "      <th>is_question</th>\n",
       "      <th>text</th>\n",
       "    </tr>\n",
       "  </thead>\n",
       "  <tbody>\n",
       "    <tr>\n",
       "      <th>0</th>\n",
       "      <td>Macroeconomics 3e</td>\n",
       "      <td>1</td>\n",
       "      <td>1-1-what-is-economics-and-why-is-it-important</td>\n",
       "      <td>False</td>\n",
       "      <td>1.1   What Is Economics, and Why Is It Importa...</td>\n",
       "    </tr>\n",
       "    <tr>\n",
       "      <th>1</th>\n",
       "      <td>Macroeconomics 3e</td>\n",
       "      <td>1</td>\n",
       "      <td>1-2-microeconomics-and-macroeconomics</td>\n",
       "      <td>False</td>\n",
       "      <td>1.2   Microeconomics and Macroeconomics\\n\\nLea...</td>\n",
       "    </tr>\n",
       "    <tr>\n",
       "      <th>2</th>\n",
       "      <td>Macroeconomics 3e</td>\n",
       "      <td>1</td>\n",
       "      <td>1-3-how-economists-use-theories-and-models-to-...</td>\n",
       "      <td>False</td>\n",
       "      <td>1.3   How Economists Use Theories and Models t...</td>\n",
       "    </tr>\n",
       "    <tr>\n",
       "      <th>3</th>\n",
       "      <td>Macroeconomics 3e</td>\n",
       "      <td>1</td>\n",
       "      <td>1-4-how-to-organize-economies-an-overview-of-e...</td>\n",
       "      <td>False</td>\n",
       "      <td>1.4   How To Organize Economies: An Overview o...</td>\n",
       "    </tr>\n",
       "    <tr>\n",
       "      <th>4</th>\n",
       "      <td>Macroeconomics 3e</td>\n",
       "      <td>1</td>\n",
       "      <td>1-critical-thinking-questions</td>\n",
       "      <td>True</td>\n",
       "      <td>Suppose you have a team of two workers: one is...</td>\n",
       "    </tr>\n",
       "    <tr>\n",
       "      <th>...</th>\n",
       "      <td>...</td>\n",
       "      <td>...</td>\n",
       "      <td>...</td>\n",
       "      <td>...</td>\n",
       "      <td>...</td>\n",
       "    </tr>\n",
       "    <tr>\n",
       "      <th>983</th>\n",
       "      <td>Macroeconomics 3e</td>\n",
       "      <td>9</td>\n",
       "      <td>9-self-check-questions</td>\n",
       "      <td>True</td>\n",
       "      <td>How to Measure Changes in the Cost of Living i...</td>\n",
       "    </tr>\n",
       "    <tr>\n",
       "      <th>984</th>\n",
       "      <td>Macroeconomics 3e</td>\n",
       "      <td>9</td>\n",
       "      <td>9-self-check-questions</td>\n",
       "      <td>True</td>\n",
       "      <td>The Consumer Price Index is subject to the sub...</td>\n",
       "    </tr>\n",
       "    <tr>\n",
       "      <th>985</th>\n",
       "      <td>Macroeconomics 3e</td>\n",
       "      <td>9</td>\n",
       "      <td>9-self-check-questions</td>\n",
       "      <td>True</td>\n",
       "      <td>Go to this website for the Purchasing Power Ca...</td>\n",
       "    </tr>\n",
       "    <tr>\n",
       "      <th>986</th>\n",
       "      <td>Macroeconomics 3e</td>\n",
       "      <td>9</td>\n",
       "      <td>9-self-check-questions</td>\n",
       "      <td>True</td>\n",
       "      <td>If inflation rises unexpectedly by 5%, would a...</td>\n",
       "    </tr>\n",
       "    <tr>\n",
       "      <th>987</th>\n",
       "      <td>Macroeconomics 3e</td>\n",
       "      <td>9</td>\n",
       "      <td>9-self-check-questions</td>\n",
       "      <td>True</td>\n",
       "      <td>How should an increase in inflation affect the...</td>\n",
       "    </tr>\n",
       "  </tbody>\n",
       "</table>\n",
       "<p>988 rows × 5 columns</p>\n",
       "</div>"
      ],
      "text/plain": [
       "                  Book Chapter  \\\n",
       "0    Macroeconomics 3e       1   \n",
       "1    Macroeconomics 3e       1   \n",
       "2    Macroeconomics 3e       1   \n",
       "3    Macroeconomics 3e       1   \n",
       "4    Macroeconomics 3e       1   \n",
       "..                 ...     ...   \n",
       "983  Macroeconomics 3e       9   \n",
       "984  Macroeconomics 3e       9   \n",
       "985  Macroeconomics 3e       9   \n",
       "986  Macroeconomics 3e       9   \n",
       "987  Macroeconomics 3e       9   \n",
       "\n",
       "                                         section_title  is_question  \\\n",
       "0        1-1-what-is-economics-and-why-is-it-important        False   \n",
       "1                1-2-microeconomics-and-macroeconomics        False   \n",
       "2    1-3-how-economists-use-theories-and-models-to-...        False   \n",
       "3    1-4-how-to-organize-economies-an-overview-of-e...        False   \n",
       "4                        1-critical-thinking-questions         True   \n",
       "..                                                 ...          ...   \n",
       "983                             9-self-check-questions         True   \n",
       "984                             9-self-check-questions         True   \n",
       "985                             9-self-check-questions         True   \n",
       "986                             9-self-check-questions         True   \n",
       "987                             9-self-check-questions         True   \n",
       "\n",
       "                                                  text  \n",
       "0    1.1   What Is Economics, and Why Is It Importa...  \n",
       "1    1.2   Microeconomics and Macroeconomics\\n\\nLea...  \n",
       "2    1.3   How Economists Use Theories and Models t...  \n",
       "3    1.4   How To Organize Economies: An Overview o...  \n",
       "4    Suppose you have a team of two workers: one is...  \n",
       "..                                                 ...  \n",
       "983  How to Measure Changes in the Cost of Living i...  \n",
       "984  The Consumer Price Index is subject to the sub...  \n",
       "985  Go to this website for the Purchasing Power Ca...  \n",
       "986  If inflation rises unexpectedly by 5%, would a...  \n",
       "987  How should an increase in inflation affect the...  \n",
       "\n",
       "[988 rows x 5 columns]"
      ]
     },
     "execution_count": 155,
     "metadata": {},
     "output_type": "execute_result"
    }
   ],
   "source": [
    "pd.DataFrame(ap_macro(files, BOOK))"
   ]
  },
  {
   "cell_type": "code",
   "execution_count": 156,
   "id": "44cc67b7",
   "metadata": {
    "execution": {
     "iopub.execute_input": "2023-06-10T15:08:01.534913Z",
     "iopub.status.busy": "2023-06-10T15:08:01.533453Z",
     "iopub.status.idle": "2023-06-10T15:08:02.968793Z",
     "shell.execute_reply": "2023-06-10T15:08:02.967198Z"
    },
    "papermill": {
     "duration": 1.488799,
     "end_time": "2023-06-10T15:08:02.971695",
     "exception": false,
     "start_time": "2023-06-10T15:08:01.482896",
     "status": "completed"
    },
    "tags": []
   },
   "outputs": [
    {
     "name": "stdout",
     "output_type": "stream",
     "text": [
      "Book: Macroeconomics 3e\n"
     ]
    }
   ],
   "source": [
    "files = sorted(glob('/kaggle/input/newdataset/openstax/openstax/Macroeconomics3e_TestBank/*.docx'))\n",
    "pd.DataFrame(macro2e_testbank(files, BOOK)).to_parquet('macroeconomics3e_testbank')"
   ]
  },
  {
   "cell_type": "code",
   "execution_count": 157,
   "id": "dd5e4983",
   "metadata": {
    "execution": {
     "iopub.execute_input": "2023-06-10T15:08:03.082183Z",
     "iopub.status.busy": "2023-06-10T15:08:03.081704Z",
     "iopub.status.idle": "2023-06-10T15:08:04.347206Z",
     "shell.execute_reply": "2023-06-10T15:08:04.345623Z"
    },
    "papermill": {
     "duration": 1.32547,
     "end_time": "2023-06-10T15:08:04.350098",
     "exception": false,
     "start_time": "2023-06-10T15:08:03.024628",
     "status": "completed"
    },
    "tags": []
   },
   "outputs": [
    {
     "name": "stdout",
     "output_type": "stream",
     "text": [
      "Book: Macroeconomics 3e\n"
     ]
    },
    {
     "data": {
      "text/html": [
       "<div>\n",
       "<style scoped>\n",
       "    .dataframe tbody tr th:only-of-type {\n",
       "        vertical-align: middle;\n",
       "    }\n",
       "\n",
       "    .dataframe tbody tr th {\n",
       "        vertical-align: top;\n",
       "    }\n",
       "\n",
       "    .dataframe thead th {\n",
       "        text-align: right;\n",
       "    }\n",
       "</style>\n",
       "<table border=\"1\" class=\"dataframe\">\n",
       "  <thead>\n",
       "    <tr style=\"text-align: right;\">\n",
       "      <th></th>\n",
       "      <th>Book</th>\n",
       "      <th>Chapter</th>\n",
       "      <th>text</th>\n",
       "      <th>is_question</th>\n",
       "      <th>truefalse</th>\n",
       "      <th>fillblank</th>\n",
       "      <th>mc</th>\n",
       "    </tr>\n",
       "  </thead>\n",
       "  <tbody>\n",
       "    <tr>\n",
       "      <th>0</th>\n",
       "      <td>Macroeconomics 3e</td>\n",
       "      <td>01</td>\n",
       "      <td>In countries like _____________ the command ec...</td>\n",
       "      <td>True</td>\n",
       "      <td>False</td>\n",
       "      <td>True</td>\n",
       "      <td>True</td>\n",
       "    </tr>\n",
       "    <tr>\n",
       "      <th>1</th>\n",
       "      <td>Macroeconomics 3e</td>\n",
       "      <td>01</td>\n",
       "      <td>In which of the following countries will the n...</td>\n",
       "      <td>True</td>\n",
       "      <td>False</td>\n",
       "      <td>False</td>\n",
       "      <td>True</td>\n",
       "    </tr>\n",
       "    <tr>\n",
       "      <th>2</th>\n",
       "      <td>Macroeconomics 3e</td>\n",
       "      <td>01</td>\n",
       "      <td>In a command economy, the __________ either ma...</td>\n",
       "      <td>True</td>\n",
       "      <td>False</td>\n",
       "      <td>True</td>\n",
       "      <td>True</td>\n",
       "    </tr>\n",
       "    <tr>\n",
       "      <th>3</th>\n",
       "      <td>Macroeconomics 3e</td>\n",
       "      <td>01</td>\n",
       "      <td>Because of their relatively small national eco...</td>\n",
       "      <td>True</td>\n",
       "      <td>False</td>\n",
       "      <td>False</td>\n",
       "      <td>True</td>\n",
       "    </tr>\n",
       "    <tr>\n",
       "      <th>4</th>\n",
       "      <td>Macroeconomics 3e</td>\n",
       "      <td>01</td>\n",
       "      <td>In a discussion of economics, which of the fol...</td>\n",
       "      <td>True</td>\n",
       "      <td>False</td>\n",
       "      <td>False</td>\n",
       "      <td>True</td>\n",
       "    </tr>\n",
       "    <tr>\n",
       "      <th>...</th>\n",
       "      <td>...</td>\n",
       "      <td>...</td>\n",
       "      <td>...</td>\n",
       "      <td>...</td>\n",
       "      <td>...</td>\n",
       "      <td>...</td>\n",
       "      <td>...</td>\n",
       "    </tr>\n",
       "    <tr>\n",
       "      <th>1067</th>\n",
       "      <td>Macroeconomics 3e</td>\n",
       "      <td>21</td>\n",
       "      <td>“Block Imports—Save Jobs for Some Americans, L...</td>\n",
       "      <td>True</td>\n",
       "      <td>False</td>\n",
       "      <td>False</td>\n",
       "      <td>False</td>\n",
       "    </tr>\n",
       "    <tr>\n",
       "      <th>1068</th>\n",
       "      <td>Macroeconomics 3e</td>\n",
       "      <td>21</td>\n",
       "      <td>Define protectionism as a policy and describe ...</td>\n",
       "      <td>True</td>\n",
       "      <td>False</td>\n",
       "      <td>False</td>\n",
       "      <td>False</td>\n",
       "    </tr>\n",
       "    <tr>\n",
       "      <th>1069</th>\n",
       "      <td>Macroeconomics 3e</td>\n",
       "      <td>21</td>\n",
       "      <td>In theory, imports might injure workers in sev...</td>\n",
       "      <td>True</td>\n",
       "      <td>False</td>\n",
       "      <td>False</td>\n",
       "      <td>False</td>\n",
       "    </tr>\n",
       "    <tr>\n",
       "      <th>1070</th>\n",
       "      <td>Macroeconomics 3e</td>\n",
       "      <td>21</td>\n",
       "      <td>What is the World Trade Organization and what ...</td>\n",
       "      <td>True</td>\n",
       "      <td>False</td>\n",
       "      <td>False</td>\n",
       "      <td>False</td>\n",
       "    </tr>\n",
       "    <tr>\n",
       "      <th>1071</th>\n",
       "      <td>Macroeconomics 3e</td>\n",
       "      <td>21</td>\n",
       "      <td>“The Unsafe consumer Products Argument” is one...</td>\n",
       "      <td>True</td>\n",
       "      <td>False</td>\n",
       "      <td>False</td>\n",
       "      <td>False</td>\n",
       "    </tr>\n",
       "  </tbody>\n",
       "</table>\n",
       "<p>1072 rows × 7 columns</p>\n",
       "</div>"
      ],
      "text/plain": [
       "                   Book Chapter  \\\n",
       "0     Macroeconomics 3e      01   \n",
       "1     Macroeconomics 3e      01   \n",
       "2     Macroeconomics 3e      01   \n",
       "3     Macroeconomics 3e      01   \n",
       "4     Macroeconomics 3e      01   \n",
       "...                 ...     ...   \n",
       "1067  Macroeconomics 3e      21   \n",
       "1068  Macroeconomics 3e      21   \n",
       "1069  Macroeconomics 3e      21   \n",
       "1070  Macroeconomics 3e      21   \n",
       "1071  Macroeconomics 3e      21   \n",
       "\n",
       "                                                   text  is_question  \\\n",
       "0     In countries like _____________ the command ec...         True   \n",
       "1     In which of the following countries will the n...         True   \n",
       "2     In a command economy, the __________ either ma...         True   \n",
       "3     Because of their relatively small national eco...         True   \n",
       "4     In a discussion of economics, which of the fol...         True   \n",
       "...                                                 ...          ...   \n",
       "1067  “Block Imports—Save Jobs for Some Americans, L...         True   \n",
       "1068  Define protectionism as a policy and describe ...         True   \n",
       "1069  In theory, imports might injure workers in sev...         True   \n",
       "1070  What is the World Trade Organization and what ...         True   \n",
       "1071  “The Unsafe consumer Products Argument” is one...         True   \n",
       "\n",
       "      truefalse  fillblank     mc  \n",
       "0         False       True   True  \n",
       "1         False      False   True  \n",
       "2         False       True   True  \n",
       "3         False      False   True  \n",
       "4         False      False   True  \n",
       "...         ...        ...    ...  \n",
       "1067      False      False  False  \n",
       "1068      False      False  False  \n",
       "1069      False      False  False  \n",
       "1070      False      False  False  \n",
       "1071      False      False  False  \n",
       "\n",
       "[1072 rows x 7 columns]"
      ]
     },
     "execution_count": 157,
     "metadata": {},
     "output_type": "execute_result"
    }
   ],
   "source": [
    "pd.DataFrame(macro2e_testbank(files, BOOK))"
   ]
  },
  {
   "cell_type": "markdown",
   "id": "b0f1e429",
   "metadata": {
    "papermill": {
     "duration": 0.060185,
     "end_time": "2023-06-10T15:08:04.463843",
     "exception": false,
     "start_time": "2023-06-10T15:08:04.403658",
     "status": "completed"
    },
    "tags": []
   },
   "source": [
    "# Economics 3e\n",
    "- structure is the same as micro and macro but little to no overlap, similar topics though, will add for nice variance\n",
    "- very large book\n",
    "- questions every chapter, review, critical thinking and self-check questions\n",
    "- problems almost every chapter\n",
    "- no true or false again"
   ]
  },
  {
   "cell_type": "code",
   "execution_count": 158,
   "id": "652e4ea2",
   "metadata": {
    "execution": {
     "iopub.execute_input": "2023-06-10T15:08:04.572203Z",
     "iopub.status.busy": "2023-06-10T15:08:04.571776Z",
     "iopub.status.idle": "2023-06-10T15:08:08.985244Z",
     "shell.execute_reply": "2023-06-10T15:08:08.983578Z"
    },
    "papermill": {
     "duration": 4.46988,
     "end_time": "2023-06-10T15:08:08.988774",
     "exception": false,
     "start_time": "2023-06-10T15:08:04.518894",
     "status": "completed"
    },
    "tags": []
   },
   "outputs": [
    {
     "name": "stdout",
     "output_type": "stream",
     "text": [
      "book: Economics 3e\n"
     ]
    }
   ],
   "source": [
    "files = sorted(glob('/kaggle/input/newdataset/openstax/openstax/Economics3e_docx/*.docx'))\n",
    "BOOK = 'Economics 3e'\n",
    "df = pd.DataFrame(ap_macro(files, BOOK)).to_parquet('economics3e_tq.pq')"
   ]
  },
  {
   "cell_type": "markdown",
   "id": "1b24b5ce",
   "metadata": {
    "papermill": {
     "duration": 0.049761,
     "end_time": "2023-06-10T15:08:09.088763",
     "exception": false,
     "start_time": "2023-06-10T15:08:09.039002",
     "status": "completed"
    },
    "tags": []
   },
   "source": [
    "# Economics 3e\n",
    "- same and again no TF"
   ]
  },
  {
   "cell_type": "code",
   "execution_count": 159,
   "id": "97a2a223",
   "metadata": {
    "execution": {
     "iopub.execute_input": "2023-06-10T15:08:09.193942Z",
     "iopub.status.busy": "2023-06-10T15:08:09.192853Z",
     "iopub.status.idle": "2023-06-10T15:08:09.215485Z",
     "shell.execute_reply": "2023-06-10T15:08:09.213961Z"
    },
    "papermill": {
     "duration": 0.080073,
     "end_time": "2023-06-10T15:08:09.218363",
     "exception": false,
     "start_time": "2023-06-10T15:08:09.138290",
     "status": "completed"
    },
    "tags": []
   },
   "outputs": [],
   "source": [
    "files = sorted(glob('/kaggle/input/newdataset/openstax/openstax/Economics3e_TestBank/*.docx'))"
   ]
  },
  {
   "cell_type": "code",
   "execution_count": 160,
   "id": "c580d6c5",
   "metadata": {
    "execution": {
     "iopub.execute_input": "2023-06-10T15:08:09.320047Z",
     "iopub.status.busy": "2023-06-10T15:08:09.319632Z",
     "iopub.status.idle": "2023-06-10T15:08:09.333699Z",
     "shell.execute_reply": "2023-06-10T15:08:09.331928Z"
    },
    "papermill": {
     "duration": 0.068302,
     "end_time": "2023-06-10T15:08:09.336457",
     "exception": false,
     "start_time": "2023-06-10T15:08:09.268155",
     "status": "completed"
    },
    "tags": []
   },
   "outputs": [],
   "source": [
    "def economics3e_testbank(files, BOOK):\n",
    "    print(f\"Book: {BOOK}\")\n",
    "    rows = []\n",
    "    for file in files:\n",
    "        text = docx2txt.process(file)\n",
    "        filename = file.split('/')[-1].strip('.docx')\n",
    "        chapter = filename.split('/')[-1].strip('.docx').split('-')[2].strip('Ch')\n",
    "        #get multiple choice questions\n",
    "        multiple_start = re.search('Multiple Choice Questions', text).start() \n",
    "        essay_start = re.search('Essay Questions', text).start()\n",
    "        mcq = text[multiple_start:essay_start]\n",
    "        mcq = re.findall('\\n\\n\\n\\n[1-9].(.*?)\\n\\n\\n\\nAnswer', mcq, re.DOTALL)\n",
    "        #get essay questions\n",
    "        essay = text[essay_start:]\n",
    "        if 'Test Bank Statistics Summary' in essay:\n",
    "            essay_end = re.search('Test Bank Statistics', essay).start()\n",
    "            essay = essay[:essay_end]\n",
    "        essay = re.findall('\\n\\n\\n\\n[1-9].(.*?)\\n\\n\\n\\nExplanation', essay, re.DOTALL)\n",
    "        for q in mcq:\n",
    "            q = q.strip(\" \")\n",
    "            fill_blank = False\n",
    "            if '___' in q:\n",
    "                fill_blank = True\n",
    "            row = dict()\n",
    "            row['Book'] = BOOK\n",
    "            row['Chapter'] = chapter\n",
    "            row['text'] = q.strip('\\n\\n').strip('\\n')\n",
    "            row['is_question'] = True\n",
    "            row['truefalse'] = False\n",
    "            row['fillblank'] = fill_blank\n",
    "            row['mc'] = True\n",
    "            rows.append(row)\n",
    "        for q in essay:\n",
    "            q = q.strip(\" \")\n",
    "            row = dict()\n",
    "            row['Book'] = BOOK\n",
    "            row['Chapter'] = chapter\n",
    "            row['text'] = q.strip('\\n\\n').strip('\\n')\n",
    "            row['is_question'] = True\n",
    "            row['truefalse'] = False\n",
    "            row['fillblank'] = False\n",
    "            row['mc'] = False\n",
    "            rows.append(row)\n",
    "    return rows"
   ]
  },
  {
   "cell_type": "code",
   "execution_count": 161,
   "id": "00666f01",
   "metadata": {
    "execution": {
     "iopub.execute_input": "2023-06-10T15:08:09.438700Z",
     "iopub.status.busy": "2023-06-10T15:08:09.438260Z",
     "iopub.status.idle": "2023-06-10T15:08:09.445479Z",
     "shell.execute_reply": "2023-06-10T15:08:09.443857Z"
    },
    "papermill": {
     "duration": 0.061724,
     "end_time": "2023-06-10T15:08:09.448146",
     "exception": false,
     "start_time": "2023-06-10T15:08:09.386422",
     "status": "completed"
    },
    "tags": []
   },
   "outputs": [
    {
     "data": {
      "text/plain": [
       "'06'"
      ]
     },
     "execution_count": 161,
     "metadata": {},
     "output_type": "execute_result"
    }
   ],
   "source": [
    "files[5].split('/')[-1].strip('.docx').split('-')[2].strip('Ch')"
   ]
  },
  {
   "cell_type": "code",
   "execution_count": 162,
   "id": "0bcba4a6",
   "metadata": {
    "execution": {
     "iopub.execute_input": "2023-06-10T15:08:09.548837Z",
     "iopub.status.busy": "2023-06-10T15:08:09.548409Z",
     "iopub.status.idle": "2023-06-10T15:08:12.758203Z",
     "shell.execute_reply": "2023-06-10T15:08:12.756073Z"
    },
    "papermill": {
     "duration": 3.26304,
     "end_time": "2023-06-10T15:08:12.761499",
     "exception": false,
     "start_time": "2023-06-10T15:08:09.498459",
     "status": "completed"
    },
    "tags": []
   },
   "outputs": [
    {
     "name": "stdout",
     "output_type": "stream",
     "text": [
      "Book: Economics 3e\n"
     ]
    }
   ],
   "source": [
    "# files = sorted(glob('/kaggle/input/newdataset/openstax/openstax/Economics3e_TestBank/*.docx'))\n",
    "\n",
    "eco3etb = pd.DataFrame(economics3e_testbank(files, BOOK))\n",
    "eco3etb['Chapter'] = eco3etb['Chapter'].replace('05_elasticity', '05')\n",
    "eco3etb.to_parquet('economics3e_testbank.pq')"
   ]
  },
  {
   "cell_type": "markdown",
   "id": "c91f98ff",
   "metadata": {
    "papermill": {
     "duration": 0.052118,
     "end_time": "2023-06-10T15:08:12.866479",
     "exception": false,
     "start_time": "2023-06-10T15:08:12.814361",
     "status": "completed"
    },
    "tags": []
   },
   "source": [
    "# Principles of Marketing\n",
    "- every section has knowledge-checks\n",
    "- critical thinking exercises for most chapters\n",
    "- some chapters have applied marketing questions\n",
    "- what do marketers do (not really questions but not really lectures either), hybrid, maybe skip\n",
    "- marketing plan are exercises requiring online files"
   ]
  },
  {
   "cell_type": "code",
   "execution_count": 163,
   "id": "95b1c4ba",
   "metadata": {
    "execution": {
     "iopub.execute_input": "2023-06-10T15:08:12.970882Z",
     "iopub.status.busy": "2023-06-10T15:08:12.970450Z",
     "iopub.status.idle": "2023-06-10T15:08:13.052363Z",
     "shell.execute_reply": "2023-06-10T15:08:13.051088Z"
    },
    "papermill": {
     "duration": 0.137364,
     "end_time": "2023-06-10T15:08:13.055186",
     "exception": false,
     "start_time": "2023-06-10T15:08:12.917822",
     "status": "completed"
    },
    "tags": []
   },
   "outputs": [],
   "source": [
    "files = sorted(glob('/kaggle/input/newdataset/openstax/openstax/principles-marketing_docx/*.docx'))\n",
    "text = docx2txt.process(files[3])\n",
    "BOOK = 'Marketing'"
   ]
  },
  {
   "cell_type": "code",
   "execution_count": 164,
   "id": "d57aa0fb",
   "metadata": {
    "execution": {
     "iopub.execute_input": "2023-06-10T15:08:13.160520Z",
     "iopub.status.busy": "2023-06-10T15:08:13.158917Z",
     "iopub.status.idle": "2023-06-10T15:08:13.172403Z",
     "shell.execute_reply": "2023-06-10T15:08:13.171092Z"
    },
    "papermill": {
     "duration": 0.068949,
     "end_time": "2023-06-10T15:08:13.175323",
     "exception": false,
     "start_time": "2023-06-10T15:08:13.106374",
     "status": "completed"
    },
    "tags": []
   },
   "outputs": [],
   "source": [
    "# for file in files:\n",
    "#     if 'what-do-marketers-do' in file:\n",
    "#         print(file)\n",
    "#     if 'marketing-plan-exercise' in file:\n",
    "#         print(file)\n",
    "for file in files:\n",
    "    if 'questions' in file:\n",
    "        text = docx2txt.process(file)\n",
    "        break"
   ]
  },
  {
   "cell_type": "code",
   "execution_count": 165,
   "id": "872e4ec4",
   "metadata": {
    "execution": {
     "iopub.execute_input": "2023-06-10T15:08:13.279135Z",
     "iopub.status.busy": "2023-06-10T15:08:13.278721Z",
     "iopub.status.idle": "2023-06-10T15:08:13.285802Z",
     "shell.execute_reply": "2023-06-10T15:08:13.284441Z"
    },
    "papermill": {
     "duration": 0.061935,
     "end_time": "2023-06-10T15:08:13.288480",
     "exception": false,
     "start_time": "2023-06-10T15:08:13.226545",
     "status": "completed"
    },
    "tags": []
   },
   "outputs": [
    {
     "data": {
      "text/plain": [
       "'Applied Marketing Knowledge: Discussion Questions\\n\\n1. \\n\\nWhy is capturing customer lifetime value so important? Choose a retailer, and apply this concept as a way to explain, in part, its profitability and long-term viability in the marketplace.\\n\\n2. \\n\\nThe marketing mix has been compared to a toolbelt. In other words, successful marketers can devise an appropriate marketing mix by combining the right blend of tools: product, price, place, and promotion. Describe a recent product that you purchased on Amazon.com or some other online retailer (place), how you located it (promotion), and whether the price was competitive when compared to similar products.\\n\\n3. \\n\\nWhy do some marketers prefer to follow the 4Ps (product, price, place, and promotion) of marketing and others might prefer to follow the new pattern of the 5Ms (minds, minutes, machinery, materials, and money)?\\n\\n4. \\n\\nA person can be a product. Please give an example of this.\\n\\n5. \\n\\nAccording to the US Centers for Disease Control and Prevention, the birthrate is falling in communities around the world. In the United States, the birthrate fell by 4 percent in 2020, an all-time low. Describe why dwindling population is a demographic concern in the macroenvironment all businesses must contend with.\\n\\nAccess for free at https://openstax.org'"
      ]
     },
     "execution_count": 165,
     "metadata": {},
     "output_type": "execute_result"
    }
   ],
   "source": [
    "text"
   ]
  },
  {
   "cell_type": "code",
   "execution_count": 166,
   "id": "8aad1f15",
   "metadata": {
    "execution": {
     "iopub.execute_input": "2023-06-10T15:08:13.393979Z",
     "iopub.status.busy": "2023-06-10T15:08:13.393173Z",
     "iopub.status.idle": "2023-06-10T15:08:13.400584Z",
     "shell.execute_reply": "2023-06-10T15:08:13.398849Z"
    },
    "papermill": {
     "duration": 0.065064,
     "end_time": "2023-06-10T15:08:13.404878",
     "exception": false,
     "start_time": "2023-06-10T15:08:13.339814",
     "status": "completed"
    },
    "tags": []
   },
   "outputs": [
    {
     "data": {
      "text/plain": [
       "['\\n\\nWhy is capturing customer lifetime value so important? Choose a retailer, and apply this concept as a way to explain, in part, its profitability and long-term viability in the marketplace.\\n\\n2',\n",
       " '\\n\\nThe marketing mix has been compared to a toolbelt. In other words, successful marketers can devise an appropriate marketing mix by combining the right blend of tools: product, price, place, and promotion. Describe a recent product that you purchased on Amazon.com or some other online retailer (place), how you located it (promotion), and whether the price was competitive when compared to similar products.\\n\\n3',\n",
       " '\\n\\nWhy do some marketers prefer to follow the 4Ps (product, price, place, and promotion) of marketing and others might prefer to follow the new pattern of the 5Ms (minds, minutes, machinery, materials, and money)?\\n\\n4',\n",
       " '\\n\\nA person can be a product. Please give an example of this.\\n\\n5',\n",
       " '\\n\\nAccording to the US Centers for Disease Control and Prevention, the birthrate is falling in communities around the world. In the United States, the birthrate fell by 4 percent in 2020, an all-time low. Describe why dwindling population is a demographic concern in the macroenvironment all businesses must contend with.\\n\\nAccess']"
      ]
     },
     "execution_count": 166,
     "metadata": {},
     "output_type": "execute_result"
    }
   ],
   "source": [
    "pattern = r'\\n\\n(?:.*?)\\n\\n(?:\\d|Access)'\n",
    "re.findall(pattern, text)"
   ]
  },
  {
   "cell_type": "code",
   "execution_count": 167,
   "id": "2059b5e2",
   "metadata": {
    "execution": {
     "iopub.execute_input": "2023-06-10T15:08:13.512225Z",
     "iopub.status.busy": "2023-06-10T15:08:13.511822Z",
     "iopub.status.idle": "2023-06-10T15:08:13.518627Z",
     "shell.execute_reply": "2023-06-10T15:08:13.517308Z"
    },
    "papermill": {
     "duration": 0.063365,
     "end_time": "2023-06-10T15:08:13.520790",
     "exception": false,
     "start_time": "2023-06-10T15:08:13.457425",
     "status": "completed"
    },
    "tags": []
   },
   "outputs": [
    {
     "data": {
      "text/plain": [
       "'/kaggle/input/newdataset/openstax/openstax/principles-marketing_docx/1-6-customer-relationship-management-crm.docx'"
      ]
     },
     "execution_count": 167,
     "metadata": {},
     "output_type": "execute_result"
    }
   ],
   "source": [
    "files[5]"
   ]
  },
  {
   "cell_type": "code",
   "execution_count": 168,
   "id": "1084fdb3",
   "metadata": {
    "execution": {
     "iopub.execute_input": "2023-06-10T15:08:13.629703Z",
     "iopub.status.busy": "2023-06-10T15:08:13.629075Z",
     "iopub.status.idle": "2023-06-10T15:08:13.640607Z",
     "shell.execute_reply": "2023-06-10T15:08:13.639762Z"
    },
    "papermill": {
     "duration": 0.069031,
     "end_time": "2023-06-10T15:08:13.643305",
     "exception": false,
     "start_time": "2023-06-10T15:08:13.574274",
     "status": "completed"
    },
    "tags": []
   },
   "outputs": [],
   "source": [
    "question_files = ['problems', 'questions', 'critical-thinking']\n",
    "def marketing(files):\n",
    "    rows = []\n",
    "    for file in files:\n",
    "        filename = file.split('/')[-1]\n",
    "        section_title = re.sub(r\"\\.docx$\", \"\", filename)\n",
    "        chapter = filename.split('-')[0]\n",
    "        if 'chapter' in file:\n",
    "            #answers to self-check questions\n",
    "            continue\n",
    "        if 'what-do-marketers-do' in file or 'marketing-plan-exercise' in file:\n",
    "            continue\n",
    "        if 'references' in file or 'preface' in file:\n",
    "            continue\n",
    "        row = dict()\n",
    "        text = docx2txt.process(file)\n",
    "        if 'critical-thinking' in file:\n",
    "            pattern = r'\\n\\n(?:.*?)\\n\\n(?:\\d|Access)'\n",
    "            questions = re.findall(pattern, text)\n",
    "            for q in questions:\n",
    "                row = dict()\n",
    "                row['Chapter'] = chapter\n",
    "                row['section_title'] = section_title\n",
    "                row['is_question'] = True\n",
    "                row['text'] = q.strip('\\n\\n').strip('\\n')\n",
    "                rows.append(row)\n",
    "        elif 'questions' in file:\n",
    "            pattern = r'\\n\\n(?:.*?)\\n\\n(?:\\d|Access)'\n",
    "            questions = re.findall(pattern, text)\n",
    "            for q in questions:\n",
    "                row = dict()\n",
    "                row['Chapter'] = chapter\n",
    "                row['section_title'] = section_title\n",
    "                row['is_question'] = True\n",
    "                row['text'] = q.strip('\\n\\n').strip('\\n')\n",
    "                rows.append(row)\n",
    "        else:\n",
    "            try:\n",
    "                start = re.search(\"\\nAccess for free\", text).start()\n",
    "                text = text[:start]\n",
    "            except:\n",
    "                text = text\n",
    "            row = dict()    \n",
    "            row['Chapter'] = chapter\n",
    "            row['section_title'] = section_title\n",
    "            row['is_question'] = False\n",
    "            row['text'] = text.strip('\\n\\n').strip('\\n')\n",
    "            rows.append(row)\n",
    "    return rows"
   ]
  },
  {
   "cell_type": "code",
   "execution_count": 169,
   "id": "283c3f05",
   "metadata": {
    "execution": {
     "iopub.execute_input": "2023-06-10T15:08:13.751926Z",
     "iopub.status.busy": "2023-06-10T15:08:13.750944Z",
     "iopub.status.idle": "2023-06-10T15:08:16.778128Z",
     "shell.execute_reply": "2023-06-10T15:08:16.776728Z"
    },
    "papermill": {
     "duration": 3.083658,
     "end_time": "2023-06-10T15:08:16.780755",
     "exception": false,
     "start_time": "2023-06-10T15:08:13.697097",
     "status": "completed"
    },
    "tags": []
   },
   "outputs": [],
   "source": [
    "df = pd.DataFrame(marketing(files))\n",
    "df['Book'] = BOOK\n",
    "df = df[['Book', 'Chapter', 'section_title', 'is_question', 'text']]\n",
    "df.to_parquet('marketing_tq.pq')"
   ]
  },
  {
   "cell_type": "code",
   "execution_count": 170,
   "id": "6c42ee48",
   "metadata": {
    "execution": {
     "iopub.execute_input": "2023-06-10T15:08:16.886530Z",
     "iopub.status.busy": "2023-06-10T15:08:16.885801Z",
     "iopub.status.idle": "2023-06-10T15:08:16.902498Z",
     "shell.execute_reply": "2023-06-10T15:08:16.901468Z"
    },
    "papermill": {
     "duration": 0.071872,
     "end_time": "2023-06-10T15:08:16.904837",
     "exception": false,
     "start_time": "2023-06-10T15:08:16.832965",
     "status": "completed"
    },
    "tags": []
   },
   "outputs": [
    {
     "data": {
      "text/html": [
       "<div>\n",
       "<style scoped>\n",
       "    .dataframe tbody tr th:only-of-type {\n",
       "        vertical-align: middle;\n",
       "    }\n",
       "\n",
       "    .dataframe tbody tr th {\n",
       "        vertical-align: top;\n",
       "    }\n",
       "\n",
       "    .dataframe thead th {\n",
       "        text-align: right;\n",
       "    }\n",
       "</style>\n",
       "<table border=\"1\" class=\"dataframe\">\n",
       "  <thead>\n",
       "    <tr style=\"text-align: right;\">\n",
       "      <th></th>\n",
       "      <th>Book</th>\n",
       "      <th>Chapter</th>\n",
       "      <th>section_title</th>\n",
       "      <th>is_question</th>\n",
       "      <th>text</th>\n",
       "    </tr>\n",
       "  </thead>\n",
       "  <tbody>\n",
       "    <tr>\n",
       "      <th>0</th>\n",
       "      <td>Marketing</td>\n",
       "      <td>1</td>\n",
       "      <td>1-1-marketing-and-the-marketing-process</td>\n",
       "      <td>False</td>\n",
       "      <td>1.1   Marketing and the Marketing Process\\n\\nL...</td>\n",
       "    </tr>\n",
       "    <tr>\n",
       "      <th>1</th>\n",
       "      <td>Marketing</td>\n",
       "      <td>1</td>\n",
       "      <td>1-2-the-marketing-mix-and-the-4ps-of-marketing</td>\n",
       "      <td>False</td>\n",
       "      <td>1.2   The Marketing Mix and the 4Ps of Marketi...</td>\n",
       "    </tr>\n",
       "    <tr>\n",
       "      <th>2</th>\n",
       "      <td>Marketing</td>\n",
       "      <td>1</td>\n",
       "      <td>1-3-factors-comprising-and-affecting-the-marke...</td>\n",
       "      <td>False</td>\n",
       "      <td>1.3   Factors Comprising and Affecting the Mar...</td>\n",
       "    </tr>\n",
       "    <tr>\n",
       "      <th>3</th>\n",
       "      <td>Marketing</td>\n",
       "      <td>1</td>\n",
       "      <td>1-4-evolution-of-the-marketing-concept</td>\n",
       "      <td>False</td>\n",
       "      <td>1.4   Evolution of the Marketing Concept\\n\\nLe...</td>\n",
       "    </tr>\n",
       "    <tr>\n",
       "      <th>4</th>\n",
       "      <td>Marketing</td>\n",
       "      <td>1</td>\n",
       "      <td>1-5-determining-consumer-needs-and-wants</td>\n",
       "      <td>False</td>\n",
       "      <td>1.5   Determining Consumer Needs and Wants\\n\\n...</td>\n",
       "    </tr>\n",
       "    <tr>\n",
       "      <th>...</th>\n",
       "      <td>...</td>\n",
       "      <td>...</td>\n",
       "      <td>...</td>\n",
       "      <td>...</td>\n",
       "      <td>...</td>\n",
       "    </tr>\n",
       "    <tr>\n",
       "      <th>334</th>\n",
       "      <td>Marketing</td>\n",
       "      <td>9</td>\n",
       "      <td>9-critical-thinking-exercises</td>\n",
       "      <td>True</td>\n",
       "      <td>Explain the product life cycle. How and why mi...</td>\n",
       "    </tr>\n",
       "    <tr>\n",
       "      <th>335</th>\n",
       "      <td>Marketing</td>\n",
       "      <td>9</td>\n",
       "      <td>9-critical-thinking-exercises</td>\n",
       "      <td>True</td>\n",
       "      <td>Examine the package of a product that you have...</td>\n",
       "    </tr>\n",
       "    <tr>\n",
       "      <th>336</th>\n",
       "      <td>Marketing</td>\n",
       "      <td>9</td>\n",
       "      <td>9-in-the-spotlight</td>\n",
       "      <td>False</td>\n",
       "      <td>Figure  9.1   Marketing strategies define and ...</td>\n",
       "    </tr>\n",
       "    <tr>\n",
       "      <th>337</th>\n",
       "      <td>Marketing</td>\n",
       "      <td>9</td>\n",
       "      <td>9-key-terms</td>\n",
       "      <td>False</td>\n",
       "      <td>Key Terms\\n\\nactual product\\n\\nproduct availab...</td>\n",
       "    </tr>\n",
       "    <tr>\n",
       "      <th>338</th>\n",
       "      <td>Marketing</td>\n",
       "      <td>index.docx</td>\n",
       "      <td>index</td>\n",
       "      <td>False</td>\n",
       "      <td>Index\\n\\nSymbols\\n\\n1977 Foreign Corrupt Pract...</td>\n",
       "    </tr>\n",
       "  </tbody>\n",
       "</table>\n",
       "<p>339 rows × 5 columns</p>\n",
       "</div>"
      ],
      "text/plain": [
       "          Book     Chapter                                      section_title  \\\n",
       "0    Marketing           1            1-1-marketing-and-the-marketing-process   \n",
       "1    Marketing           1     1-2-the-marketing-mix-and-the-4ps-of-marketing   \n",
       "2    Marketing           1  1-3-factors-comprising-and-affecting-the-marke...   \n",
       "3    Marketing           1             1-4-evolution-of-the-marketing-concept   \n",
       "4    Marketing           1           1-5-determining-consumer-needs-and-wants   \n",
       "..         ...         ...                                                ...   \n",
       "334  Marketing           9                      9-critical-thinking-exercises   \n",
       "335  Marketing           9                      9-critical-thinking-exercises   \n",
       "336  Marketing           9                                 9-in-the-spotlight   \n",
       "337  Marketing           9                                        9-key-terms   \n",
       "338  Marketing  index.docx                                              index   \n",
       "\n",
       "     is_question                                               text  \n",
       "0          False  1.1   Marketing and the Marketing Process\\n\\nL...  \n",
       "1          False  1.2   The Marketing Mix and the 4Ps of Marketi...  \n",
       "2          False  1.3   Factors Comprising and Affecting the Mar...  \n",
       "3          False  1.4   Evolution of the Marketing Concept\\n\\nLe...  \n",
       "4          False  1.5   Determining Consumer Needs and Wants\\n\\n...  \n",
       "..           ...                                                ...  \n",
       "334         True  Explain the product life cycle. How and why mi...  \n",
       "335         True  Examine the package of a product that you have...  \n",
       "336        False  Figure  9.1   Marketing strategies define and ...  \n",
       "337        False  Key Terms\\n\\nactual product\\n\\nproduct availab...  \n",
       "338        False  Index\\n\\nSymbols\\n\\n1977 Foreign Corrupt Pract...  \n",
       "\n",
       "[339 rows x 5 columns]"
      ]
     },
     "execution_count": 170,
     "metadata": {},
     "output_type": "execute_result"
    }
   ],
   "source": [
    "df"
   ]
  },
  {
   "cell_type": "code",
   "execution_count": 171,
   "id": "6b5449b2",
   "metadata": {
    "execution": {
     "iopub.execute_input": "2023-06-10T15:08:17.014853Z",
     "iopub.status.busy": "2023-06-10T15:08:17.014133Z",
     "iopub.status.idle": "2023-06-10T15:08:17.278423Z",
     "shell.execute_reply": "2023-06-10T15:08:17.276494Z"
    },
    "papermill": {
     "duration": 0.322443,
     "end_time": "2023-06-10T15:08:17.281769",
     "exception": false,
     "start_time": "2023-06-10T15:08:16.959326",
     "status": "completed"
    },
    "tags": []
   },
   "outputs": [
    {
     "name": "stdout",
     "output_type": "stream",
     "text": [
      "Python 3.7.12\r\n"
     ]
    }
   ],
   "source": [
    "!python --version"
   ]
  },
  {
   "cell_type": "code",
   "execution_count": null,
   "id": "d45cfc5d",
   "metadata": {
    "papermill": {
     "duration": 0.054816,
     "end_time": "2023-06-10T15:08:17.394251",
     "exception": false,
     "start_time": "2023-06-10T15:08:17.339435",
     "status": "completed"
    },
    "tags": []
   },
   "outputs": [],
   "source": []
  }
 ],
 "metadata": {
  "kernelspec": {
   "display_name": "Python 3",
   "language": "python",
   "name": "python3"
  },
  "language_info": {
   "codemirror_mode": {
    "name": "ipython",
    "version": 3
   },
   "file_extension": ".py",
   "mimetype": "text/x-python",
   "name": "python",
   "nbconvert_exporter": "python",
   "pygments_lexer": "ipython3",
   "version": "3.7.12"
  },
  "papermill": {
   "default_parameters": {},
   "duration": 129.32722,
   "end_time": "2023-06-10T15:08:18.383821",
   "environment_variables": {},
   "exception": null,
   "input_path": "__notebook__.ipynb",
   "output_path": "__notebook__.ipynb",
   "parameters": {},
   "start_time": "2023-06-10T15:06:09.056601",
   "version": "2.4.0"
  }
 },
 "nbformat": 4,
 "nbformat_minor": 5
}
