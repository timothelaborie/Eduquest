{
 "cells": [
  {
   "cell_type": "code",
   "execution_count": 1,
   "id": "9e38b945",
   "metadata": {
    "execution": {
     "iopub.execute_input": "2023-05-06T14:46:03.238466Z",
     "iopub.status.busy": "2023-05-06T14:46:03.237757Z",
     "iopub.status.idle": "2023-05-06T14:46:16.590727Z",
     "shell.execute_reply": "2023-05-06T14:46:16.589352Z"
    },
    "papermill": {
     "duration": 13.401143,
     "end_time": "2023-05-06T14:46:16.593727",
     "exception": false,
     "start_time": "2023-05-06T14:46:03.192584",
     "status": "completed"
    },
    "tags": []
   },
   "outputs": [
    {
     "name": "stdout",
     "output_type": "stream",
     "text": [
      "Collecting docx2txt\r\n",
      "  Downloading docx2txt-0.8.tar.gz (2.8 kB)\r\n",
      "  Preparing metadata (setup.py) ... \u001b[?25l-\b \bdone\r\n",
      "\u001b[?25hBuilding wheels for collected packages: docx2txt\r\n",
      "  Building wheel for docx2txt (setup.py) ... \u001b[?25l-\b \b\\\b \bdone\r\n",
      "\u001b[?25h  Created wheel for docx2txt: filename=docx2txt-0.8-py3-none-any.whl size=3980 sha256=94e01e791bf570dbfa08297f4dd3b3d821f15b791c8c16339ac9860b537605df\r\n",
      "  Stored in directory: /root/.cache/pip/wheels/08/45/4d/5985be6d2ead508294e8660bdf11c974153d1f519e96810d0c\r\n",
      "Successfully built docx2txt\r\n",
      "Installing collected packages: docx2txt\r\n",
      "Successfully installed docx2txt-0.8\r\n",
      "\u001b[33mWARNING: Running pip as the 'root' user can result in broken permissions and conflicting behaviour with the system package manager. It is recommended to use a virtual environment instead: https://pip.pypa.io/warnings/venv\u001b[0m\u001b[33m\r\n",
      "\u001b[0m"
     ]
    }
   ],
   "source": [
    "!pip install docx2txt"
   ]
  },
  {
   "cell_type": "code",
   "execution_count": 2,
   "id": "8f01b5be",
   "metadata": {
    "_cell_guid": "b1076dfc-b9ad-4769-8c92-a6c4dae69d19",
    "_uuid": "8f2839f25d086af736a60e9eeb907d3b93b6e0e5",
    "execution": {
     "iopub.execute_input": "2023-05-06T14:46:16.676446Z",
     "iopub.status.busy": "2023-05-06T14:46:16.675278Z",
     "iopub.status.idle": "2023-05-06T14:46:17.766018Z",
     "shell.execute_reply": "2023-05-06T14:46:17.765010Z"
    },
    "papermill": {
     "duration": 1.134696,
     "end_time": "2023-05-06T14:46:17.768639",
     "exception": false,
     "start_time": "2023-05-06T14:46:16.633943",
     "status": "completed"
    },
    "tags": []
   },
   "outputs": [],
   "source": [
    "import numpy as np\n",
    "import pandas as pd\n",
    "import seaborn as sns\n",
    "import json\n",
    "from glob import glob\n",
    "import gc\n",
    "import docx2txt\n",
    "import re"
   ]
  },
  {
   "cell_type": "code",
   "execution_count": 3,
   "id": "6363d31e",
   "metadata": {
    "execution": {
     "iopub.execute_input": "2023-05-06T14:46:17.848981Z",
     "iopub.status.busy": "2023-05-06T14:46:17.848600Z",
     "iopub.status.idle": "2023-05-06T14:46:17.872682Z",
     "shell.execute_reply": "2023-05-06T14:46:17.871771Z"
    },
    "papermill": {
     "duration": 0.067475,
     "end_time": "2023-05-06T14:46:17.875232",
     "exception": false,
     "start_time": "2023-05-06T14:46:17.807757",
     "status": "completed"
    },
    "tags": []
   },
   "outputs": [],
   "source": [
    "folder = sorted(glob('/kaggle/input/csnlp-datasets/openstax/openstax/*'))"
   ]
  },
  {
   "cell_type": "markdown",
   "id": "1977a84f",
   "metadata": {
    "papermill": {
     "duration": 0.038692,
     "end_time": "2023-05-06T14:46:17.954050",
     "exception": false,
     "start_time": "2023-05-06T14:46:17.915358",
     "status": "completed"
    },
    "tags": []
   },
   "source": [
    "## World History Volume 1\n",
    "\n",
    "- No Testbank, Each Chapter has Review, Check your Understanding and Reflection Questions\n"
   ]
  },
  {
   "cell_type": "code",
   "execution_count": 4,
   "id": "8e6f1e8b",
   "metadata": {
    "execution": {
     "iopub.execute_input": "2023-05-06T14:46:18.034213Z",
     "iopub.status.busy": "2023-05-06T14:46:18.033809Z",
     "iopub.status.idle": "2023-05-06T14:46:18.050757Z",
     "shell.execute_reply": "2023-05-06T14:46:18.049871Z"
    },
    "papermill": {
     "duration": 0.060316,
     "end_time": "2023-05-06T14:46:18.052995",
     "exception": false,
     "start_time": "2023-05-06T14:46:17.992679",
     "status": "completed"
    },
    "tags": []
   },
   "outputs": [],
   "source": [
    "wh1 = sorted(glob('/kaggle/input/csnlp-datasets/openstax/openstax/Worldhistory_docx/world-history-volume-1/*.docx'))"
   ]
  },
  {
   "cell_type": "code",
   "execution_count": 5,
   "id": "2968b4c9",
   "metadata": {
    "execution": {
     "iopub.execute_input": "2023-05-06T14:46:18.131572Z",
     "iopub.status.busy": "2023-05-06T14:46:18.131125Z",
     "iopub.status.idle": "2023-05-06T14:46:18.150312Z",
     "shell.execute_reply": "2023-05-06T14:46:18.149498Z"
    },
    "papermill": {
     "duration": 0.061025,
     "end_time": "2023-05-06T14:46:18.152246",
     "exception": false,
     "start_time": "2023-05-06T14:46:18.091221",
     "status": "completed"
    },
    "tags": []
   },
   "outputs": [
    {
     "data": {
      "text/plain": [
       "'Review Questions\\n\\n1. \\n\\nWhat is an example of a primary source?\\n\\na diary entry by a person who lived in the period under discussion\\n\\na modern biography of a person in the period under discussion\\n\\nan account of a nineteenth-century battle in a twenty-first century textbook\\n\\nan article in an academic journal\\n\\n2. \\n\\nWhom do the Chinese view as the Father of History?\\n\\nHomer\\n\\nSantayana\\n\\nHerodotus\\n\\nSima Qian\\n\\n3. \\n\\nWhat interpretation of history assumes that history can be viewed primarily through the lives and choices of leaders?\\n\\ngreat man theory\\n\\nprogressive interpretation\\n\\ngender interpretation\\n\\nMarxist interpretation\\n\\n4. \\n\\nThe belief that history is moved primarily by class struggle is the ______ of history.\\n\\nsocial interpretation theory\\n\\nrevisionist view\\n\\nprogressive interpretation\\n\\nMarxist interpretation\\n\\n5. \\n\\nThe _______ is the most immediate motivator of a historical event.\\n\\ntertiary cause\\n\\nprimary cause\\n\\naction of a great man\\n\\nsocial construct\\n\\n6. \\n\\nOur perspectives are deeply rooted in _______, which we learn from our upbringing and environment.\\n\\neducation\\n\\nsocial constructs\\n\\nhistorical empathy\\n\\ncausation\\n\\nAccess for free at https://openstax.org'"
      ]
     },
     "execution_count": 5,
     "metadata": {},
     "output_type": "execute_result"
    }
   ],
   "source": [
    "text = docx2txt.process(wh1[7])\n",
    "access_for_free = text[-41:]\n",
    "text"
   ]
  },
  {
   "cell_type": "code",
   "execution_count": 6,
   "id": "5a56e04b",
   "metadata": {
    "execution": {
     "iopub.execute_input": "2023-05-06T14:46:18.231438Z",
     "iopub.status.busy": "2023-05-06T14:46:18.230757Z",
     "iopub.status.idle": "2023-05-06T14:46:18.237151Z",
     "shell.execute_reply": "2023-05-06T14:46:18.236360Z"
    },
    "papermill": {
     "duration": 0.047809,
     "end_time": "2023-05-06T14:46:18.239140",
     "exception": false,
     "start_time": "2023-05-06T14:46:18.191331",
     "status": "completed"
    },
    "tags": []
   },
   "outputs": [
    {
     "data": {
      "text/plain": [
       "'\\n\\nWhom do the Chinese view as the Father of History?\\n\\nHomer\\n\\nSantayana\\n\\nHerodotus\\n\\nSima Qian\\n\\n3'"
      ]
     },
     "execution_count": 6,
     "metadata": {},
     "output_type": "execute_result"
    }
   ],
   "source": [
    "pattern = r'\\n\\n(?:[A-Z].*?)\\n\\n(?:\\d|Access)'\n",
    "qs = re.findall(pattern, text, re.DOTALL)\n",
    "qs[1]"
   ]
  },
  {
   "cell_type": "code",
   "execution_count": 7,
   "id": "e6dcd80b",
   "metadata": {
    "execution": {
     "iopub.execute_input": "2023-05-06T14:46:18.318313Z",
     "iopub.status.busy": "2023-05-06T14:46:18.317629Z",
     "iopub.status.idle": "2023-05-06T14:46:18.321432Z",
     "shell.execute_reply": "2023-05-06T14:46:18.320653Z"
    },
    "papermill": {
     "duration": 0.045466,
     "end_time": "2023-05-06T14:46:18.323464",
     "exception": false,
     "start_time": "2023-05-06T14:46:18.277998",
     "status": "completed"
    },
    "tags": []
   },
   "outputs": [],
   "source": [
    "BOOK = 'World History Volume 1'"
   ]
  },
  {
   "cell_type": "code",
   "execution_count": 8,
   "id": "a3a60c96",
   "metadata": {
    "execution": {
     "iopub.execute_input": "2023-05-06T14:46:18.403941Z",
     "iopub.status.busy": "2023-05-06T14:46:18.403274Z",
     "iopub.status.idle": "2023-05-06T14:46:18.420249Z",
     "shell.execute_reply": "2023-05-06T14:46:18.419389Z"
    },
    "papermill": {
     "duration": 0.059934,
     "end_time": "2023-05-06T14:46:18.422642",
     "exception": false,
     "start_time": "2023-05-06T14:46:18.362708",
     "status": "completed"
    },
    "tags": []
   },
   "outputs": [],
   "source": [
    "def extract(files, BOOK):\n",
    "    rows = []\n",
    "    for file in files:\n",
    "        text = docx2txt.process(file)\n",
    "        filename = file.split('/')[-1]\n",
    "        is_question = 'questions' in filename\n",
    "        section_title = re.sub(r\"\\.docx$\", \"\", filename)\n",
    "        if is_question:\n",
    "            pattern = r'\\n\\n(?:[A-Z].*?)\\n\\n(?:\\d|Access)'\n",
    "            qs = re.findall(pattern, text, re.DOTALL)\n",
    "        try:\n",
    "            start = re.search(\"\\nAccess for free\", text).start()\n",
    "            text = text[:start]\n",
    "        except:\n",
    "            text = text.strip(access_for_free)\n",
    "        chapter = filename.split('-')[0]\n",
    "        if is_question:\n",
    "            for q in qs:\n",
    "                #iterate over the questions\n",
    "                fill_blank = False\n",
    "                row = dict()\n",
    "                row['Book'] = BOOK\n",
    "                row['Chapter'] = chapter\n",
    "                row['section_title'] = section_title\n",
    "                row['is_question'] = True\n",
    "                row['text'] = q.strip('Access')\n",
    "                if \"___\" in q:\n",
    "                    fill_blank = True\n",
    "                row['truefalse'] = False\n",
    "                row['fillblank'] = fill_blank\n",
    "                row['mc'] = !fill_blank\n",
    "                rows.append(row)\n",
    "        else:\n",
    "                row = dict()\n",
    "                row['Book'] = BOOK\n",
    "                row['Chapter'] = chapter\n",
    "                row['section_title'] = section_title\n",
    "                row['is_question'] = False\n",
    "                row['text'] = text\n",
    "                rows.append(row)\n",
    "    return rows"
   ]
  },
  {
   "cell_type": "code",
   "execution_count": 9,
   "id": "c92a538e",
   "metadata": {
    "execution": {
     "iopub.execute_input": "2023-05-06T14:46:18.504111Z",
     "iopub.status.busy": "2023-05-06T14:46:18.503556Z",
     "iopub.status.idle": "2023-05-06T14:46:21.185429Z",
     "shell.execute_reply": "2023-05-06T14:46:21.183937Z"
    },
    "papermill": {
     "duration": 2.725272,
     "end_time": "2023-05-06T14:46:21.188293",
     "exception": false,
     "start_time": "2023-05-06T14:46:18.463021",
     "status": "completed"
    },
    "tags": []
   },
   "outputs": [],
   "source": [
    "#tq stands for text and questions\n",
    "pd.DataFrame(extract(wh1, BOOK)).to_parquet('wh1_tq.pq')\n",
    "# df[df['is_question'] == True].text.iloc[30]"
   ]
  },
  {
   "cell_type": "code",
   "execution_count": 10,
   "id": "a0f81c47",
   "metadata": {
    "execution": {
     "iopub.execute_input": "2023-05-06T14:46:21.269021Z",
     "iopub.status.busy": "2023-05-06T14:46:21.268178Z",
     "iopub.status.idle": "2023-05-06T14:46:21.412486Z",
     "shell.execute_reply": "2023-05-06T14:46:21.411405Z"
    },
    "papermill": {
     "duration": 0.187314,
     "end_time": "2023-05-06T14:46:21.415049",
     "exception": false,
     "start_time": "2023-05-06T14:46:21.227735",
     "status": "completed"
    },
    "tags": []
   },
   "outputs": [
    {
     "data": {
      "text/plain": [
       "21"
      ]
     },
     "execution_count": 10,
     "metadata": {},
     "output_type": "execute_result"
    }
   ],
   "source": [
    "del wh1\n",
    "gc.collect()"
   ]
  },
  {
   "cell_type": "markdown",
   "id": "814d098a",
   "metadata": {
    "papermill": {
     "duration": 0.039907,
     "end_time": "2023-05-06T14:46:21.494684",
     "exception": false,
     "start_time": "2023-05-06T14:46:21.454777",
     "status": "completed"
    },
    "tags": []
   },
   "source": [
    "## World History Volume 2\n",
    "\n",
    "- Each Chapter has Application and Reflection Questions\n",
    "- We have a Testbank that is organized See next part"
   ]
  },
  {
   "cell_type": "code",
   "execution_count": 11,
   "id": "a12761df",
   "metadata": {
    "execution": {
     "iopub.execute_input": "2023-05-06T14:46:21.578322Z",
     "iopub.status.busy": "2023-05-06T14:46:21.577518Z",
     "iopub.status.idle": "2023-05-06T14:46:21.583060Z",
     "shell.execute_reply": "2023-05-06T14:46:21.581761Z"
    },
    "papermill": {
     "duration": 0.050187,
     "end_time": "2023-05-06T14:46:21.585558",
     "exception": false,
     "start_time": "2023-05-06T14:46:21.535371",
     "status": "completed"
    },
    "tags": []
   },
   "outputs": [],
   "source": [
    "BOOK = 'World History Volume 2'"
   ]
  },
  {
   "cell_type": "code",
   "execution_count": 12,
   "id": "366d21ed",
   "metadata": {
    "execution": {
     "iopub.execute_input": "2023-05-06T14:46:21.670491Z",
     "iopub.status.busy": "2023-05-06T14:46:21.669624Z",
     "iopub.status.idle": "2023-05-06T14:46:21.693347Z",
     "shell.execute_reply": "2023-05-06T14:46:21.692452Z"
    },
    "papermill": {
     "duration": 0.06985,
     "end_time": "2023-05-06T14:46:21.695988",
     "exception": false,
     "start_time": "2023-05-06T14:46:21.626138",
     "status": "completed"
    },
    "tags": []
   },
   "outputs": [],
   "source": [
    "wh2 = sorted(glob('/kaggle/input/csnlp-datasets/openstax/openstax/Worldhistory_docx/world-history-volume-2/*.docx'))"
   ]
  },
  {
   "cell_type": "code",
   "execution_count": 13,
   "id": "8323bc67",
   "metadata": {
    "execution": {
     "iopub.execute_input": "2023-05-06T14:46:21.781247Z",
     "iopub.status.busy": "2023-05-06T14:46:21.780213Z",
     "iopub.status.idle": "2023-05-06T14:46:21.791949Z",
     "shell.execute_reply": "2023-05-06T14:46:21.790831Z"
    },
    "papermill": {
     "duration": 0.057164,
     "end_time": "2023-05-06T14:46:21.794409",
     "exception": false,
     "start_time": "2023-05-06T14:46:21.737245",
     "status": "completed"
    },
    "tags": []
   },
   "outputs": [],
   "source": [
    "def extract2(files, BOOK):\n",
    "    rows = []\n",
    "    for file in files:\n",
    "        text = docx2txt.process(file)\n",
    "        filename = file.split('/')[-1]\n",
    "        is_question = 'questions' in filename\n",
    "        section_title = re.sub(r\"\\.docx$\", \"\", filename)\n",
    "        if is_question:\n",
    "            pattern = r'\\n\\n(?:[A-Z].*?)\\n\\n(?:\\d|Access)'\n",
    "            qs = re.findall(pattern, text, re.DOTALL)\n",
    "        try:\n",
    "            start = re.search(\"\\nAccess for free\", text).start()\n",
    "            text = text[:start]\n",
    "        except:\n",
    "            text = text.strip(access_for_free)\n",
    "        chapter = filename.split('-')[0]\n",
    "        if is_question:\n",
    "            for q in qs:\n",
    "                #iterate over the questions\n",
    "                fill_blank = False\n",
    "                row = dict()\n",
    "                row['Book'] = BOOK\n",
    "                row['Chapter'] = chapter\n",
    "                row['section_title'] = section_title\n",
    "                row['is_question'] = True\n",
    "                row['text'] = q.strip('Access')\n",
    "                row['truefalse'] = False\n",
    "                row['fillblank'] = \"___\" in q\n",
    "                row['mc'] = True\n",
    "                rows.append(row)\n",
    "        else:\n",
    "                row = dict()\n",
    "                row['Book'] = BOOK\n",
    "                row['Chapter'] = chapter\n",
    "                row['section_title'] = section_title\n",
    "                row['is_question'] = False\n",
    "                row['text'] = text\n",
    "                rows.append(row)\n",
    "    return rows"
   ]
  },
  {
   "cell_type": "code",
   "execution_count": 14,
   "id": "34b18caa",
   "metadata": {
    "execution": {
     "iopub.execute_input": "2023-05-06T14:46:21.878765Z",
     "iopub.status.busy": "2023-05-06T14:46:21.878360Z",
     "iopub.status.idle": "2023-05-06T14:46:24.411728Z",
     "shell.execute_reply": "2023-05-06T14:46:24.410471Z"
    },
    "papermill": {
     "duration": 2.578771,
     "end_time": "2023-05-06T14:46:24.414602",
     "exception": false,
     "start_time": "2023-05-06T14:46:21.835831",
     "status": "completed"
    },
    "tags": []
   },
   "outputs": [],
   "source": [
    "#tq stands for text and questions\n",
    "pd.DataFrame(extract2(wh2, BOOK = 'World History Volume 2')).to_parquet('wh2_tq.pq')"
   ]
  },
  {
   "cell_type": "code",
   "execution_count": 15,
   "id": "f6fa63c0",
   "metadata": {
    "execution": {
     "iopub.execute_input": "2023-05-06T14:46:24.497914Z",
     "iopub.status.busy": "2023-05-06T14:46:24.497511Z",
     "iopub.status.idle": "2023-05-06T14:46:24.619198Z",
     "shell.execute_reply": "2023-05-06T14:46:24.618050Z"
    },
    "papermill": {
     "duration": 0.166941,
     "end_time": "2023-05-06T14:46:24.622221",
     "exception": false,
     "start_time": "2023-05-06T14:46:24.455280",
     "status": "completed"
    },
    "tags": []
   },
   "outputs": [
    {
     "data": {
      "text/plain": [
       "21"
      ]
     },
     "execution_count": 15,
     "metadata": {},
     "output_type": "execute_result"
    }
   ],
   "source": [
    "del wh2\n",
    "gc.collect()"
   ]
  },
  {
   "cell_type": "markdown",
   "id": "3dec77f3",
   "metadata": {
    "papermill": {
     "duration": 0.040934,
     "end_time": "2023-05-06T14:46:24.705239",
     "exception": false,
     "start_time": "2023-05-06T14:46:24.664305",
     "status": "completed"
    },
    "tags": []
   },
   "source": [
    "## WH2 Testbank\n",
    "- testbank has all types of nice questions\n",
    "- right now only extract fillblank or mc flag, but some of them could be more nuanced, but each file is different, FUTURE WORK!"
   ]
  },
  {
   "cell_type": "code",
   "execution_count": 16,
   "id": "70a9ebf8",
   "metadata": {
    "execution": {
     "iopub.execute_input": "2023-05-06T14:46:24.790887Z",
     "iopub.status.busy": "2023-05-06T14:46:24.790501Z",
     "iopub.status.idle": "2023-05-06T14:46:24.799734Z",
     "shell.execute_reply": "2023-05-06T14:46:24.798544Z"
    },
    "papermill": {
     "duration": 0.05491,
     "end_time": "2023-05-06T14:46:24.802346",
     "exception": false,
     "start_time": "2023-05-06T14:46:24.747436",
     "status": "completed"
    },
    "tags": []
   },
   "outputs": [],
   "source": [
    "files = sorted(glob('/kaggle/input/csnlp-datasets/openstax/openstax/Worldhistory_vol2_testbank/*.docx'))"
   ]
  },
  {
   "cell_type": "code",
   "execution_count": 17,
   "id": "bb1819ea",
   "metadata": {
    "execution": {
     "iopub.execute_input": "2023-05-06T14:46:24.886334Z",
     "iopub.status.busy": "2023-05-06T14:46:24.885920Z",
     "iopub.status.idle": "2023-05-06T14:46:24.919424Z",
     "shell.execute_reply": "2023-05-06T14:46:24.918424Z"
    },
    "papermill": {
     "duration": 0.079013,
     "end_time": "2023-05-06T14:46:24.922250",
     "exception": false,
     "start_time": "2023-05-06T14:46:24.843237",
     "status": "completed"
    },
    "tags": []
   },
   "outputs": [],
   "source": [
    "text = docx2txt.process(files[0])\n",
    "try:\n",
    "    start = re.search(\"\\nAccess for free\", text).start()\n",
    "    text = text[:start]\n",
    "except:\n",
    "    text = text.strip(access_for_free)"
   ]
  },
  {
   "cell_type": "code",
   "execution_count": 18,
   "id": "91a11660",
   "metadata": {
    "execution": {
     "iopub.execute_input": "2023-05-06T14:46:25.006473Z",
     "iopub.status.busy": "2023-05-06T14:46:25.006056Z",
     "iopub.status.idle": "2023-05-06T14:46:25.017019Z",
     "shell.execute_reply": "2023-05-06T14:46:25.015812Z"
    },
    "papermill": {
     "duration": 0.055933,
     "end_time": "2023-05-06T14:46:25.019531",
     "exception": false,
     "start_time": "2023-05-06T14:46:24.963598",
     "status": "completed"
    },
    "tags": []
   },
   "outputs": [],
   "source": [
    "def extract_wh2tb(files, BOOK):\n",
    "    rows = []\n",
    "    for file in files:\n",
    "        filename = file.split('/')[-1]\n",
    "        chapter = filename.strip('.docx').split('-')[-1].strip('Ch')\n",
    "        chapter = int(chapter)\n",
    "        text = docx2txt.process(file).strip(access_for_free)\n",
    "        questions = re.findall(\"\\n.*\\?\", text)\n",
    "        tf = re.findall(\"\\nTrue or false.*\\n\", text)\n",
    "        try:\n",
    "            start = re.search(\"\\nAccess for free\", text).start()\n",
    "            text = text[:start]\n",
    "        except:\n",
    "            text = text.strip(access_for_free)\n",
    "        for question in questions:\n",
    "            row = dict()\n",
    "            row['Book'] = BOOK\n",
    "            if \"True or false?\" in question:\n",
    "                continue\n",
    "            else:            \n",
    "                row['Chapter'] = chapter\n",
    "                row['question'] = question.strip('\\n')\n",
    "                row['is_question'] = True\n",
    "                if '___' in question:\n",
    "                    row['fillblank'] = True\n",
    "                else:\n",
    "                    row['fillblank'] = False\n",
    "                rows.append(row)\n",
    "        for question in tf: \n",
    "            row = dict()\n",
    "            row['Book'] = BOOK\n",
    "            row['Chapter'] = chapter\n",
    "            row['question'] = question.strip('\\n')\n",
    "            row['is_question'] = True\n",
    "            row['truefalse'] = True\n",
    "            row['fillblank'] = False\n",
    "            rows.append(row)\n",
    "    return rows"
   ]
  },
  {
   "cell_type": "code",
   "execution_count": 19,
   "id": "34532fb2",
   "metadata": {
    "execution": {
     "iopub.execute_input": "2023-05-06T14:46:25.102701Z",
     "iopub.status.busy": "2023-05-06T14:46:25.102300Z",
     "iopub.status.idle": "2023-05-06T14:46:25.475827Z",
     "shell.execute_reply": "2023-05-06T14:46:25.474649Z"
    },
    "papermill": {
     "duration": 0.418691,
     "end_time": "2023-05-06T14:46:25.478622",
     "exception": false,
     "start_time": "2023-05-06T14:46:25.059931",
     "status": "completed"
    },
    "tags": []
   },
   "outputs": [],
   "source": [
    "pd.DataFrame(extract_wh2tb(files, BOOK)).fillna(False).to_parquet('wh2testbank.pq')"
   ]
  },
  {
   "cell_type": "markdown",
   "id": "a1e7d27f",
   "metadata": {
    "papermill": {
     "duration": 0.039572,
     "end_time": "2023-05-06T14:46:25.558847",
     "exception": false,
     "start_time": "2023-05-06T14:46:25.519275",
     "status": "completed"
    },
    "tags": []
   },
   "source": [
    "## Psychology 2e \n",
    "- have Testbank\n",
    "- questions are marked end of chapter, critical thinking, review, personal application\n",
    "- lots of Fill blank, questions are very long, maybe to psych you out XD"
   ]
  },
  {
   "cell_type": "code",
   "execution_count": 20,
   "id": "af77a3ed",
   "metadata": {
    "execution": {
     "iopub.execute_input": "2023-05-06T14:46:25.642266Z",
     "iopub.status.busy": "2023-05-06T14:46:25.641459Z",
     "iopub.status.idle": "2023-05-06T14:46:25.692418Z",
     "shell.execute_reply": "2023-05-06T14:46:25.691495Z"
    },
    "papermill": {
     "duration": 0.095803,
     "end_time": "2023-05-06T14:46:25.695235",
     "exception": false,
     "start_time": "2023-05-06T14:46:25.599432",
     "status": "completed"
    },
    "tags": []
   },
   "outputs": [],
   "source": [
    "files = sorted(glob('/kaggle/input/csnlp-datasets/openstax/openstax/psychology-2e-docx/psychology-2e/*.docx'))\n",
    "text = docx2txt.process(files[2])\n",
    "access_for_free = text[-41:]\n",
    "try:\n",
    "    start = re.search(\"\\nAccess for free\", text).start()\n",
    "    text = text[:start]\n",
    "except:\n",
    "    text = text.strip(access_for_free)"
   ]
  },
  {
   "cell_type": "code",
   "execution_count": 21,
   "id": "224a523f",
   "metadata": {
    "execution": {
     "iopub.execute_input": "2023-05-06T14:46:25.780383Z",
     "iopub.status.busy": "2023-05-06T14:46:25.779549Z",
     "iopub.status.idle": "2023-05-06T14:46:25.791573Z",
     "shell.execute_reply": "2023-05-06T14:46:25.790203Z"
    },
    "papermill": {
     "duration": 0.057532,
     "end_time": "2023-05-06T14:46:25.794237",
     "exception": false,
     "start_time": "2023-05-06T14:46:25.736705",
     "status": "completed"
    },
    "tags": []
   },
   "outputs": [],
   "source": [
    "def extract_psych(files, BOOK):\n",
    "    rows = []\n",
    "    for file in files:\n",
    "        text = docx2txt.process(file)\n",
    "        filename = file.split('/')[-1]\n",
    "        is_question = 'questions' in filename\n",
    "        section_title = re.sub(r\"\\.docx$\", \"\", filename)\n",
    "        if is_question:\n",
    "            pattern = r'\\n\\n(?:[A-Z].*?)\\n\\n(?:\\d|Access)'\n",
    "            qs = re.findall(pattern, text, re.DOTALL)\n",
    "        try:\n",
    "            start = re.search(\"\\nAccess for free\", text).start()\n",
    "            text = text[:start]\n",
    "        except:\n",
    "            text = text.strip(access_for_free)\n",
    "        chapter = filename.split('-')[0]\n",
    "        if is_question:\n",
    "            for q in qs:\n",
    "                #iterate over the questions\n",
    "                fill_blank = False\n",
    "                row = dict()\n",
    "                row['Book'] = BOOK\n",
    "                row['Chapter'] = chapter\n",
    "                row['section_title'] = section_title\n",
    "                row['is_question'] = True\n",
    "                row['text'] = q.strip('Access')\n",
    "                if \"___\" in q:\n",
    "                    row['fillblank'] = True\n",
    "                else:\n",
    "                    row['fillblank'] = True\n",
    "                row['truefalse'] = False\n",
    "                row['mc'] = False\n",
    "                    \n",
    "                rows.append(row)\n",
    "        else:\n",
    "                row = dict()\n",
    "                row['Book'] =BOOK\n",
    "                row['Chapter'] = chapter\n",
    "                row['section_title'] = section_title\n",
    "                row['is_question'] = False\n",
    "                row['text'] = text\n",
    "                rows.append(row)\n",
    "    return rows"
   ]
  },
  {
   "cell_type": "code",
   "execution_count": 22,
   "id": "f6bfe654",
   "metadata": {
    "execution": {
     "iopub.execute_input": "2023-05-06T14:46:25.878829Z",
     "iopub.status.busy": "2023-05-06T14:46:25.878027Z",
     "iopub.status.idle": "2023-05-06T14:46:25.883055Z",
     "shell.execute_reply": "2023-05-06T14:46:25.881943Z"
    },
    "papermill": {
     "duration": 0.050714,
     "end_time": "2023-05-06T14:46:25.885693",
     "exception": false,
     "start_time": "2023-05-06T14:46:25.834979",
     "status": "completed"
    },
    "tags": []
   },
   "outputs": [],
   "source": [
    "book = 'Psychology 2e'"
   ]
  },
  {
   "cell_type": "code",
   "execution_count": 23,
   "id": "6d160d18",
   "metadata": {
    "execution": {
     "iopub.execute_input": "2023-05-06T14:46:25.970665Z",
     "iopub.status.busy": "2023-05-06T14:46:25.969762Z",
     "iopub.status.idle": "2023-05-06T14:46:28.314708Z",
     "shell.execute_reply": "2023-05-06T14:46:28.313577Z"
    },
    "papermill": {
     "duration": 2.390118,
     "end_time": "2023-05-06T14:46:28.317316",
     "exception": false,
     "start_time": "2023-05-06T14:46:25.927198",
     "status": "completed"
    },
    "tags": []
   },
   "outputs": [],
   "source": [
    "pd.DataFrame(extract_psych(files, BOOK = book)).to_parquet('psychology2e_tq.pq')"
   ]
  },
  {
   "cell_type": "code",
   "execution_count": 24,
   "id": "40d0fcc4",
   "metadata": {
    "execution": {
     "iopub.execute_input": "2023-05-06T14:46:28.397590Z",
     "iopub.status.busy": "2023-05-06T14:46:28.397209Z",
     "iopub.status.idle": "2023-05-06T14:46:29.481985Z",
     "shell.execute_reply": "2023-05-06T14:46:29.480712Z"
    },
    "papermill": {
     "duration": 1.128123,
     "end_time": "2023-05-06T14:46:29.484550",
     "exception": false,
     "start_time": "2023-05-06T14:46:28.356427",
     "status": "completed"
    },
    "tags": []
   },
   "outputs": [
    {
     "data": {
      "text/html": [
       "<div>\n",
       "<style scoped>\n",
       "    .dataframe tbody tr th:only-of-type {\n",
       "        vertical-align: middle;\n",
       "    }\n",
       "\n",
       "    .dataframe tbody tr th {\n",
       "        vertical-align: top;\n",
       "    }\n",
       "\n",
       "    .dataframe thead th {\n",
       "        text-align: right;\n",
       "    }\n",
       "</style>\n",
       "<table border=\"1\" class=\"dataframe\">\n",
       "  <thead>\n",
       "    <tr style=\"text-align: right;\">\n",
       "      <th></th>\n",
       "      <th>Book</th>\n",
       "      <th>Chapter</th>\n",
       "      <th>section_title</th>\n",
       "      <th>is_question</th>\n",
       "      <th>text</th>\n",
       "      <th>fillblank</th>\n",
       "      <th>truefalse</th>\n",
       "      <th>mc</th>\n",
       "    </tr>\n",
       "  </thead>\n",
       "  <tbody>\n",
       "    <tr>\n",
       "      <th>0</th>\n",
       "      <td>Psychology 2e</td>\n",
       "      <td>1</td>\n",
       "      <td>1-1-what-is-psychology</td>\n",
       "      <td>False</td>\n",
       "      <td>1.1   What Is Psychology?\\n\\nLearning Objectiv...</td>\n",
       "      <td>NaN</td>\n",
       "      <td>NaN</td>\n",
       "      <td>NaN</td>\n",
       "    </tr>\n",
       "    <tr>\n",
       "      <th>1</th>\n",
       "      <td>Psychology 2e</td>\n",
       "      <td>1</td>\n",
       "      <td>1-2-history-of-psychology</td>\n",
       "      <td>False</td>\n",
       "      <td>1.2   History of Psychology\\n\\nLearning Object...</td>\n",
       "      <td>NaN</td>\n",
       "      <td>NaN</td>\n",
       "      <td>NaN</td>\n",
       "    </tr>\n",
       "    <tr>\n",
       "      <th>2</th>\n",
       "      <td>Psychology 2e</td>\n",
       "      <td>1</td>\n",
       "      <td>1-3-contemporary-psychology</td>\n",
       "      <td>False</td>\n",
       "      <td>1.3   Contemporary Psychology\\n\\nLearning Obje...</td>\n",
       "      <td>NaN</td>\n",
       "      <td>NaN</td>\n",
       "      <td>NaN</td>\n",
       "    </tr>\n",
       "    <tr>\n",
       "      <th>3</th>\n",
       "      <td>Psychology 2e</td>\n",
       "      <td>1</td>\n",
       "      <td>1-4-careers-in-psychology</td>\n",
       "      <td>False</td>\n",
       "      <td>1.4   Careers in Psychology\\n\\nLearning Object...</td>\n",
       "      <td>NaN</td>\n",
       "      <td>NaN</td>\n",
       "      <td>NaN</td>\n",
       "    </tr>\n",
       "    <tr>\n",
       "      <th>4</th>\n",
       "      <td>Psychology 2e</td>\n",
       "      <td>1</td>\n",
       "      <td>1-critical-thinking-questions</td>\n",
       "      <td>True</td>\n",
       "      <td>\\n\\nWhy do you think psychology courses like t...</td>\n",
       "      <td>True</td>\n",
       "      <td>False</td>\n",
       "      <td>False</td>\n",
       "    </tr>\n",
       "    <tr>\n",
       "      <th>...</th>\n",
       "      <td>...</td>\n",
       "      <td>...</td>\n",
       "      <td>...</td>\n",
       "      <td>...</td>\n",
       "      <td>...</td>\n",
       "      <td>...</td>\n",
       "      <td>...</td>\n",
       "      <td>...</td>\n",
       "    </tr>\n",
       "    <tr>\n",
       "      <th>700</th>\n",
       "      <td>Psychology 2e</td>\n",
       "      <td>9</td>\n",
       "      <td>9-review-questions</td>\n",
       "      <td>True</td>\n",
       "      <td>\\n\\nWhich of the following is the order of sta...</td>\n",
       "      <td>True</td>\n",
       "      <td>False</td>\n",
       "      <td>False</td>\n",
       "    </tr>\n",
       "    <tr>\n",
       "      <th>701</th>\n",
       "      <td>Psychology 2e</td>\n",
       "      <td>9</td>\n",
       "      <td>9-summary</td>\n",
       "      <td>False</td>\n",
       "      <td>Summary\\n\\n\\n\\n9.1   What Is Lifespan Developm...</td>\n",
       "      <td>NaN</td>\n",
       "      <td>NaN</td>\n",
       "      <td>NaN</td>\n",
       "    </tr>\n",
       "    <tr>\n",
       "      <th>702</th>\n",
       "      <td>Psychology 2e</td>\n",
       "      <td>index.docx</td>\n",
       "      <td>index</td>\n",
       "      <td>False</td>\n",
       "      <td>Index\\n\\nA\\n\\nabsentmindedness 8.3 Problems wi...</td>\n",
       "      <td>NaN</td>\n",
       "      <td>NaN</td>\n",
       "      <td>NaN</td>\n",
       "    </tr>\n",
       "    <tr>\n",
       "      <th>703</th>\n",
       "      <td>Psychology 2e</td>\n",
       "      <td>preface.docx</td>\n",
       "      <td>preface</td>\n",
       "      <td>False</td>\n",
       "      <td>Preface\\n\\nWelcome to Psychology 2e, an OpenSt...</td>\n",
       "      <td>NaN</td>\n",
       "      <td>NaN</td>\n",
       "      <td>NaN</td>\n",
       "    </tr>\n",
       "    <tr>\n",
       "      <th>704</th>\n",
       "      <td>Psychology 2e</td>\n",
       "      <td>references.docx</td>\n",
       "      <td>references</td>\n",
       "      <td>False</td>\n",
       "      <td>References\\n\\nIntroduction to Psychology\\n\\nAm...</td>\n",
       "      <td>NaN</td>\n",
       "      <td>NaN</td>\n",
       "      <td>NaN</td>\n",
       "    </tr>\n",
       "  </tbody>\n",
       "</table>\n",
       "<p>705 rows × 8 columns</p>\n",
       "</div>"
      ],
      "text/plain": [
       "              Book          Chapter                  section_title  \\\n",
       "0    Psychology 2e                1         1-1-what-is-psychology   \n",
       "1    Psychology 2e                1      1-2-history-of-psychology   \n",
       "2    Psychology 2e                1    1-3-contemporary-psychology   \n",
       "3    Psychology 2e                1      1-4-careers-in-psychology   \n",
       "4    Psychology 2e                1  1-critical-thinking-questions   \n",
       "..             ...              ...                            ...   \n",
       "700  Psychology 2e                9             9-review-questions   \n",
       "701  Psychology 2e                9                      9-summary   \n",
       "702  Psychology 2e       index.docx                          index   \n",
       "703  Psychology 2e     preface.docx                        preface   \n",
       "704  Psychology 2e  references.docx                     references   \n",
       "\n",
       "     is_question                                               text fillblank  \\\n",
       "0          False  1.1   What Is Psychology?\\n\\nLearning Objectiv...       NaN   \n",
       "1          False  1.2   History of Psychology\\n\\nLearning Object...       NaN   \n",
       "2          False  1.3   Contemporary Psychology\\n\\nLearning Obje...       NaN   \n",
       "3          False  1.4   Careers in Psychology\\n\\nLearning Object...       NaN   \n",
       "4           True  \\n\\nWhy do you think psychology courses like t...      True   \n",
       "..           ...                                                ...       ...   \n",
       "700         True  \\n\\nWhich of the following is the order of sta...      True   \n",
       "701        False  Summary\\n\\n\\n\\n9.1   What Is Lifespan Developm...       NaN   \n",
       "702        False  Index\\n\\nA\\n\\nabsentmindedness 8.3 Problems wi...       NaN   \n",
       "703        False  Preface\\n\\nWelcome to Psychology 2e, an OpenSt...       NaN   \n",
       "704        False  References\\n\\nIntroduction to Psychology\\n\\nAm...       NaN   \n",
       "\n",
       "    truefalse     mc  \n",
       "0         NaN    NaN  \n",
       "1         NaN    NaN  \n",
       "2         NaN    NaN  \n",
       "3         NaN    NaN  \n",
       "4       False  False  \n",
       "..        ...    ...  \n",
       "700     False  False  \n",
       "701       NaN    NaN  \n",
       "702       NaN    NaN  \n",
       "703       NaN    NaN  \n",
       "704       NaN    NaN  \n",
       "\n",
       "[705 rows x 8 columns]"
      ]
     },
     "execution_count": 24,
     "metadata": {},
     "output_type": "execute_result"
    }
   ],
   "source": [
    "pd.DataFrame(extract_psych(files, BOOK = book))"
   ]
  },
  {
   "cell_type": "markdown",
   "id": "bfdebbed",
   "metadata": {
    "papermill": {
     "duration": 0.040991,
     "end_time": "2023-05-06T14:46:29.565590",
     "exception": false,
     "start_time": "2023-05-06T14:46:29.524599",
     "status": "completed"
    },
    "tags": []
   },
   "source": [
    "## Psych 2e TB"
   ]
  },
  {
   "cell_type": "code",
   "execution_count": 25,
   "id": "8c8002d0",
   "metadata": {
    "execution": {
     "iopub.execute_input": "2023-05-06T14:46:29.648995Z",
     "iopub.status.busy": "2023-05-06T14:46:29.648293Z",
     "iopub.status.idle": "2023-05-06T14:46:29.734397Z",
     "shell.execute_reply": "2023-05-06T14:46:29.733439Z"
    },
    "papermill": {
     "duration": 0.131325,
     "end_time": "2023-05-06T14:46:29.737050",
     "exception": false,
     "start_time": "2023-05-06T14:46:29.605725",
     "status": "completed"
    },
    "tags": []
   },
   "outputs": [],
   "source": [
    "files = sorted(glob('/kaggle/input/csnlp-datasets/openstax/openstax/Psychology_testbank/Test Bank/*.docx'))\n",
    "text = docx2txt.process(files[0])\n",
    "access_for_free = text[-70:] #copyright too"
   ]
  },
  {
   "cell_type": "code",
   "execution_count": 26,
   "id": "52f55369",
   "metadata": {
    "execution": {
     "iopub.execute_input": "2023-05-06T14:46:29.822505Z",
     "iopub.status.busy": "2023-05-06T14:46:29.821677Z",
     "iopub.status.idle": "2023-05-06T14:46:29.832337Z",
     "shell.execute_reply": "2023-05-06T14:46:29.831199Z"
    },
    "papermill": {
     "duration": 0.056719,
     "end_time": "2023-05-06T14:46:29.834792",
     "exception": false,
     "start_time": "2023-05-06T14:46:29.778073",
     "status": "completed"
    },
    "tags": []
   },
   "outputs": [],
   "source": [
    "def extract_psychtb(files, book):\n",
    "    rows = []\n",
    "    for file in files:\n",
    "        filename = file.split('/')[-1]\n",
    "        chapter = filename.strip('.docx').split('_')[-1].strip('Ch')\n",
    "        chapter = int(chapter)\n",
    "        text = docx2txt.process(file).strip(access_for_free)\n",
    "        questions = re.findall(\"\\n.*\\?\", text)\n",
    "        tf = re.findall(\"\\nTrue or false.*\\n\", text)\n",
    "        for question in questions:\n",
    "            row = dict()\n",
    "            #actually psych has no true or false, but leave it just in case, bc I didn't go over all files\n",
    "            if \"True or false?\" in question:\n",
    "                continue\n",
    "            if \"Text Section:\" in question:\n",
    "                continue\n",
    "            else:        \n",
    "                row['Book'] = book\n",
    "                row['Chapter'] = chapter\n",
    "                row['question'] = question.strip('\\n')\n",
    "                row['is_question'] = True\n",
    "                row['fillblank'] = \"___\" in question\n",
    "                row[\"truefalse\"] = False\n",
    "                rows.append(row)\n",
    "        for question in tf: \n",
    "            row = dict()\n",
    "            row[\"Book\"] = book\n",
    "            row['Chapter'] = chapter\n",
    "            row['question'] = question.strip('\\n')\n",
    "            row['is_question'] = True\n",
    "            row['fillblank'] = '___' in question\n",
    "            row['truefalse'] = True\n",
    "            rows.append(row)\n",
    "    return rows"
   ]
  },
  {
   "cell_type": "code",
   "execution_count": 27,
   "id": "86c4e478",
   "metadata": {
    "execution": {
     "iopub.execute_input": "2023-05-06T14:46:29.918770Z",
     "iopub.status.busy": "2023-05-06T14:46:29.917992Z",
     "iopub.status.idle": "2023-05-06T14:46:30.899544Z",
     "shell.execute_reply": "2023-05-06T14:46:30.898530Z"
    },
    "papermill": {
     "duration": 1.02683,
     "end_time": "2023-05-06T14:46:30.902527",
     "exception": false,
     "start_time": "2023-05-06T14:46:29.875697",
     "status": "completed"
    },
    "tags": []
   },
   "outputs": [],
   "source": [
    "pd.DataFrame(extract_psychtb(files, book = book)).to_parquet('psych2e_testbank.pq')"
   ]
  },
  {
   "cell_type": "markdown",
   "id": "16eb922c",
   "metadata": {
    "papermill": {
     "duration": 0.040842,
     "end_time": "2023-05-06T14:46:30.985051",
     "exception": false,
     "start_time": "2023-05-06T14:46:30.944209",
     "status": "completed"
    },
    "tags": []
   },
   "source": [
    "# Business Ethics\n",
    "\n",
    "- Questions in the docx are marked as \"assessment questions\"\n",
    "- Includes summaries\n",
    "- \"chapter-xy.docx\" files are solutions to the assement questions "
   ]
  },
  {
   "cell_type": "code",
   "execution_count": 28,
   "id": "79c833cf",
   "metadata": {
    "execution": {
     "iopub.execute_input": "2023-05-06T14:46:31.068907Z",
     "iopub.status.busy": "2023-05-06T14:46:31.067962Z",
     "iopub.status.idle": "2023-05-06T14:46:31.100769Z",
     "shell.execute_reply": "2023-05-06T14:46:31.099563Z"
    },
    "papermill": {
     "duration": 0.078046,
     "end_time": "2023-05-06T14:46:31.103630",
     "exception": false,
     "start_time": "2023-05-06T14:46:31.025584",
     "status": "completed"
    },
    "tags": []
   },
   "outputs": [],
   "source": [
    "files = sorted(glob('/kaggle/input/csnlp-datasets/openstax/openstax/business-ethics-docx/*.docx'))\n",
    "text = docx2txt.process(files[2])\n",
    "access_for_free = text[-41:]\n",
    "try:\n",
    "    start = re.search(\"\\nAccess for free\", text).start()\n",
    "    text = text[:start]\n",
    "except:\n",
    "    text = text.strip(access_for_free)\n",
    "    \n",
    "BOOK = 'Business Ethics'"
   ]
  },
  {
   "cell_type": "code",
   "execution_count": 29,
   "id": "6bfcc26d",
   "metadata": {
    "execution": {
     "iopub.execute_input": "2023-05-06T14:46:31.188300Z",
     "iopub.status.busy": "2023-05-06T14:46:31.187498Z",
     "iopub.status.idle": "2023-05-06T14:46:31.192315Z",
     "shell.execute_reply": "2023-05-06T14:46:31.191200Z"
    },
    "papermill": {
     "duration": 0.04965,
     "end_time": "2023-05-06T14:46:31.194743",
     "exception": false,
     "start_time": "2023-05-06T14:46:31.145093",
     "status": "completed"
    },
    "tags": []
   },
   "outputs": [],
   "source": [
    "# wwyd_start = re.search('What Would You Do', text).start()\n",
    "# text[wwyd_start:critical_start]"
   ]
  },
  {
   "cell_type": "code",
   "execution_count": 30,
   "id": "270b4e26",
   "metadata": {
    "execution": {
     "iopub.execute_input": "2023-05-06T14:46:31.278428Z",
     "iopub.status.busy": "2023-05-06T14:46:31.277631Z",
     "iopub.status.idle": "2023-05-06T14:46:31.283387Z",
     "shell.execute_reply": "2023-05-06T14:46:31.282240Z"
    },
    "papermill": {
     "duration": 0.050508,
     "end_time": "2023-05-06T14:46:31.285776",
     "exception": false,
     "start_time": "2023-05-06T14:46:31.235268",
     "status": "completed"
    },
    "tags": []
   },
   "outputs": [],
   "source": [
    "pattern = r'\\n\\n(?:[A-Z].*?)\\n\\n'\n",
    "qs = re.findall(pattern, text, re.DOTALL)\n",
    "# qs"
   ]
  },
  {
   "cell_type": "code",
   "execution_count": 31,
   "id": "1c3be563",
   "metadata": {
    "execution": {
     "iopub.execute_input": "2023-05-06T14:46:31.369786Z",
     "iopub.status.busy": "2023-05-06T14:46:31.368965Z",
     "iopub.status.idle": "2023-05-06T14:46:31.376111Z",
     "shell.execute_reply": "2023-05-06T14:46:31.374869Z"
    },
    "papermill": {
     "duration": 0.051589,
     "end_time": "2023-05-06T14:46:31.378480",
     "exception": false,
     "start_time": "2023-05-06T14:46:31.326891",
     "status": "completed"
    },
    "tags": []
   },
   "outputs": [],
   "source": [
    "def get_question(q, chapter, section_title, book):\n",
    "    row = dict()\n",
    "    row['Book'] = book\n",
    "    row['Chapter'] = chapter\n",
    "    row['section_title'] = section_title\n",
    "    row['is_question'] = True\n",
    "    row['text'] = q.strip('Access')\n",
    "    row['truefalse'] = False\n",
    "    row['fillblank'] = \"___\" in q\n",
    "    row['mc'] = \"___\" in q\n",
    "    return row"
   ]
  },
  {
   "cell_type": "code",
   "execution_count": 32,
   "id": "539b4cf2",
   "metadata": {
    "execution": {
     "iopub.execute_input": "2023-05-06T14:46:31.461045Z",
     "iopub.status.busy": "2023-05-06T14:46:31.460643Z",
     "iopub.status.idle": "2023-05-06T14:46:31.465504Z",
     "shell.execute_reply": "2023-05-06T14:46:31.464440Z"
    },
    "papermill": {
     "duration": 0.048742,
     "end_time": "2023-05-06T14:46:31.467837",
     "exception": false,
     "start_time": "2023-05-06T14:46:31.419095",
     "status": "completed"
    },
    "tags": []
   },
   "outputs": [],
   "source": [
    "# for file in files:\n",
    "#     filename = file.split('/')[-1]\n",
    "#     chapter = filename.split('-')[0]\n",
    "#     section_title = re.sub(r\"\\.docx$\", \"\", filename)\n",
    "#     if 'endnotes' in filename:\n",
    "#         print(f\"filename: {filename}, chapter: {chapter}, section: {section_title}\")"
   ]
  },
  {
   "cell_type": "code",
   "execution_count": 33,
   "id": "d560a754",
   "metadata": {
    "execution": {
     "iopub.execute_input": "2023-05-06T14:46:31.550513Z",
     "iopub.status.busy": "2023-05-06T14:46:31.550090Z",
     "iopub.status.idle": "2023-05-06T14:46:31.566122Z",
     "shell.execute_reply": "2023-05-06T14:46:31.565076Z"
    },
    "papermill": {
     "duration": 0.060003,
     "end_time": "2023-05-06T14:46:31.568251",
     "exception": false,
     "start_time": "2023-05-06T14:46:31.508248",
     "status": "completed"
    },
    "tags": []
   },
   "outputs": [],
   "source": [
    "def extract_bethics(files, BOOK):\n",
    "    rows = []\n",
    "    for file in files:\n",
    "        text = docx2txt.process(file).strip(access_for_free)\n",
    "        filename = file.split('/')[-1]\n",
    "        section_title = re.sub(r\"\\.docx$\", \"\", filename)\n",
    "        chapter = filename.split('-')[0]\n",
    "        is_question = \"questions\" in filename\n",
    "        if is_question:\n",
    "            pattern = r'\\n\\n(?:[A-Z].*?)\\n\\n(?:\\d|Access)'\n",
    "            qs = re.findall(pattern, text, re.DOTALL)\n",
    "        try:\n",
    "            start = re.search(\"\\nAccess for free\", text).start()\n",
    "            text = text[:start]\n",
    "        except:\n",
    "            text = text.strip(access_for_free)\n",
    "        \n",
    "        if is_question:\n",
    "            for q in qs:\n",
    "                #iterate over the questions\n",
    "                row = get_question(q,\n",
    "                                   chapter,\n",
    "                                   section_title,\n",
    "                                   book = BOOK\n",
    "                                    )\n",
    "                rows.append(row)\n",
    "        else:\n",
    "            try:    \n",
    "                critical_start = re.search('Critical Thinking', text).start()\n",
    "                critical = text[critical_start:].split('\\n\\n')[1:]\n",
    "                text = text[:critical_start]\n",
    "                try:\n",
    "                    wwyd_start = re.search('What Would You Do', text).start()\n",
    "                    wwyd = text[wwyd_start:critical_start]\n",
    "                except:\n",
    "                    wwyd = None\n",
    "            except:\n",
    "                text = text\n",
    "                critical = []\n",
    "                wwyd = None\n",
    "            if wwyd != None:\n",
    "                row = dict()\n",
    "                row['Book'] = BOOK\n",
    "                row['Chapter'] = chapter\n",
    "                row['section_title'] = section_title\n",
    "                row['is_question'] = True\n",
    "                row['text'] = wwyd\n",
    "                row['truefalse'] = False\n",
    "                row['fillblank'] = \"___\" in q\n",
    "                row['mc'] = \"___\" in q\n",
    "                row['open_ended'] = False\n",
    "                rows.append(row)\n",
    "                \n",
    "            row = dict()\n",
    "            row['Book'] = BOOK\n",
    "            row['Chapter'] = chapter\n",
    "            row['section_title'] = section_title\n",
    "            row['is_question'] = \"questions\" in filename\n",
    "            row['text'] = text\n",
    "            row['question_answers'] = bool(re.search('chapter-[1-9]', filename))\n",
    "            if row['question_answers']:\n",
    "                row['Chapter'] = section_title.split('-')[-1]\n",
    "            rows.append(row)\n",
    "            for q in critical:\n",
    "                row = dict()\n",
    "                row['Book'] = BOOK\n",
    "                row['Chapter'] = chapter\n",
    "                row['section_title'] = section_title\n",
    "                row['is_question'] = True\n",
    "                row['text'] = q.strip('Access')\n",
    "                row['truefalse'] = False\n",
    "                row['fillblank'] = \"___\" in q\n",
    "                row['mc'] = \"___\" in q\n",
    "                row['open_ended'] = True\n",
    "                rows.append(row)\n",
    "    return rows"
   ]
  },
  {
   "cell_type": "code",
   "execution_count": 34,
   "id": "0911f45f",
   "metadata": {
    "execution": {
     "iopub.execute_input": "2023-05-06T14:46:31.650904Z",
     "iopub.status.busy": "2023-05-06T14:46:31.650479Z",
     "iopub.status.idle": "2023-05-06T14:46:32.844955Z",
     "shell.execute_reply": "2023-05-06T14:46:32.843956Z"
    },
    "papermill": {
     "duration": 1.238526,
     "end_time": "2023-05-06T14:46:32.847286",
     "exception": false,
     "start_time": "2023-05-06T14:46:31.608760",
     "status": "completed"
    },
    "tags": []
   },
   "outputs": [
    {
     "data": {
      "text/plain": [
       "'Business Ethics'"
      ]
     },
     "execution_count": 34,
     "metadata": {},
     "output_type": "execute_result"
    }
   ],
   "source": [
    "pd.DataFrame(extract_bethics(files, BOOK = BOOK)).to_parquet('business_ethics_tq.pq')\n",
    "BOOK"
   ]
  },
  {
   "cell_type": "markdown",
   "id": "9efeba5b",
   "metadata": {
    "papermill": {
     "duration": 0.040968,
     "end_time": "2023-05-06T14:46:32.928832",
     "exception": false,
     "start_time": "2023-05-06T14:46:32.887864",
     "status": "completed"
    },
    "tags": []
   },
   "source": [
    "# Business Ethics Testbank\n",
    "\n",
    "- MC Questions\n",
    "- Fill the blank Questions\n",
    "- True or False\n",
    "- Short Answer\n",
    "- Have Difficulty rating\n"
   ]
  },
  {
   "cell_type": "code",
   "execution_count": 35,
   "id": "07d750ba",
   "metadata": {
    "execution": {
     "iopub.execute_input": "2023-05-06T14:46:33.013314Z",
     "iopub.status.busy": "2023-05-06T14:46:33.012880Z",
     "iopub.status.idle": "2023-05-06T14:46:33.109073Z",
     "shell.execute_reply": "2023-05-06T14:46:33.108070Z"
    },
    "papermill": {
     "duration": 0.142004,
     "end_time": "2023-05-06T14:46:33.111953",
     "exception": false,
     "start_time": "2023-05-06T14:46:32.969949",
     "status": "completed"
    },
    "tags": []
   },
   "outputs": [],
   "source": [
    "files = sorted(glob('/kaggle/input/csnlp-datasets/openstax/openstax/BusinessEthics-TestBank/Test Banks/*.docx'))\n",
    "text = docx2txt.process(files[0])\n",
    "access_for_free = text[-85:] #copyright too"
   ]
  },
  {
   "cell_type": "code",
   "execution_count": 36,
   "id": "4f8c65f0",
   "metadata": {
    "execution": {
     "iopub.execute_input": "2023-05-06T14:46:33.197596Z",
     "iopub.status.busy": "2023-05-06T14:46:33.197166Z",
     "iopub.status.idle": "2023-05-06T14:46:33.203026Z",
     "shell.execute_reply": "2023-05-06T14:46:33.201934Z"
    },
    "papermill": {
     "duration": 0.051784,
     "end_time": "2023-05-06T14:46:33.206061",
     "exception": false,
     "start_time": "2023-05-06T14:46:33.154277",
     "status": "completed"
    },
    "tags": []
   },
   "outputs": [
    {
     "name": "stdout",
     "output_type": "stream",
     "text": [
      "/kaggle/input/csnlp-datasets/openstax/openstax/BusinessEthics-TestBank/Test Banks/OSX_EthicsTB_Ch01_WhyEthicsMatters.docx\n",
      "/kaggle/input/csnlp-datasets/openstax/openstax/BusinessEthics-TestBank/Test Banks/OSX_EthicsTB_Ch02_EthicsFromAntiquity.docx\n",
      "/kaggle/input/csnlp-datasets/openstax/openstax/BusinessEthics-TestBank/Test Banks/OSX_EthicsTB_Ch03_DefiningAndPrioritizingStakeholders.docx\n",
      "/kaggle/input/csnlp-datasets/openstax/openstax/BusinessEthics-TestBank/Test Banks/OSX_EthicsTB_Ch04_ThreeSpecialStakeholders.docx\n",
      "/kaggle/input/csnlp-datasets/openstax/openstax/BusinessEthics-TestBank/Test Banks/OSX_EthicsTB_Ch05_ImpactofCulture.docx\n",
      "/kaggle/input/csnlp-datasets/openstax/openstax/BusinessEthics-TestBank/Test Banks/OSX_EthicsTB_Ch06_EmployersOweEmployees.docx\n",
      "/kaggle/input/csnlp-datasets/openstax/openstax/BusinessEthics-TestBank/Test Banks/OSX_EthicsTB_Ch07_EmployeesOweEmployers.docx\n",
      "/kaggle/input/csnlp-datasets/openstax/openstax/BusinessEthics-TestBank/Test Banks/OSX_EthicsTB_Ch08_RightsofAll.docx\n",
      "/kaggle/input/csnlp-datasets/openstax/openstax/BusinessEthics-TestBank/Test Banks/OSX_EthicsTB_Ch09_ProfessionsUnderMicroscope.docx\n",
      "/kaggle/input/csnlp-datasets/openstax/openstax/BusinessEthics-TestBank/Test Banks/OSX_EthicsTB_Ch10_ChangingWorkEnvironments.docx\n"
     ]
    }
   ],
   "source": [
    "for file in files:\n",
    "    print(file)"
   ]
  },
  {
   "cell_type": "code",
   "execution_count": 37,
   "id": "e3c8f737",
   "metadata": {
    "execution": {
     "iopub.execute_input": "2023-05-06T14:46:33.292901Z",
     "iopub.status.busy": "2023-05-06T14:46:33.292506Z",
     "iopub.status.idle": "2023-05-06T14:46:33.305663Z",
     "shell.execute_reply": "2023-05-06T14:46:33.304437Z"
    },
    "papermill": {
     "duration": 0.059627,
     "end_time": "2023-05-06T14:46:33.308228",
     "exception": false,
     "start_time": "2023-05-06T14:46:33.248601",
     "status": "completed"
    },
    "tags": []
   },
   "outputs": [],
   "source": [
    "def extract_bethicstb(files, BOOK):\n",
    "    rows = []\n",
    "    for file in files:\n",
    "        filename = file.split('/')[-1]\n",
    "        chapter = re.sub(r\"Ch\", \"\", file.split('/')[-1].split('_')[-2])\n",
    "        chapter = int(chapter)\n",
    "        text = docx2txt.process(file).strip(access_for_free)\n",
    "        questions = re.findall(\"\\n.*\\?\", text)\n",
    "        tf = re.findall(\"\\nTrue or false.*\\n\", text)\n",
    "        short_answers = re.findall(\"\\n..*\\n\\nSample Answer:?\", text)\n",
    "        for sa in short_answers:\n",
    "            row = dict()\n",
    "            row['Book'] = BOOK\n",
    "            sa = re.sub(\"\\n\\nSample Answer:\", \"\", sa)\n",
    "            row['Chapter'] = chapter\n",
    "            row['question'] = sa.strip('\\n')\n",
    "            row['is_question'] = True\n",
    "            row['open_ended'] = True\n",
    "            rows.append(row)\n",
    "        #creates some duplicates\n",
    "        for question in questions:\n",
    "            row = dict()\n",
    "            #actually psych has no true or false, but leave it just in case, bc I didn't go over all files\n",
    "            if \"True or false?\" in question:\n",
    "                continue\n",
    "            if \"Text Section:\" in question:\n",
    "                continue\n",
    "            else:\n",
    "                row['Book'] = BOOK\n",
    "                row['Chapter'] = chapter\n",
    "                row['question'] = question.strip('\\n')\n",
    "                row['is_question'] = True\n",
    "                rows.append(row)\n",
    "        for question in tf: \n",
    "            row = dict()\n",
    "            row['Book'] = BOOK\n",
    "            row['Chapter'] = chapter\n",
    "            row['question'] = question.strip('\\n')\n",
    "            row['is_question'] = True\n",
    "            row['truefalse'] = True\n",
    "            row['fillblank'] = '___' in question\n",
    "            rows.append(row)\n",
    "    return rows"
   ]
  },
  {
   "cell_type": "code",
   "execution_count": 38,
   "id": "26ca1212",
   "metadata": {
    "execution": {
     "iopub.execute_input": "2023-05-06T14:46:33.395830Z",
     "iopub.status.busy": "2023-05-06T14:46:33.395404Z",
     "iopub.status.idle": "2023-05-06T14:46:34.377373Z",
     "shell.execute_reply": "2023-05-06T14:46:34.376296Z"
    },
    "papermill": {
     "duration": 1.030062,
     "end_time": "2023-05-06T14:46:34.380005",
     "exception": false,
     "start_time": "2023-05-06T14:46:33.349943",
     "status": "completed"
    },
    "tags": []
   },
   "outputs": [],
   "source": [
    "pd.DataFrame(extract_bethicstb(files, BOOK)).to_parquet('business_ethics_testbank.pq')"
   ]
  },
  {
   "cell_type": "code",
   "execution_count": 39,
   "id": "18d1aac1",
   "metadata": {
    "execution": {
     "iopub.execute_input": "2023-05-06T14:46:34.461830Z",
     "iopub.status.busy": "2023-05-06T14:46:34.460918Z",
     "iopub.status.idle": "2023-05-06T14:46:35.306944Z",
     "shell.execute_reply": "2023-05-06T14:46:35.305728Z"
    },
    "papermill": {
     "duration": 0.888885,
     "end_time": "2023-05-06T14:46:35.309441",
     "exception": false,
     "start_time": "2023-05-06T14:46:34.420556",
     "status": "completed"
    },
    "tags": []
   },
   "outputs": [
    {
     "data": {
      "text/html": [
       "<div>\n",
       "<style scoped>\n",
       "    .dataframe tbody tr th:only-of-type {\n",
       "        vertical-align: middle;\n",
       "    }\n",
       "\n",
       "    .dataframe tbody tr th {\n",
       "        vertical-align: top;\n",
       "    }\n",
       "\n",
       "    .dataframe thead th {\n",
       "        text-align: right;\n",
       "    }\n",
       "</style>\n",
       "<table border=\"1\" class=\"dataframe\">\n",
       "  <thead>\n",
       "    <tr style=\"text-align: right;\">\n",
       "      <th></th>\n",
       "      <th>Book</th>\n",
       "      <th>Chapter</th>\n",
       "      <th>question</th>\n",
       "      <th>is_question</th>\n",
       "      <th>open_ended</th>\n",
       "      <th>truefalse</th>\n",
       "      <th>fillblank</th>\n",
       "    </tr>\n",
       "  </thead>\n",
       "  <tbody>\n",
       "    <tr>\n",
       "      <th>0</th>\n",
       "      <td>Business Ethics</td>\n",
       "      <td>1</td>\n",
       "      <td>Provide five examples of stakeholders.</td>\n",
       "      <td>True</td>\n",
       "      <td>True</td>\n",
       "      <td>NaN</td>\n",
       "      <td>NaN</td>\n",
       "    </tr>\n",
       "    <tr>\n",
       "      <th>1</th>\n",
       "      <td>Business Ethics</td>\n",
       "      <td>1</td>\n",
       "      <td>What motivated Mark Faris to be a white-collar...</td>\n",
       "      <td>True</td>\n",
       "      <td>True</td>\n",
       "      <td>NaN</td>\n",
       "      <td>NaN</td>\n",
       "    </tr>\n",
       "    <tr>\n",
       "      <th>2</th>\n",
       "      <td>Business Ethics</td>\n",
       "      <td>1</td>\n",
       "      <td>How are stockholders also stakeholders? Explai...</td>\n",
       "      <td>True</td>\n",
       "      <td>True</td>\n",
       "      <td>NaN</td>\n",
       "      <td>NaN</td>\n",
       "    </tr>\n",
       "    <tr>\n",
       "      <th>3</th>\n",
       "      <td>Business Ethics</td>\n",
       "      <td>1</td>\n",
       "      <td>What is compliance, and how is does it operate?</td>\n",
       "      <td>True</td>\n",
       "      <td>True</td>\n",
       "      <td>NaN</td>\n",
       "      <td>NaN</td>\n",
       "    </tr>\n",
       "    <tr>\n",
       "      <th>4</th>\n",
       "      <td>Business Ethics</td>\n",
       "      <td>1</td>\n",
       "      <td>Explain the concept of corporate social respon...</td>\n",
       "      <td>True</td>\n",
       "      <td>True</td>\n",
       "      <td>NaN</td>\n",
       "      <td>NaN</td>\n",
       "    </tr>\n",
       "    <tr>\n",
       "      <th>...</th>\n",
       "      <td>...</td>\n",
       "      <td>...</td>\n",
       "      <td>...</td>\n",
       "      <td>...</td>\n",
       "      <td>...</td>\n",
       "      <td>...</td>\n",
       "      <td>...</td>\n",
       "    </tr>\n",
       "    <tr>\n",
       "      <th>519</th>\n",
       "      <td>Business Ethics</td>\n",
       "      <td>10</td>\n",
       "      <td>True or false? There is a prevailing view that...</td>\n",
       "      <td>True</td>\n",
       "      <td>NaN</td>\n",
       "      <td>True</td>\n",
       "      <td>False</td>\n",
       "    </tr>\n",
       "    <tr>\n",
       "      <th>520</th>\n",
       "      <td>Business Ethics</td>\n",
       "      <td>10</td>\n",
       "      <td>True or false? Stressed workers are less produ...</td>\n",
       "      <td>True</td>\n",
       "      <td>NaN</td>\n",
       "      <td>True</td>\n",
       "      <td>False</td>\n",
       "    </tr>\n",
       "    <tr>\n",
       "      <th>521</th>\n",
       "      <td>Business Ethics</td>\n",
       "      <td>10</td>\n",
       "      <td>True or false? Millennials do not believe inte...</td>\n",
       "      <td>True</td>\n",
       "      <td>NaN</td>\n",
       "      <td>True</td>\n",
       "      <td>False</td>\n",
       "    </tr>\n",
       "    <tr>\n",
       "      <th>522</th>\n",
       "      <td>Business Ethics</td>\n",
       "      <td>10</td>\n",
       "      <td>True or false? Flextime is a practical way to ...</td>\n",
       "      <td>True</td>\n",
       "      <td>NaN</td>\n",
       "      <td>True</td>\n",
       "      <td>False</td>\n",
       "    </tr>\n",
       "    <tr>\n",
       "      <th>523</th>\n",
       "      <td>Business Ethics</td>\n",
       "      <td>10</td>\n",
       "      <td>True or false? Automation advancements are lik...</td>\n",
       "      <td>True</td>\n",
       "      <td>NaN</td>\n",
       "      <td>True</td>\n",
       "      <td>False</td>\n",
       "    </tr>\n",
       "  </tbody>\n",
       "</table>\n",
       "<p>524 rows × 7 columns</p>\n",
       "</div>"
      ],
      "text/plain": [
       "                Book  Chapter  \\\n",
       "0    Business Ethics        1   \n",
       "1    Business Ethics        1   \n",
       "2    Business Ethics        1   \n",
       "3    Business Ethics        1   \n",
       "4    Business Ethics        1   \n",
       "..               ...      ...   \n",
       "519  Business Ethics       10   \n",
       "520  Business Ethics       10   \n",
       "521  Business Ethics       10   \n",
       "522  Business Ethics       10   \n",
       "523  Business Ethics       10   \n",
       "\n",
       "                                              question  is_question  \\\n",
       "0               Provide five examples of stakeholders.         True   \n",
       "1    What motivated Mark Faris to be a white-collar...         True   \n",
       "2    How are stockholders also stakeholders? Explai...         True   \n",
       "3     What is compliance, and how is does it operate?          True   \n",
       "4    Explain the concept of corporate social respon...         True   \n",
       "..                                                 ...          ...   \n",
       "519  True or false? There is a prevailing view that...         True   \n",
       "520  True or false? Stressed workers are less produ...         True   \n",
       "521  True or false? Millennials do not believe inte...         True   \n",
       "522  True or false? Flextime is a practical way to ...         True   \n",
       "523  True or false? Automation advancements are lik...         True   \n",
       "\n",
       "    open_ended truefalse fillblank  \n",
       "0         True       NaN       NaN  \n",
       "1         True       NaN       NaN  \n",
       "2         True       NaN       NaN  \n",
       "3         True       NaN       NaN  \n",
       "4         True       NaN       NaN  \n",
       "..         ...       ...       ...  \n",
       "519        NaN      True     False  \n",
       "520        NaN      True     False  \n",
       "521        NaN      True     False  \n",
       "522        NaN      True     False  \n",
       "523        NaN      True     False  \n",
       "\n",
       "[524 rows x 7 columns]"
      ]
     },
     "execution_count": 39,
     "metadata": {},
     "output_type": "execute_result"
    }
   ],
   "source": [
    "pd.DataFrame(extract_bethicstb(files, BOOK))"
   ]
  },
  {
   "cell_type": "markdown",
   "id": "fac4b208",
   "metadata": {
    "papermill": {
     "duration": 0.04079,
     "end_time": "2023-05-06T14:46:35.391569",
     "exception": false,
     "start_time": "2023-05-06T14:46:35.350779",
     "status": "completed"
    },
    "tags": []
   },
   "source": [
    "# Philosophy\n",
    "\n",
    "- end of chapter review questions\n",
    "- end of chapter references, key terms, summary\n",
    "- sometimes further reading\n"
   ]
  },
  {
   "cell_type": "code",
   "execution_count": 40,
   "id": "e81f5ac6",
   "metadata": {
    "execution": {
     "iopub.execute_input": "2023-05-06T14:46:35.475749Z",
     "iopub.status.busy": "2023-05-06T14:46:35.474597Z",
     "iopub.status.idle": "2023-05-06T14:46:35.503620Z",
     "shell.execute_reply": "2023-05-06T14:46:35.502405Z"
    },
    "papermill": {
     "duration": 0.074102,
     "end_time": "2023-05-06T14:46:35.506398",
     "exception": false,
     "start_time": "2023-05-06T14:46:35.432296",
     "status": "completed"
    },
    "tags": []
   },
   "outputs": [],
   "source": [
    "files = sorted(glob('/kaggle/input/csnlp-datasets/openstax/openstax/introduction-philosophy/introduction-philosophy/*.docx'))\n",
    "text = docx2txt.process(files[8])\n",
    "access_for_free = text[-41:] #copyright too\n",
    "# access_for_free\n",
    "try:\n",
    "    start = re.search(\"\\nAccess for free\", text).start()\n",
    "    text = text[:start]\n",
    "except:\n",
    "    text = text.strip(access_for_free)\n",
    "book = 'Philosophy'"
   ]
  },
  {
   "cell_type": "code",
   "execution_count": 41,
   "id": "bbab9065",
   "metadata": {
    "execution": {
     "iopub.execute_input": "2023-05-06T14:46:35.588375Z",
     "iopub.status.busy": "2023-05-06T14:46:35.587925Z",
     "iopub.status.idle": "2023-05-06T14:46:35.593388Z",
     "shell.execute_reply": "2023-05-06T14:46:35.592176Z"
    },
    "papermill": {
     "duration": 0.048623,
     "end_time": "2023-05-06T14:46:35.595370",
     "exception": false,
     "start_time": "2023-05-06T14:46:35.546747",
     "status": "completed"
    },
    "tags": []
   },
   "outputs": [],
   "source": [
    "\n",
    "pattern = r'\\n\\n(?:[A-Z].*?)\\n\\n(?:\\d|Access)'\n",
    "qs = re.findall(pattern, text, re.DOTALL)\n",
    "# qs"
   ]
  },
  {
   "cell_type": "code",
   "execution_count": 42,
   "id": "39fea26f",
   "metadata": {
    "execution": {
     "iopub.execute_input": "2023-05-06T14:46:35.678440Z",
     "iopub.status.busy": "2023-05-06T14:46:35.677692Z",
     "iopub.status.idle": "2023-05-06T14:46:35.685803Z",
     "shell.execute_reply": "2023-05-06T14:46:35.685024Z"
    },
    "papermill": {
     "duration": 0.051909,
     "end_time": "2023-05-06T14:46:35.687750",
     "exception": false,
     "start_time": "2023-05-06T14:46:35.635841",
     "status": "completed"
    },
    "tags": []
   },
   "outputs": [],
   "source": [
    "def extract_phil(files, book):\n",
    "    rows = []\n",
    "    for file in files:\n",
    "        text = docx2txt.process(file).strip(access_for_free)\n",
    "        filename = file.split('/')[-1]\n",
    "        section_title = re.sub(r\"\\.docx$\", \"\", filename)\n",
    "        chapter = filename.split('-')[0]\n",
    "        is_question = \"questions\" in filename\n",
    "        if is_question:\n",
    "            pattern = r'\\n\\n(?:[A-Z].*?)\\n\\n(?:\\d|Access)'\n",
    "            qs = re.findall(pattern, text, re.DOTALL)\n",
    "            for q in qs:\n",
    "                row = get_question(q.strip('\\n\\n'),\n",
    "                                    chapter,\n",
    "                                    section_title,\n",
    "                                    book = book)\n",
    "                rows.append(row)\n",
    "        else:\n",
    "            row = dict()\n",
    "            row['Book'] = book\n",
    "            row['Chapter'] = chapter\n",
    "            row['section_title'] = section_title\n",
    "            row['is_question'] = False\n",
    "            row['text'] = text.strip('\\n\\n')\n",
    "            rows.append(row)\n",
    "    return rows"
   ]
  },
  {
   "cell_type": "code",
   "execution_count": 43,
   "id": "b2df6d82",
   "metadata": {
    "execution": {
     "iopub.execute_input": "2023-05-06T14:46:35.768450Z",
     "iopub.status.busy": "2023-05-06T14:46:35.767736Z",
     "iopub.status.idle": "2023-05-06T14:46:37.338835Z",
     "shell.execute_reply": "2023-05-06T14:46:37.337896Z"
    },
    "papermill": {
     "duration": 1.614379,
     "end_time": "2023-05-06T14:46:37.341410",
     "exception": false,
     "start_time": "2023-05-06T14:46:35.727031",
     "status": "completed"
    },
    "tags": []
   },
   "outputs": [],
   "source": [
    "pd.DataFrame(extract_phil(files, book = book)).to_parquet('philosophy_tq.pq')"
   ]
  },
  {
   "cell_type": "markdown",
   "id": "17949542",
   "metadata": {
    "papermill": {
     "duration": 0.041148,
     "end_time": "2023-05-06T14:46:37.422704",
     "exception": false,
     "start_time": "2023-05-06T14:46:37.381556",
     "status": "completed"
    },
    "tags": []
   },
   "source": [
    "# Philosophy Testbank\n",
    "\n",
    "- MC but not marked like in others\n",
    "- True or false"
   ]
  },
  {
   "cell_type": "code",
   "execution_count": 44,
   "id": "970b8d10",
   "metadata": {
    "execution": {
     "iopub.execute_input": "2023-05-06T14:46:37.503572Z",
     "iopub.status.busy": "2023-05-06T14:46:37.503140Z",
     "iopub.status.idle": "2023-05-06T14:46:37.554682Z",
     "shell.execute_reply": "2023-05-06T14:46:37.553438Z"
    },
    "papermill": {
     "duration": 0.094718,
     "end_time": "2023-05-06T14:46:37.557360",
     "exception": false,
     "start_time": "2023-05-06T14:46:37.462642",
     "status": "completed"
    },
    "tags": []
   },
   "outputs": [
    {
     "data": {
      "text/plain": [
       "'\\n\\n\\n\\nThis file is copyright 2022, Rice University. All Rights Reserved. \\n\\n\\n\\n05/12/22                                                                                                                                                       2'"
      ]
     },
     "execution_count": 44,
     "metadata": {},
     "output_type": "execute_result"
    }
   ],
   "source": [
    "files = sorted(glob('/kaggle/input/csnlp-datasets/openstax/openstax/Philosophy_testbank/*.docx'))\n",
    "text = docx2txt.process(files[0])\n",
    "access_for_free = text[-235:] #copyright too\n",
    "access_for_free"
   ]
  },
  {
   "cell_type": "code",
   "execution_count": 45,
   "id": "5f2261d4",
   "metadata": {
    "execution": {
     "iopub.execute_input": "2023-05-06T14:46:37.641086Z",
     "iopub.status.busy": "2023-05-06T14:46:37.640279Z",
     "iopub.status.idle": "2023-05-06T14:46:37.647144Z",
     "shell.execute_reply": "2023-05-06T14:46:37.646315Z"
    },
    "papermill": {
     "duration": 0.050464,
     "end_time": "2023-05-06T14:46:37.649138",
     "exception": false,
     "start_time": "2023-05-06T14:46:37.598674",
     "status": "completed"
    },
    "tags": []
   },
   "outputs": [
    {
     "data": {
      "text/plain": [
       "'1'"
      ]
     },
     "execution_count": 45,
     "metadata": {},
     "output_type": "execute_result"
    }
   ],
   "source": [
    "re.sub(r\"Ch\", \"\", files[0].split('/')[-1].split('-')[-1]).strip('.docx')"
   ]
  },
  {
   "cell_type": "code",
   "execution_count": 46,
   "id": "f56473bc",
   "metadata": {
    "execution": {
     "iopub.execute_input": "2023-05-06T14:46:37.730410Z",
     "iopub.status.busy": "2023-05-06T14:46:37.729247Z",
     "iopub.status.idle": "2023-05-06T14:46:37.740745Z",
     "shell.execute_reply": "2023-05-06T14:46:37.739629Z"
    },
    "papermill": {
     "duration": 0.053646,
     "end_time": "2023-05-06T14:46:37.743305",
     "exception": false,
     "start_time": "2023-05-06T14:46:37.689659",
     "status": "completed"
    },
    "tags": []
   },
   "outputs": [],
   "source": [
    "def extract_philtb(files, book):\n",
    "    rows = []\n",
    "    for file in files:\n",
    "        filename = file.split('/')[-1]\n",
    "        chapter = re.sub(r\"Ch\", \"\", file.split('/')[-1].split('-')[-1]).strip('.docx')\n",
    "        chapter = int(chapter)\n",
    "        text = docx2txt.process(file).strip(access_for_free)\n",
    "        questions = re.findall(\"\\n.*\\?\", text)\n",
    "        tf = re.findall(\"\\nTrue or false.*\\n\", text)\n",
    "        short_answers = re.findall(\"\\n..*\\n\\nSample Answer:?\", text)\n",
    "        for sa in short_answers:\n",
    "            row = dict()\n",
    "            sa = re.sub(\"\\n\\nSample Answer:\", \"\", sa)\n",
    "            row['Book'] = book\n",
    "            row['Chapter'] = chapter\n",
    "            row['question'] = sa.strip('\\n')\n",
    "            row['is_question'] = True\n",
    "            row['open_ended'] = True\n",
    "            rows.append(row)\n",
    "        #creates some duplicates\n",
    "        for question in questions:\n",
    "            row = dict()\n",
    "            #actually psych has no true or false, but leave it just in case, bc I didn't go over all files\n",
    "            if \"True or false?\" in question:\n",
    "                continue\n",
    "            if \"Text Section:\" in question:\n",
    "                continue\n",
    "            else:\n",
    "                row['Book'] = book\n",
    "                row['Chapter'] = chapter\n",
    "                row['question'] = question.strip('\\n')\n",
    "                row['is_question'] = True\n",
    "                rows.append(row)\n",
    "        for question in tf: \n",
    "            row = dict()\n",
    "            row['Book'] = book\n",
    "            row['Chapter'] = chapter\n",
    "            row['question'] = question.strip('\\n')\n",
    "            row['is_question'] = True\n",
    "            row['truefalse'] = True\n",
    "            rows.append(row)\n",
    "    return rows"
   ]
  },
  {
   "cell_type": "code",
   "execution_count": 47,
   "id": "6092560b",
   "metadata": {
    "execution": {
     "iopub.execute_input": "2023-05-06T14:46:37.826395Z",
     "iopub.status.busy": "2023-05-06T14:46:37.825431Z",
     "iopub.status.idle": "2023-05-06T14:46:38.406774Z",
     "shell.execute_reply": "2023-05-06T14:46:38.405546Z"
    },
    "papermill": {
     "duration": 0.625997,
     "end_time": "2023-05-06T14:46:38.409441",
     "exception": false,
     "start_time": "2023-05-06T14:46:37.783444",
     "status": "completed"
    },
    "tags": []
   },
   "outputs": [
    {
     "name": "stdout",
     "output_type": "stream",
     "text": [
      "Philosophy\n"
     ]
    }
   ],
   "source": [
    "pd.DataFrame(extract_philtb(files, book)).to_parquet('philosophy_testbank.pq')\n",
    "print(book)"
   ]
  },
  {
   "cell_type": "markdown",
   "id": "618fb782",
   "metadata": {
    "papermill": {
     "duration": 0.038429,
     "end_time": "2023-05-06T14:46:38.489098",
     "exception": false,
     "start_time": "2023-05-06T14:46:38.450669",
     "status": "completed"
    },
    "tags": []
   },
   "source": [
    "# Business Law Essentials\n",
    "\n",
    "- assesement questions end of chapter\n",
    "- answers \"chapter-[1-9][1-9]\" odd numbered questions only :-S\n",
    "- endnotes at end of every chapter, summary and key terms basically\n"
   ]
  },
  {
   "cell_type": "code",
   "execution_count": 48,
   "id": "e4861376",
   "metadata": {
    "execution": {
     "iopub.execute_input": "2023-05-06T14:46:38.572396Z",
     "iopub.status.busy": "2023-05-06T14:46:38.570932Z",
     "iopub.status.idle": "2023-05-06T14:46:38.599367Z",
     "shell.execute_reply": "2023-05-06T14:46:38.598387Z"
    },
    "papermill": {
     "duration": 0.072739,
     "end_time": "2023-05-06T14:46:38.602010",
     "exception": false,
     "start_time": "2023-05-06T14:46:38.529271",
     "status": "completed"
    },
    "tags": []
   },
   "outputs": [],
   "source": [
    "files = sorted(glob('/kaggle/input/csnlp-datasets/openstax/openstax/Business_Law_Essentials_Docx-customizable/business-law-i-essentials/*.docx'))\n",
    "text = docx2txt.process(files[2])\n",
    "access_for_free = text[-41:]\n",
    "access_for_free\n",
    "BOOK = 'Business Law Essentials'"
   ]
  },
  {
   "cell_type": "code",
   "execution_count": 49,
   "id": "e69bd558",
   "metadata": {
    "execution": {
     "iopub.execute_input": "2023-05-06T14:46:38.684142Z",
     "iopub.status.busy": "2023-05-06T14:46:38.683456Z",
     "iopub.status.idle": "2023-05-06T14:46:39.389742Z",
     "shell.execute_reply": "2023-05-06T14:46:39.388248Z"
    },
    "papermill": {
     "duration": 0.750585,
     "end_time": "2023-05-06T14:46:39.392379",
     "exception": false,
     "start_time": "2023-05-06T14:46:38.641794",
     "status": "completed"
    },
    "tags": []
   },
   "outputs": [
    {
     "data": {
      "text/plain": [
       "'Business Law Essentials'"
      ]
     },
     "execution_count": 49,
     "metadata": {},
     "output_type": "execute_result"
    }
   ],
   "source": [
    "pd.DataFrame(extract_bethics(files, BOOK)).to_parquet('business_law_essentials_tq.pq')\n",
    "BOOK"
   ]
  },
  {
   "cell_type": "markdown",
   "id": "163c2b9d",
   "metadata": {
    "papermill": {
     "duration": 0.040233,
     "end_time": "2023-05-06T14:46:39.475128",
     "exception": false,
     "start_time": "2023-05-06T14:46:39.434895",
     "status": "completed"
    },
    "tags": []
   },
   "source": [
    "# Business Law Testbank \n",
    "Only has instructor answers"
   ]
  },
  {
   "cell_type": "markdown",
   "id": "bbf76033",
   "metadata": {
    "papermill": {
     "duration": 0.040518,
     "end_time": "2023-05-06T14:46:39.556241",
     "exception": false,
     "start_time": "2023-05-06T14:46:39.515723",
     "status": "completed"
    },
    "tags": []
   },
   "source": [
    "# Entrepreneurship\n",
    "\n",
    "- discussion, review, case questions\n",
    "- end of chapter summaries, key-terms, and links to outside resources"
   ]
  },
  {
   "cell_type": "code",
   "execution_count": 50,
   "id": "a07f611a",
   "metadata": {
    "execution": {
     "iopub.execute_input": "2023-05-06T14:46:39.640532Z",
     "iopub.status.busy": "2023-05-06T14:46:39.639247Z",
     "iopub.status.idle": "2023-05-06T14:46:39.697697Z",
     "shell.execute_reply": "2023-05-06T14:46:39.696720Z"
    },
    "papermill": {
     "duration": 0.103256,
     "end_time": "2023-05-06T14:46:39.700285",
     "exception": false,
     "start_time": "2023-05-06T14:46:39.597029",
     "status": "completed"
    },
    "tags": []
   },
   "outputs": [],
   "source": [
    "files = sorted(glob('/kaggle/input/csnlp-datasets/openstax/openstax/entrepreneurship-docx/*.docx'))\n",
    "text = docx2txt.process(files[0])\n",
    "access_for_free = text[-41:] #copyright too\n",
    "BOOK = 'Entrepreneurship'"
   ]
  },
  {
   "cell_type": "code",
   "execution_count": 51,
   "id": "96a87a31",
   "metadata": {
    "execution": {
     "iopub.execute_input": "2023-05-06T14:46:39.784135Z",
     "iopub.status.busy": "2023-05-06T14:46:39.783383Z",
     "iopub.status.idle": "2023-05-06T14:46:39.791503Z",
     "shell.execute_reply": "2023-05-06T14:46:39.790755Z"
    },
    "papermill": {
     "duration": 0.052126,
     "end_time": "2023-05-06T14:46:39.793510",
     "exception": false,
     "start_time": "2023-05-06T14:46:39.741384",
     "status": "completed"
    },
    "tags": []
   },
   "outputs": [],
   "source": [
    "def extract_entrep(files, book):\n",
    "    rows = []\n",
    "    for file in files:\n",
    "        row = dict()\n",
    "        text = docx2txt.process(file).strip(access_for_free)\n",
    "        filename = file.split('/')[-1]\n",
    "        section_title = re.sub(r\"\\.docx$\", \"\", filename)\n",
    "        chapter = filename.split('-')[0]\n",
    "        is_question = \"questions\" in filename\n",
    "        if is_question:\n",
    "            pattern = r'\\n\\n(?:[A-Z].*?)\\n\\n(?:\\d|Access)'\n",
    "            qs = re.findall(pattern, text, re.DOTALL)\n",
    "            for q in qs:\n",
    "                row = get_question(q.strip('\\n\\n'),\n",
    "                                    chapter,\n",
    "                                    section_title,\n",
    "                                    book = book)\n",
    "                rows.append(row)\n",
    "        else:\n",
    "            row = dict()\n",
    "            row['Book'] = book\n",
    "            row['Chapter'] = chapter\n",
    "            row['section_title'] = section_title\n",
    "            row['is_question'] = False\n",
    "            row['text'] = text.strip('\\n\\n')\n",
    "            rows.append(row)\n",
    "    return rows"
   ]
  },
  {
   "cell_type": "code",
   "execution_count": 52,
   "id": "3362eca3",
   "metadata": {
    "execution": {
     "iopub.execute_input": "2023-05-06T14:46:39.875986Z",
     "iopub.status.busy": "2023-05-06T14:46:39.874816Z",
     "iopub.status.idle": "2023-05-06T14:46:41.979583Z",
     "shell.execute_reply": "2023-05-06T14:46:41.978434Z"
    },
    "papermill": {
     "duration": 2.147579,
     "end_time": "2023-05-06T14:46:41.982045",
     "exception": false,
     "start_time": "2023-05-06T14:46:39.834466",
     "status": "completed"
    },
    "tags": []
   },
   "outputs": [
    {
     "name": "stdout",
     "output_type": "stream",
     "text": [
      "Entrepreneurship\n"
     ]
    }
   ],
   "source": [
    "pd.DataFrame(extract_entrep(files, book = BOOK)).to_parquet('entrepreneurship.pq')\n",
    "print(BOOK)"
   ]
  },
  {
   "cell_type": "markdown",
   "id": "3f2223bf",
   "metadata": {
    "papermill": {
     "duration": 0.110437,
     "end_time": "2023-05-06T14:46:42.133696",
     "exception": false,
     "start_time": "2023-05-06T14:46:42.023259",
     "status": "completed"
    },
    "tags": []
   },
   "source": [
    "# Entrepreneurship Testbank\n",
    "\n",
    "- MC/Fill in the blank\n",
    "- True or false\n",
    "- Short Answer"
   ]
  },
  {
   "cell_type": "code",
   "execution_count": 53,
   "id": "a2911340",
   "metadata": {
    "execution": {
     "iopub.execute_input": "2023-05-06T14:46:42.218371Z",
     "iopub.status.busy": "2023-05-06T14:46:42.217978Z",
     "iopub.status.idle": "2023-05-06T14:46:42.311728Z",
     "shell.execute_reply": "2023-05-06T14:46:42.310475Z"
    },
    "papermill": {
     "duration": 0.138762,
     "end_time": "2023-05-06T14:46:42.313958",
     "exception": false,
     "start_time": "2023-05-06T14:46:42.175196",
     "status": "completed"
    },
    "tags": []
   },
   "outputs": [
    {
     "data": {
      "text/plain": [
       "' his seventies. Yunus is known for supporting women as micro-entrepreneurs, and 97 percent of Grameen bank borrowers are women.\\n\\n\\n\\nDifficulty: Moderate\\n\\n\\n\\nThis file is copyright 2020, Rice University. All Rights Reserved.\\n\\nPage 1 of 12'"
      ]
     },
     "execution_count": 53,
     "metadata": {},
     "output_type": "execute_result"
    }
   ],
   "source": [
    "files = sorted(glob('/kaggle/input/csnlp-datasets/openstax/openstax/EShip-TestBanks/Test Banks/*.docx'))\n",
    "text = docx2txt.process(files[2])\n",
    "access_for_free = text[-235:] #copyright too\n",
    "access_for_free"
   ]
  },
  {
   "cell_type": "code",
   "execution_count": 54,
   "id": "9140c6e4",
   "metadata": {
    "execution": {
     "iopub.execute_input": "2023-05-06T14:46:42.401954Z",
     "iopub.status.busy": "2023-05-06T14:46:42.400804Z",
     "iopub.status.idle": "2023-05-06T14:46:42.411901Z",
     "shell.execute_reply": "2023-05-06T14:46:42.411130Z"
    },
    "papermill": {
     "duration": 0.056912,
     "end_time": "2023-05-06T14:46:42.414046",
     "exception": false,
     "start_time": "2023-05-06T14:46:42.357134",
     "status": "completed"
    },
    "tags": []
   },
   "outputs": [],
   "source": [
    "def extract_enttb(files, BOOK):\n",
    "    rows = []\n",
    "    for file in files:\n",
    "        filename = file.split('/')[-1]\n",
    "        chapter = re.sub(r\"Ch\", \"\", file.split('/')[-1].split('_')[-2])\n",
    "        chapter = int(chapter)\n",
    "        text = docx2txt.process(file).strip(access_for_free)\n",
    "        questions = re.findall(\"\\n.*\\?\", text)\n",
    "        tf = re.findall(\"\\nTrue or false.*\\n\", text)\n",
    "        short_answers = re.findall(\"\\n..*\\n\\nSample Answer:?\", text)\n",
    "        for sa in short_answers:\n",
    "            row = dict()\n",
    "            row['Book'] = BOOK\n",
    "            sa = re.sub(\"\\n\\nSample Answer:\", \"\", sa)\n",
    "            row['Chapter'] = chapter\n",
    "            row['question'] = sa.strip('\\n')\n",
    "            row['is_question'] = True\n",
    "            row['open_ended'] = True\n",
    "            rows.append(row)\n",
    "        #creates some duplicates\n",
    "        for question in questions:\n",
    "            row = dict()\n",
    "            #actually psych has no true or false, but leave it just in case, bc I didn't go over all files\n",
    "            if \"True or false?\" in question:\n",
    "                continue\n",
    "            if \"Text Section:\" in question:\n",
    "                continue\n",
    "            else:\n",
    "                row['Book'] = BOOK\n",
    "                row['Chapter'] = chapter\n",
    "                row['question'] = question.strip('\\n')\n",
    "                row['is_question'] = True\n",
    "                rows.append(row)\n",
    "        for question in tf: \n",
    "            row = dict()\n",
    "            row['Book'] = BOOK\n",
    "            row['Chapter'] = chapter\n",
    "            row['question'] = question.strip('\\n')\n",
    "            row['is_question'] = True\n",
    "            row['truefalse'] = True\n",
    "            row['fillblank'] = '___' in question\n",
    "            rows.append(row)\n",
    "    return rows"
   ]
  },
  {
   "cell_type": "code",
   "execution_count": 55,
   "id": "2eb7df94",
   "metadata": {
    "execution": {
     "iopub.execute_input": "2023-05-06T14:46:42.500240Z",
     "iopub.status.busy": "2023-05-06T14:46:42.498848Z",
     "iopub.status.idle": "2023-05-06T14:46:43.655399Z",
     "shell.execute_reply": "2023-05-06T14:46:43.653929Z"
    },
    "papermill": {
     "duration": 1.201715,
     "end_time": "2023-05-06T14:46:43.657912",
     "exception": false,
     "start_time": "2023-05-06T14:46:42.456197",
     "status": "completed"
    },
    "tags": []
   },
   "outputs": [
    {
     "name": "stdout",
     "output_type": "stream",
     "text": [
      "Entrepreneurship\n"
     ]
    }
   ],
   "source": [
    "pd.DataFrame(extract_enttb(files, BOOK = BOOK)).to_parquet('entrepreneurship_testbank.pq')\n",
    "print(BOOK)"
   ]
  },
  {
   "cell_type": "markdown",
   "id": "b45b0124",
   "metadata": {
    "papermill": {
     "duration": 0.0407,
     "end_time": "2023-05-06T14:46:43.740540",
     "exception": false,
     "start_time": "2023-05-06T14:46:43.699840",
     "status": "completed"
    },
    "tags": []
   },
   "source": [
    "# Introduction to Business\n",
    "- questions are in a separate file, though most sections have a concept check which is questions, they are always at the end of the file\n"
   ]
  },
  {
   "cell_type": "code",
   "execution_count": 56,
   "id": "1b47715e",
   "metadata": {
    "execution": {
     "iopub.execute_input": "2023-05-06T14:46:43.825205Z",
     "iopub.status.busy": "2023-05-06T14:46:43.824020Z",
     "iopub.status.idle": "2023-05-06T14:46:43.904624Z",
     "shell.execute_reply": "2023-05-06T14:46:43.903798Z"
    },
    "papermill": {
     "duration": 0.125183,
     "end_time": "2023-05-06T14:46:43.907146",
     "exception": false,
     "start_time": "2023-05-06T14:46:43.781963",
     "status": "completed"
    },
    "tags": []
   },
   "outputs": [],
   "source": [
    "files = sorted(glob('/kaggle/input/csnlp-datasets/openstax/openstax/Introduction_to_Business_Docx-customizable/introduction-business/*.docx'))\n",
    "text = docx2txt.process(files[2])\n",
    "access_for_free = text[-41:] #copyright too\n",
    "book = 'Introduction to Business'"
   ]
  },
  {
   "cell_type": "code",
   "execution_count": 57,
   "id": "f68d3e3c",
   "metadata": {
    "execution": {
     "iopub.execute_input": "2023-05-06T14:46:43.993545Z",
     "iopub.status.busy": "2023-05-06T14:46:43.992530Z",
     "iopub.status.idle": "2023-05-06T14:46:43.999340Z",
     "shell.execute_reply": "2023-05-06T14:46:43.998533Z"
    },
    "papermill": {
     "duration": 0.051389,
     "end_time": "2023-05-06T14:46:44.001333",
     "exception": false,
     "start_time": "2023-05-06T14:46:43.949944",
     "status": "completed"
    },
    "tags": []
   },
   "outputs": [
    {
     "data": {
      "text/plain": [
       "['\\n\\nWhat is economics, and how can you benefit from understanding basic economic concepts?\\n\\nCompare and contrast the world’s major economic systems. Why is capitalism growing, communism declining, and socialism still popular?\\n\\nWhat is the difference between macroeconomics and microeconomics?']"
      ]
     },
     "execution_count": 57,
     "metadata": {},
     "output_type": "execute_result"
    }
   ],
   "source": [
    "re.findall('\\n\\nConcept Check(.*?)\\n\\nA', text, re.DOTALL)"
   ]
  },
  {
   "cell_type": "code",
   "execution_count": 58,
   "id": "f76b157d",
   "metadata": {
    "execution": {
     "iopub.execute_input": "2023-05-06T14:46:44.088299Z",
     "iopub.status.busy": "2023-05-06T14:46:44.087582Z",
     "iopub.status.idle": "2023-05-06T14:46:44.099870Z",
     "shell.execute_reply": "2023-05-06T14:46:44.098672Z"
    },
    "papermill": {
     "duration": 0.058929,
     "end_time": "2023-05-06T14:46:44.102493",
     "exception": false,
     "start_time": "2023-05-06T14:46:44.043564",
     "status": "completed"
    },
    "tags": []
   },
   "outputs": [],
   "source": [
    "def extract_introbiz(files, book):\n",
    "    rows = []\n",
    "    for file in files:\n",
    "        \n",
    "        text = docx2txt.process(file)\n",
    "        try:\n",
    "#             print(f\"have questions in: {file}\")\n",
    "            conceptchecks = re.findall('\\n\\nConcept Check(.*?)\\n\\nA', text, re.DOTALL)[0].split('\\n\\n')#before removing access because I need it to match\n",
    "        except:\n",
    "            conceptchecks = []\n",
    "#             print(f\"no questions in {file}\")\n",
    "        text = text.strip(access_for_free)\n",
    "        try:\n",
    "            end = re.search('\\n\\nConcept Check', text, re.DOTALL).start()\n",
    "            text = text[:end]\n",
    "        except:\n",
    "            print(f'no concept check in {file}')\n",
    "        filename = file.split('/')[-1]\n",
    "        section_title = re.sub(r\"\\.docx$\", \"\", filename)\n",
    "        chapter = filename.split('-')[0]\n",
    "        is_question = 'questions' in filename\n",
    "        if is_question:\n",
    "            pattern = r'\\n\\n(?:[A-Z].*?)\\n\\n(?:\\d|Access)'\n",
    "            qs = re.findall(pattern, text, re.DOTALL)\n",
    "            for q in qs:\n",
    "                row = get_question(q.strip('\\n\\n'),\n",
    "                                    chapter,\n",
    "                                    section_title,\n",
    "                                    book = book)\n",
    "                rows.append(row)\n",
    "        else:    \n",
    "            row = dict()\n",
    "            row['Book'] = book\n",
    "            row['Chapter'] = chapter\n",
    "            row['section_title'] = section_title\n",
    "            row['is_question'] = \"questions\" in filename\n",
    "            row['text'] = text\n",
    "            rows.append(row)\n",
    "            for cc in conceptchecks:\n",
    "                if len(cc) == 0:\n",
    "                    continue\n",
    "                row = dict()\n",
    "                row['Book'] = book\n",
    "                row['Chapter'] = chapter\n",
    "                row['section_title'] = section_title\n",
    "                row['is_question'] = True\n",
    "                row['text'] = cc\n",
    "                rows.append(row)\n",
    "    return rows"
   ]
  },
  {
   "cell_type": "code",
   "execution_count": 59,
   "id": "2b5fb62f",
   "metadata": {
    "execution": {
     "iopub.execute_input": "2023-05-06T14:46:44.189028Z",
     "iopub.status.busy": "2023-05-06T14:46:44.188598Z",
     "iopub.status.idle": "2023-05-06T14:46:47.036196Z",
     "shell.execute_reply": "2023-05-06T14:46:47.035039Z"
    },
    "papermill": {
     "duration": 2.892587,
     "end_time": "2023-05-06T14:46:47.038579",
     "exception": false,
     "start_time": "2023-05-06T14:46:44.145992",
     "status": "completed"
    },
    "tags": []
   },
   "outputs": [
    {
     "name": "stdout",
     "output_type": "stream",
     "text": [
      "no concept check in /kaggle/input/csnlp-datasets/openstax/openstax/Introduction_to_Business_Docx-customizable/introduction-business/1-critical-thinking-case.docx\n",
      "no concept check in /kaggle/input/csnlp-datasets/openstax/openstax/Introduction_to_Business_Docx-customizable/introduction-business/1-ethics-activity.docx\n",
      "no concept check in /kaggle/input/csnlp-datasets/openstax/openstax/Introduction_to_Business_Docx-customizable/introduction-business/1-hot-links-address-book.docx\n",
      "no concept check in /kaggle/input/csnlp-datasets/openstax/openstax/Introduction_to_Business_Docx-customizable/introduction-business/1-introduction.docx\n",
      "no concept check in /kaggle/input/csnlp-datasets/openstax/openstax/Introduction_to_Business_Docx-customizable/introduction-business/1-key-terms.docx\n",
      "no concept check in /kaggle/input/csnlp-datasets/openstax/openstax/Introduction_to_Business_Docx-customizable/introduction-business/1-preparing-for-tomorrows-workplace-skills.docx\n",
      "no concept check in /kaggle/input/csnlp-datasets/openstax/openstax/Introduction_to_Business_Docx-customizable/introduction-business/1-summary-of-learning-outcomes.docx\n",
      "no concept check in /kaggle/input/csnlp-datasets/openstax/openstax/Introduction_to_Business_Docx-customizable/introduction-business/1-working-the-net.docx\n",
      "no concept check in /kaggle/input/csnlp-datasets/openstax/openstax/Introduction_to_Business_Docx-customizable/introduction-business/10-critical-thinking-case.docx\n",
      "no concept check in /kaggle/input/csnlp-datasets/openstax/openstax/Introduction_to_Business_Docx-customizable/introduction-business/10-ethics-activity.docx\n",
      "no concept check in /kaggle/input/csnlp-datasets/openstax/openstax/Introduction_to_Business_Docx-customizable/introduction-business/10-hot-links-address-book.docx\n",
      "no concept check in /kaggle/input/csnlp-datasets/openstax/openstax/Introduction_to_Business_Docx-customizable/introduction-business/10-introduction.docx\n",
      "no concept check in /kaggle/input/csnlp-datasets/openstax/openstax/Introduction_to_Business_Docx-customizable/introduction-business/10-key-terms.docx\n",
      "no concept check in /kaggle/input/csnlp-datasets/openstax/openstax/Introduction_to_Business_Docx-customizable/introduction-business/10-preparing-for-tomorrows-workplace-skills.docx\n",
      "no concept check in /kaggle/input/csnlp-datasets/openstax/openstax/Introduction_to_Business_Docx-customizable/introduction-business/10-summary-of-learning-outcomes.docx\n",
      "no concept check in /kaggle/input/csnlp-datasets/openstax/openstax/Introduction_to_Business_Docx-customizable/introduction-business/10-working-the-net.docx\n",
      "no concept check in /kaggle/input/csnlp-datasets/openstax/openstax/Introduction_to_Business_Docx-customizable/introduction-business/11-critical-thinking-case.docx\n",
      "no concept check in /kaggle/input/csnlp-datasets/openstax/openstax/Introduction_to_Business_Docx-customizable/introduction-business/11-ethics-activity.docx\n",
      "no concept check in /kaggle/input/csnlp-datasets/openstax/openstax/Introduction_to_Business_Docx-customizable/introduction-business/11-hot-links-address-book.docx\n",
      "no concept check in /kaggle/input/csnlp-datasets/openstax/openstax/Introduction_to_Business_Docx-customizable/introduction-business/11-introduction.docx\n",
      "no concept check in /kaggle/input/csnlp-datasets/openstax/openstax/Introduction_to_Business_Docx-customizable/introduction-business/11-key-terms.docx\n",
      "no concept check in /kaggle/input/csnlp-datasets/openstax/openstax/Introduction_to_Business_Docx-customizable/introduction-business/11-preparing-for-tomorrows-workplace-skills.docx\n",
      "no concept check in /kaggle/input/csnlp-datasets/openstax/openstax/Introduction_to_Business_Docx-customizable/introduction-business/11-summary-of-learning-outcomes.docx\n",
      "no concept check in /kaggle/input/csnlp-datasets/openstax/openstax/Introduction_to_Business_Docx-customizable/introduction-business/11-working-the-net.docx\n",
      "no concept check in /kaggle/input/csnlp-datasets/openstax/openstax/Introduction_to_Business_Docx-customizable/introduction-business/12-critical-thinking-case.docx\n",
      "no concept check in /kaggle/input/csnlp-datasets/openstax/openstax/Introduction_to_Business_Docx-customizable/introduction-business/12-ethics-activity.docx\n",
      "no concept check in /kaggle/input/csnlp-datasets/openstax/openstax/Introduction_to_Business_Docx-customizable/introduction-business/12-hot-links-address-book.docx\n",
      "no concept check in /kaggle/input/csnlp-datasets/openstax/openstax/Introduction_to_Business_Docx-customizable/introduction-business/12-introduction.docx\n",
      "no concept check in /kaggle/input/csnlp-datasets/openstax/openstax/Introduction_to_Business_Docx-customizable/introduction-business/12-key-terms.docx\n",
      "no concept check in /kaggle/input/csnlp-datasets/openstax/openstax/Introduction_to_Business_Docx-customizable/introduction-business/12-preparing-for-tomorrows-workplace-skills.docx\n",
      "no concept check in /kaggle/input/csnlp-datasets/openstax/openstax/Introduction_to_Business_Docx-customizable/introduction-business/12-summary-of-learning-outcomes.docx\n",
      "no concept check in /kaggle/input/csnlp-datasets/openstax/openstax/Introduction_to_Business_Docx-customizable/introduction-business/12-working-the-net.docx\n",
      "no concept check in /kaggle/input/csnlp-datasets/openstax/openstax/Introduction_to_Business_Docx-customizable/introduction-business/13-critical-thinking-case.docx\n",
      "no concept check in /kaggle/input/csnlp-datasets/openstax/openstax/Introduction_to_Business_Docx-customizable/introduction-business/13-ethics-activity.docx\n",
      "no concept check in /kaggle/input/csnlp-datasets/openstax/openstax/Introduction_to_Business_Docx-customizable/introduction-business/13-hot-links-address-book.docx\n",
      "no concept check in /kaggle/input/csnlp-datasets/openstax/openstax/Introduction_to_Business_Docx-customizable/introduction-business/13-introduction.docx\n",
      "no concept check in /kaggle/input/csnlp-datasets/openstax/openstax/Introduction_to_Business_Docx-customizable/introduction-business/13-key-terms.docx\n",
      "no concept check in /kaggle/input/csnlp-datasets/openstax/openstax/Introduction_to_Business_Docx-customizable/introduction-business/13-preparing-for-tomorrows-workplace-skills.docx\n",
      "no concept check in /kaggle/input/csnlp-datasets/openstax/openstax/Introduction_to_Business_Docx-customizable/introduction-business/13-summary-of-learning-outcomes.docx\n",
      "no concept check in /kaggle/input/csnlp-datasets/openstax/openstax/Introduction_to_Business_Docx-customizable/introduction-business/13-working-the-net.docx\n",
      "no concept check in /kaggle/input/csnlp-datasets/openstax/openstax/Introduction_to_Business_Docx-customizable/introduction-business/14-critical-thinking-case.docx\n",
      "no concept check in /kaggle/input/csnlp-datasets/openstax/openstax/Introduction_to_Business_Docx-customizable/introduction-business/14-ethics-activity.docx\n",
      "no concept check in /kaggle/input/csnlp-datasets/openstax/openstax/Introduction_to_Business_Docx-customizable/introduction-business/14-hot-links-address-book.docx\n",
      "no concept check in /kaggle/input/csnlp-datasets/openstax/openstax/Introduction_to_Business_Docx-customizable/introduction-business/14-introduction.docx\n",
      "no concept check in /kaggle/input/csnlp-datasets/openstax/openstax/Introduction_to_Business_Docx-customizable/introduction-business/14-key-terms.docx\n",
      "no concept check in /kaggle/input/csnlp-datasets/openstax/openstax/Introduction_to_Business_Docx-customizable/introduction-business/14-preparing-for-tomorrows-workplace-skills.docx\n",
      "no concept check in /kaggle/input/csnlp-datasets/openstax/openstax/Introduction_to_Business_Docx-customizable/introduction-business/14-summary-of-learning-outcomes.docx\n",
      "no concept check in /kaggle/input/csnlp-datasets/openstax/openstax/Introduction_to_Business_Docx-customizable/introduction-business/14-working-the-net.docx\n",
      "no concept check in /kaggle/input/csnlp-datasets/openstax/openstax/Introduction_to_Business_Docx-customizable/introduction-business/15-critical-thinking-case.docx\n",
      "no concept check in /kaggle/input/csnlp-datasets/openstax/openstax/Introduction_to_Business_Docx-customizable/introduction-business/15-ethics-activity.docx\n",
      "no concept check in /kaggle/input/csnlp-datasets/openstax/openstax/Introduction_to_Business_Docx-customizable/introduction-business/15-hot-links-address-book.docx\n",
      "no concept check in /kaggle/input/csnlp-datasets/openstax/openstax/Introduction_to_Business_Docx-customizable/introduction-business/15-introduction.docx\n",
      "no concept check in /kaggle/input/csnlp-datasets/openstax/openstax/Introduction_to_Business_Docx-customizable/introduction-business/15-key-terms.docx\n",
      "no concept check in /kaggle/input/csnlp-datasets/openstax/openstax/Introduction_to_Business_Docx-customizable/introduction-business/15-preparing-for-tomorrows-workplace-skills.docx\n",
      "no concept check in /kaggle/input/csnlp-datasets/openstax/openstax/Introduction_to_Business_Docx-customizable/introduction-business/15-summary-of-learning-outcomes.docx\n",
      "no concept check in /kaggle/input/csnlp-datasets/openstax/openstax/Introduction_to_Business_Docx-customizable/introduction-business/15-working-the-net.docx\n",
      "no concept check in /kaggle/input/csnlp-datasets/openstax/openstax/Introduction_to_Business_Docx-customizable/introduction-business/16-critical-thinking-case.docx\n",
      "no concept check in /kaggle/input/csnlp-datasets/openstax/openstax/Introduction_to_Business_Docx-customizable/introduction-business/16-ethics-activity.docx\n",
      "no concept check in /kaggle/input/csnlp-datasets/openstax/openstax/Introduction_to_Business_Docx-customizable/introduction-business/16-hot-links-address-book.docx\n",
      "no concept check in /kaggle/input/csnlp-datasets/openstax/openstax/Introduction_to_Business_Docx-customizable/introduction-business/16-introduction.docx\n",
      "no concept check in /kaggle/input/csnlp-datasets/openstax/openstax/Introduction_to_Business_Docx-customizable/introduction-business/16-key-terms.docx\n",
      "no concept check in /kaggle/input/csnlp-datasets/openstax/openstax/Introduction_to_Business_Docx-customizable/introduction-business/16-preparing-for-tomorrows-workplace-skills.docx\n",
      "no concept check in /kaggle/input/csnlp-datasets/openstax/openstax/Introduction_to_Business_Docx-customizable/introduction-business/16-summary-of-learning-outcomes.docx\n",
      "no concept check in /kaggle/input/csnlp-datasets/openstax/openstax/Introduction_to_Business_Docx-customizable/introduction-business/16-working-the-net.docx\n",
      "no concept check in /kaggle/input/csnlp-datasets/openstax/openstax/Introduction_to_Business_Docx-customizable/introduction-business/17-1-learn-the-basics-of-business.docx\n",
      "no concept check in /kaggle/input/csnlp-datasets/openstax/openstax/Introduction_to_Business_Docx-customizable/introduction-business/17-2-developing-interpersonal-skills-is-key-to-your-success.docx\n",
      "no concept check in /kaggle/input/csnlp-datasets/openstax/openstax/Introduction_to_Business_Docx-customizable/introduction-business/17-3-make-your-future-happen-learn-to-plan.docx\n",
      "no concept check in /kaggle/input/csnlp-datasets/openstax/openstax/Introduction_to_Business_Docx-customizable/introduction-business/17-4-going-to-college-is-an-opportunity-of-a-lifetime-never-drop-out.docx\n",
      "no concept check in /kaggle/input/csnlp-datasets/openstax/openstax/Introduction_to_Business_Docx-customizable/introduction-business/17-5-get-your-career-off-on-the-right-track.docx\n",
      "no concept check in /kaggle/input/csnlp-datasets/openstax/openstax/Introduction_to_Business_Docx-customizable/introduction-business/17-6-self-test-scoring-guidelines.docx\n",
      "no concept check in /kaggle/input/csnlp-datasets/openstax/openstax/Introduction_to_Business_Docx-customizable/introduction-business/17-introduction.docx\n",
      "no concept check in /kaggle/input/csnlp-datasets/openstax/openstax/Introduction_to_Business_Docx-customizable/introduction-business/2-critical-thinking-case.docx\n",
      "no concept check in /kaggle/input/csnlp-datasets/openstax/openstax/Introduction_to_Business_Docx-customizable/introduction-business/2-ethics-activity.docx\n",
      "no concept check in /kaggle/input/csnlp-datasets/openstax/openstax/Introduction_to_Business_Docx-customizable/introduction-business/2-hot-links-address-book.docx\n",
      "no concept check in /kaggle/input/csnlp-datasets/openstax/openstax/Introduction_to_Business_Docx-customizable/introduction-business/2-introduction.docx\n",
      "no concept check in /kaggle/input/csnlp-datasets/openstax/openstax/Introduction_to_Business_Docx-customizable/introduction-business/2-key-terms.docx\n",
      "no concept check in /kaggle/input/csnlp-datasets/openstax/openstax/Introduction_to_Business_Docx-customizable/introduction-business/2-preparing-for-tomorrows-workplace-skills.docx\n",
      "no concept check in /kaggle/input/csnlp-datasets/openstax/openstax/Introduction_to_Business_Docx-customizable/introduction-business/2-summary-of-learning-outcomes.docx\n",
      "no concept check in /kaggle/input/csnlp-datasets/openstax/openstax/Introduction_to_Business_Docx-customizable/introduction-business/2-working-the-net.docx\n",
      "no concept check in /kaggle/input/csnlp-datasets/openstax/openstax/Introduction_to_Business_Docx-customizable/introduction-business/3-critical-thinking-case.docx\n",
      "no concept check in /kaggle/input/csnlp-datasets/openstax/openstax/Introduction_to_Business_Docx-customizable/introduction-business/3-ethics-activity.docx\n",
      "no concept check in /kaggle/input/csnlp-datasets/openstax/openstax/Introduction_to_Business_Docx-customizable/introduction-business/3-hot-links-address-book.docx\n",
      "no concept check in /kaggle/input/csnlp-datasets/openstax/openstax/Introduction_to_Business_Docx-customizable/introduction-business/3-introduction.docx\n",
      "no concept check in /kaggle/input/csnlp-datasets/openstax/openstax/Introduction_to_Business_Docx-customizable/introduction-business/3-key-terms.docx\n",
      "no concept check in /kaggle/input/csnlp-datasets/openstax/openstax/Introduction_to_Business_Docx-customizable/introduction-business/3-preparing-for-tomorrows-workplace-skills.docx\n",
      "no concept check in /kaggle/input/csnlp-datasets/openstax/openstax/Introduction_to_Business_Docx-customizable/introduction-business/3-summary-of-learning-outcomes.docx\n",
      "no concept check in /kaggle/input/csnlp-datasets/openstax/openstax/Introduction_to_Business_Docx-customizable/introduction-business/3-working-the-net.docx\n",
      "no concept check in /kaggle/input/csnlp-datasets/openstax/openstax/Introduction_to_Business_Docx-customizable/introduction-business/4-critical-thinking-case.docx\n",
      "no concept check in /kaggle/input/csnlp-datasets/openstax/openstax/Introduction_to_Business_Docx-customizable/introduction-business/4-ethics-activity.docx\n",
      "no concept check in /kaggle/input/csnlp-datasets/openstax/openstax/Introduction_to_Business_Docx-customizable/introduction-business/4-hot-links-address-book.docx\n",
      "no concept check in /kaggle/input/csnlp-datasets/openstax/openstax/Introduction_to_Business_Docx-customizable/introduction-business/4-introduction.docx\n",
      "no concept check in /kaggle/input/csnlp-datasets/openstax/openstax/Introduction_to_Business_Docx-customizable/introduction-business/4-key-terms.docx\n",
      "no concept check in /kaggle/input/csnlp-datasets/openstax/openstax/Introduction_to_Business_Docx-customizable/introduction-business/4-preparing-for-tomorrows-workplace-skills.docx\n",
      "no concept check in /kaggle/input/csnlp-datasets/openstax/openstax/Introduction_to_Business_Docx-customizable/introduction-business/4-summary-of-learning-outcomes.docx\n",
      "no concept check in /kaggle/input/csnlp-datasets/openstax/openstax/Introduction_to_Business_Docx-customizable/introduction-business/4-working-the-net.docx\n",
      "no concept check in /kaggle/input/csnlp-datasets/openstax/openstax/Introduction_to_Business_Docx-customizable/introduction-business/5-critical-thinking-case.docx\n",
      "no concept check in /kaggle/input/csnlp-datasets/openstax/openstax/Introduction_to_Business_Docx-customizable/introduction-business/5-ethics-activity.docx\n",
      "no concept check in /kaggle/input/csnlp-datasets/openstax/openstax/Introduction_to_Business_Docx-customizable/introduction-business/5-hot-links-address-book.docx\n",
      "no concept check in /kaggle/input/csnlp-datasets/openstax/openstax/Introduction_to_Business_Docx-customizable/introduction-business/5-introduction.docx\n",
      "no concept check in /kaggle/input/csnlp-datasets/openstax/openstax/Introduction_to_Business_Docx-customizable/introduction-business/5-key-terms.docx\n",
      "no concept check in /kaggle/input/csnlp-datasets/openstax/openstax/Introduction_to_Business_Docx-customizable/introduction-business/5-preparing-for-tomorrows-workplace-skills.docx\n",
      "no concept check in /kaggle/input/csnlp-datasets/openstax/openstax/Introduction_to_Business_Docx-customizable/introduction-business/5-summary-of-learning-outcomes.docx\n",
      "no concept check in /kaggle/input/csnlp-datasets/openstax/openstax/Introduction_to_Business_Docx-customizable/introduction-business/5-working-the-net.docx\n",
      "no concept check in /kaggle/input/csnlp-datasets/openstax/openstax/Introduction_to_Business_Docx-customizable/introduction-business/6-critical-thinking-case.docx\n",
      "no concept check in /kaggle/input/csnlp-datasets/openstax/openstax/Introduction_to_Business_Docx-customizable/introduction-business/6-ethics-activity.docx\n",
      "no concept check in /kaggle/input/csnlp-datasets/openstax/openstax/Introduction_to_Business_Docx-customizable/introduction-business/6-hot-links-address-book.docx\n",
      "no concept check in /kaggle/input/csnlp-datasets/openstax/openstax/Introduction_to_Business_Docx-customizable/introduction-business/6-introduction.docx\n",
      "no concept check in /kaggle/input/csnlp-datasets/openstax/openstax/Introduction_to_Business_Docx-customizable/introduction-business/6-key-terms.docx\n",
      "no concept check in /kaggle/input/csnlp-datasets/openstax/openstax/Introduction_to_Business_Docx-customizable/introduction-business/6-preparing-for-tomorrows-workplace-skills.docx\n",
      "no concept check in /kaggle/input/csnlp-datasets/openstax/openstax/Introduction_to_Business_Docx-customizable/introduction-business/6-summary-of-learning-outcomes.docx\n",
      "no concept check in /kaggle/input/csnlp-datasets/openstax/openstax/Introduction_to_Business_Docx-customizable/introduction-business/6-working-the-net.docx\n",
      "no concept check in /kaggle/input/csnlp-datasets/openstax/openstax/Introduction_to_Business_Docx-customizable/introduction-business/7-critical-thinking-case.docx\n",
      "no concept check in /kaggle/input/csnlp-datasets/openstax/openstax/Introduction_to_Business_Docx-customizable/introduction-business/7-ethics-activity.docx\n",
      "no concept check in /kaggle/input/csnlp-datasets/openstax/openstax/Introduction_to_Business_Docx-customizable/introduction-business/7-hot-links-address-book.docx\n",
      "no concept check in /kaggle/input/csnlp-datasets/openstax/openstax/Introduction_to_Business_Docx-customizable/introduction-business/7-introduction.docx\n",
      "no concept check in /kaggle/input/csnlp-datasets/openstax/openstax/Introduction_to_Business_Docx-customizable/introduction-business/7-key-terms.docx\n",
      "no concept check in /kaggle/input/csnlp-datasets/openstax/openstax/Introduction_to_Business_Docx-customizable/introduction-business/7-preparing-for-tomorrows-workplace-skills.docx\n",
      "no concept check in /kaggle/input/csnlp-datasets/openstax/openstax/Introduction_to_Business_Docx-customizable/introduction-business/7-summary-of-learning-outcomes.docx\n",
      "no concept check in /kaggle/input/csnlp-datasets/openstax/openstax/Introduction_to_Business_Docx-customizable/introduction-business/7-working-the-net.docx\n",
      "no concept check in /kaggle/input/csnlp-datasets/openstax/openstax/Introduction_to_Business_Docx-customizable/introduction-business/8-critical-thinking-case.docx\n",
      "no concept check in /kaggle/input/csnlp-datasets/openstax/openstax/Introduction_to_Business_Docx-customizable/introduction-business/8-ethics-activity.docx\n",
      "no concept check in /kaggle/input/csnlp-datasets/openstax/openstax/Introduction_to_Business_Docx-customizable/introduction-business/8-hot-links-address-book.docx\n",
      "no concept check in /kaggle/input/csnlp-datasets/openstax/openstax/Introduction_to_Business_Docx-customizable/introduction-business/8-introduction.docx\n",
      "no concept check in /kaggle/input/csnlp-datasets/openstax/openstax/Introduction_to_Business_Docx-customizable/introduction-business/8-key-terms.docx\n",
      "no concept check in /kaggle/input/csnlp-datasets/openstax/openstax/Introduction_to_Business_Docx-customizable/introduction-business/8-preparing-for-tomorrows-workplace-skills.docx\n",
      "no concept check in /kaggle/input/csnlp-datasets/openstax/openstax/Introduction_to_Business_Docx-customizable/introduction-business/8-summary-of-learning-outcomes.docx\n",
      "no concept check in /kaggle/input/csnlp-datasets/openstax/openstax/Introduction_to_Business_Docx-customizable/introduction-business/8-working-the-net.docx\n",
      "no concept check in /kaggle/input/csnlp-datasets/openstax/openstax/Introduction_to_Business_Docx-customizable/introduction-business/9-critical-thinking-case.docx\n",
      "no concept check in /kaggle/input/csnlp-datasets/openstax/openstax/Introduction_to_Business_Docx-customizable/introduction-business/9-ethics-activity.docx\n",
      "no concept check in /kaggle/input/csnlp-datasets/openstax/openstax/Introduction_to_Business_Docx-customizable/introduction-business/9-hot-links-address-book.docx\n",
      "no concept check in /kaggle/input/csnlp-datasets/openstax/openstax/Introduction_to_Business_Docx-customizable/introduction-business/9-introduction.docx\n",
      "no concept check in /kaggle/input/csnlp-datasets/openstax/openstax/Introduction_to_Business_Docx-customizable/introduction-business/9-key-terms.docx\n",
      "no concept check in /kaggle/input/csnlp-datasets/openstax/openstax/Introduction_to_Business_Docx-customizable/introduction-business/9-preparing-for-tomorrows-workplace-skills.docx\n",
      "no concept check in /kaggle/input/csnlp-datasets/openstax/openstax/Introduction_to_Business_Docx-customizable/introduction-business/9-summary-of-learning-outcomes.docx\n",
      "no concept check in /kaggle/input/csnlp-datasets/openstax/openstax/Introduction_to_Business_Docx-customizable/introduction-business/9-working-the-net.docx\n",
      "no concept check in /kaggle/input/csnlp-datasets/openstax/openstax/Introduction_to_Business_Docx-customizable/introduction-business/a-understanding-the-legal-and-tax-environment.docx\n",
      "no concept check in /kaggle/input/csnlp-datasets/openstax/openstax/Introduction_to_Business_Docx-customizable/introduction-business/index.docx\n",
      "no concept check in /kaggle/input/csnlp-datasets/openstax/openstax/Introduction_to_Business_Docx-customizable/introduction-business/preface.docx\n",
      "no concept check in /kaggle/input/csnlp-datasets/openstax/openstax/Introduction_to_Business_Docx-customizable/introduction-business/references.docx\n",
      "Introduction to Business\n"
     ]
    }
   ],
   "source": [
    "pd.DataFrame(extract_introbiz(files, book)).to_parquet('intro2biz_tq.pq')\n",
    "print(book)"
   ]
  },
  {
   "cell_type": "markdown",
   "id": "eb64cb4e",
   "metadata": {
    "papermill": {
     "duration": 0.041934,
     "end_time": "2023-05-06T14:46:47.123314",
     "exception": false,
     "start_time": "2023-05-06T14:46:47.081380",
     "status": "completed"
    },
    "tags": []
   },
   "source": [
    "# Review Questions\n",
    "- this one is actually very nice, each section has review questions and they are ordered"
   ]
  },
  {
   "cell_type": "code",
   "execution_count": 60,
   "id": "014e4adf",
   "metadata": {
    "execution": {
     "iopub.execute_input": "2023-05-06T14:46:47.209673Z",
     "iopub.status.busy": "2023-05-06T14:46:47.208827Z",
     "iopub.status.idle": "2023-05-06T14:46:47.253806Z",
     "shell.execute_reply": "2023-05-06T14:46:47.252584Z"
    },
    "papermill": {
     "duration": 0.090855,
     "end_time": "2023-05-06T14:46:47.255970",
     "exception": false,
     "start_time": "2023-05-06T14:46:47.165115",
     "status": "completed"
    },
    "tags": []
   },
   "outputs": [
    {
     "data": {
      "text/plain": [
       "'Introduction to Business'"
      ]
     },
     "execution_count": 60,
     "metadata": {},
     "output_type": "execute_result"
    }
   ],
   "source": [
    "files = sorted(glob('/kaggle/input/csnlp-datasets/openstax/openstax/Introduction_to_Business_Review_Questions/Review Questions/*.docx'))\n",
    "text = docx2txt.process(files[3])\n",
    "# access_for_free = text[-605:] #copyright too\n",
    "# access_for_free\n",
    "book"
   ]
  },
  {
   "cell_type": "code",
   "execution_count": 61,
   "id": "0dca7be3",
   "metadata": {
    "execution": {
     "iopub.execute_input": "2023-05-06T14:46:47.344490Z",
     "iopub.status.busy": "2023-05-06T14:46:47.344075Z",
     "iopub.status.idle": "2023-05-06T14:46:47.351320Z",
     "shell.execute_reply": "2023-05-06T14:46:47.350291Z"
    },
    "papermill": {
     "duration": 0.053991,
     "end_time": "2023-05-06T14:46:47.353449",
     "exception": false,
     "start_time": "2023-05-06T14:46:47.299458",
     "status": "completed"
    },
    "tags": []
   },
   "outputs": [
    {
     "data": {
      "text/plain": [
       "'\\nTo answer a particular question, visit the respective chapter section reading in the OpenStax Introduction to Business textbook. Questions were derived from textbook content: https://openstax.org/details/books/introduction-business\\n\\n\\n\\nThis OpenStax ancillary resource is © Rice University under a CC BY 4.0 International license; it may be reproduced or modified but must be attributed to OpenStax, Rice University and any changes must be noted.\\n\\nFor more free, peer-reviewed, openly licensed resources visit OpenStax.org.'"
      ]
     },
     "execution_count": 61,
     "metadata": {},
     "output_type": "execute_result"
    }
   ],
   "source": [
    "start = re.search(\"\\nTo answer a particular question\", text).start()\n",
    "access_for_free = text[start:] #copyright too\n",
    "access_for_free"
   ]
  },
  {
   "cell_type": "code",
   "execution_count": 62,
   "id": "0ec5de01",
   "metadata": {
    "execution": {
     "iopub.execute_input": "2023-05-06T14:46:47.442785Z",
     "iopub.status.busy": "2023-05-06T14:46:47.442367Z",
     "iopub.status.idle": "2023-05-06T14:46:47.449839Z",
     "shell.execute_reply": "2023-05-06T14:46:47.448851Z"
    },
    "papermill": {
     "duration": 0.055257,
     "end_time": "2023-05-06T14:46:47.452079",
     "exception": false,
     "start_time": "2023-05-06T14:46:47.396822",
     "status": "completed"
    },
    "tags": []
   },
   "outputs": [
    {
     "data": {
      "text/plain": [
       "['7.1 Review Questions',\n",
       " '7.3 Review Questions',\n",
       " '7.4 Review Questions',\n",
       " '7.6 Review Questions',\n",
       " '7.7 Review Questions']"
      ]
     },
     "execution_count": 62,
     "metadata": {},
     "output_type": "execute_result"
    }
   ],
   "source": [
    "re.findall('[1-9]\\.[1-9] Review Questions', text) #word :-/"
   ]
  },
  {
   "cell_type": "code",
   "execution_count": 63,
   "id": "62e8ff3d",
   "metadata": {
    "execution": {
     "iopub.execute_input": "2023-05-06T14:46:47.542194Z",
     "iopub.status.busy": "2023-05-06T14:46:47.541791Z",
     "iopub.status.idle": "2023-05-06T14:46:47.550196Z",
     "shell.execute_reply": "2023-05-06T14:46:47.549059Z"
    },
    "papermill": {
     "duration": 0.055637,
     "end_time": "2023-05-06T14:46:47.552563",
     "exception": false,
     "start_time": "2023-05-06T14:46:47.496926",
     "status": "completed"
    },
    "tags": []
   },
   "outputs": [
    {
     "data": {
      "text/plain": [
       "['',\n",
       " 'Define the following terms',\n",
       " 'Organization',\n",
       " 'Division of Labor',\n",
       " 'Specialization',\n",
       " 'Departmentalization',\n",
       " 'Organizational Chart',\n",
       " 'What are the 3 organizing or structuring processes?',\n",
       " 'Which organizing process determines work activities and divides up tasks?',\n",
       " 'Which organizing process focuses on grouping jobs and employees?',\n",
       " 'What does delegation do?',\n",
       " 'What is an organization?',\n",
       " 'Division of Labor',\n",
       " 'What are traditional organization structures? ',\n",
       " 'What does departmentalization facilitate?',\n",
       " 'What is the purpose of an organizational chart?',\n",
       " 'What are the 5 basic types of departmentalization?',\n",
       " 'Which form of departmentalization is based on the primary functions performed within an organizational unit?',\n",
       " 'What type of organization might use functional departmentalization?',\n",
       " 'What is product departmentalization based on, and what types of organizations would this work well for?',\n",
       " 'What types of organizations would benefit from process departmentalization?',\n",
       " '',\n",
       " '',\n",
       " 'What types of consumer services might use customer departmentalization?',\n",
       " 'Why would an organization utilize geographic departmentalization?',\n",
       " 'How is line organization designed, and who has direct control over all activities?',\n",
       " 'What do line organizations do as they grow and become more complex?',\n",
       " 'What do staff positions provide in line-and-staff organizations? Where would you find these in an organization?',\n",
       " 'How does the staff position help the line position achieve the organization’s goals?',\n",
       " 'What areas are staff positions found in?\\n']"
      ]
     },
     "execution_count": 63,
     "metadata": {},
     "output_type": "execute_result"
    }
   ],
   "source": [
    "re.findall('Review Questions(.*?)\\n[1-9]', text, re.DOTALL)[0].split('\\n\\n')"
   ]
  },
  {
   "cell_type": "code",
   "execution_count": 64,
   "id": "071e9962",
   "metadata": {
    "execution": {
     "iopub.execute_input": "2023-05-06T14:46:47.641815Z",
     "iopub.status.busy": "2023-05-06T14:46:47.641396Z",
     "iopub.status.idle": "2023-05-06T14:46:47.649010Z",
     "shell.execute_reply": "2023-05-06T14:46:47.647763Z"
    },
    "papermill": {
     "duration": 0.055095,
     "end_time": "2023-05-06T14:46:47.651366",
     "exception": false,
     "start_time": "2023-05-06T14:46:47.596271",
     "status": "completed"
    },
    "tags": []
   },
   "outputs": [
    {
     "data": {
      "text/plain": [
       "'12'"
      ]
     },
     "execution_count": 64,
     "metadata": {},
     "output_type": "execute_result"
    }
   ],
   "source": [
    "files[8].split('/')[-1].strip('.docx').split('Ch ')[-1]"
   ]
  },
  {
   "cell_type": "code",
   "execution_count": 65,
   "id": "62a427a3",
   "metadata": {
    "execution": {
     "iopub.execute_input": "2023-05-06T14:46:47.739670Z",
     "iopub.status.busy": "2023-05-06T14:46:47.738466Z",
     "iopub.status.idle": "2023-05-06T14:46:47.748186Z",
     "shell.execute_reply": "2023-05-06T14:46:47.747009Z"
    },
    "papermill": {
     "duration": 0.055545,
     "end_time": "2023-05-06T14:46:47.750544",
     "exception": false,
     "start_time": "2023-05-06T14:46:47.694999",
     "status": "completed"
    },
    "tags": []
   },
   "outputs": [],
   "source": [
    "def extract_introbiz_questions(files, book):\n",
    "    rows = []\n",
    "#     book = 'Introduction to Business'\n",
    "    for file in files:\n",
    "        text = docx2txt.process(file)\n",
    "        start = re.search(\"\\nTo answer a particular question\", text).start()\n",
    "        access_for_free = text[start:] #here not all are the same\n",
    "        text = text.strip(access_for_free)\n",
    "        review_questions = re.findall('Review Questions(.*?)\\n[1-9]', text, re.DOTALL)\n",
    "        for i, qs in enumerate(review_questions):\n",
    "            filename = file.split('/')[-1]\n",
    "            section_title = re.sub(r\"\\.docx$\", \"\", filename)\n",
    "            chapter = section_title.split('Ch ')[-1]\n",
    "            for q in qs.split('\\n\\n'):\n",
    "                if len(q) == 0:\n",
    "                    continue\n",
    "                row = dict()\n",
    "                row['Book'] = book\n",
    "                row['Chapter'] = chapter\n",
    "                row['section_title'] = section_title\n",
    "                row['is_question'] = True\n",
    "                row['text'] = q\n",
    "#                 row['section'] = str(chapter).strip('0') + \".\" + str(i + 1)/\n",
    "                rows.append(row)\n",
    "    return rows"
   ]
  },
  {
   "cell_type": "code",
   "execution_count": 66,
   "id": "d886364c",
   "metadata": {
    "execution": {
     "iopub.execute_input": "2023-05-06T14:46:47.840811Z",
     "iopub.status.busy": "2023-05-06T14:46:47.840319Z",
     "iopub.status.idle": "2023-05-06T14:46:48.771204Z",
     "shell.execute_reply": "2023-05-06T14:46:48.769939Z"
    },
    "papermill": {
     "duration": 0.976827,
     "end_time": "2023-05-06T14:46:48.774064",
     "exception": false,
     "start_time": "2023-05-06T14:46:47.797237",
     "status": "completed"
    },
    "tags": []
   },
   "outputs": [
    {
     "data": {
      "text/html": [
       "<div>\n",
       "<style scoped>\n",
       "    .dataframe tbody tr th:only-of-type {\n",
       "        vertical-align: middle;\n",
       "    }\n",
       "\n",
       "    .dataframe tbody tr th {\n",
       "        vertical-align: top;\n",
       "    }\n",
       "\n",
       "    .dataframe thead th {\n",
       "        text-align: right;\n",
       "    }\n",
       "</style>\n",
       "<table border=\"1\" class=\"dataframe\">\n",
       "  <thead>\n",
       "    <tr style=\"text-align: right;\">\n",
       "      <th></th>\n",
       "      <th>Book</th>\n",
       "      <th>Chapter</th>\n",
       "      <th>section_title</th>\n",
       "      <th>is_question</th>\n",
       "      <th>text</th>\n",
       "    </tr>\n",
       "  </thead>\n",
       "  <tbody>\n",
       "    <tr>\n",
       "      <th>1141</th>\n",
       "      <td>Introduction to Business</td>\n",
       "      <td>14</td>\n",
       "      <td>Introduction to Business Review Questions Ch 14</td>\n",
       "      <td>True</td>\n",
       "      <td>What are the two types of financial reports?</td>\n",
       "    </tr>\n",
       "    <tr>\n",
       "      <th>1176</th>\n",
       "      <td>Introduction to Business</td>\n",
       "      <td>14</td>\n",
       "      <td>Introduction to Business Review Questions Ch 14</td>\n",
       "      <td>True</td>\n",
       "      <td>What are the seps involved in finding net prof...</td>\n",
       "    </tr>\n",
       "    <tr>\n",
       "      <th>302</th>\n",
       "      <td>Introduction to Business</td>\n",
       "      <td>07</td>\n",
       "      <td>Introduction to Business Review Questions Ch 07</td>\n",
       "      <td>True</td>\n",
       "      <td>Who are problem-solving teams made up of?</td>\n",
       "    </tr>\n",
       "    <tr>\n",
       "      <th>103</th>\n",
       "      <td>Introduction to Business</td>\n",
       "      <td>05</td>\n",
       "      <td>Introduction to Business Review Questions Ch 05</td>\n",
       "      <td>True</td>\n",
       "      <td>How many people do most established small busi...</td>\n",
       "    </tr>\n",
       "    <tr>\n",
       "      <th>170</th>\n",
       "      <td>Introduction to Business</td>\n",
       "      <td>06</td>\n",
       "      <td>Introduction to Business Review Questions Ch 06</td>\n",
       "      <td>True</td>\n",
       "      <td>Why is it important for organizations to antic...</td>\n",
       "    </tr>\n",
       "    <tr>\n",
       "      <th>844</th>\n",
       "      <td>Introduction to Business</td>\n",
       "      <td>11</td>\n",
       "      <td>Introduction to Business Review Questions Ch 11</td>\n",
       "      <td>True</td>\n",
       "      <td>Shopping Product</td>\n",
       "    </tr>\n",
       "    <tr>\n",
       "      <th>1661</th>\n",
       "      <td>Introduction to Business</td>\n",
       "      <td>03</td>\n",
       "      <td>Introduction to BusinessReviewQuestionsCh 03</td>\n",
       "      <td>True</td>\n",
       "      <td>Define the following terms:</td>\n",
       "    </tr>\n",
       "    <tr>\n",
       "      <th>15</th>\n",
       "      <td>Introduction to Business</td>\n",
       "      <td>04</td>\n",
       "      <td>Introduction to Business Review Questions Ch 04</td>\n",
       "      <td>True</td>\n",
       "      <td>Before forming a partnership, what disadvantag...</td>\n",
       "    </tr>\n",
       "    <tr>\n",
       "      <th>383</th>\n",
       "      <td>Introduction to Business</td>\n",
       "      <td>08</td>\n",
       "      <td>Introduction to Business Review Questions Ch 08</td>\n",
       "      <td>True</td>\n",
       "      <td>Why is it important for applicants to carefull...</td>\n",
       "    </tr>\n",
       "    <tr>\n",
       "      <th>1644</th>\n",
       "      <td>Introduction to Business</td>\n",
       "      <td>03</td>\n",
       "      <td>Introduction to BusinessReviewQuestionsCh 03</td>\n",
       "      <td>True</td>\n",
       "      <td>What is a bilateral trade agreement?</td>\n",
       "    </tr>\n",
       "  </tbody>\n",
       "</table>\n",
       "</div>"
      ],
      "text/plain": [
       "                          Book Chapter  \\\n",
       "1141  Introduction to Business      14   \n",
       "1176  Introduction to Business      14   \n",
       "302   Introduction to Business      07   \n",
       "103   Introduction to Business      05   \n",
       "170   Introduction to Business      06   \n",
       "844   Introduction to Business      11   \n",
       "1661  Introduction to Business      03   \n",
       "15    Introduction to Business      04   \n",
       "383   Introduction to Business      08   \n",
       "1644  Introduction to Business      03   \n",
       "\n",
       "                                        section_title  is_question  \\\n",
       "1141  Introduction to Business Review Questions Ch 14         True   \n",
       "1176  Introduction to Business Review Questions Ch 14         True   \n",
       "302   Introduction to Business Review Questions Ch 07         True   \n",
       "103   Introduction to Business Review Questions Ch 05         True   \n",
       "170   Introduction to Business Review Questions Ch 06         True   \n",
       "844   Introduction to Business Review Questions Ch 11         True   \n",
       "1661     Introduction to BusinessReviewQuestionsCh 03         True   \n",
       "15    Introduction to Business Review Questions Ch 04         True   \n",
       "383   Introduction to Business Review Questions Ch 08         True   \n",
       "1644     Introduction to BusinessReviewQuestionsCh 03         True   \n",
       "\n",
       "                                                   text  \n",
       "1141       What are the two types of financial reports?  \n",
       "1176  What are the seps involved in finding net prof...  \n",
       "302           Who are problem-solving teams made up of?  \n",
       "103   How many people do most established small busi...  \n",
       "170   Why is it important for organizations to antic...  \n",
       "844                                    Shopping Product  \n",
       "1661                        Define the following terms:  \n",
       "15    Before forming a partnership, what disadvantag...  \n",
       "383   Why is it important for applicants to carefull...  \n",
       "1644               What is a bilateral trade agreement?  "
      ]
     },
     "execution_count": 66,
     "metadata": {},
     "output_type": "execute_result"
    }
   ],
   "source": [
    "pd.DataFrame(extract_introbiz_questions(files, book)).to_parquet('intro2biz_review_questions.pq')\n",
    "pd.DataFrame(extract_introbiz_questions(files, book)).sample(10)"
   ]
  },
  {
   "cell_type": "markdown",
   "id": "9a4953d5",
   "metadata": {
    "papermill": {
     "duration": 0.041438,
     "end_time": "2023-05-06T14:46:48.858014",
     "exception": false,
     "start_time": "2023-05-06T14:46:48.816576",
     "status": "completed"
    },
    "tags": []
   },
   "source": [
    "# Intro2Biz Testbank\n",
    "- this one even has a testbank\n"
   ]
  },
  {
   "cell_type": "code",
   "execution_count": 67,
   "id": "cfd8702d",
   "metadata": {
    "execution": {
     "iopub.execute_input": "2023-05-06T14:46:48.948455Z",
     "iopub.status.busy": "2023-05-06T14:46:48.947898Z",
     "iopub.status.idle": "2023-05-06T14:46:48.955846Z",
     "shell.execute_reply": "2023-05-06T14:46:48.954927Z"
    },
    "papermill": {
     "duration": 0.055481,
     "end_time": "2023-05-06T14:46:48.958051",
     "exception": false,
     "start_time": "2023-05-06T14:46:48.902570",
     "status": "completed"
    },
    "tags": []
   },
   "outputs": [
    {
     "data": {
      "text/plain": [
       "'/kaggle/input/csnlp-datasets/openstax/openstax/Introduction_to_Business_Review_Questions/Review Questions/Introduction to Business Review Questions Ch 06.docx'"
      ]
     },
     "execution_count": 67,
     "metadata": {},
     "output_type": "execute_result"
    }
   ],
   "source": [
    "files[2]"
   ]
  },
  {
   "cell_type": "code",
   "execution_count": 68,
   "id": "71af2da9",
   "metadata": {
    "execution": {
     "iopub.execute_input": "2023-05-06T14:46:49.046795Z",
     "iopub.status.busy": "2023-05-06T14:46:49.045736Z",
     "iopub.status.idle": "2023-05-06T14:46:49.123095Z",
     "shell.execute_reply": "2023-05-06T14:46:49.121889Z"
    },
    "papermill": {
     "duration": 0.124315,
     "end_time": "2023-05-06T14:46:49.125845",
     "exception": false,
     "start_time": "2023-05-06T14:46:49.001530",
     "status": "completed"
    },
    "tags": []
   },
   "outputs": [],
   "source": [
    "files = sorted(glob('/kaggle/input/csnlp-datasets/openstax/openstax/IntroductiontoBusiness-Test_Bank/Test Bank/*.docx'))\n",
    "text = docx2txt.process(files[2])\n",
    "# text"
   ]
  },
  {
   "cell_type": "code",
   "execution_count": 69,
   "id": "f77bce26",
   "metadata": {
    "execution": {
     "iopub.execute_input": "2023-05-06T14:46:49.216702Z",
     "iopub.status.busy": "2023-05-06T14:46:49.215586Z",
     "iopub.status.idle": "2023-05-06T14:46:49.222772Z",
     "shell.execute_reply": "2023-05-06T14:46:49.221942Z"
    },
    "papermill": {
     "duration": 0.054218,
     "end_time": "2023-05-06T14:46:49.224702",
     "exception": false,
     "start_time": "2023-05-06T14:46:49.170484",
     "status": "completed"
    },
    "tags": []
   },
   "outputs": [],
   "source": [
    "def extract_biztb(files, book):\n",
    "    rows = []\n",
    "    for file in files:\n",
    "        filename = file.split('/')[-1].strip('.docx')\n",
    "        chapter = filename.split('-')[-1].strip('Ch')\n",
    "        questions = re.findall('[1-9]\\.(.*)\\n', text)\n",
    "        for q in questions:\n",
    "            if 'OpenStax' in q:\n",
    "                continue\n",
    "            row = dict()\n",
    "            row['Book'] = book\n",
    "            row['Chapter'] = chapter\n",
    "            row['text'] = q\n",
    "            row['is_question'] = True\n",
    "            rows.append(row)\n",
    "    return rows"
   ]
  },
  {
   "cell_type": "code",
   "execution_count": 70,
   "id": "aa2a3708",
   "metadata": {
    "execution": {
     "iopub.execute_input": "2023-05-06T14:46:49.314245Z",
     "iopub.status.busy": "2023-05-06T14:46:49.313144Z",
     "iopub.status.idle": "2023-05-06T14:46:49.332538Z",
     "shell.execute_reply": "2023-05-06T14:46:49.331651Z"
    },
    "papermill": {
     "duration": 0.065652,
     "end_time": "2023-05-06T14:46:49.334943",
     "exception": false,
     "start_time": "2023-05-06T14:46:49.269291",
     "status": "completed"
    },
    "tags": []
   },
   "outputs": [],
   "source": [
    "pd.DataFrame(extract_biztb(files, book)).to_parquet('intro2biz_testbank.pq')"
   ]
  },
  {
   "cell_type": "code",
   "execution_count": 71,
   "id": "582f5da3",
   "metadata": {
    "execution": {
     "iopub.execute_input": "2023-05-06T14:46:49.421446Z",
     "iopub.status.busy": "2023-05-06T14:46:49.420806Z",
     "iopub.status.idle": "2023-05-06T14:46:49.441919Z",
     "shell.execute_reply": "2023-05-06T14:46:49.441152Z"
    },
    "papermill": {
     "duration": 0.066127,
     "end_time": "2023-05-06T14:46:49.444083",
     "exception": false,
     "start_time": "2023-05-06T14:46:49.377956",
     "status": "completed"
    },
    "tags": []
   },
   "outputs": [
    {
     "data": {
      "text/html": [
       "<div>\n",
       "<style scoped>\n",
       "    .dataframe tbody tr th:only-of-type {\n",
       "        vertical-align: middle;\n",
       "    }\n",
       "\n",
       "    .dataframe tbody tr th {\n",
       "        vertical-align: top;\n",
       "    }\n",
       "\n",
       "    .dataframe thead th {\n",
       "        text-align: right;\n",
       "    }\n",
       "</style>\n",
       "<table border=\"1\" class=\"dataframe\">\n",
       "  <thead>\n",
       "    <tr style=\"text-align: right;\">\n",
       "      <th></th>\n",
       "      <th>Book</th>\n",
       "      <th>Chapter</th>\n",
       "      <th>text</th>\n",
       "      <th>is_question</th>\n",
       "    </tr>\n",
       "  </thead>\n",
       "  <tbody>\n",
       "    <tr>\n",
       "      <th>955</th>\n",
       "      <td>Introduction to Business</td>\n",
       "      <td>11</td>\n",
       "      <td>Which of the following statements about utili...</td>\n",
       "      <td>True</td>\n",
       "    </tr>\n",
       "    <tr>\n",
       "      <th>827</th>\n",
       "      <td>Introduction to Business</td>\n",
       "      <td>09</td>\n",
       "      <td>Strategic giving:</td>\n",
       "      <td>True</td>\n",
       "    </tr>\n",
       "    <tr>\n",
       "      <th>1276</th>\n",
       "      <td>Introduction to Business</td>\n",
       "      <td>15</td>\n",
       "      <td>Human rights include an individual’s right to...</td>\n",
       "      <td>True</td>\n",
       "    </tr>\n",
       "    <tr>\n",
       "      <th>447</th>\n",
       "      <td>Introduction to Business</td>\n",
       "      <td>05</td>\n",
       "      <td>Mamma's Diner was a small restaurant that was...</td>\n",
       "      <td>True</td>\n",
       "    </tr>\n",
       "    <tr>\n",
       "      <th>719</th>\n",
       "      <td>Introduction to Business</td>\n",
       "      <td>08</td>\n",
       "      <td>At the base of the corporate social responsib...</td>\n",
       "      <td>True</td>\n",
       "    </tr>\n",
       "    <tr>\n",
       "      <th>688</th>\n",
       "      <td>Introduction to Business</td>\n",
       "      <td>08</td>\n",
       "      <td>Social responsibility is a voluntary obligation.</td>\n",
       "      <td>True</td>\n",
       "    </tr>\n",
       "    <tr>\n",
       "      <th>414</th>\n",
       "      <td>Introduction to Business</td>\n",
       "      <td>04</td>\n",
       "      <td>The lowest level on the pyramid of social res...</td>\n",
       "      <td>True</td>\n",
       "    </tr>\n",
       "    <tr>\n",
       "      <th>889</th>\n",
       "      <td>Introduction to Business</td>\n",
       "      <td>10</td>\n",
       "      <td>At the base of the corporate social responsib...</td>\n",
       "      <td>True</td>\n",
       "    </tr>\n",
       "    <tr>\n",
       "      <th>761</th>\n",
       "      <td>Introduction to Business</td>\n",
       "      <td>08</td>\n",
       "      <td>According to Peter Drucker, what are the basi...</td>\n",
       "      <td>True</td>\n",
       "    </tr>\n",
       "    <tr>\n",
       "      <th>1202</th>\n",
       "      <td>Introduction to Business</td>\n",
       "      <td>14</td>\n",
       "      <td>It is a firm's responsibility to its customer...</td>\n",
       "      <td>True</td>\n",
       "    </tr>\n",
       "  </tbody>\n",
       "</table>\n",
       "</div>"
      ],
      "text/plain": [
       "                          Book Chapter  \\\n",
       "955   Introduction to Business      11   \n",
       "827   Introduction to Business      09   \n",
       "1276  Introduction to Business      15   \n",
       "447   Introduction to Business      05   \n",
       "719   Introduction to Business      08   \n",
       "688   Introduction to Business      08   \n",
       "414   Introduction to Business      04   \n",
       "889   Introduction to Business      10   \n",
       "761   Introduction to Business      08   \n",
       "1202  Introduction to Business      14   \n",
       "\n",
       "                                                   text  is_question  \n",
       "955    Which of the following statements about utili...         True  \n",
       "827                                   Strategic giving:         True  \n",
       "1276   Human rights include an individual’s right to...         True  \n",
       "447    Mamma's Diner was a small restaurant that was...         True  \n",
       "719    At the base of the corporate social responsib...         True  \n",
       "688    Social responsibility is a voluntary obligation.         True  \n",
       "414    The lowest level on the pyramid of social res...         True  \n",
       "889    At the base of the corporate social responsib...         True  \n",
       "761    According to Peter Drucker, what are the basi...         True  \n",
       "1202   It is a firm's responsibility to its customer...         True  "
      ]
     },
     "execution_count": 71,
     "metadata": {},
     "output_type": "execute_result"
    }
   ],
   "source": [
    "pd.DataFrame(extract_biztb(files, book)).sample(10)"
   ]
  },
  {
   "cell_type": "markdown",
   "id": "d8da07d9",
   "metadata": {
    "papermill": {
     "duration": 0.043596,
     "end_time": "2023-05-06T14:46:49.531817",
     "exception": false,
     "start_time": "2023-05-06T14:46:49.488221",
     "status": "completed"
    },
    "tags": []
   },
   "source": [
    "# Introduction to Business Statistics\n",
    "- Questions are directly in text, some are quantitative linked to tables. Unsure how to process this\n",
    "- Good Questions are in Homework and Instructor Solutions manual, however, would need clean the text first I presume"
   ]
  },
  {
   "cell_type": "code",
   "execution_count": 72,
   "id": "69695b7d",
   "metadata": {
    "execution": {
     "iopub.execute_input": "2023-05-06T14:46:49.621084Z",
     "iopub.status.busy": "2023-05-06T14:46:49.620338Z",
     "iopub.status.idle": "2023-05-06T14:46:49.691170Z",
     "shell.execute_reply": "2023-05-06T14:46:49.690224Z"
    },
    "papermill": {
     "duration": 0.117877,
     "end_time": "2023-05-06T14:46:49.693764",
     "exception": false,
     "start_time": "2023-05-06T14:46:49.575887",
     "status": "completed"
    },
    "tags": []
   },
   "outputs": [],
   "source": [
    "files = sorted(glob('/kaggle/input/csnlp-datasets/openstax/openstax/Introductory-Business-Statistics_Docx-customization/Introductory-Business-Statistics_Docx-customization/*.docx'))\n",
    "text = docx2txt.process(files[2])\n",
    "book = 'Business Statistics'"
   ]
  },
  {
   "cell_type": "code",
   "execution_count": 73,
   "id": "ad0b9779",
   "metadata": {
    "execution": {
     "iopub.execute_input": "2023-05-06T14:46:49.783280Z",
     "iopub.status.busy": "2023-05-06T14:46:49.782029Z",
     "iopub.status.idle": "2023-05-06T14:46:49.790830Z",
     "shell.execute_reply": "2023-05-06T14:46:49.790041Z"
    },
    "papermill": {
     "duration": 0.055633,
     "end_time": "2023-05-06T14:46:49.793041",
     "exception": false,
     "start_time": "2023-05-06T14:46:49.737408",
     "status": "completed"
    },
    "tags": []
   },
   "outputs": [],
   "source": [
    "def extract_biz_stats(files, book):\n",
    "    \n",
    "    rows = []\n",
    "    skip = ['homework', 'practice', 'references', 'solutions', 'key-terms', 'index', 'preface']\n",
    "    for file in files:\n",
    "        filename = file.split('/')[-1].strip('.docx')\n",
    "        if any([s for s in skip if s in filename]):\n",
    "            continue\n",
    "        else:\n",
    "            text = docx2txt.process(file)\n",
    "            start = re.search(\"\\n\\nAccess\", text).start()\n",
    "            text = text[:start]\n",
    "            chapter = filename.split('-')[0]\n",
    "            row = dict()\n",
    "            row['Book'] = book\n",
    "            row['Chapter'] = chapter\n",
    "            row['section_title'] = filename\n",
    "            row['text'] = text\n",
    "            row['is_question'] = False\n",
    "            rows.append(row)\n",
    "    return rows"
   ]
  },
  {
   "cell_type": "code",
   "execution_count": 74,
   "id": "649b5c78",
   "metadata": {
    "execution": {
     "iopub.execute_input": "2023-05-06T14:46:49.882875Z",
     "iopub.status.busy": "2023-05-06T14:46:49.882047Z",
     "iopub.status.idle": "2023-05-06T14:46:52.896878Z",
     "shell.execute_reply": "2023-05-06T14:46:52.895658Z"
    },
    "papermill": {
     "duration": 3.063433,
     "end_time": "2023-05-06T14:46:52.899554",
     "exception": false,
     "start_time": "2023-05-06T14:46:49.836121",
     "status": "completed"
    },
    "tags": []
   },
   "outputs": [
    {
     "data": {
      "text/html": [
       "<div>\n",
       "<style scoped>\n",
       "    .dataframe tbody tr th:only-of-type {\n",
       "        vertical-align: middle;\n",
       "    }\n",
       "\n",
       "    .dataframe tbody tr th {\n",
       "        vertical-align: top;\n",
       "    }\n",
       "\n",
       "    .dataframe thead th {\n",
       "        text-align: right;\n",
       "    }\n",
       "</style>\n",
       "<table border=\"1\" class=\"dataframe\">\n",
       "  <thead>\n",
       "    <tr style=\"text-align: right;\">\n",
       "      <th></th>\n",
       "      <th>Book</th>\n",
       "      <th>Chapter</th>\n",
       "      <th>section_title</th>\n",
       "      <th>text</th>\n",
       "      <th>is_question</th>\n",
       "    </tr>\n",
       "  </thead>\n",
       "  <tbody>\n",
       "    <tr>\n",
       "      <th>38</th>\n",
       "      <td>Business Statistics</td>\n",
       "      <td>13</td>\n",
       "      <td>13-introduction</td>\n",
       "      <td>Figure  13.1   Linear regression and correlati...</td>\n",
       "      <td>False</td>\n",
       "    </tr>\n",
       "    <tr>\n",
       "      <th>55</th>\n",
       "      <td>Business Statistics</td>\n",
       "      <td>3</td>\n",
       "      <td>3-formula-review</td>\n",
       "      <td>Formula Review\\n\\n\\n\\n3.1   Terminology\\n\\nA a...</td>\n",
       "      <td>False</td>\n",
       "    </tr>\n",
       "    <tr>\n",
       "      <th>63</th>\n",
       "      <td>Business Statistics</td>\n",
       "      <td>4</td>\n",
       "      <td>4-introduction</td>\n",
       "      <td>Figure  4.1   You can use probability and disc...</td>\n",
       "      <td>False</td>\n",
       "    </tr>\n",
       "    <tr>\n",
       "      <th>75</th>\n",
       "      <td>Business Statistics</td>\n",
       "      <td>6</td>\n",
       "      <td>6-introduction</td>\n",
       "      <td>Figure  6.1   If you ask enough people about t...</td>\n",
       "      <td>False</td>\n",
       "    </tr>\n",
       "    <tr>\n",
       "      <th>98</th>\n",
       "      <td>Business Statistics</td>\n",
       "      <td>b</td>\n",
       "      <td>b-mathematical-phrases-symbols-and-formulas</td>\n",
       "      <td>Appendix  B   Mathematical Phrases, Symbols, a...</td>\n",
       "      <td>False</td>\n",
       "    </tr>\n",
       "    <tr>\n",
       "      <th>60</th>\n",
       "      <td>Business Statistics</td>\n",
       "      <td>4</td>\n",
       "      <td>4-4-poisson-distribution</td>\n",
       "      <td>4.4   Poisson Distribution\\n\\nAnother useful p...</td>\n",
       "      <td>False</td>\n",
       "    </tr>\n",
       "    <tr>\n",
       "      <th>76</th>\n",
       "      <td>Business Statistics</td>\n",
       "      <td>7</td>\n",
       "      <td>7-1-the-central-limit-theorem-for-sample-means</td>\n",
       "      <td>7.1   The Central Limit Theorem for Sample Mea...</td>\n",
       "      <td>False</td>\n",
       "    </tr>\n",
       "    <tr>\n",
       "      <th>80</th>\n",
       "      <td>Business Statistics</td>\n",
       "      <td>7</td>\n",
       "      <td>7-chapter-review</td>\n",
       "      <td>Chapter Review\\n\\n\\n\\n7.1   The Central Limit ...</td>\n",
       "      <td>False</td>\n",
       "    </tr>\n",
       "    <tr>\n",
       "      <th>3</th>\n",
       "      <td>Business Statistics</td>\n",
       "      <td>1</td>\n",
       "      <td>1-chapter-review</td>\n",
       "      <td>Chapter Review\\n\\n\\n\\n1.1   Definitions of Sta...</td>\n",
       "      <td>False</td>\n",
       "    </tr>\n",
       "    <tr>\n",
       "      <th>34</th>\n",
       "      <td>Business Statistics</td>\n",
       "      <td>13</td>\n",
       "      <td>13-5-interpretation-of-regression-coefficients...</td>\n",
       "      <td>13.5   Interpretation of Regression Coefficien...</td>\n",
       "      <td>False</td>\n",
       "    </tr>\n",
       "  </tbody>\n",
       "</table>\n",
       "</div>"
      ],
      "text/plain": [
       "                   Book Chapter  \\\n",
       "38  Business Statistics      13   \n",
       "55  Business Statistics       3   \n",
       "63  Business Statistics       4   \n",
       "75  Business Statistics       6   \n",
       "98  Business Statistics       b   \n",
       "60  Business Statistics       4   \n",
       "76  Business Statistics       7   \n",
       "80  Business Statistics       7   \n",
       "3   Business Statistics       1   \n",
       "34  Business Statistics      13   \n",
       "\n",
       "                                        section_title  \\\n",
       "38                                    13-introduction   \n",
       "55                                   3-formula-review   \n",
       "63                                     4-introduction   \n",
       "75                                     6-introduction   \n",
       "98        b-mathematical-phrases-symbols-and-formulas   \n",
       "60                           4-4-poisson-distribution   \n",
       "76     7-1-the-central-limit-theorem-for-sample-means   \n",
       "80                                   7-chapter-review   \n",
       "3                                    1-chapter-review   \n",
       "34  13-5-interpretation-of-regression-coefficients...   \n",
       "\n",
       "                                                 text  is_question  \n",
       "38  Figure  13.1   Linear regression and correlati...        False  \n",
       "55  Formula Review\\n\\n\\n\\n3.1   Terminology\\n\\nA a...        False  \n",
       "63  Figure  4.1   You can use probability and disc...        False  \n",
       "75  Figure  6.1   If you ask enough people about t...        False  \n",
       "98  Appendix  B   Mathematical Phrases, Symbols, a...        False  \n",
       "60  4.4   Poisson Distribution\\n\\nAnother useful p...        False  \n",
       "76  7.1   The Central Limit Theorem for Sample Mea...        False  \n",
       "80  Chapter Review\\n\\n\\n\\n7.1   The Central Limit ...        False  \n",
       "3   Chapter Review\\n\\n\\n\\n1.1   Definitions of Sta...        False  \n",
       "34  13.5   Interpretation of Regression Coefficien...        False  "
      ]
     },
     "execution_count": 74,
     "metadata": {},
     "output_type": "execute_result"
    }
   ],
   "source": [
    "pd.DataFrame(extract_biz_stats(files, book)).to_parquet('bizstatistics_texts.pq')\n",
    "pd.DataFrame(extract_biz_stats(files, book)).sample(10)"
   ]
  },
  {
   "cell_type": "markdown",
   "id": "a0e39e03",
   "metadata": {
    "papermill": {
     "duration": 0.04437,
     "end_time": "2023-05-06T14:46:52.989260",
     "exception": false,
     "start_time": "2023-05-06T14:46:52.944890",
     "status": "completed"
    },
    "tags": []
   },
   "source": [
    "# Biz Stats Instructor Answers Guide\n",
    "- Basically all Question and Answer pairs\n",
    "- very well organized\n",
    "- Chapter 12 has empty exercises (also in files) it's probably incomplete, should remove\n"
   ]
  },
  {
   "cell_type": "code",
   "execution_count": 75,
   "id": "eb01f709",
   "metadata": {
    "execution": {
     "iopub.execute_input": "2023-05-06T14:46:53.078826Z",
     "iopub.status.busy": "2023-05-06T14:46:53.077774Z",
     "iopub.status.idle": "2023-05-06T14:46:53.500241Z",
     "shell.execute_reply": "2023-05-06T14:46:53.499215Z"
    },
    "papermill": {
     "duration": 0.470755,
     "end_time": "2023-05-06T14:46:53.502867",
     "exception": false,
     "start_time": "2023-05-06T14:46:53.032112",
     "status": "completed"
    },
    "tags": []
   },
   "outputs": [],
   "source": [
    "files = sorted(glob('/kaggle/input/csnlp-datasets/openstax/openstax/Introductory_Business_Statistics_Instructor_Answer_Guide_WCI1hPS/Introductory Business Statistics Instructor Answer Guide/*.docx'))\n",
    "text = docx2txt.process(files[2])\n",
    "# text"
   ]
  },
  {
   "cell_type": "code",
   "execution_count": 76,
   "id": "5d8f76ec",
   "metadata": {
    "execution": {
     "iopub.execute_input": "2023-05-06T14:46:53.593576Z",
     "iopub.status.busy": "2023-05-06T14:46:53.592855Z",
     "iopub.status.idle": "2023-05-06T14:46:53.599844Z",
     "shell.execute_reply": "2023-05-06T14:46:53.598686Z"
    },
    "papermill": {
     "duration": 0.053977,
     "end_time": "2023-05-06T14:46:53.601981",
     "exception": false,
     "start_time": "2023-05-06T14:46:53.548004",
     "status": "completed"
    },
    "tags": []
   },
   "outputs": [
    {
     "data": {
      "text/plain": [
       "81780"
      ]
     },
     "execution_count": 76,
     "metadata": {},
     "output_type": "execute_result"
    }
   ],
   "source": [
    "re.search(\"\\nCopyright\", text).start()"
   ]
  },
  {
   "cell_type": "code",
   "execution_count": 77,
   "id": "461d3860",
   "metadata": {
    "execution": {
     "iopub.execute_input": "2023-05-06T14:46:53.691764Z",
     "iopub.status.busy": "2023-05-06T14:46:53.690835Z",
     "iopub.status.idle": "2023-05-06T14:46:53.697033Z",
     "shell.execute_reply": "2023-05-06T14:46:53.696332Z"
    },
    "papermill": {
     "duration": 0.052965,
     "end_time": "2023-05-06T14:46:53.699012",
     "exception": false,
     "start_time": "2023-05-06T14:46:53.646047",
     "status": "completed"
    },
    "tags": []
   },
   "outputs": [
    {
     "data": {
      "text/plain": [
       "'01'"
      ]
     },
     "execution_count": 77,
     "metadata": {},
     "output_type": "execute_result"
    }
   ],
   "source": [
    "files[0].split('/')[-1].strip('.docx').split('-')[-1].strip('Ch')"
   ]
  },
  {
   "cell_type": "code",
   "execution_count": 78,
   "id": "ef64544f",
   "metadata": {
    "execution": {
     "iopub.execute_input": "2023-05-06T14:46:53.788905Z",
     "iopub.status.busy": "2023-05-06T14:46:53.787904Z",
     "iopub.status.idle": "2023-05-06T14:46:53.795721Z",
     "shell.execute_reply": "2023-05-06T14:46:53.794987Z"
    },
    "papermill": {
     "duration": 0.054669,
     "end_time": "2023-05-06T14:46:53.797743",
     "exception": false,
     "start_time": "2023-05-06T14:46:53.743074",
     "status": "completed"
    },
    "tags": []
   },
   "outputs": [
    {
     "data": {
      "text/plain": [
       "'.\\n\\nA box is filled with several party favors. It contains 12 hats, 15 noisemakers, ten finger traps, and five bags of confetti. One party favor is chosen from the box at random.\\n\\nLet H = the event of getting a hat.\\n\\nLet N = the event of getting a noisemaker.\\n\\nLet F = the event of getting a finger trap.\\n\\nLet C = the event of getting a bag of confetti.\\n\\nFind P(H).'"
      ]
     },
     "execution_count": 78,
     "metadata": {},
     "output_type": "execute_result"
    }
   ],
   "source": [
    "re.findall('Exercise [1-9](.*?)\\n\\nSolution', text, re.DOTALL)[1]"
   ]
  },
  {
   "cell_type": "code",
   "execution_count": 79,
   "id": "07cdb76f",
   "metadata": {
    "execution": {
     "iopub.execute_input": "2023-05-06T14:46:53.893355Z",
     "iopub.status.busy": "2023-05-06T14:46:53.892497Z",
     "iopub.status.idle": "2023-05-06T14:46:53.901225Z",
     "shell.execute_reply": "2023-05-06T14:46:53.900070Z"
    },
    "papermill": {
     "duration": 0.061032,
     "end_time": "2023-05-06T14:46:53.903578",
     "exception": false,
     "start_time": "2023-05-06T14:46:53.842546",
     "status": "completed"
    },
    "tags": []
   },
   "outputs": [],
   "source": [
    "def extract_bizstats_questions(files, book):\n",
    "    print(f\"book: {book}\")\n",
    "    rows = []\n",
    "#     book = 'Business Statistics'\n",
    "    for file in files:\n",
    "        filename = file.split('/')[-1].strip('.docx')\n",
    "        text = docx2txt.process(file)\n",
    "        try:\n",
    "            start = re.search(\"\\nCopyright\", text).start()\n",
    "            text = text[:start]\n",
    "        except:\n",
    "            text = text\n",
    "        chapter = filename.split('-')[-1].strip('Ch')\n",
    "        questions = re.findall('Exercise [1-9](.*?)\\n\\nSolution', text, re.DOTALL)\n",
    "        for q in questions:\n",
    "            row = dict()\n",
    "            row['Book'] = book\n",
    "            row['Chapter'] = chapter\n",
    "            row['section_title'] = filename\n",
    "            row['text'] = q\n",
    "            row['is_question'] = True\n",
    "            rows.append(row)\n",
    "    return rows"
   ]
  },
  {
   "cell_type": "code",
   "execution_count": 80,
   "id": "3d3556ec",
   "metadata": {
    "execution": {
     "iopub.execute_input": "2023-05-06T14:46:53.997737Z",
     "iopub.status.busy": "2023-05-06T14:46:53.997289Z",
     "iopub.status.idle": "2023-05-06T14:46:57.263359Z",
     "shell.execute_reply": "2023-05-06T14:46:57.262218Z"
    },
    "papermill": {
     "duration": 3.315694,
     "end_time": "2023-05-06T14:46:57.266326",
     "exception": false,
     "start_time": "2023-05-06T14:46:53.950632",
     "status": "completed"
    },
    "tags": []
   },
   "outputs": [
    {
     "name": "stdout",
     "output_type": "stream",
     "text": [
      "book: Business Statistics\n"
     ]
    }
   ],
   "source": [
    "pd.DataFrame(extract_bizstats_questions(files, book)).to_parquet('bizstats_questions.pq')"
   ]
  },
  {
   "cell_type": "markdown",
   "id": "7b210a07",
   "metadata": {
    "papermill": {
     "duration": 0.046206,
     "end_time": "2023-05-06T14:46:57.356780",
     "exception": false,
     "start_time": "2023-05-06T14:46:57.310574",
     "status": "completed"
    },
    "tags": []
   },
   "source": [
    "# Organizational Behaviour\n",
    "- has one file with questions for each chapter \"review questions\"\n",
    "- has one \"critical thinking case\" for each chapter, with a case study and questions, (is the whole file a question or should split?)\n",
    "- some chapers have \"managerial decision exercises\" and \"managerial skills application exercises\" which are exercises and questions\n",
    "- every section has a \"concept check\" with 2 questions"
   ]
  },
  {
   "cell_type": "code",
   "execution_count": 81,
   "id": "228453d3",
   "metadata": {
    "execution": {
     "iopub.execute_input": "2023-05-06T14:46:57.448376Z",
     "iopub.status.busy": "2023-05-06T14:46:57.447979Z",
     "iopub.status.idle": "2023-05-06T14:46:57.454354Z",
     "shell.execute_reply": "2023-05-06T14:46:57.453238Z"
    },
    "papermill": {
     "duration": 0.054249,
     "end_time": "2023-05-06T14:46:57.456423",
     "exception": false,
     "start_time": "2023-05-06T14:46:57.402174",
     "status": "completed"
    },
    "tags": []
   },
   "outputs": [
    {
     "data": {
      "text/plain": [
       "'/kaggle/input/csnlp-datasets/openstax/openstax/Introductory_Business_Statistics_Instructor_Answer_Guide_WCI1hPS/Introductory Business Statistics Instructor Answer Guide/BusinessStatistics-IAG-Ch06.docx'"
      ]
     },
     "execution_count": 81,
     "metadata": {},
     "output_type": "execute_result"
    }
   ],
   "source": [
    "files[5]"
   ]
  },
  {
   "cell_type": "code",
   "execution_count": 82,
   "id": "f3881f2d",
   "metadata": {
    "execution": {
     "iopub.execute_input": "2023-05-06T14:46:57.542755Z",
     "iopub.status.busy": "2023-05-06T14:46:57.541989Z",
     "iopub.status.idle": "2023-05-06T14:46:57.601814Z",
     "shell.execute_reply": "2023-05-06T14:46:57.600845Z"
    },
    "papermill": {
     "duration": 0.106288,
     "end_time": "2023-05-06T14:46:57.604497",
     "exception": false,
     "start_time": "2023-05-06T14:46:57.498209",
     "status": "completed"
    },
    "tags": []
   },
   "outputs": [],
   "source": [
    "files = sorted(glob('/kaggle/input/csnlp-datasets/openstax/openstax/organizational-behavior/organizational-behavior/*.docx'))\n",
    "text = docx2txt.process(files[5])\n",
    "# text"
   ]
  },
  {
   "cell_type": "code",
   "execution_count": 83,
   "id": "8a366363",
   "metadata": {
    "execution": {
     "iopub.execute_input": "2023-05-06T14:46:57.693575Z",
     "iopub.status.busy": "2023-05-06T14:46:57.693165Z",
     "iopub.status.idle": "2023-05-06T14:46:57.697390Z",
     "shell.execute_reply": "2023-05-06T14:46:57.696642Z"
    },
    "papermill": {
     "duration": 0.050671,
     "end_time": "2023-05-06T14:46:57.699244",
     "exception": false,
     "start_time": "2023-05-06T14:46:57.648573",
     "status": "completed"
    },
    "tags": []
   },
   "outputs": [],
   "source": [
    "cq = re.findall('Critical Thinking Case\\n\\n(.*?)$', text, re.DOTALL)[0]\n",
    "# qs = re.findall('*?Questions\\n\\n(.*?)$', cq, re.DOTALL)#[0].split('\\n\\n')\n",
    "# cq"
   ]
  },
  {
   "cell_type": "code",
   "execution_count": 84,
   "id": "7170e88f",
   "metadata": {
    "execution": {
     "iopub.execute_input": "2023-05-06T14:46:57.790767Z",
     "iopub.status.busy": "2023-05-06T14:46:57.790000Z",
     "iopub.status.idle": "2023-05-06T14:46:57.796680Z",
     "shell.execute_reply": "2023-05-06T14:46:57.795724Z"
    },
    "papermill": {
     "duration": 0.055246,
     "end_time": "2023-05-06T14:46:57.798710",
     "exception": false,
     "start_time": "2023-05-06T14:46:57.743464",
     "status": "completed"
    },
    "tags": []
   },
   "outputs": [
    {
     "data": {
      "text/plain": [
       "['',\n",
       " 'How has the current cultural environment of our country shaped the way that companies are looking at their own corporate cultural standards?',\n",
       " 'What are the potential downfalls and positive influences of the “Netflix way”?',\n",
       " 'How does Netflix’s internal culture negatively or positively affect their ability to stay competitive and deliver cutting-edge content?',\n",
       " 'Sources: B. Stelter, “The Weinstein Effect: Harvey Weinstein scandal sparks movements in Hollywood and beyond,” CNN Business, October 20, 2017, https://money.cnn.com/2017/10/20/media/weinstein-effect-harvey-weinstein/; L. Hertzler, “Talking #MeToo, one year after bombshell Weinstein allegations,” Penn Today, October 30, 2018, https://penntoday.upenn.edu/news/talking-me-too-one-year-later; S. Ramachandaran and J. Flint, “At Netflix, Radical Transparency and Blunt Firings Unsettle the Ranks,” Wall Street Journal, October 25, 2018, https://www.wsj.com/articles/at-netflix-radical-transparency-and-blunt-firings-unsettle-the-ranks-1540497174.',\n",
       " 'Access for free at https://openstax.org']"
      ]
     },
     "execution_count": 84,
     "metadata": {},
     "output_type": "execute_result"
    }
   ],
   "source": [
    "cq[re.search('\\nQuestions:', cq, re.DOTALL).end():].split('\\n\\n')"
   ]
  },
  {
   "cell_type": "code",
   "execution_count": 85,
   "id": "dd0a6afd",
   "metadata": {
    "execution": {
     "iopub.execute_input": "2023-05-06T14:46:57.889754Z",
     "iopub.status.busy": "2023-05-06T14:46:57.889093Z",
     "iopub.status.idle": "2023-05-06T14:46:57.893044Z",
     "shell.execute_reply": "2023-05-06T14:46:57.892278Z"
    },
    "papermill": {
     "duration": 0.05253,
     "end_time": "2023-05-06T14:46:57.895152",
     "exception": false,
     "start_time": "2023-05-06T14:46:57.842622",
     "status": "completed"
    },
    "tags": []
   },
   "outputs": [],
   "source": [
    "# re.findall('Review Questions\\n\\n(.*?)$', text, re.DOTALL)[0].split('\\n\\n')\n",
    "# # re.findall('\\n\\n.*Questions\\n\\n(.*?)$', cq, re.DOTALL)[0].split('\\n\\n')\n",
    "BOOK = 'Organizational Behaviour'"
   ]
  },
  {
   "cell_type": "code",
   "execution_count": 86,
   "id": "684cd291",
   "metadata": {
    "execution": {
     "iopub.execute_input": "2023-05-06T14:46:57.987808Z",
     "iopub.status.busy": "2023-05-06T14:46:57.987409Z",
     "iopub.status.idle": "2023-05-06T14:46:58.011616Z",
     "shell.execute_reply": "2023-05-06T14:46:58.008954Z"
    },
    "papermill": {
     "duration": 0.074158,
     "end_time": "2023-05-06T14:46:58.015016",
     "exception": false,
     "start_time": "2023-05-06T14:46:57.940858",
     "status": "completed"
    },
    "tags": []
   },
   "outputs": [],
   "source": [
    "question_files = ['critical-thinking-case', 'questions', 'exercises']\n",
    "def extract_ob_tq(files, BOOK):\n",
    "    print(f\"book: {BOOK}\")\n",
    "    rows = []\n",
    "    for file in files:\n",
    "        row = dict()\n",
    "        text = docx2txt.process(file)\n",
    "        try:\n",
    "            start = re.search(\"\\nAccess for free\", text).start()\n",
    "            text = text[:start]\n",
    "        except:\n",
    "            text = text\n",
    "        filename = file.split('/')[-1]\n",
    "        section_title = re.sub(r\"\\.docx$\", \"\", filename)\n",
    "        chapter = filename.split('-')[0]\n",
    "        is_question = any(q for q in question_files if q in file)\n",
    "        if is_question:\n",
    "            if 'exercises' in filename and 'managerial' in filename:\n",
    "                qs = re.findall('Managerial Decision Exercises\\n(.*?)$', text, re.DOTALL)[0].split('\\n\\n')\n",
    "                for q in qs:\n",
    "                    row = dict()\n",
    "                    row['Book'] = BOOK\n",
    "                    row['Chapter'] = chapter\n",
    "                    row['section_title'] = section_title\n",
    "                    row['is_question'] = True\n",
    "                    row['text'] = q.strip('\\n\\n').strip('\\n')\n",
    "                    rows.append(row)\n",
    "            elif 'exercises' in filename and 'skills' in filename:\n",
    "                qs = re.findall('Management Skills Application Exercises\\n(.*?)$', text, re.DOTALL)[0].split('\\n\\n')\n",
    "                for q in qs:\n",
    "                    row = dict()\n",
    "                    row['Book'] = BOOK\n",
    "                    row['Chapter'] = chapter\n",
    "                    row['section_title'] = section_title\n",
    "                    row['is_question'] = True\n",
    "                    row['text'] = q.strip('\\n\\n').strip('\\n')\n",
    "                    rows.append(row)\n",
    "            elif 'critical-thinking-case' in filename:\n",
    "                try:\n",
    "                    cq = re.findall('Critical Thinking Case\\n\\n(.*?)$', text, re.DOTALL)[0]\n",
    "                    qs = re.findall('\\n\\n.*Questions\\n\\n(.*?)$', cq, re.DOTALL)[0].split('\\n\\n')\n",
    "#                     print(f\"success:{qs} \\n\\n {cq} \\n\\n\")\n",
    "                except:\n",
    "                    start = re.search('Questions:', cq).end()\n",
    "                    end = re.search('Sources:', cq).start()\n",
    "                    qs = cq[start:end].split('\\n\\n')\n",
    "#                     print(f\"Critical Thinking: {filename}\")\n",
    "                for q in qs:\n",
    "                    row = dict()\n",
    "                    row['Book'] = BOOK\n",
    "                    if len(q) == 0:\n",
    "                        continue\n",
    "                    row['Chapter'] = chapter\n",
    "                    row['section_title'] = section_title\n",
    "                    row['is_question'] = True\n",
    "                    row['text'] = q.strip('\\n\\n').strip('\\n')\n",
    "                    rows.append(row)\n",
    "                row = dict()\n",
    "                row['Book'] = BOOK\n",
    "                row['Chapter'] = chapter\n",
    "                row['section_title'] = section_title\n",
    "                row['is_question'] = False\n",
    "                row['text'] = q.strip('\\n\\n').strip('\\n')\n",
    "                rows.append(row)\n",
    "            # Last case review Questions\n",
    "            elif 'questions' in filename:\n",
    "                qs = re.findall('Review Questions\\n\\n(.*?)$', text, re.DOTALL)[0].split('\\n\\n')\n",
    "                for q in qs:\n",
    "                    row = dict()\n",
    "                    row['Book'] = BOOK\n",
    "                    row['Chapter'] = chapter\n",
    "                    row['section_title'] = section_title\n",
    "                    row['is_question'] = True\n",
    "                    row['text'] = q.strip('\\n\\n').strip('\\n')\n",
    "                    rows.append(row)\n",
    "            else:\n",
    "                print(f\"this file is missing: {filename}\")\n",
    "                continue\n",
    "        else:\n",
    "#             concepts = re.findall('Concept Check\\n\\n.*?$', text, re.DOTALL)[0].split('\\n\\n')[1:]\n",
    "            try:\n",
    "                start = re.search(\"\\nConcept Check\", text).start()\n",
    "                concepts = text[start:].split('\\n\\n')[1:]\n",
    "                text = text[:start]\n",
    "            except:\n",
    "                concepts = []\n",
    "            for concept in concepts:\n",
    "                row = dict()\n",
    "                row['Book'] = BOOK\n",
    "                row['Chapter'] = chapter\n",
    "                row['section_title'] = section_title\n",
    "                row['is_question'] = True\n",
    "                row['text'] = concept #text.strip('\\n\\n').strip('\\n')\n",
    "                rows.append(row)\n",
    "            row = dict()\n",
    "            row['Book'] = BOOK\n",
    "            row['Chapter'] = chapter\n",
    "            row['section_title'] = section_title\n",
    "            row['is_question'] = False\n",
    "            row['text'] = text.strip('\\n\\n').strip('\\n')\n",
    "            rows.append(row)\n",
    "    return rows"
   ]
  },
  {
   "cell_type": "code",
   "execution_count": 87,
   "id": "72fe1430",
   "metadata": {
    "execution": {
     "iopub.execute_input": "2023-05-06T14:46:58.113216Z",
     "iopub.status.busy": "2023-05-06T14:46:58.112478Z",
     "iopub.status.idle": "2023-05-06T14:47:00.603073Z",
     "shell.execute_reply": "2023-05-06T14:47:00.601444Z"
    },
    "papermill": {
     "duration": 2.538583,
     "end_time": "2023-05-06T14:47:00.605299",
     "exception": false,
     "start_time": "2023-05-06T14:46:58.066716",
     "status": "completed"
    },
    "tags": []
   },
   "outputs": [
    {
     "name": "stdout",
     "output_type": "stream",
     "text": [
      "book: Organizational Behaviour\n",
      "this file is missing: b-scoring-keys-for-self-assessment-exercises.docx\n"
     ]
    }
   ],
   "source": [
    "pd.DataFrame(extract_ob_tq(files, BOOK)).to_parquet('organizational_behaviour_tq.pq')"
   ]
  },
  {
   "cell_type": "markdown",
   "id": "9ff6b374",
   "metadata": {
    "papermill": {
     "duration": 0.044357,
     "end_time": "2023-05-06T14:47:00.694745",
     "exception": false,
     "start_time": "2023-05-06T14:47:00.650388",
     "status": "completed"
    },
    "tags": []
   },
   "source": [
    "# Organizational Behaviour Testbank\n",
    "\n",
    "-"
   ]
  },
  {
   "cell_type": "code",
   "execution_count": 88,
   "id": "a25ec90c",
   "metadata": {
    "execution": {
     "iopub.execute_input": "2023-05-06T14:47:00.786094Z",
     "iopub.status.busy": "2023-05-06T14:47:00.785033Z",
     "iopub.status.idle": "2023-05-06T14:47:00.819116Z",
     "shell.execute_reply": "2023-05-06T14:47:00.818216Z"
    },
    "papermill": {
     "duration": 0.082521,
     "end_time": "2023-05-06T14:47:00.821943",
     "exception": false,
     "start_time": "2023-05-06T14:47:00.739422",
     "status": "completed"
    },
    "tags": []
   },
   "outputs": [],
   "source": [
    "files = sorted(glob('/kaggle/input/csnlp-datasets/openstax/openstax/OrganizationalBehaviour-TestBank/OrgB-TestBank/*.docx'))\n",
    "text = docx2txt.process(files[0])\n",
    "# text"
   ]
  },
  {
   "cell_type": "code",
   "execution_count": 89,
   "id": "f890a3ca",
   "metadata": {
    "execution": {
     "iopub.execute_input": "2023-05-06T14:47:00.912924Z",
     "iopub.status.busy": "2023-05-06T14:47:00.911801Z",
     "iopub.status.idle": "2023-05-06T14:47:00.922294Z",
     "shell.execute_reply": "2023-05-06T14:47:00.921447Z"
    },
    "papermill": {
     "duration": 0.058418,
     "end_time": "2023-05-06T14:47:00.924686",
     "exception": false,
     "start_time": "2023-05-06T14:47:00.866268",
     "status": "completed"
    },
    "tags": []
   },
   "outputs": [],
   "source": [
    "tf = re.findall(r'LEARNING OUTCOME: [1-9](.*?)a\\. True', text, re.DOTALL)"
   ]
  },
  {
   "cell_type": "code",
   "execution_count": 90,
   "id": "ce8d5824",
   "metadata": {
    "execution": {
     "iopub.execute_input": "2023-05-06T14:47:01.012130Z",
     "iopub.status.busy": "2023-05-06T14:47:01.011749Z",
     "iopub.status.idle": "2023-05-06T14:47:01.016642Z",
     "shell.execute_reply": "2023-05-06T14:47:01.015667Z"
    },
    "papermill": {
     "duration": 0.050867,
     "end_time": "2023-05-06T14:47:01.018886",
     "exception": false,
     "start_time": "2023-05-06T14:47:00.968019",
     "status": "completed"
    },
    "tags": []
   },
   "outputs": [],
   "source": [
    "mcfb = re.findall(r'LEARNING OUTCOME:.*?E\\..*?\\n\\n', text, re.DOTALL)[1:]"
   ]
  },
  {
   "cell_type": "code",
   "execution_count": 91,
   "id": "3d3a6ad5",
   "metadata": {
    "execution": {
     "iopub.execute_input": "2023-05-06T14:47:01.107732Z",
     "iopub.status.busy": "2023-05-06T14:47:01.107342Z",
     "iopub.status.idle": "2023-05-06T14:47:01.114198Z",
     "shell.execute_reply": "2023-05-06T14:47:01.113186Z"
    },
    "papermill": {
     "duration": 0.055627,
     "end_time": "2023-05-06T14:47:01.116365",
     "exception": false,
     "start_time": "2023-05-06T14:47:01.060738",
     "status": "completed"
    },
    "tags": []
   },
   "outputs": [
    {
     "data": {
      "text/plain": [
       "'06'"
      ]
     },
     "execution_count": 91,
     "metadata": {},
     "output_type": "execute_result"
    }
   ],
   "source": [
    "files[5].split('/')[-1].strip('.docx').split(' ')[-1]"
   ]
  },
  {
   "cell_type": "code",
   "execution_count": 92,
   "id": "90be71fc",
   "metadata": {
    "execution": {
     "iopub.execute_input": "2023-05-06T14:47:01.204547Z",
     "iopub.status.busy": "2023-05-06T14:47:01.204181Z",
     "iopub.status.idle": "2023-05-06T14:47:01.215024Z",
     "shell.execute_reply": "2023-05-06T14:47:01.213874Z"
    },
    "papermill": {
     "duration": 0.057055,
     "end_time": "2023-05-06T14:47:01.217106",
     "exception": false,
     "start_time": "2023-05-06T14:47:01.160051",
     "status": "completed"
    },
    "tags": []
   },
   "outputs": [],
   "source": [
    "def extract_ob_testbank(files, BOOK):\n",
    "    print(f\"book: {BOOK}\")\n",
    "    rows = []\n",
    "    for file in files:\n",
    "        filename = file.split('/')[-1].strip('.docx')\n",
    "        chapter = filename.split(' ')[-1]\n",
    "        start = re.search(\"\\nThis file is copyright\", text).start()\n",
    "        text[:start]\n",
    "        tf = re.findall(r'LEARNING OUTCOME: [1-9](.*?)a\\. True', text, re.DOTALL)\n",
    "        mcfb = re.findall(r'LEARNING OUTCOME:.*?E\\..*?\\n\\n', text, re.DOTALL)[1:]\n",
    "        for q in tf:\n",
    "            q = re.sub(r\"LEARNING OUTCOME: [1-9]\", \"\", q)\n",
    "            row = dict()\n",
    "            row['Book'] = BOOK\n",
    "            row['Chapter'] = chapter\n",
    "            row['text'] = q.strip('\\n\\n').strip('\\n')\n",
    "            row['is_question'] = True\n",
    "            row['truefalse'] = True\n",
    "            row['fillblank'] = False\n",
    "            row['mc'] = False\n",
    "            rows.append(row)\n",
    "        for q in mcfb:\n",
    "            q = re.sub(r\"LEARNING OUTCOME: [1-9]\", \"\", q)\n",
    "            row = dict()\n",
    "            row['Book'] = BOOK\n",
    "            row['Chapter'] = chapter\n",
    "            row['text'] = q.strip('\\n\\n').strip('\\n')\n",
    "            row['is_question'] = True\n",
    "            row['truefalse'] = False\n",
    "            fb = 0\n",
    "            if \"___\" in q:\n",
    "                fb += 1\n",
    "            row['fillblank'] = bool(fb)\n",
    "            row['mc'] = bool(fb)\n",
    "            rows.append(row)\n",
    "    return rows"
   ]
  },
  {
   "cell_type": "code",
   "execution_count": 93,
   "id": "c9e23530",
   "metadata": {
    "execution": {
     "iopub.execute_input": "2023-05-06T14:47:01.307872Z",
     "iopub.status.busy": "2023-05-06T14:47:01.306809Z",
     "iopub.status.idle": "2023-05-06T14:47:01.407795Z",
     "shell.execute_reply": "2023-05-06T14:47:01.406828Z"
    },
    "papermill": {
     "duration": 0.149663,
     "end_time": "2023-05-06T14:47:01.410094",
     "exception": false,
     "start_time": "2023-05-06T14:47:01.260431",
     "status": "completed"
    },
    "tags": []
   },
   "outputs": [
    {
     "name": "stdout",
     "output_type": "stream",
     "text": [
      "book: Organizational Behaviour\n"
     ]
    }
   ],
   "source": [
    "pd.DataFrame(extract_ob_testbank(files, BOOK)).to_parquet('organizational_behaviour_testbank.pq')"
   ]
  },
  {
   "cell_type": "markdown",
   "id": "6fea6cc2",
   "metadata": {
    "papermill": {
     "duration": 0.041722,
     "end_time": "2023-05-06T14:47:01.496309",
     "exception": false,
     "start_time": "2023-05-06T14:47:01.454587",
     "status": "completed"
    },
    "tags": []
   },
   "source": [
    "# Accounting 1 (Principles of Financial Accounting\n",
    "\n",
    "- has lots of exercises \"exercise-set\" and \"problem-set\" for each chapter\n",
    "- has multiple choice for each chapter\n",
    "- answers under chapter-[1-9] files"
   ]
  },
  {
   "cell_type": "code",
   "execution_count": 94,
   "id": "ba5ca826",
   "metadata": {
    "execution": {
     "iopub.execute_input": "2023-05-06T14:47:01.583026Z",
     "iopub.status.busy": "2023-05-06T14:47:01.582300Z",
     "iopub.status.idle": "2023-05-06T14:47:01.688255Z",
     "shell.execute_reply": "2023-05-06T14:47:01.687342Z"
    },
    "papermill": {
     "duration": 0.152735,
     "end_time": "2023-05-06T14:47:01.690687",
     "exception": false,
     "start_time": "2023-05-06T14:47:01.537952",
     "status": "completed"
    },
    "tags": []
   },
   "outputs": [],
   "source": [
    "files = sorted(glob('/kaggle/input/csnlp-datasets/openstax/openstax/principles-financial-accounting/principles-financial-accounting/*.docx'))\n",
    "text = docx2txt.process(files[18])\n",
    "# text"
   ]
  },
  {
   "cell_type": "code",
   "execution_count": 95,
   "id": "bb5cd2e5",
   "metadata": {
    "execution": {
     "iopub.execute_input": "2023-05-06T14:47:01.784345Z",
     "iopub.status.busy": "2023-05-06T14:47:01.783617Z",
     "iopub.status.idle": "2023-05-06T14:47:01.787697Z",
     "shell.execute_reply": "2023-05-06T14:47:01.786926Z"
    },
    "papermill": {
     "duration": 0.053051,
     "end_time": "2023-05-06T14:47:01.789726",
     "exception": false,
     "start_time": "2023-05-06T14:47:01.736675",
     "status": "completed"
    },
    "tags": []
   },
   "outputs": [],
   "source": [
    "BOOK = 'Accounting 1'"
   ]
  },
  {
   "cell_type": "code",
   "execution_count": 96,
   "id": "ed56a899",
   "metadata": {
    "execution": {
     "iopub.execute_input": "2023-05-06T14:47:01.883290Z",
     "iopub.status.busy": "2023-05-06T14:47:01.882821Z",
     "iopub.status.idle": "2023-05-06T14:47:01.888690Z",
     "shell.execute_reply": "2023-05-06T14:47:01.887891Z"
    },
    "papermill": {
     "duration": 0.056194,
     "end_time": "2023-05-06T14:47:01.890713",
     "exception": false,
     "start_time": "2023-05-06T14:47:01.834519",
     "status": "completed"
    },
    "tags": []
   },
   "outputs": [
    {
     "data": {
      "text/plain": [
       "'\\nTo answer a particular question, visit the respective chapter section reading in the OpenStax Introduction to Business textbook. Questions were derived from textbook content: https://openstax.org/details/books/introduction-business\\n\\n\\n\\nThis OpenStax ancillary resource is © Rice University under a CC BY 4.0 International license; it may be reproduced or modified but must be attributed to OpenStax, Rice University and any changes must be noted.\\n\\nFor more free, peer-reviewed, openly licensed resources visit OpenStax.org.'"
      ]
     },
     "execution_count": 96,
     "metadata": {},
     "output_type": "execute_result"
    }
   ],
   "source": [
    "access_for_free"
   ]
  },
  {
   "cell_type": "code",
   "execution_count": 97,
   "id": "ecd53924",
   "metadata": {
    "execution": {
     "iopub.execute_input": "2023-05-06T14:47:01.985471Z",
     "iopub.status.busy": "2023-05-06T14:47:01.984684Z",
     "iopub.status.idle": "2023-05-06T14:47:01.991794Z",
     "shell.execute_reply": "2023-05-06T14:47:01.990790Z"
    },
    "papermill": {
     "duration": 0.056901,
     "end_time": "2023-05-06T14:47:01.993896",
     "exception": false,
     "start_time": "2023-05-06T14:47:01.936995",
     "status": "completed"
    },
    "tags": []
   },
   "outputs": [
    {
     "data": {
      "text/plain": [
       "'If a company has four lots of products for sale, purchase 1 (earliest) for $17, purchase 2 (middle) for $15, purchase 3 (middle) for $12, and purchase 4 (latest) for $14, which cost would be assumed to be sold first using LIFO costing?\\n\\n$17\\n\\n$15\\n\\n$12\\n\\n$14'"
      ]
     },
     "execution_count": 97,
     "metadata": {},
     "output_type": "execute_result"
    }
   ],
   "source": [
    "problems = re.findall('\\n\\nLO  (.*?)\\n\\n[1-9]\\.', text, re.DOTALL)\n",
    "re.sub('[1-9][0-9]\\.[1-9]', '', problems[0])"
   ]
  },
  {
   "cell_type": "code",
   "execution_count": 98,
   "id": "da5c2cc8",
   "metadata": {
    "execution": {
     "iopub.execute_input": "2023-05-06T14:47:02.090366Z",
     "iopub.status.busy": "2023-05-06T14:47:02.089593Z",
     "iopub.status.idle": "2023-05-06T14:47:02.107054Z",
     "shell.execute_reply": "2023-05-06T14:47:02.105763Z"
    },
    "papermill": {
     "duration": 0.069413,
     "end_time": "2023-05-06T14:47:02.109736",
     "exception": false,
     "start_time": "2023-05-06T14:47:02.040323",
     "status": "completed"
    },
    "tags": []
   },
   "outputs": [],
   "source": [
    "def accounting1(files, BOOK):\n",
    "    print(BOOK)\n",
    "    rows = []\n",
    "    questions = ['problem-set', 'exercise-set', 'multiple-choice']\n",
    "    for file in files:\n",
    "        row = dict()\n",
    "        text = docx2txt.process(file).strip(access_for_free)\n",
    "        try:\n",
    "            start = re.search(\"\\nAccess for free\", text).start()\n",
    "            text = text[:start]\n",
    "        except:\n",
    "            text = text\n",
    "        filename = file.split('/')[-1]\n",
    "        section_title = re.sub(r\"\\.docx$\", \"\", filename)\n",
    "        chapter = filename.split('-')[0]\n",
    "        is_question = any(s for s in questions if s in filename)\n",
    "        if is_question:\n",
    "            if 'problem-set' in filename:\n",
    "                problems = re.findall('\\n\\nLO  (.*?)\\n\\nPA', text, re.DOTALL)\n",
    "                for problem in problems:\n",
    "                    row = dict()\n",
    "                    row['Book'] = BOOK\n",
    "                    if int(chapter) > 9:\n",
    "                        problem = re.sub('[1-9][0-9]\\.[1-9]', '', problem)\n",
    "                    else:\n",
    "                        problem = re.sub('[1-9]\\.[1-9]', '', problem)\n",
    "                    row['Chapter'] = chapter\n",
    "                    row['section_title'] = section_title\n",
    "                    row['is_question'] = is_question\n",
    "                    row['text'] = problem\n",
    "                    row['question_answers'] = False\n",
    "                    rows.append(row)\n",
    "            elif 'exercise-set' in filename:\n",
    "                problems = re.findall('\\n\\nLO  (.*?)\\n\\nEA', text, re.DOTALL)\n",
    "                for problem in problems:\n",
    "                    row = dict()\n",
    "                    row['Book'] = BOOK\n",
    "                    if int(chapter) > 9:\n",
    "                        problem = re.sub('[1-9][0-9]\\.[1-9]', '', problem)\n",
    "                    else:\n",
    "                        problem = re.sub('[1-9]\\.[1-9]', '', problem)\n",
    "                    row['Chapter'] = chapter\n",
    "                    row['section_title'] = section_title\n",
    "                    row['is_question'] = is_question\n",
    "                    row['text'] = problem\n",
    "                    row['question_answers'] = False\n",
    "                    rows.append(row)\n",
    "            elif 'multiple-choice' in filename:\n",
    "                problems = re.findall('\\n\\nLO  (.*?)\\n\\n[1-9]\\.', text, re.DOTALL)\n",
    "                for problem in problems:\n",
    "                    row = dict()\n",
    "                    row['Book'] = BOOK\n",
    "                    if int(chapter) > 9:\n",
    "                        problem = re.sub('[1-9][0-9]\\.[1-9]', '', problem)\n",
    "                    else:\n",
    "                        problem = re.sub('[1-9]\\.[1-9]', '', problem)\n",
    "                    row['Chapter'] = chapter\n",
    "                    row['section_title'] = section_title\n",
    "                    row['is_question'] = is_question\n",
    "                    row['text'] = problem\n",
    "                    row['question_answers'] = False\n",
    "                    rows.append(row)\n",
    "        else:\n",
    "            row = dict()\n",
    "            row['Book'] = BOOK\n",
    "            row['Chapter'] = chapter\n",
    "            row['section_title'] = section_title\n",
    "            row['is_question'] = is_question\n",
    "            row['text'] = text\n",
    "            row['question_answers'] = bool(re.search('chapter-[1-9]', filename))\n",
    "            if row['question_answers']:\n",
    "                row['Chapter'] = section_title.split('-')[-1]\n",
    "            rows.append(row)\n",
    "    return rows"
   ]
  },
  {
   "cell_type": "code",
   "execution_count": 99,
   "id": "9c7f69eb",
   "metadata": {
    "execution": {
     "iopub.execute_input": "2023-05-06T14:47:02.203245Z",
     "iopub.status.busy": "2023-05-06T14:47:02.202802Z",
     "iopub.status.idle": "2023-05-06T14:47:05.674278Z",
     "shell.execute_reply": "2023-05-06T14:47:05.673324Z"
    },
    "papermill": {
     "duration": 3.52066,
     "end_time": "2023-05-06T14:47:05.676992",
     "exception": false,
     "start_time": "2023-05-06T14:47:02.156332",
     "status": "completed"
    },
    "tags": []
   },
   "outputs": [
    {
     "name": "stdout",
     "output_type": "stream",
     "text": [
      "Accounting 1\n"
     ]
    }
   ],
   "source": [
    "pd.DataFrame(accounting1(files, BOOK)).to_parquet('accounting1_tq.pq')"
   ]
  },
  {
   "cell_type": "markdown",
   "id": "c2ba3c93",
   "metadata": {
    "papermill": {
     "duration": 0.042294,
     "end_time": "2023-05-06T14:47:05.762402",
     "exception": false,
     "start_time": "2023-05-06T14:47:05.720108",
     "status": "completed"
    },
    "tags": []
   },
   "source": [
    "# Accounting 2 (Managerial Accounting)\n",
    "- same format as Accounting 1\n"
   ]
  },
  {
   "cell_type": "code",
   "execution_count": 100,
   "id": "55b6132c",
   "metadata": {
    "execution": {
     "iopub.execute_input": "2023-05-06T14:47:05.851842Z",
     "iopub.status.busy": "2023-05-06T14:47:05.850883Z",
     "iopub.status.idle": "2023-05-06T14:47:05.902825Z",
     "shell.execute_reply": "2023-05-06T14:47:05.901639Z"
    },
    "papermill": {
     "duration": 0.099793,
     "end_time": "2023-05-06T14:47:05.905529",
     "exception": false,
     "start_time": "2023-05-06T14:47:05.805736",
     "status": "completed"
    },
    "tags": []
   },
   "outputs": [],
   "source": [
    "files = sorted(glob('/kaggle/input/csnlp-datasets/openstax/openstax/principles-managerial-accounting/principles-managerial-accounting/*.docx'))\n",
    "text = docx2txt.process(files[18])\n",
    "BOOK = 'Accounting 2'"
   ]
  },
  {
   "cell_type": "code",
   "execution_count": 101,
   "id": "22bb725d",
   "metadata": {
    "execution": {
     "iopub.execute_input": "2023-05-06T14:47:05.998832Z",
     "iopub.status.busy": "2023-05-06T14:47:05.997725Z",
     "iopub.status.idle": "2023-05-06T14:47:08.489516Z",
     "shell.execute_reply": "2023-05-06T14:47:08.488623Z"
    },
    "papermill": {
     "duration": 2.541113,
     "end_time": "2023-05-06T14:47:08.492592",
     "exception": false,
     "start_time": "2023-05-06T14:47:05.951479",
     "status": "completed"
    },
    "tags": []
   },
   "outputs": [
    {
     "name": "stdout",
     "output_type": "stream",
     "text": [
      "Accounting 2\n"
     ]
    }
   ],
   "source": [
    "pd.DataFrame(accounting1(files, BOOK)).to_parquet('accounting2_tq.pq')"
   ]
  },
  {
   "cell_type": "markdown",
   "id": "13c0d8cc",
   "metadata": {
    "papermill": {
     "duration": 0.044142,
     "end_time": "2023-05-06T14:47:08.580941",
     "exception": false,
     "start_time": "2023-05-06T14:47:08.536799",
     "status": "completed"
    },
    "tags": []
   },
   "source": [
    "# Finance\n",
    "- review questions and multiple choice questions in separate files for each chapter\n",
    "- no questions in text\n",
    "- there are video questions I skip them "
   ]
  },
  {
   "cell_type": "code",
   "execution_count": 102,
   "id": "0276b72c",
   "metadata": {
    "execution": {
     "iopub.execute_input": "2023-05-06T14:47:08.671830Z",
     "iopub.status.busy": "2023-05-06T14:47:08.671031Z",
     "iopub.status.idle": "2023-05-06T14:47:08.731528Z",
     "shell.execute_reply": "2023-05-06T14:47:08.730553Z"
    },
    "papermill": {
     "duration": 0.108825,
     "end_time": "2023-05-06T14:47:08.734140",
     "exception": false,
     "start_time": "2023-05-06T14:47:08.625315",
     "status": "completed"
    },
    "tags": []
   },
   "outputs": [],
   "source": [
    "files = sorted(glob('/kaggle/input/csnlp-datasets/openstax/openstax/principles-finance-docx/*.docx'))\n",
    "text = docx2txt.process(files[9])\n",
    "start = re.search(\"\\nAccess for free\", text).start()\n",
    "text = text[:start]\n",
    "BOOK = 'Finance'"
   ]
  },
  {
   "cell_type": "code",
   "execution_count": 103,
   "id": "5703676e",
   "metadata": {
    "execution": {
     "iopub.execute_input": "2023-05-06T14:47:08.824909Z",
     "iopub.status.busy": "2023-05-06T14:47:08.824274Z",
     "iopub.status.idle": "2023-05-06T14:47:08.831286Z",
     "shell.execute_reply": "2023-05-06T14:47:08.830195Z"
    },
    "papermill": {
     "duration": 0.055932,
     "end_time": "2023-05-06T14:47:08.834050",
     "exception": false,
     "start_time": "2023-05-06T14:47:08.778118",
     "status": "completed"
    },
    "tags": []
   },
   "outputs": [
    {
     "name": "stdout",
     "output_type": "stream",
     "text": [
      "1-1-what-is-finance.docx\n",
      "1\n",
      "1-1-what-is-finance\n"
     ]
    }
   ],
   "source": [
    "file = files[0]\n",
    "filename = file.split('/')[-1]\n",
    "section_title = re.sub(r\"\\.docx$\", \"\", filename)\n",
    "chapter = filename.split('-')[0]\n",
    "print(filename)\n",
    "print(chapter)\n",
    "print(section_title)"
   ]
  },
  {
   "cell_type": "code",
   "execution_count": 104,
   "id": "40e3745d",
   "metadata": {
    "execution": {
     "iopub.execute_input": "2023-05-06T14:47:08.926097Z",
     "iopub.status.busy": "2023-05-06T14:47:08.925681Z",
     "iopub.status.idle": "2023-05-06T14:47:08.942377Z",
     "shell.execute_reply": "2023-05-06T14:47:08.941212Z"
    },
    "papermill": {
     "duration": 0.065623,
     "end_time": "2023-05-06T14:47:08.944392",
     "exception": false,
     "start_time": "2023-05-06T14:47:08.878769",
     "status": "completed"
    },
    "tags": []
   },
   "outputs": [],
   "source": [
    "def finance(files, BOOK):\n",
    "    rows = []\n",
    "    questions = ['problem-set', 'questions', 'multiple-choice']\n",
    "    for file in files:\n",
    "        #questions related to a video students watch\n",
    "        if 'video-activity' in file:\n",
    "            continue\n",
    "        text = docx2txt.process(file)\n",
    "        try:\n",
    "            start = re.search(\"\\nAccess for free\", text).start()\n",
    "            text = text[:start]\n",
    "        except:\n",
    "            text = text\n",
    "        \n",
    "        filename = file.split('/')[-1]\n",
    "        section_title = re.sub(r\"\\.docx$\", \"\", filename)\n",
    "#         print(section_title)\n",
    "        chapter = filename.split('-')[0]\n",
    "        is_question = any(s for s in questions if s in filename)\n",
    "        if is_question:\n",
    "            if 'questions' in filename:\n",
    "                problems = re.findall('\\n\\n[1-9]\\. \\n\\n(.*?)\\n\\n', text, re.DOTALL) + re.findall('\\n\\n([A-Z].*?)\\n\\n', text, re.DOTALL)\n",
    "                \n",
    "                for problem in problems:\n",
    "                    row = dict()\n",
    "                    row['Book'] = BOOK\n",
    "#                     print(problem)\n",
    "                    row['Chapter'] = chapter\n",
    "                    row['section_title'] = section_title\n",
    "                    row['is_question'] = is_question\n",
    "                    row['text'] = problem\n",
    "                    row['question_answers'] = False\n",
    "                    row['mc_option'] = False\n",
    "                    row['fillblank'] = False\n",
    "                    row['mc'] = False\n",
    "                    rows.append(row)\n",
    "                    \n",
    "            elif 'multiple-choice' in filename:\n",
    "                problems = re.findall('\\n\\n((?:[A-Za-z]|_|[a-z]).*?)\\n\\n', text, re.DOTALL)\n",
    "                for i, problem in enumerate(problems):\n",
    "                    row = dict()\n",
    "                    row['Book'] = BOOK\n",
    "#                     print(problem)\n",
    "                    if i % 3 == 0:      \n",
    "                        row['Chapter'] = chapter\n",
    "                        row['section_title'] = section_title\n",
    "                        row['is_question'] = True\n",
    "                        row['text'] = problem\n",
    "                        row['question_answers'] = False\n",
    "                        fb = 0\n",
    "                        if \"___\" in problem:\n",
    "                            fb += 1\n",
    "                        row['fillblank'] = bool(fb)\n",
    "                        row['mc_option'] = False\n",
    "                        row['mc_num'] = i+1\n",
    "                        row['mc'] = True\n",
    "                        rows.append(row)\n",
    "                    else:\n",
    "                        \n",
    "                        row['Chapter'] = chapter\n",
    "                        row['section_title'] = section_title\n",
    "                        row['is_question'] = is_question\n",
    "                        row['text'] = problem\n",
    "                        row['question_answers'] = False\n",
    "                        row['mc_option'] = True\n",
    "                        row['mc_num'] = i + 1\n",
    "                        row['mc'] = True\n",
    "                        rows.append(row)\n",
    "        else:\n",
    "            row = dict()\n",
    "            row['Book'] = BOOK\n",
    "            row['Chapter'] = chapter\n",
    "            row['section_title'] = section_title\n",
    "            row['is_question'] = is_question\n",
    "            row['text'] = text\n",
    "            row['question_answers'] = bool(re.search('chapter-[1-9]', filename))\n",
    "            if row['question_answers']:\n",
    "                row['Chapter'] = section_title.split('-')[-1]\n",
    "            rows.append(row)\n",
    "    return rows"
   ]
  },
  {
   "cell_type": "code",
   "execution_count": 105,
   "id": "6773f66d",
   "metadata": {
    "execution": {
     "iopub.execute_input": "2023-05-06T14:47:09.035250Z",
     "iopub.status.busy": "2023-05-06T14:47:09.034850Z",
     "iopub.status.idle": "2023-05-06T14:47:11.587149Z",
     "shell.execute_reply": "2023-05-06T14:47:11.586147Z"
    },
    "papermill": {
     "duration": 2.600579,
     "end_time": "2023-05-06T14:47:11.589913",
     "exception": false,
     "start_time": "2023-05-06T14:47:08.989334",
     "status": "completed"
    },
    "tags": []
   },
   "outputs": [],
   "source": [
    "pd.DataFrame(finance(files, BOOK)).to_parquet('finance_tq.pq')"
   ]
  },
  {
   "cell_type": "code",
   "execution_count": 106,
   "id": "6cc70936",
   "metadata": {
    "execution": {
     "iopub.execute_input": "2023-05-06T14:47:11.683854Z",
     "iopub.status.busy": "2023-05-06T14:47:11.683488Z",
     "iopub.status.idle": "2023-05-06T14:47:13.047188Z",
     "shell.execute_reply": "2023-05-06T14:47:13.046089Z"
    },
    "papermill": {
     "duration": 1.412922,
     "end_time": "2023-05-06T14:47:13.049722",
     "exception": false,
     "start_time": "2023-05-06T14:47:11.636800",
     "status": "completed"
    },
    "tags": []
   },
   "outputs": [
    {
     "data": {
      "text/html": [
       "<div>\n",
       "<style scoped>\n",
       "    .dataframe tbody tr th:only-of-type {\n",
       "        vertical-align: middle;\n",
       "    }\n",
       "\n",
       "    .dataframe tbody tr th {\n",
       "        vertical-align: top;\n",
       "    }\n",
       "\n",
       "    .dataframe thead th {\n",
       "        text-align: right;\n",
       "    }\n",
       "</style>\n",
       "<table border=\"1\" class=\"dataframe\">\n",
       "  <thead>\n",
       "    <tr style=\"text-align: right;\">\n",
       "      <th></th>\n",
       "      <th>Book</th>\n",
       "      <th>Chapter</th>\n",
       "      <th>section_title</th>\n",
       "      <th>is_question</th>\n",
       "      <th>text</th>\n",
       "      <th>question_answers</th>\n",
       "      <th>fillblank</th>\n",
       "      <th>mc_option</th>\n",
       "      <th>mc_num</th>\n",
       "      <th>mc</th>\n",
       "    </tr>\n",
       "  </thead>\n",
       "  <tbody>\n",
       "    <tr>\n",
       "      <th>0</th>\n",
       "      <td>Finance</td>\n",
       "      <td>1</td>\n",
       "      <td>1-1-what-is-finance</td>\n",
       "      <td>False</td>\n",
       "      <td>1.1   What Is Finance?\\n\\nLearning Outcomes\\n\\...</td>\n",
       "      <td>False</td>\n",
       "      <td>NaN</td>\n",
       "      <td>NaN</td>\n",
       "      <td>NaN</td>\n",
       "      <td>NaN</td>\n",
       "    </tr>\n",
       "    <tr>\n",
       "      <th>1</th>\n",
       "      <td>Finance</td>\n",
       "      <td>1</td>\n",
       "      <td>1-2-the-role-of-finance-in-an-organization</td>\n",
       "      <td>False</td>\n",
       "      <td>1.2   The Role of Finance in an Organization\\n...</td>\n",
       "      <td>False</td>\n",
       "      <td>NaN</td>\n",
       "      <td>NaN</td>\n",
       "      <td>NaN</td>\n",
       "      <td>NaN</td>\n",
       "    </tr>\n",
       "    <tr>\n",
       "      <th>2</th>\n",
       "      <td>Finance</td>\n",
       "      <td>1</td>\n",
       "      <td>1-3-importance-of-data-and-technology</td>\n",
       "      <td>False</td>\n",
       "      <td>1.3   Importance of Data and Technology\\n\\nLea...</td>\n",
       "      <td>False</td>\n",
       "      <td>NaN</td>\n",
       "      <td>NaN</td>\n",
       "      <td>NaN</td>\n",
       "      <td>NaN</td>\n",
       "    </tr>\n",
       "    <tr>\n",
       "      <th>3</th>\n",
       "      <td>Finance</td>\n",
       "      <td>1</td>\n",
       "      <td>1-4-careers-in-finance</td>\n",
       "      <td>False</td>\n",
       "      <td>1.4   Careers in Finance\\n\\nLearning Outcomes\\...</td>\n",
       "      <td>False</td>\n",
       "      <td>NaN</td>\n",
       "      <td>NaN</td>\n",
       "      <td>NaN</td>\n",
       "      <td>NaN</td>\n",
       "    </tr>\n",
       "    <tr>\n",
       "      <th>4</th>\n",
       "      <td>Finance</td>\n",
       "      <td>1</td>\n",
       "      <td>1-5-markets-and-participants</td>\n",
       "      <td>False</td>\n",
       "      <td>1.5   Markets and Participants\\n\\nLearning Out...</td>\n",
       "      <td>False</td>\n",
       "      <td>NaN</td>\n",
       "      <td>NaN</td>\n",
       "      <td>NaN</td>\n",
       "      <td>NaN</td>\n",
       "    </tr>\n",
       "    <tr>\n",
       "      <th>5</th>\n",
       "      <td>Finance</td>\n",
       "      <td>1</td>\n",
       "      <td>1-6-microeconomic-and-macroeconomic-matters</td>\n",
       "      <td>False</td>\n",
       "      <td>1.6   Microeconomic and Macroeconomic Matters\\...</td>\n",
       "      <td>False</td>\n",
       "      <td>NaN</td>\n",
       "      <td>NaN</td>\n",
       "      <td>NaN</td>\n",
       "      <td>NaN</td>\n",
       "    </tr>\n",
       "    <tr>\n",
       "      <th>6</th>\n",
       "      <td>Finance</td>\n",
       "      <td>1</td>\n",
       "      <td>1-7-financial-instruments</td>\n",
       "      <td>False</td>\n",
       "      <td>1.7   Financial Instruments\\n\\nLearning Outcom...</td>\n",
       "      <td>False</td>\n",
       "      <td>NaN</td>\n",
       "      <td>NaN</td>\n",
       "      <td>NaN</td>\n",
       "      <td>NaN</td>\n",
       "    </tr>\n",
       "    <tr>\n",
       "      <th>7</th>\n",
       "      <td>Finance</td>\n",
       "      <td>1</td>\n",
       "      <td>1-8-concepts-of-time-and-value</td>\n",
       "      <td>False</td>\n",
       "      <td>1.8   Concepts of Time and Value\\n\\nLearning O...</td>\n",
       "      <td>False</td>\n",
       "      <td>NaN</td>\n",
       "      <td>NaN</td>\n",
       "      <td>NaN</td>\n",
       "      <td>NaN</td>\n",
       "    </tr>\n",
       "    <tr>\n",
       "      <th>8</th>\n",
       "      <td>Finance</td>\n",
       "      <td>1</td>\n",
       "      <td>1-key-terms</td>\n",
       "      <td>False</td>\n",
       "      <td>Key Terms\\n\\nbrokers\\n\\nindividuals or a firm ...</td>\n",
       "      <td>False</td>\n",
       "      <td>NaN</td>\n",
       "      <td>NaN</td>\n",
       "      <td>NaN</td>\n",
       "      <td>NaN</td>\n",
       "    </tr>\n",
       "    <tr>\n",
       "      <th>9</th>\n",
       "      <td>Finance</td>\n",
       "      <td>1</td>\n",
       "      <td>1-multiple-choice</td>\n",
       "      <td>True</td>\n",
       "      <td>Which of the following was NOT identified by y...</td>\n",
       "      <td>False</td>\n",
       "      <td>False</td>\n",
       "      <td>False</td>\n",
       "      <td>1.0</td>\n",
       "      <td>True</td>\n",
       "    </tr>\n",
       "    <tr>\n",
       "      <th>10</th>\n",
       "      <td>Finance</td>\n",
       "      <td>1</td>\n",
       "      <td>1-multiple-choice</td>\n",
       "      <td>True</td>\n",
       "      <td>capital budgeting</td>\n",
       "      <td>False</td>\n",
       "      <td>NaN</td>\n",
       "      <td>True</td>\n",
       "      <td>2.0</td>\n",
       "      <td>True</td>\n",
       "    </tr>\n",
       "    <tr>\n",
       "      <th>11</th>\n",
       "      <td>Finance</td>\n",
       "      <td>1</td>\n",
       "      <td>1-multiple-choice</td>\n",
       "      <td>True</td>\n",
       "      <td>financial markets and institutions</td>\n",
       "      <td>False</td>\n",
       "      <td>NaN</td>\n",
       "      <td>True</td>\n",
       "      <td>3.0</td>\n",
       "      <td>True</td>\n",
       "    </tr>\n",
       "    <tr>\n",
       "      <th>12</th>\n",
       "      <td>Finance</td>\n",
       "      <td>1</td>\n",
       "      <td>1-multiple-choice</td>\n",
       "      <td>True</td>\n",
       "      <td>What is the process of determining which long-...</td>\n",
       "      <td>False</td>\n",
       "      <td>False</td>\n",
       "      <td>False</td>\n",
       "      <td>4.0</td>\n",
       "      <td>True</td>\n",
       "    </tr>\n",
       "    <tr>\n",
       "      <th>13</th>\n",
       "      <td>Finance</td>\n",
       "      <td>1</td>\n",
       "      <td>1-multiple-choice</td>\n",
       "      <td>True</td>\n",
       "      <td>Capital budgeting</td>\n",
       "      <td>False</td>\n",
       "      <td>NaN</td>\n",
       "      <td>True</td>\n",
       "      <td>5.0</td>\n",
       "      <td>True</td>\n",
       "    </tr>\n",
       "    <tr>\n",
       "      <th>14</th>\n",
       "      <td>Finance</td>\n",
       "      <td>1</td>\n",
       "      <td>1-multiple-choice</td>\n",
       "      <td>True</td>\n",
       "      <td>Financial markets and institutions</td>\n",
       "      <td>False</td>\n",
       "      <td>NaN</td>\n",
       "      <td>True</td>\n",
       "      <td>6.0</td>\n",
       "      <td>True</td>\n",
       "    </tr>\n",
       "    <tr>\n",
       "      <th>15</th>\n",
       "      <td>Finance</td>\n",
       "      <td>1</td>\n",
       "      <td>1-multiple-choice</td>\n",
       "      <td>True</td>\n",
       "      <td>In an organization with each of these financia...</td>\n",
       "      <td>False</td>\n",
       "      <td>False</td>\n",
       "      <td>False</td>\n",
       "      <td>7.0</td>\n",
       "      <td>True</td>\n",
       "    </tr>\n",
       "    <tr>\n",
       "      <th>16</th>\n",
       "      <td>Finance</td>\n",
       "      <td>1</td>\n",
       "      <td>1-multiple-choice</td>\n",
       "      <td>True</td>\n",
       "      <td>treasurer</td>\n",
       "      <td>False</td>\n",
       "      <td>NaN</td>\n",
       "      <td>True</td>\n",
       "      <td>8.0</td>\n",
       "      <td>True</td>\n",
       "    </tr>\n",
       "    <tr>\n",
       "      <th>17</th>\n",
       "      <td>Finance</td>\n",
       "      <td>1</td>\n",
       "      <td>1-multiple-choice</td>\n",
       "      <td>True</td>\n",
       "      <td>chief financial officer (CFO)</td>\n",
       "      <td>False</td>\n",
       "      <td>NaN</td>\n",
       "      <td>True</td>\n",
       "      <td>9.0</td>\n",
       "      <td>True</td>\n",
       "    </tr>\n",
       "    <tr>\n",
       "      <th>18</th>\n",
       "      <td>Finance</td>\n",
       "      <td>1</td>\n",
       "      <td>1-multiple-choice</td>\n",
       "      <td>True</td>\n",
       "      <td>Which of the following statements is false?</td>\n",
       "      <td>False</td>\n",
       "      <td>False</td>\n",
       "      <td>False</td>\n",
       "      <td>10.0</td>\n",
       "      <td>True</td>\n",
       "    </tr>\n",
       "    <tr>\n",
       "      <th>19</th>\n",
       "      <td>Finance</td>\n",
       "      <td>1</td>\n",
       "      <td>1-multiple-choice</td>\n",
       "      <td>True</td>\n",
       "      <td>Good financial planning considers past, presen...</td>\n",
       "      <td>False</td>\n",
       "      <td>NaN</td>\n",
       "      <td>True</td>\n",
       "      <td>11.0</td>\n",
       "      <td>True</td>\n",
       "    </tr>\n",
       "    <tr>\n",
       "      <th>20</th>\n",
       "      <td>Finance</td>\n",
       "      <td>1</td>\n",
       "      <td>1-multiple-choice</td>\n",
       "      <td>True</td>\n",
       "      <td>Forecasting in the form of expected sales, cos...</td>\n",
       "      <td>False</td>\n",
       "      <td>NaN</td>\n",
       "      <td>True</td>\n",
       "      <td>12.0</td>\n",
       "      <td>True</td>\n",
       "    </tr>\n",
       "    <tr>\n",
       "      <th>21</th>\n",
       "      <td>Finance</td>\n",
       "      <td>1</td>\n",
       "      <td>1-multiple-choice</td>\n",
       "      <td>True</td>\n",
       "      <td>Which of the following statements regarding da...</td>\n",
       "      <td>False</td>\n",
       "      <td>False</td>\n",
       "      <td>False</td>\n",
       "      <td>13.0</td>\n",
       "      <td>True</td>\n",
       "    </tr>\n",
       "    <tr>\n",
       "      <th>22</th>\n",
       "      <td>Finance</td>\n",
       "      <td>1</td>\n",
       "      <td>1-multiple-choice</td>\n",
       "      <td>True</td>\n",
       "      <td>Outsiders use publicly available data about fi...</td>\n",
       "      <td>False</td>\n",
       "      <td>NaN</td>\n",
       "      <td>True</td>\n",
       "      <td>14.0</td>\n",
       "      <td>True</td>\n",
       "    </tr>\n",
       "    <tr>\n",
       "      <th>23</th>\n",
       "      <td>Finance</td>\n",
       "      <td>1</td>\n",
       "      <td>1-multiple-choice</td>\n",
       "      <td>True</td>\n",
       "      <td>Suppliers need financial information to determ...</td>\n",
       "      <td>False</td>\n",
       "      <td>NaN</td>\n",
       "      <td>True</td>\n",
       "      <td>15.0</td>\n",
       "      <td>True</td>\n",
       "    </tr>\n",
       "    <tr>\n",
       "      <th>24</th>\n",
       "      <td>Finance</td>\n",
       "      <td>1</td>\n",
       "      <td>1-multiple-choice</td>\n",
       "      <td>True</td>\n",
       "      <td>Which of the following is generally NOT true a...</td>\n",
       "      <td>False</td>\n",
       "      <td>False</td>\n",
       "      <td>False</td>\n",
       "      <td>16.0</td>\n",
       "      <td>True</td>\n",
       "    </tr>\n",
       "    <tr>\n",
       "      <th>25</th>\n",
       "      <td>Finance</td>\n",
       "      <td>1</td>\n",
       "      <td>1-multiple-choice</td>\n",
       "      <td>True</td>\n",
       "      <td>Cloud data storage causes increased energy con...</td>\n",
       "      <td>False</td>\n",
       "      <td>NaN</td>\n",
       "      <td>True</td>\n",
       "      <td>17.0</td>\n",
       "      <td>True</td>\n",
       "    </tr>\n",
       "    <tr>\n",
       "      <th>26</th>\n",
       "      <td>Finance</td>\n",
       "      <td>1</td>\n",
       "      <td>1-multiple-choice</td>\n",
       "      <td>True</td>\n",
       "      <td>Cloud data storage comes with specialized main...</td>\n",
       "      <td>False</td>\n",
       "      <td>NaN</td>\n",
       "      <td>True</td>\n",
       "      <td>18.0</td>\n",
       "      <td>True</td>\n",
       "    </tr>\n",
       "    <tr>\n",
       "      <th>27</th>\n",
       "      <td>Finance</td>\n",
       "      <td>1</td>\n",
       "      <td>1-multiple-choice</td>\n",
       "      <td>True</td>\n",
       "      <td>Which of the following describes United States...</td>\n",
       "      <td>False</td>\n",
       "      <td>False</td>\n",
       "      <td>False</td>\n",
       "      <td>19.0</td>\n",
       "      <td>True</td>\n",
       "    </tr>\n",
       "    <tr>\n",
       "      <th>28</th>\n",
       "      <td>Finance</td>\n",
       "      <td>1</td>\n",
       "      <td>1-multiple-choice</td>\n",
       "      <td>True</td>\n",
       "      <td>few and low paying</td>\n",
       "      <td>False</td>\n",
       "      <td>NaN</td>\n",
       "      <td>True</td>\n",
       "      <td>20.0</td>\n",
       "      <td>True</td>\n",
       "    </tr>\n",
       "    <tr>\n",
       "      <th>29</th>\n",
       "      <td>Finance</td>\n",
       "      <td>1</td>\n",
       "      <td>1-multiple-choice</td>\n",
       "      <td>True</td>\n",
       "      <td>few and high paying</td>\n",
       "      <td>False</td>\n",
       "      <td>NaN</td>\n",
       "      <td>True</td>\n",
       "      <td>21.0</td>\n",
       "      <td>True</td>\n",
       "    </tr>\n",
       "    <tr>\n",
       "      <th>30</th>\n",
       "      <td>Finance</td>\n",
       "      <td>1</td>\n",
       "      <td>1-multiple-choice</td>\n",
       "      <td>True</td>\n",
       "      <td>Which of the following organizations would be ...</td>\n",
       "      <td>False</td>\n",
       "      <td>False</td>\n",
       "      <td>False</td>\n",
       "      <td>22.0</td>\n",
       "      <td>True</td>\n",
       "    </tr>\n",
       "    <tr>\n",
       "      <th>31</th>\n",
       "      <td>Finance</td>\n",
       "      <td>1</td>\n",
       "      <td>1-multiple-choice</td>\n",
       "      <td>True</td>\n",
       "      <td>Investment companies may hire financial analys...</td>\n",
       "      <td>False</td>\n",
       "      <td>NaN</td>\n",
       "      <td>True</td>\n",
       "      <td>23.0</td>\n",
       "      <td>True</td>\n",
       "    </tr>\n",
       "    <tr>\n",
       "      <th>32</th>\n",
       "      <td>Finance</td>\n",
       "      <td>1</td>\n",
       "      <td>1-multiple-choice</td>\n",
       "      <td>True</td>\n",
       "      <td>All of the above organizations are likely to h...</td>\n",
       "      <td>False</td>\n",
       "      <td>NaN</td>\n",
       "      <td>True</td>\n",
       "      <td>24.0</td>\n",
       "      <td>True</td>\n",
       "    </tr>\n",
       "    <tr>\n",
       "      <th>33</th>\n",
       "      <td>Finance</td>\n",
       "      <td>1</td>\n",
       "      <td>1-multiple-choice</td>\n",
       "      <td>True</td>\n",
       "      <td>The _______________ market is the market for _...</td>\n",
       "      <td>False</td>\n",
       "      <td>True</td>\n",
       "      <td>False</td>\n",
       "      <td>25.0</td>\n",
       "      <td>True</td>\n",
       "    </tr>\n",
       "    <tr>\n",
       "      <th>34</th>\n",
       "      <td>Finance</td>\n",
       "      <td>1</td>\n",
       "      <td>1-multiple-choice</td>\n",
       "      <td>True</td>\n",
       "      <td>primary; new; secondary; used</td>\n",
       "      <td>False</td>\n",
       "      <td>NaN</td>\n",
       "      <td>True</td>\n",
       "      <td>26.0</td>\n",
       "      <td>True</td>\n",
       "    </tr>\n",
       "    <tr>\n",
       "      <th>35</th>\n",
       "      <td>Finance</td>\n",
       "      <td>1</td>\n",
       "      <td>1-multiple-choice</td>\n",
       "      <td>True</td>\n",
       "      <td>secondary; used; primary; used</td>\n",
       "      <td>False</td>\n",
       "      <td>NaN</td>\n",
       "      <td>True</td>\n",
       "      <td>27.0</td>\n",
       "      <td>True</td>\n",
       "    </tr>\n",
       "    <tr>\n",
       "      <th>36</th>\n",
       "      <td>Finance</td>\n",
       "      <td>1</td>\n",
       "      <td>1-multiple-choice</td>\n",
       "      <td>True</td>\n",
       "      <td>_______________ own the securities that they b...</td>\n",
       "      <td>False</td>\n",
       "      <td>True</td>\n",
       "      <td>False</td>\n",
       "      <td>28.0</td>\n",
       "      <td>True</td>\n",
       "    </tr>\n",
       "    <tr>\n",
       "      <th>37</th>\n",
       "      <td>Finance</td>\n",
       "      <td>1</td>\n",
       "      <td>1-multiple-choice</td>\n",
       "      <td>True</td>\n",
       "      <td>Brokers</td>\n",
       "      <td>False</td>\n",
       "      <td>NaN</td>\n",
       "      <td>True</td>\n",
       "      <td>29.0</td>\n",
       "      <td>True</td>\n",
       "    </tr>\n",
       "    <tr>\n",
       "      <th>38</th>\n",
       "      <td>Finance</td>\n",
       "      <td>1</td>\n",
       "      <td>1-multiple-choice</td>\n",
       "      <td>True</td>\n",
       "      <td>Comptrollers</td>\n",
       "      <td>False</td>\n",
       "      <td>NaN</td>\n",
       "      <td>True</td>\n",
       "      <td>30.0</td>\n",
       "      <td>True</td>\n",
       "    </tr>\n",
       "    <tr>\n",
       "      <th>39</th>\n",
       "      <td>Finance</td>\n",
       "      <td>1</td>\n",
       "      <td>1-multiple-choice</td>\n",
       "      <td>True</td>\n",
       "      <td>_______________ act as facilitators in a marke...</td>\n",
       "      <td>False</td>\n",
       "      <td>True</td>\n",
       "      <td>False</td>\n",
       "      <td>31.0</td>\n",
       "      <td>True</td>\n",
       "    </tr>\n",
       "    <tr>\n",
       "      <th>40</th>\n",
       "      <td>Finance</td>\n",
       "      <td>1</td>\n",
       "      <td>1-multiple-choice</td>\n",
       "      <td>True</td>\n",
       "      <td>Brokers</td>\n",
       "      <td>False</td>\n",
       "      <td>NaN</td>\n",
       "      <td>True</td>\n",
       "      <td>32.0</td>\n",
       "      <td>True</td>\n",
       "    </tr>\n",
       "    <tr>\n",
       "      <th>41</th>\n",
       "      <td>Finance</td>\n",
       "      <td>1</td>\n",
       "      <td>1-multiple-choice</td>\n",
       "      <td>True</td>\n",
       "      <td>Comptrollers</td>\n",
       "      <td>False</td>\n",
       "      <td>NaN</td>\n",
       "      <td>True</td>\n",
       "      <td>33.0</td>\n",
       "      <td>True</td>\n",
       "    </tr>\n",
       "    <tr>\n",
       "      <th>42</th>\n",
       "      <td>Finance</td>\n",
       "      <td>1</td>\n",
       "      <td>1-multiple-choice</td>\n",
       "      <td>True</td>\n",
       "      <td>_______________ is the study of the allocation...</td>\n",
       "      <td>False</td>\n",
       "      <td>True</td>\n",
       "      <td>False</td>\n",
       "      <td>34.0</td>\n",
       "      <td>True</td>\n",
       "    </tr>\n",
       "    <tr>\n",
       "      <th>43</th>\n",
       "      <td>Finance</td>\n",
       "      <td>1</td>\n",
       "      <td>1-multiple-choice</td>\n",
       "      <td>True</td>\n",
       "      <td>Microeconomics; economics; macroeconomics</td>\n",
       "      <td>False</td>\n",
       "      <td>NaN</td>\n",
       "      <td>True</td>\n",
       "      <td>35.0</td>\n",
       "      <td>True</td>\n",
       "    </tr>\n",
       "    <tr>\n",
       "      <th>44</th>\n",
       "      <td>Finance</td>\n",
       "      <td>1</td>\n",
       "      <td>1-multiple-choice</td>\n",
       "      <td>True</td>\n",
       "      <td>Economics; macroeconomics; microeconomics</td>\n",
       "      <td>False</td>\n",
       "      <td>NaN</td>\n",
       "      <td>True</td>\n",
       "      <td>36.0</td>\n",
       "      <td>True</td>\n",
       "    </tr>\n",
       "    <tr>\n",
       "      <th>45</th>\n",
       "      <td>Finance</td>\n",
       "      <td>1</td>\n",
       "      <td>1-multiple-choice</td>\n",
       "      <td>True</td>\n",
       "      <td>Which of the following is NOT an economy-wide ...</td>\n",
       "      <td>False</td>\n",
       "      <td>False</td>\n",
       "      <td>False</td>\n",
       "      <td>37.0</td>\n",
       "      <td>True</td>\n",
       "    </tr>\n",
       "    <tr>\n",
       "      <th>46</th>\n",
       "      <td>Finance</td>\n",
       "      <td>1</td>\n",
       "      <td>1-multiple-choice</td>\n",
       "      <td>True</td>\n",
       "      <td>unemployment</td>\n",
       "      <td>False</td>\n",
       "      <td>NaN</td>\n",
       "      <td>True</td>\n",
       "      <td>38.0</td>\n",
       "      <td>True</td>\n",
       "    </tr>\n",
       "    <tr>\n",
       "      <th>47</th>\n",
       "      <td>Finance</td>\n",
       "      <td>1</td>\n",
       "      <td>1-multiple-choice</td>\n",
       "      <td>True</td>\n",
       "      <td>CEO turnover</td>\n",
       "      <td>False</td>\n",
       "      <td>NaN</td>\n",
       "      <td>True</td>\n",
       "      <td>39.0</td>\n",
       "      <td>True</td>\n",
       "    </tr>\n",
       "    <tr>\n",
       "      <th>48</th>\n",
       "      <td>Finance</td>\n",
       "      <td>1</td>\n",
       "      <td>1-multiple-choice</td>\n",
       "      <td>True</td>\n",
       "      <td>_______________ is the market for short-term, ...</td>\n",
       "      <td>False</td>\n",
       "      <td>True</td>\n",
       "      <td>False</td>\n",
       "      <td>40.0</td>\n",
       "      <td>True</td>\n",
       "    </tr>\n",
       "    <tr>\n",
       "      <th>49</th>\n",
       "      <td>Finance</td>\n",
       "      <td>1</td>\n",
       "      <td>1-multiple-choice</td>\n",
       "      <td>True</td>\n",
       "      <td>The financial market</td>\n",
       "      <td>False</td>\n",
       "      <td>NaN</td>\n",
       "      <td>True</td>\n",
       "      <td>41.0</td>\n",
       "      <td>True</td>\n",
       "    </tr>\n",
       "  </tbody>\n",
       "</table>\n",
       "</div>"
      ],
      "text/plain": [
       "       Book Chapter                                section_title  is_question  \\\n",
       "0   Finance       1                          1-1-what-is-finance        False   \n",
       "1   Finance       1   1-2-the-role-of-finance-in-an-organization        False   \n",
       "2   Finance       1        1-3-importance-of-data-and-technology        False   \n",
       "3   Finance       1                       1-4-careers-in-finance        False   \n",
       "4   Finance       1                 1-5-markets-and-participants        False   \n",
       "5   Finance       1  1-6-microeconomic-and-macroeconomic-matters        False   \n",
       "6   Finance       1                    1-7-financial-instruments        False   \n",
       "7   Finance       1               1-8-concepts-of-time-and-value        False   \n",
       "8   Finance       1                                  1-key-terms        False   \n",
       "9   Finance       1                            1-multiple-choice         True   \n",
       "10  Finance       1                            1-multiple-choice         True   \n",
       "11  Finance       1                            1-multiple-choice         True   \n",
       "12  Finance       1                            1-multiple-choice         True   \n",
       "13  Finance       1                            1-multiple-choice         True   \n",
       "14  Finance       1                            1-multiple-choice         True   \n",
       "15  Finance       1                            1-multiple-choice         True   \n",
       "16  Finance       1                            1-multiple-choice         True   \n",
       "17  Finance       1                            1-multiple-choice         True   \n",
       "18  Finance       1                            1-multiple-choice         True   \n",
       "19  Finance       1                            1-multiple-choice         True   \n",
       "20  Finance       1                            1-multiple-choice         True   \n",
       "21  Finance       1                            1-multiple-choice         True   \n",
       "22  Finance       1                            1-multiple-choice         True   \n",
       "23  Finance       1                            1-multiple-choice         True   \n",
       "24  Finance       1                            1-multiple-choice         True   \n",
       "25  Finance       1                            1-multiple-choice         True   \n",
       "26  Finance       1                            1-multiple-choice         True   \n",
       "27  Finance       1                            1-multiple-choice         True   \n",
       "28  Finance       1                            1-multiple-choice         True   \n",
       "29  Finance       1                            1-multiple-choice         True   \n",
       "30  Finance       1                            1-multiple-choice         True   \n",
       "31  Finance       1                            1-multiple-choice         True   \n",
       "32  Finance       1                            1-multiple-choice         True   \n",
       "33  Finance       1                            1-multiple-choice         True   \n",
       "34  Finance       1                            1-multiple-choice         True   \n",
       "35  Finance       1                            1-multiple-choice         True   \n",
       "36  Finance       1                            1-multiple-choice         True   \n",
       "37  Finance       1                            1-multiple-choice         True   \n",
       "38  Finance       1                            1-multiple-choice         True   \n",
       "39  Finance       1                            1-multiple-choice         True   \n",
       "40  Finance       1                            1-multiple-choice         True   \n",
       "41  Finance       1                            1-multiple-choice         True   \n",
       "42  Finance       1                            1-multiple-choice         True   \n",
       "43  Finance       1                            1-multiple-choice         True   \n",
       "44  Finance       1                            1-multiple-choice         True   \n",
       "45  Finance       1                            1-multiple-choice         True   \n",
       "46  Finance       1                            1-multiple-choice         True   \n",
       "47  Finance       1                            1-multiple-choice         True   \n",
       "48  Finance       1                            1-multiple-choice         True   \n",
       "49  Finance       1                            1-multiple-choice         True   \n",
       "\n",
       "                                                 text  question_answers  \\\n",
       "0   1.1   What Is Finance?\\n\\nLearning Outcomes\\n\\...             False   \n",
       "1   1.2   The Role of Finance in an Organization\\n...             False   \n",
       "2   1.3   Importance of Data and Technology\\n\\nLea...             False   \n",
       "3   1.4   Careers in Finance\\n\\nLearning Outcomes\\...             False   \n",
       "4   1.5   Markets and Participants\\n\\nLearning Out...             False   \n",
       "5   1.6   Microeconomic and Macroeconomic Matters\\...             False   \n",
       "6   1.7   Financial Instruments\\n\\nLearning Outcom...             False   \n",
       "7   1.8   Concepts of Time and Value\\n\\nLearning O...             False   \n",
       "8   Key Terms\\n\\nbrokers\\n\\nindividuals or a firm ...             False   \n",
       "9   Which of the following was NOT identified by y...             False   \n",
       "10                                  capital budgeting             False   \n",
       "11                 financial markets and institutions             False   \n",
       "12  What is the process of determining which long-...             False   \n",
       "13                                  Capital budgeting             False   \n",
       "14                 Financial markets and institutions             False   \n",
       "15  In an organization with each of these financia...             False   \n",
       "16                                          treasurer             False   \n",
       "17                      chief financial officer (CFO)             False   \n",
       "18        Which of the following statements is false?             False   \n",
       "19  Good financial planning considers past, presen...             False   \n",
       "20  Forecasting in the form of expected sales, cos...             False   \n",
       "21  Which of the following statements regarding da...             False   \n",
       "22  Outsiders use publicly available data about fi...             False   \n",
       "23  Suppliers need financial information to determ...             False   \n",
       "24  Which of the following is generally NOT true a...             False   \n",
       "25  Cloud data storage causes increased energy con...             False   \n",
       "26  Cloud data storage comes with specialized main...             False   \n",
       "27  Which of the following describes United States...             False   \n",
       "28                                 few and low paying             False   \n",
       "29                                few and high paying             False   \n",
       "30  Which of the following organizations would be ...             False   \n",
       "31  Investment companies may hire financial analys...             False   \n",
       "32  All of the above organizations are likely to h...             False   \n",
       "33  The _______________ market is the market for _...             False   \n",
       "34                      primary; new; secondary; used             False   \n",
       "35                     secondary; used; primary; used             False   \n",
       "36  _______________ own the securities that they b...             False   \n",
       "37                                            Brokers             False   \n",
       "38                                       Comptrollers             False   \n",
       "39  _______________ act as facilitators in a marke...             False   \n",
       "40                                            Brokers             False   \n",
       "41                                       Comptrollers             False   \n",
       "42  _______________ is the study of the allocation...             False   \n",
       "43          Microeconomics; economics; macroeconomics             False   \n",
       "44          Economics; macroeconomics; microeconomics             False   \n",
       "45  Which of the following is NOT an economy-wide ...             False   \n",
       "46                                       unemployment             False   \n",
       "47                                       CEO turnover             False   \n",
       "48  _______________ is the market for short-term, ...             False   \n",
       "49                               The financial market             False   \n",
       "\n",
       "   fillblank mc_option  mc_num    mc  \n",
       "0        NaN       NaN     NaN   NaN  \n",
       "1        NaN       NaN     NaN   NaN  \n",
       "2        NaN       NaN     NaN   NaN  \n",
       "3        NaN       NaN     NaN   NaN  \n",
       "4        NaN       NaN     NaN   NaN  \n",
       "5        NaN       NaN     NaN   NaN  \n",
       "6        NaN       NaN     NaN   NaN  \n",
       "7        NaN       NaN     NaN   NaN  \n",
       "8        NaN       NaN     NaN   NaN  \n",
       "9      False     False     1.0  True  \n",
       "10       NaN      True     2.0  True  \n",
       "11       NaN      True     3.0  True  \n",
       "12     False     False     4.0  True  \n",
       "13       NaN      True     5.0  True  \n",
       "14       NaN      True     6.0  True  \n",
       "15     False     False     7.0  True  \n",
       "16       NaN      True     8.0  True  \n",
       "17       NaN      True     9.0  True  \n",
       "18     False     False    10.0  True  \n",
       "19       NaN      True    11.0  True  \n",
       "20       NaN      True    12.0  True  \n",
       "21     False     False    13.0  True  \n",
       "22       NaN      True    14.0  True  \n",
       "23       NaN      True    15.0  True  \n",
       "24     False     False    16.0  True  \n",
       "25       NaN      True    17.0  True  \n",
       "26       NaN      True    18.0  True  \n",
       "27     False     False    19.0  True  \n",
       "28       NaN      True    20.0  True  \n",
       "29       NaN      True    21.0  True  \n",
       "30     False     False    22.0  True  \n",
       "31       NaN      True    23.0  True  \n",
       "32       NaN      True    24.0  True  \n",
       "33      True     False    25.0  True  \n",
       "34       NaN      True    26.0  True  \n",
       "35       NaN      True    27.0  True  \n",
       "36      True     False    28.0  True  \n",
       "37       NaN      True    29.0  True  \n",
       "38       NaN      True    30.0  True  \n",
       "39      True     False    31.0  True  \n",
       "40       NaN      True    32.0  True  \n",
       "41       NaN      True    33.0  True  \n",
       "42      True     False    34.0  True  \n",
       "43       NaN      True    35.0  True  \n",
       "44       NaN      True    36.0  True  \n",
       "45     False     False    37.0  True  \n",
       "46       NaN      True    38.0  True  \n",
       "47       NaN      True    39.0  True  \n",
       "48      True     False    40.0  True  \n",
       "49       NaN      True    41.0  True  "
      ]
     },
     "execution_count": 106,
     "metadata": {},
     "output_type": "execute_result"
    }
   ],
   "source": [
    "df = pd.DataFrame(finance(files, BOOK))\n",
    "df.head(50)"
   ]
  },
  {
   "cell_type": "markdown",
   "id": "2f220edc",
   "metadata": {
    "papermill": {
     "duration": 0.04676,
     "end_time": "2023-05-06T14:47:13.141534",
     "exception": false,
     "start_time": "2023-05-06T14:47:13.094774",
     "status": "completed"
    },
    "tags": []
   },
   "source": [
    "# Finance Testbank\n",
    "- Have multiple choice\n",
    "- True or False\n",
    "- Problems"
   ]
  },
  {
   "cell_type": "code",
   "execution_count": 107,
   "id": "12dcb13d",
   "metadata": {
    "execution": {
     "iopub.execute_input": "2023-05-06T14:47:13.237052Z",
     "iopub.status.busy": "2023-05-06T14:47:13.235985Z",
     "iopub.status.idle": "2023-05-06T14:47:13.242994Z",
     "shell.execute_reply": "2023-05-06T14:47:13.242077Z"
    },
    "papermill": {
     "duration": 0.05646,
     "end_time": "2023-05-06T14:47:13.245283",
     "exception": false,
     "start_time": "2023-05-06T14:47:13.188823",
     "status": "completed"
    },
    "tags": []
   },
   "outputs": [
    {
     "data": {
      "text/plain": [
       "13"
      ]
     },
     "execution_count": 107,
     "metadata": {},
     "output_type": "execute_result"
    }
   ],
   "source": [
    "length = 11\n",
    "len('IMPRESSIONIST')"
   ]
  },
  {
   "cell_type": "code",
   "execution_count": 108,
   "id": "72e55cca",
   "metadata": {
    "execution": {
     "iopub.execute_input": "2023-05-06T14:47:13.337872Z",
     "iopub.status.busy": "2023-05-06T14:47:13.337010Z",
     "iopub.status.idle": "2023-05-06T14:47:13.507544Z",
     "shell.execute_reply": "2023-05-06T14:47:13.506241Z"
    },
    "papermill": {
     "duration": 0.219728,
     "end_time": "2023-05-06T14:47:13.510509",
     "exception": false,
     "start_time": "2023-05-06T14:47:13.290781",
     "status": "completed"
    },
    "tags": []
   },
   "outputs": [],
   "source": [
    "files = sorted(glob('/kaggle/input/csnlp-datasets/openstax/openstax/Finance_TestBank/Test Bank/*.docx'))\n",
    "text = docx2txt.process(files[5])\n",
    "# BOOK = ''"
   ]
  },
  {
   "cell_type": "code",
   "execution_count": 109,
   "id": "f36d0a79",
   "metadata": {
    "execution": {
     "iopub.execute_input": "2023-05-06T14:47:13.601290Z",
     "iopub.status.busy": "2023-05-06T14:47:13.600836Z",
     "iopub.status.idle": "2023-05-06T14:47:13.617189Z",
     "shell.execute_reply": "2023-05-06T14:47:13.616002Z"
    },
    "papermill": {
     "duration": 0.064636,
     "end_time": "2023-05-06T14:47:13.619635",
     "exception": false,
     "start_time": "2023-05-06T14:47:13.554999",
     "status": "completed"
    },
    "tags": []
   },
   "outputs": [
    {
     "data": {
      "text/plain": [
       "['\\n\\nTEST BANK\\n\\n\\n\\n\\n\\n\\n\\n\\n\\nTEST BANKs\\n\\n\\n\\n\\n\\n\\nChapter 14\\n\\nTest Bank\\n\\nRegression Analysis in Finance\\n\\nThese questions and problems can all be solved in a classroom setting using a handheld financial calculator.\\n\\nTrue or False Questions\\n\\nThe numerical value of a correlation coefficient must always fall in the interval from 0 to 1 inclusive.\\n\\nTrue\\n\\nFalse',\n",
       " '\\n\\nSection 14.1 LO 1 Easy\\n\\nThe residual of a linear regression equation is calculated by subtracting the predicted y value from the observed y value, which can only produce a positive result.\\n\\nTrue\\n\\nFalse',\n",
       " '\\n\\nSection 14.2 LO 1 Moderate\\n\\nThe slope of a linear regression line and its correlation coefficient will always have the same sign. Either both will be positive or both will be negative.\\n\\nTrue\\n\\nFalse']"
      ]
     },
     "execution_count": 109,
     "metadata": {},
     "output_type": "execute_result"
    }
   ],
   "source": [
    "tf = re.findall('\\n\\n[A-Za-z].*?\\.\\n\\nTrue\\n\\nFalse', text, re.DOTALL)\n",
    "tf"
   ]
  },
  {
   "cell_type": "code",
   "execution_count": 110,
   "id": "33bea824",
   "metadata": {
    "execution": {
     "iopub.execute_input": "2023-05-06T14:47:13.717463Z",
     "iopub.status.busy": "2023-05-06T14:47:13.716599Z",
     "iopub.status.idle": "2023-05-06T14:47:13.726557Z",
     "shell.execute_reply": "2023-05-06T14:47:13.725739Z"
    },
    "papermill": {
     "duration": 0.061074,
     "end_time": "2023-05-06T14:47:13.728633",
     "exception": false,
     "start_time": "2023-05-06T14:47:13.667559",
     "status": "completed"
    },
    "tags": []
   },
   "outputs": [
    {
     "data": {
      "text/plain": [
       "'\\n\\nThe chief financial officer of a company determines that there is a strong positive correlation between the company’s stock price and the Russell 2000 index. Which of the following is a valid interpretation of this correlation?\\n\\nAn increase in the Russell 2000 index will cause a decrease in the stock price.\\n\\nAn increase in the Russell 2000 index will cause an increase in the stock price.\\n\\nAs the Russell 2000 index increases, the stock price tends to decrease.\\n\\nAs the Russell 2000 index increases, the stock price tends to increase.\\n\\nSection '"
      ]
     },
     "execution_count": 110,
     "metadata": {},
     "output_type": "execute_result"
    }
   ],
   "source": [
    "problem_end = re.search(\"\\n\\nProblems\\n\\n\", text).end()\n",
    "problem_start = re.search(\"\\n\\nProblems\\n\\n\", text).start()\n",
    "mc_start = re.search('\\n\\nMultiple Choice Questions\\n\\n', text, re.DOTALL).start()\n",
    "problem_text = text[problem_end:]\n",
    "problems = re.findall('\\n\\n.*?\\n\\nSection ', problem_text, re.DOTALL)\n",
    "mc = re.findall('\\n\\n.*?\\n\\nSection ', text[mc_start:problem_start], re.DOTALL)\n",
    "mc[4]"
   ]
  },
  {
   "cell_type": "code",
   "execution_count": 111,
   "id": "09cd26fa",
   "metadata": {
    "execution": {
     "iopub.execute_input": "2023-05-06T14:47:13.823900Z",
     "iopub.status.busy": "2023-05-06T14:47:13.823222Z",
     "iopub.status.idle": "2023-05-06T14:47:13.838644Z",
     "shell.execute_reply": "2023-05-06T14:47:13.837730Z"
    },
    "papermill": {
     "duration": 0.064629,
     "end_time": "2023-05-06T14:47:13.840673",
     "exception": false,
     "start_time": "2023-05-06T14:47:13.776044",
     "status": "completed"
    },
    "tags": []
   },
   "outputs": [],
   "source": [
    "def finance_tb(files, BOOK):\n",
    "    print(f\"Book: {BOOK}\")\n",
    "    rows = []\n",
    "    for file in files:\n",
    "        filename = file.split('/')[-1].strip('.docx')\n",
    "        text = docx2txt.process(file)\n",
    "        start = re.search(\"\\tThis file is copyright\", text).start()\n",
    "        try:\n",
    "            text = text[:start]\n",
    "        except:\n",
    "            try:\n",
    "                start = re.search(\"\\n\\nTest Bank\\n\", text).start()\n",
    "                text = text[start:]\n",
    "            except:\n",
    "                text = text\n",
    "        text = text.strip(\"\\n\\nTest Bank\")\n",
    "        chapter = filename.split('Ch')[-1]\n",
    "        tf = re.findall('\\n\\n[A-Za-z].*?\\.\\n\\nTrue\\n\\nFalse', text, re.DOTALL)\n",
    "        try:\n",
    "            problem_end = re.search(\"\\n\\nProblems\\n\\n\", text).end()\n",
    "            problem_start = re.search(\"\\n\\nProblems\\n\\n\", text).start()\n",
    "            problem_text = text[problem_end:]\n",
    "            problems = re.findall('\\n\\n.*?\\n\\nSection ', problem_text, re.DOTALL)\n",
    "            try:\n",
    "                mc_start = re.search('\\n\\nMultiple Choice Questions\\n\\n', text, re.DOTALL).start()\n",
    "                mc = re.findall('\\n\\n.*?\\n\\nSection ', text[mc_start:problem_start], re.DOTALL)\n",
    "            except:\n",
    "                print(\"no mc questions\")\n",
    "        except:\n",
    "            problems = []\n",
    "            mc_start = re.search('\\n\\nMultiple Choice Questions\\n\\n', text, re.DOTALL).start()\n",
    "            mc = re.findall('\\n\\n.*?\\n\\nSection ', text[mc_start:], re.DOTALL)\n",
    "\n",
    "        #go over the problems\n",
    "        for problem in problems:\n",
    "            row = dict()\n",
    "            row['Book'] = BOOK\n",
    "            row['Chapter'] = chapter\n",
    "            row['section_title'] = section_title\n",
    "            row['is_question'] = True\n",
    "            row['text'] = problem\n",
    "            row['question_answers'] = False\n",
    "            row['truefalse'] = 0\n",
    "            fb = 0\n",
    "            if \"___\" in q:\n",
    "                fb += 1\n",
    "            row['fillblank'] = bool(fb)\n",
    "            row['mc'] = False\n",
    "            rows.append(row)\n",
    "        for q in mc:\n",
    "            row = dict()\n",
    "            row['Book'] = BOOK\n",
    "            row['Chapter'] = chapter\n",
    "            row['section_title'] = section_title\n",
    "            row['is_question'] = True\n",
    "            row['text'] = q\n",
    "            row['question_answers'] = False\n",
    "            row['truefalse'] = 0\n",
    "            fb = 0\n",
    "            if \"___\" in q:\n",
    "                fb += 1\n",
    "            row['fillblank'] = bool(fb)\n",
    "            row['mc'] = True\n",
    "            rows.append(row)\n",
    "        for q in tf:\n",
    "            row = dict()\n",
    "            row['Book'] = BOOK\n",
    "            row['Chapter'] = chapter\n",
    "            row['section_title'] = section_title\n",
    "            row['is_question'] = True\n",
    "            row['text'] = q\n",
    "            row['question_answers'] = False\n",
    "            row['truefalse'] = 1\n",
    "            fb = 0\n",
    "            if \"___\" in q:\n",
    "                fb += 1\n",
    "            row['fillblank'] = bool(fb)\n",
    "            row['mc'] = False\n",
    "            rows.append(row)\n",
    "    return rows"
   ]
  },
  {
   "cell_type": "code",
   "execution_count": 112,
   "id": "253a465d",
   "metadata": {
    "execution": {
     "iopub.execute_input": "2023-05-06T14:47:13.936328Z",
     "iopub.status.busy": "2023-05-06T14:47:13.935658Z",
     "iopub.status.idle": "2023-05-06T14:47:14.978175Z",
     "shell.execute_reply": "2023-05-06T14:47:14.976981Z"
    },
    "papermill": {
     "duration": 1.094721,
     "end_time": "2023-05-06T14:47:14.980778",
     "exception": false,
     "start_time": "2023-05-06T14:47:13.886057",
     "status": "completed"
    },
    "tags": []
   },
   "outputs": [
    {
     "name": "stdout",
     "output_type": "stream",
     "text": [
      "Book: Finance\n",
      "no mc questions\n",
      "no mc questions\n",
      "no mc questions\n"
     ]
    }
   ],
   "source": [
    "pd.DataFrame(finance_tb(files, BOOK)).to_parquet('finance_testbank.pq')"
   ]
  },
  {
   "cell_type": "code",
   "execution_count": 113,
   "id": "51b47510",
   "metadata": {
    "execution": {
     "iopub.execute_input": "2023-05-06T14:47:15.072045Z",
     "iopub.status.busy": "2023-05-06T14:47:15.071642Z",
     "iopub.status.idle": "2023-05-06T14:47:16.132248Z",
     "shell.execute_reply": "2023-05-06T14:47:16.131069Z"
    },
    "papermill": {
     "duration": 1.107744,
     "end_time": "2023-05-06T14:47:16.134512",
     "exception": false,
     "start_time": "2023-05-06T14:47:15.026768",
     "status": "completed"
    },
    "tags": []
   },
   "outputs": [
    {
     "name": "stdout",
     "output_type": "stream",
     "text": [
      "Book: Finance\n",
      "no mc questions\n",
      "no mc questions\n",
      "no mc questions\n"
     ]
    },
    {
     "data": {
      "text/html": [
       "<div>\n",
       "<style scoped>\n",
       "    .dataframe tbody tr th:only-of-type {\n",
       "        vertical-align: middle;\n",
       "    }\n",
       "\n",
       "    .dataframe tbody tr th {\n",
       "        vertical-align: top;\n",
       "    }\n",
       "\n",
       "    .dataframe thead th {\n",
       "        text-align: right;\n",
       "    }\n",
       "</style>\n",
       "<table border=\"1\" class=\"dataframe\">\n",
       "  <thead>\n",
       "    <tr style=\"text-align: right;\">\n",
       "      <th></th>\n",
       "      <th>Book</th>\n",
       "      <th>Chapter</th>\n",
       "      <th>section_title</th>\n",
       "      <th>is_question</th>\n",
       "      <th>text</th>\n",
       "      <th>question_answers</th>\n",
       "      <th>truefalse</th>\n",
       "      <th>fillblank</th>\n",
       "      <th>mc</th>\n",
       "    </tr>\n",
       "  </thead>\n",
       "  <tbody>\n",
       "    <tr>\n",
       "      <th>434</th>\n",
       "      <td>Finance</td>\n",
       "      <td>7</td>\n",
       "      <td>1-1-what-is-finance</td>\n",
       "      <td>True</td>\n",
       "      <td>\\n\\nWhat is the present value of $2,350 in 5 y...</td>\n",
       "      <td>False</td>\n",
       "      <td>0</td>\n",
       "      <td>False</td>\n",
       "      <td>False</td>\n",
       "    </tr>\n",
       "    <tr>\n",
       "      <th>92</th>\n",
       "      <td>Finance</td>\n",
       "      <td>12</td>\n",
       "      <td>1-1-what-is-finance</td>\n",
       "      <td>True</td>\n",
       "      <td>\\n\\nBecause a majority of bonds pay a fixed ra...</td>\n",
       "      <td>False</td>\n",
       "      <td>0</td>\n",
       "      <td>True</td>\n",
       "      <td>True</td>\n",
       "    </tr>\n",
       "    <tr>\n",
       "      <th>244</th>\n",
       "      <td>Finance</td>\n",
       "      <td>18</td>\n",
       "      <td>1-1-what-is-finance</td>\n",
       "      <td>True</td>\n",
       "      <td>\\n\\nTEST BANK\\n\\n\\n\\n\\n\\n\\n\\n\\n\\nTEST BANKs\\n\\...</td>\n",
       "      <td>False</td>\n",
       "      <td>1</td>\n",
       "      <td>False</td>\n",
       "      <td>False</td>\n",
       "    </tr>\n",
       "    <tr>\n",
       "      <th>6</th>\n",
       "      <td>Finance</td>\n",
       "      <td>1</td>\n",
       "      <td>1-1-what-is-finance</td>\n",
       "      <td>True</td>\n",
       "      <td>\\n\\nWhich type of financial data do companies ...</td>\n",
       "      <td>False</td>\n",
       "      <td>0</td>\n",
       "      <td>False</td>\n",
       "      <td>True</td>\n",
       "    </tr>\n",
       "    <tr>\n",
       "      <th>237</th>\n",
       "      <td>Finance</td>\n",
       "      <td>18</td>\n",
       "      <td>1-1-what-is-finance</td>\n",
       "      <td>True</td>\n",
       "      <td>\\n\\nLambda Company, a merchandising company, h...</td>\n",
       "      <td>False</td>\n",
       "      <td>0</td>\n",
       "      <td>False</td>\n",
       "      <td>True</td>\n",
       "    </tr>\n",
       "    <tr>\n",
       "      <th>14</th>\n",
       "      <td>Finance</td>\n",
       "      <td>1</td>\n",
       "      <td>1-1-what-is-finance</td>\n",
       "      <td>True</td>\n",
       "      <td>\\n\\nWhich US federal agency is responsible for...</td>\n",
       "      <td>False</td>\n",
       "      <td>0</td>\n",
       "      <td>False</td>\n",
       "      <td>True</td>\n",
       "    </tr>\n",
       "    <tr>\n",
       "      <th>460</th>\n",
       "      <td>Finance</td>\n",
       "      <td>7</td>\n",
       "      <td>1-1-what-is-finance</td>\n",
       "      <td>True</td>\n",
       "      <td>\\n\\nAn extract from a restaurant supply compan...</td>\n",
       "      <td>False</td>\n",
       "      <td>0</td>\n",
       "      <td>False</td>\n",
       "      <td>True</td>\n",
       "    </tr>\n",
       "    <tr>\n",
       "      <th>412</th>\n",
       "      <td>Finance</td>\n",
       "      <td>6</td>\n",
       "      <td>1-1-what-is-finance</td>\n",
       "      <td>True</td>\n",
       "      <td>\\n\\nMultiple Choice Questions\\n\\nA firm's mana...</td>\n",
       "      <td>False</td>\n",
       "      <td>0</td>\n",
       "      <td>False</td>\n",
       "      <td>True</td>\n",
       "    </tr>\n",
       "    <tr>\n",
       "      <th>11</th>\n",
       "      <td>Finance</td>\n",
       "      <td>1</td>\n",
       "      <td>1-1-what-is-finance</td>\n",
       "      <td>True</td>\n",
       "      <td>\\n\\nWhen a company’s security is sold in the s...</td>\n",
       "      <td>False</td>\n",
       "      <td>0</td>\n",
       "      <td>False</td>\n",
       "      <td>True</td>\n",
       "    </tr>\n",
       "    <tr>\n",
       "      <th>284</th>\n",
       "      <td>Finance</td>\n",
       "      <td>2</td>\n",
       "      <td>1-1-what-is-finance</td>\n",
       "      <td>True</td>\n",
       "      <td>\\n\\nWhich of the following functions does a co...</td>\n",
       "      <td>False</td>\n",
       "      <td>0</td>\n",
       "      <td>False</td>\n",
       "      <td>True</td>\n",
       "    </tr>\n",
       "  </tbody>\n",
       "</table>\n",
       "</div>"
      ],
      "text/plain": [
       "        Book Chapter        section_title  is_question  \\\n",
       "434  Finance       7  1-1-what-is-finance         True   \n",
       "92   Finance      12  1-1-what-is-finance         True   \n",
       "244  Finance      18  1-1-what-is-finance         True   \n",
       "6    Finance       1  1-1-what-is-finance         True   \n",
       "237  Finance      18  1-1-what-is-finance         True   \n",
       "14   Finance       1  1-1-what-is-finance         True   \n",
       "460  Finance       7  1-1-what-is-finance         True   \n",
       "412  Finance       6  1-1-what-is-finance         True   \n",
       "11   Finance       1  1-1-what-is-finance         True   \n",
       "284  Finance       2  1-1-what-is-finance         True   \n",
       "\n",
       "                                                  text  question_answers  \\\n",
       "434  \\n\\nWhat is the present value of $2,350 in 5 y...             False   \n",
       "92   \\n\\nBecause a majority of bonds pay a fixed ra...             False   \n",
       "244  \\n\\nTEST BANK\\n\\n\\n\\n\\n\\n\\n\\n\\n\\nTEST BANKs\\n\\...             False   \n",
       "6    \\n\\nWhich type of financial data do companies ...             False   \n",
       "237  \\n\\nLambda Company, a merchandising company, h...             False   \n",
       "14   \\n\\nWhich US federal agency is responsible for...             False   \n",
       "460  \\n\\nAn extract from a restaurant supply compan...             False   \n",
       "412  \\n\\nMultiple Choice Questions\\n\\nA firm's mana...             False   \n",
       "11   \\n\\nWhen a company’s security is sold in the s...             False   \n",
       "284  \\n\\nWhich of the following functions does a co...             False   \n",
       "\n",
       "     truefalse  fillblank     mc  \n",
       "434          0      False  False  \n",
       "92           0       True   True  \n",
       "244          1      False  False  \n",
       "6            0      False   True  \n",
       "237          0      False   True  \n",
       "14           0      False   True  \n",
       "460          0      False   True  \n",
       "412          0      False   True  \n",
       "11           0      False   True  \n",
       "284          0      False   True  "
      ]
     },
     "execution_count": 113,
     "metadata": {},
     "output_type": "execute_result"
    }
   ],
   "source": [
    "pd.DataFrame(finance_tb(files, BOOK)).sample(10)"
   ]
  },
  {
   "cell_type": "markdown",
   "id": "e14a0342",
   "metadata": {
    "papermill": {
     "duration": 0.044905,
     "end_time": "2023-05-06T14:47:16.226061",
     "exception": false,
     "start_time": "2023-05-06T14:47:16.181156",
     "status": "completed"
    },
    "tags": []
   },
   "source": [
    "# Principles of Management\n",
    "- concept checks at every section\n",
    "- critical thinking case some chapters\n",
    "- review questions every chapter\n",
    "- managerial skills and managerial decision exercises\n",
    "- has separate review questions folder with extra questions :yay:\n",
    "\n"
   ]
  },
  {
   "cell_type": "code",
   "execution_count": 114,
   "id": "4dbbe6f4",
   "metadata": {
    "execution": {
     "iopub.execute_input": "2023-05-06T14:47:16.319929Z",
     "iopub.status.busy": "2023-05-06T14:47:16.319231Z",
     "iopub.status.idle": "2023-05-06T14:47:16.325009Z",
     "shell.execute_reply": "2023-05-06T14:47:16.323710Z"
    },
    "papermill": {
     "duration": 0.056158,
     "end_time": "2023-05-06T14:47:16.327483",
     "exception": false,
     "start_time": "2023-05-06T14:47:16.271325",
     "status": "completed"
    },
    "tags": []
   },
   "outputs": [
    {
     "name": "stdout",
     "output_type": "stream",
     "text": [
      "file: 0, PrinciplesofFinance-TestBank-Ch1.docx\n",
      "file: 1, PrinciplesofFinance-TestBank-Ch10.docx\n",
      "file: 2, PrinciplesofFinance-TestBank-Ch11.docx\n",
      "file: 3, PrinciplesofFinance-TestBank-Ch12.docx\n",
      "file: 4, PrinciplesofFinance-TestBank-Ch13.docx\n",
      "file: 5, PrinciplesofFinance-TestBank-Ch14.docx\n",
      "file: 6, PrinciplesofFinance-TestBank-Ch15.docx\n",
      "file: 7, PrinciplesofFinance-TestBank-Ch16.docx\n",
      "file: 8, PrinciplesofFinance-TestBank-Ch17.docx\n",
      "file: 9, PrinciplesofFinance-TestBank-Ch18.docx\n",
      "file: 10, PrinciplesofFinance-TestBank-Ch19.docx\n",
      "file: 11, PrinciplesofFinance-TestBank-Ch2.docx\n",
      "file: 12, PrinciplesofFinance-TestBank-Ch20.docx\n",
      "file: 13, PrinciplesofFinance-TestBank-Ch3.docx\n",
      "file: 14, PrinciplesofFinance-TestBank-Ch4.docx\n",
      "file: 15, PrinciplesofFinance-TestBank-Ch5.docx\n",
      "file: 16, PrinciplesofFinance-TestBank-Ch6.docx\n",
      "file: 17, PrinciplesofFinance-TestBank-Ch7.docx\n",
      "file: 18, PrinciplesofFinance-TestBank-Ch8.docx\n",
      "file: 19, PrinciplesofFinance-TestBank-Ch9.docx\n"
     ]
    }
   ],
   "source": [
    "for i, file in enumerate(files):\n",
    "    print(f\"file: {i}, {file.split('/')[-1]}\")"
   ]
  },
  {
   "cell_type": "code",
   "execution_count": 115,
   "id": "15dc3ec3",
   "metadata": {
    "execution": {
     "iopub.execute_input": "2023-05-06T14:47:16.424875Z",
     "iopub.status.busy": "2023-05-06T14:47:16.424130Z",
     "iopub.status.idle": "2023-05-06T14:47:16.524947Z",
     "shell.execute_reply": "2023-05-06T14:47:16.524012Z"
    },
    "papermill": {
     "duration": 0.152764,
     "end_time": "2023-05-06T14:47:16.527588",
     "exception": false,
     "start_time": "2023-05-06T14:47:16.374824",
     "status": "completed"
    },
    "tags": []
   },
   "outputs": [],
   "source": [
    "files = sorted(glob('/kaggle/input/csnlp-datasets/openstax/openstax/principles-management/principles-management/*.docx'))\n",
    "text = docx2txt.process(files[88])\n",
    "BOOK = 'Principles of Management'"
   ]
  },
  {
   "cell_type": "code",
   "execution_count": 116,
   "id": "ceb4834d",
   "metadata": {
    "execution": {
     "iopub.execute_input": "2023-05-06T14:47:16.625047Z",
     "iopub.status.busy": "2023-05-06T14:47:16.624127Z",
     "iopub.status.idle": "2023-05-06T14:47:16.631743Z",
     "shell.execute_reply": "2023-05-06T14:47:16.630636Z"
    },
    "papermill": {
     "duration": 0.059344,
     "end_time": "2023-05-06T14:47:16.634256",
     "exception": false,
     "start_time": "2023-05-06T14:47:16.574912",
     "status": "completed"
    },
    "tags": []
   },
   "outputs": [
    {
     "data": {
      "text/plain": [
       "['What are the three major types of communication?',\n",
       " 'How can you manage the inflow of electronic communication?',\n",
       " 'What are the major influences on organizational communication, and how can organizational design affect communication?',\n",
       " 'Access for free at https://openstax.org']"
      ]
     },
     "execution_count": 116,
     "metadata": {},
     "output_type": "execute_result"
    }
   ],
   "source": [
    "start = re.search(\"\\nConcept Check\", text).start()\n",
    "concepts = text[start:].split('\\n\\n')[1:]\n",
    "concepts"
   ]
  },
  {
   "cell_type": "code",
   "execution_count": 117,
   "id": "4d5c4135",
   "metadata": {
    "execution": {
     "iopub.execute_input": "2023-05-06T14:47:16.733082Z",
     "iopub.status.busy": "2023-05-06T14:47:16.732235Z",
     "iopub.status.idle": "2023-05-06T14:47:16.754241Z",
     "shell.execute_reply": "2023-05-06T14:47:16.752919Z"
    },
    "papermill": {
     "duration": 0.073744,
     "end_time": "2023-05-06T14:47:16.756574",
     "exception": false,
     "start_time": "2023-05-06T14:47:16.682830",
     "status": "completed"
    },
    "tags": []
   },
   "outputs": [],
   "source": [
    "question_files = ['critical-thinking-case', 'questions', 'exercises']\n",
    "def management(files, BOOK):\n",
    "    print(f\"Book: {BOOK}\")\n",
    "    rows = []\n",
    "    for file in files:\n",
    "        \n",
    "        text = docx2txt.process(file)\n",
    "        try:\n",
    "            start = re.search(\"\\nAccess for free\", text).start()\n",
    "            text = text[:start]\n",
    "        except:\n",
    "            text = text\n",
    "        filename = file.split('/')[-1]\n",
    "        section_title = re.sub(r\"\\.docx$\", \"\", filename)\n",
    "        chapter = filename.split('-')[0]\n",
    "        is_question = any(q for q in question_files if q in file)\n",
    "        if is_question:\n",
    "            if 'exercises' in filename and 'managerial' in filename:\n",
    "                qs = re.findall('Managerial Decision Exercises\\n(.*?)$', text, re.DOTALL)[0].split('\\n\\n')\n",
    "                for q in qs:\n",
    "                    row = dict()\n",
    "                    row['Book'] = BOOK\n",
    "                    row['Chapter'] = chapter\n",
    "                    row['section_title'] = section_title\n",
    "                    row['is_question'] = True\n",
    "                    row['text'] = q.strip('\\n\\n').strip('\\n')\n",
    "                    rows.append(row)\n",
    "            elif 'exercises' in filename and 'skills' in filename:\n",
    "                qs = re.findall('Management Skills Application Exercises\\n(.*?)$', text, re.DOTALL)[0].split('\\n\\n')\n",
    "                for q in qs:\n",
    "                    row = dict()\n",
    "                    row['Book'] = BOOK\n",
    "                    row['Chapter'] = chapter\n",
    "                    row['section_title'] = section_title\n",
    "                    row['is_question'] = True\n",
    "                    row['text'] = q.strip('\\n\\n').strip('\\n')\n",
    "                    rows.append(row)\n",
    "            elif 'critical-thinking-case' in filename:\n",
    "                try:\n",
    "                    cq = re.findall('Critical Thinking Case\\n\\n(.*?)$', text, re.DOTALL)[0]\n",
    "                    qs = re.findall('\\n\\n.*Questions\\n\\n(.*?)$', cq, re.DOTALL)[0].split('\\n\\n')\n",
    "#                     print(f\"success:{qs} \\n\\n {cq} \\n\\n\")\n",
    "                except:\n",
    "                    start = re.search('Questions:', cq).end()\n",
    "                    end = re.search('Sources:', cq).start()\n",
    "                    qs = cq[start:end].split('\\n\\n')\n",
    "#                     print(f\"Critical Thinking: {filename}\")\n",
    "                for q in qs:\n",
    "                    if len(q) == 0:\n",
    "                        continue\n",
    "                    row = dict()\n",
    "                    row['Book'] = BOOK\n",
    "                    row['Chapter'] = chapter\n",
    "                    row['section_title'] = section_title\n",
    "                    row['is_question'] = True\n",
    "                    row['text'] = q.strip('\\n\\n').strip('\\n')\n",
    "                    rows.append(row)\n",
    "                row = dict()\n",
    "                row['Book'] = BOOK\n",
    "                row['Chapter'] = chapter\n",
    "                row['section_title'] = section_title\n",
    "                row['is_question'] = False\n",
    "                row['text'] = q.strip('\\n\\n').strip('\\n')\n",
    "                rows.append(row)\n",
    "            # Last case review Questions\n",
    "            elif 'questions' in filename:\n",
    "                qs = re.findall('Review Questions\\n\\n(.*?)$', text, re.DOTALL)[0].split('\\n\\n')\n",
    "                for q in qs:\n",
    "                    row = dict()\n",
    "                    row['Book'] = BOOK\n",
    "                    row['Chapter'] = chapter\n",
    "                    row['section_title'] = section_title\n",
    "                    row['is_question'] = True\n",
    "                    row['text'] = q.strip('\\n\\n').strip('\\n')\n",
    "                    rows.append(row)\n",
    "            else:\n",
    "                print(f\"this file is missing: {filename}\")\n",
    "                continue\n",
    "        else:\n",
    "#             concepts = re.findall('Concept Check\\n\\n.*?$', text, re.DOTALL)[0].split('\\n\\n')[1:]\n",
    "            try:\n",
    "                start = re.search(\"\\nConcept Check\", text).start()\n",
    "                concepts = text[start:].split('\\n\\n')[1:]\n",
    "                text = text[:start]\n",
    "            except:\n",
    "                concepts = []\n",
    "            for concept in concepts:\n",
    "                row = dict()\n",
    "                row['Book'] = BOOK\n",
    "                row['Chapter'] = chapter\n",
    "                row['section_title'] = section_title\n",
    "                row['is_question'] = True\n",
    "                row['text'] = concept\n",
    "                row['concept'] = 1\n",
    "#                 print(row)\n",
    "                rows.append(row)\n",
    "            row = dict()\n",
    "            row['Book'] = BOOK\n",
    "            row['Chapter'] = chapter\n",
    "            row['section_title'] = section_title\n",
    "            row['is_question'] = False\n",
    "            row['text'] = text.strip('\\n\\n').strip('\\n')\n",
    "            rows.append(row)\n",
    "    return rows"
   ]
  },
  {
   "cell_type": "code",
   "execution_count": 118,
   "id": "f5b94c21",
   "metadata": {
    "execution": {
     "iopub.execute_input": "2023-05-06T14:47:16.854015Z",
     "iopub.status.busy": "2023-05-06T14:47:16.852986Z",
     "iopub.status.idle": "2023-05-06T14:47:19.423557Z",
     "shell.execute_reply": "2023-05-06T14:47:19.422637Z"
    },
    "papermill": {
     "duration": 2.622311,
     "end_time": "2023-05-06T14:47:19.426241",
     "exception": false,
     "start_time": "2023-05-06T14:47:16.803930",
     "status": "completed"
    },
    "tags": []
   },
   "outputs": [
    {
     "name": "stdout",
     "output_type": "stream",
     "text": [
      "Book: Principles of Management\n"
     ]
    }
   ],
   "source": [
    "# df = pd.DataFrame(management(files))\n",
    "pd.DataFrame(management(files, BOOK)).to_parquet('management_tq.pq')\n",
    "# flag = df[\"concept\"] == 1\n",
    "# df[flag].text.unique()[0]"
   ]
  },
  {
   "cell_type": "markdown",
   "id": "f5437aaa",
   "metadata": {
    "papermill": {
     "duration": 0.048055,
     "end_time": "2023-05-06T14:47:19.521418",
     "exception": false,
     "start_time": "2023-05-06T14:47:19.473363",
     "status": "completed"
    },
    "tags": []
   },
   "source": [
    "# Management Review Questions\n",
    "- very detailed review questions to each section\n",
    "- each section has a small summary/intro too\n"
   ]
  },
  {
   "cell_type": "code",
   "execution_count": 119,
   "id": "de4b8ded",
   "metadata": {
    "execution": {
     "iopub.execute_input": "2023-05-06T14:47:19.616053Z",
     "iopub.status.busy": "2023-05-06T14:47:19.614788Z",
     "iopub.status.idle": "2023-05-06T14:47:19.665887Z",
     "shell.execute_reply": "2023-05-06T14:47:19.665009Z"
    },
    "papermill": {
     "duration": 0.100042,
     "end_time": "2023-05-06T14:47:19.668190",
     "exception": false,
     "start_time": "2023-05-06T14:47:19.568148",
     "status": "completed"
    },
    "tags": []
   },
   "outputs": [],
   "source": [
    "files = sorted(glob('/kaggle/input/csnlp-datasets/openstax/openstax/OpenStax_PrinciplesofManagement_Review_Questions/OpenStax_PrinciplesofManagement_Review_Questions/*.docx'))\n",
    "text = docx2txt.process(files[4])\n",
    "# text"
   ]
  },
  {
   "cell_type": "code",
   "execution_count": 120,
   "id": "e5aeb053",
   "metadata": {
    "execution": {
     "iopub.execute_input": "2023-05-06T14:47:19.767349Z",
     "iopub.status.busy": "2023-05-06T14:47:19.766926Z",
     "iopub.status.idle": "2023-05-06T14:47:19.774332Z",
     "shell.execute_reply": "2023-05-06T14:47:19.773123Z"
    },
    "papermill": {
     "duration": 0.05966,
     "end_time": "2023-05-06T14:47:19.776611",
     "exception": false,
     "start_time": "2023-05-06T14:47:19.716951",
     "status": "completed"
    },
    "tags": []
   },
   "outputs": [
    {
     "data": {
      "text/plain": [
       "'01'"
      ]
     },
     "execution_count": 120,
     "metadata": {},
     "output_type": "execute_result"
    }
   ],
   "source": [
    "files[0].split('/')[-1].strip('.docx').split('Ch')[-1]"
   ]
  },
  {
   "cell_type": "code",
   "execution_count": 121,
   "id": "24d28b50",
   "metadata": {
    "execution": {
     "iopub.execute_input": "2023-05-06T14:47:19.874884Z",
     "iopub.status.busy": "2023-05-06T14:47:19.874291Z",
     "iopub.status.idle": "2023-05-06T14:47:19.882712Z",
     "shell.execute_reply": "2023-05-06T14:47:19.881949Z"
    },
    "papermill": {
     "duration": 0.060588,
     "end_time": "2023-05-06T14:47:19.884742",
     "exception": false,
     "start_time": "2023-05-06T14:47:19.824154",
     "status": "completed"
    },
    "tags": []
   },
   "outputs": [],
   "source": [
    "def management_rq(files, BOOK):\n",
    "    print(f\"Book: {BOOK}\")\n",
    "    rows = []\n",
    "    for file in files:\n",
    "        filename = file.split('/')[-1].strip('.docx')\n",
    "        text = docx2txt.process(file)\n",
    "        start = re.search(\"\\n\\nTo answer a particular question,\", text).start()\n",
    "        text = text[:start]\n",
    "        chapter = filename.split('Ch')[-1]\n",
    "        review_questions = re.findall('[1-9]\\.[1-9] Review Questions.*?\\n\\n[1-9]', text, re.DOTALL)\n",
    "        for section in review_questions:\n",
    "            for q in section.split('\\n\\n'):\n",
    "                if re.match('[1-9]\\.[1-9]', q):\n",
    "                    continue\n",
    "                else:\n",
    "                    row = dict()\n",
    "                    row['Book'] = BOOK\n",
    "                    row['Chapter'] = chapter\n",
    "                    row['section_title'] = filename\n",
    "                    row['text'] = q\n",
    "                    row['is_question'] = True\n",
    "                    rows.append(row)\n",
    "    return rows"
   ]
  },
  {
   "cell_type": "code",
   "execution_count": 122,
   "id": "b7081899",
   "metadata": {
    "execution": {
     "iopub.execute_input": "2023-05-06T14:47:19.985139Z",
     "iopub.status.busy": "2023-05-06T14:47:19.984454Z",
     "iopub.status.idle": "2023-05-06T14:47:20.316341Z",
     "shell.execute_reply": "2023-05-06T14:47:20.315416Z"
    },
    "papermill": {
     "duration": 0.385032,
     "end_time": "2023-05-06T14:47:20.319092",
     "exception": false,
     "start_time": "2023-05-06T14:47:19.934060",
     "status": "completed"
    },
    "tags": []
   },
   "outputs": [
    {
     "name": "stdout",
     "output_type": "stream",
     "text": [
      "Book: Principles of Management\n"
     ]
    }
   ],
   "source": [
    "pd.DataFrame(management_rq(files, BOOK)).to_parquet('management_review_questions.pq')"
   ]
  },
  {
   "cell_type": "markdown",
   "id": "15aa4b12",
   "metadata": {
    "papermill": {
     "duration": 0.048244,
     "end_time": "2023-05-06T14:47:20.417076",
     "exception": false,
     "start_time": "2023-05-06T14:47:20.368832",
     "status": "completed"
    },
    "tags": []
   },
   "source": [
    "# Principles of Microeconomics\n",
    "\n",
    "- no questions in the text\n",
    "- each chapter has problems, review questions, self-check questions\n",
    "- some have critical thinking questions\n",
    "- We have answers to all self-check questions they are in the chapter files\n"
   ]
  },
  {
   "cell_type": "code",
   "execution_count": 123,
   "id": "b1e036c1",
   "metadata": {
    "execution": {
     "iopub.execute_input": "2023-05-06T14:47:20.514970Z",
     "iopub.status.busy": "2023-05-06T14:47:20.514226Z",
     "iopub.status.idle": "2023-05-06T14:47:20.574856Z",
     "shell.execute_reply": "2023-05-06T14:47:20.573846Z"
    },
    "papermill": {
     "duration": 0.113189,
     "end_time": "2023-05-06T14:47:20.577366",
     "exception": false,
     "start_time": "2023-05-06T14:47:20.464177",
     "status": "completed"
    },
    "tags": []
   },
   "outputs": [],
   "source": [
    "files = sorted(glob('/kaggle/input/csnlp-datasets/openstax/openstax/ap-microeconomics-2e-docx/*.docx'))\n",
    "text = docx2txt.process(files[3])\n",
    "BOOK = 'Microeconomics 2e'"
   ]
  },
  {
   "cell_type": "code",
   "execution_count": 124,
   "id": "dab29271",
   "metadata": {
    "execution": {
     "iopub.execute_input": "2023-05-06T14:47:20.675672Z",
     "iopub.status.busy": "2023-05-06T14:47:20.674937Z",
     "iopub.status.idle": "2023-05-06T14:47:20.681672Z",
     "shell.execute_reply": "2023-05-06T14:47:20.680620Z"
    },
    "papermill": {
     "duration": 0.058354,
     "end_time": "2023-05-06T14:47:20.683841",
     "exception": false,
     "start_time": "2023-05-06T14:47:20.625487",
     "status": "completed"
    },
    "tags": []
   },
   "outputs": [
    {
     "data": {
      "text/plain": [
       "'/kaggle/input/csnlp-datasets/openstax/openstax/ap-microeconomics-2e-docx/12-critical-thinking-questions.docx'"
      ]
     },
     "execution_count": 124,
     "metadata": {},
     "output_type": "execute_result"
    }
   ],
   "source": [
    "files[36]"
   ]
  },
  {
   "cell_type": "code",
   "execution_count": 125,
   "id": "f8c86651",
   "metadata": {
    "execution": {
     "iopub.execute_input": "2023-05-06T14:47:20.781462Z",
     "iopub.status.busy": "2023-05-06T14:47:20.780317Z",
     "iopub.status.idle": "2023-05-06T14:47:20.787192Z",
     "shell.execute_reply": "2023-05-06T14:47:20.785718Z"
    },
    "papermill": {
     "duration": 0.057322,
     "end_time": "2023-05-06T14:47:20.789287",
     "exception": false,
     "start_time": "2023-05-06T14:47:20.731965",
     "status": "completed"
    },
    "tags": []
   },
   "outputs": [
    {
     "name": "stdout",
     "output_type": "stream",
     "text": [
      "/kaggle/input/csnlp-datasets/openstax/openstax/ap-microeconomics-2e-docx/chapter-1.docx\n",
      "/kaggle/input/csnlp-datasets/openstax/openstax/ap-microeconomics-2e-docx/chapter-10.docx\n",
      "/kaggle/input/csnlp-datasets/openstax/openstax/ap-microeconomics-2e-docx/chapter-11.docx\n",
      "/kaggle/input/csnlp-datasets/openstax/openstax/ap-microeconomics-2e-docx/chapter-12.docx\n",
      "/kaggle/input/csnlp-datasets/openstax/openstax/ap-microeconomics-2e-docx/chapter-13.docx\n",
      "/kaggle/input/csnlp-datasets/openstax/openstax/ap-microeconomics-2e-docx/chapter-14.docx\n",
      "/kaggle/input/csnlp-datasets/openstax/openstax/ap-microeconomics-2e-docx/chapter-15.docx\n",
      "/kaggle/input/csnlp-datasets/openstax/openstax/ap-microeconomics-2e-docx/chapter-16.docx\n",
      "/kaggle/input/csnlp-datasets/openstax/openstax/ap-microeconomics-2e-docx/chapter-17.docx\n",
      "/kaggle/input/csnlp-datasets/openstax/openstax/ap-microeconomics-2e-docx/chapter-18.docx\n",
      "/kaggle/input/csnlp-datasets/openstax/openstax/ap-microeconomics-2e-docx/chapter-19.docx\n",
      "/kaggle/input/csnlp-datasets/openstax/openstax/ap-microeconomics-2e-docx/chapter-2.docx\n",
      "/kaggle/input/csnlp-datasets/openstax/openstax/ap-microeconomics-2e-docx/chapter-20.docx\n",
      "/kaggle/input/csnlp-datasets/openstax/openstax/ap-microeconomics-2e-docx/chapter-3.docx\n",
      "/kaggle/input/csnlp-datasets/openstax/openstax/ap-microeconomics-2e-docx/chapter-4.docx\n",
      "/kaggle/input/csnlp-datasets/openstax/openstax/ap-microeconomics-2e-docx/chapter-5.docx\n",
      "/kaggle/input/csnlp-datasets/openstax/openstax/ap-microeconomics-2e-docx/chapter-6.docx\n",
      "/kaggle/input/csnlp-datasets/openstax/openstax/ap-microeconomics-2e-docx/chapter-7.docx\n",
      "/kaggle/input/csnlp-datasets/openstax/openstax/ap-microeconomics-2e-docx/chapter-8.docx\n",
      "/kaggle/input/csnlp-datasets/openstax/openstax/ap-microeconomics-2e-docx/chapter-9.docx\n"
     ]
    }
   ],
   "source": [
    "for file in files:\n",
    "    if 'chapter' in file:\n",
    "        print(file)"
   ]
  },
  {
   "cell_type": "code",
   "execution_count": 126,
   "id": "c45716bc",
   "metadata": {
    "execution": {
     "iopub.execute_input": "2023-05-06T14:47:20.885774Z",
     "iopub.status.busy": "2023-05-06T14:47:20.885048Z",
     "iopub.status.idle": "2023-05-06T14:47:20.889035Z",
     "shell.execute_reply": "2023-05-06T14:47:20.888218Z"
    },
    "papermill": {
     "duration": 0.054476,
     "end_time": "2023-05-06T14:47:20.891243",
     "exception": false,
     "start_time": "2023-05-06T14:47:20.836767",
     "status": "completed"
    },
    "tags": []
   },
   "outputs": [],
   "source": [
    "# q = re.findall('\\n\\n[A-Z].*?\\n\\n[1-9]', text, re.DOTALL)\n",
    "# q"
   ]
  },
  {
   "cell_type": "code",
   "execution_count": 127,
   "id": "69a7960d",
   "metadata": {
    "execution": {
     "iopub.execute_input": "2023-05-06T14:47:20.989215Z",
     "iopub.status.busy": "2023-05-06T14:47:20.988756Z",
     "iopub.status.idle": "2023-05-06T14:47:21.002265Z",
     "shell.execute_reply": "2023-05-06T14:47:21.001147Z"
    },
    "papermill": {
     "duration": 0.065714,
     "end_time": "2023-05-06T14:47:21.004563",
     "exception": false,
     "start_time": "2023-05-06T14:47:20.938849",
     "status": "completed"
    },
    "tags": []
   },
   "outputs": [],
   "source": [
    "question_files = ['problems', 'questions']\n",
    "def ap_micro(files, BOOK):\n",
    "    print(f\"Book: {BOOK}\")\n",
    "    rows = []\n",
    "    for file in files:\n",
    "        if 'chapter' in file:\n",
    "            #answers to self-check questions\n",
    "            continue\n",
    "        if 'references' in file or 'preface' in file:\n",
    "            continue\n",
    "        row = dict()\n",
    "        row['Book'] = BOOK\n",
    "        text = docx2txt.process(file)\n",
    "        try:\n",
    "            start = re.search(\"\\nAccess for free\", text).start()\n",
    "            text = text[:start]\n",
    "        except:\n",
    "            text = text\n",
    "        filename = file.split('/')[-1]\n",
    "        section_title = re.sub(r\"\\.docx$\", \"\", filename)\n",
    "        chapter = filename.split('-')[0]\n",
    "        if 'a' in chapter or 'b' in chapter or 'c' in chapter:\n",
    "            continue\n",
    "        is_question = any(q for q in question_files if q in file)\n",
    "        if is_question:\n",
    "            if 'review' in filename or 'self-check' in filename or 'critical' in filename:\n",
    "                qs = re.findall('\\n\\n[A-Z].*?\\n\\n', text, re.DOTALL)\n",
    "                for q in qs:\n",
    "                    row = dict()\n",
    "                    row['Book'] = BOOK\n",
    "                    row['Chapter'] = chapter\n",
    "                    row['section_title'] = section_title\n",
    "                    row['is_question'] = True\n",
    "                    row['text'] = q.strip('\\n\\n').strip('\\n')\n",
    "                    rows.append(row)\n",
    "            elif 'problems' in filename:\n",
    "                qs = re.findall('\\n\\n[A-Z].*?(?:\\n\\n[1-9]|\\n\\nAccess)', text, re.DOTALL)\n",
    "                for q in qs:\n",
    "                    row = dict()\n",
    "                    row['Book'] = BOOK\n",
    "                    row['Chapter'] = chapter\n",
    "                    row['section_title'] = section_title\n",
    "                    row['is_question'] = True\n",
    "                    row['text'] = q.strip('\\n\\n').strip('\\n')\n",
    "                    rows.append(row)\n",
    "        else:\n",
    "            row = dict()\n",
    "            row['Book'] = BOOK\n",
    "            row['Chapter'] = chapter\n",
    "            row['section_title'] = section_title\n",
    "            row['is_question'] = False\n",
    "            row['text'] = text.strip('\\n\\n').strip('\\n')\n",
    "            rows.append(row)\n",
    "    return rows"
   ]
  },
  {
   "cell_type": "code",
   "execution_count": 128,
   "id": "417687a3",
   "metadata": {
    "execution": {
     "iopub.execute_input": "2023-05-06T14:47:21.103924Z",
     "iopub.status.busy": "2023-05-06T14:47:21.103520Z",
     "iopub.status.idle": "2023-05-06T14:47:22.946406Z",
     "shell.execute_reply": "2023-05-06T14:47:22.945408Z"
    },
    "papermill": {
     "duration": 1.895741,
     "end_time": "2023-05-06T14:47:22.948950",
     "exception": false,
     "start_time": "2023-05-06T14:47:21.053209",
     "status": "completed"
    },
    "tags": []
   },
   "outputs": [
    {
     "name": "stdout",
     "output_type": "stream",
     "text": [
      "Book: Microeconomics 2e\n"
     ]
    }
   ],
   "source": [
    "pd.DataFrame(ap_micro(files, BOOK = BOOK)).to_parquet('microeconomics2e_tq.pq')"
   ]
  },
  {
   "cell_type": "markdown",
   "id": "eef2cd1b",
   "metadata": {
    "papermill": {
     "duration": 0.049722,
     "end_time": "2023-05-06T14:47:23.048503",
     "exception": false,
     "start_time": "2023-05-06T14:47:22.998781",
     "status": "completed"
    },
    "tags": []
   },
   "source": [
    "# Microeconomics 2e Testbank\n",
    "\n",
    "- Has multiple choice and essay questions for each chapter\n",
    "- some files indicate that some chapters may have true or false, but I couldn't find any and looked through all files. I.e at the end it says how many questions of each type are there and it always says True/False: 0"
   ]
  },
  {
   "cell_type": "code",
   "execution_count": 129,
   "id": "d03b87d0",
   "metadata": {
    "execution": {
     "iopub.execute_input": "2023-05-06T14:47:23.150531Z",
     "iopub.status.busy": "2023-05-06T14:47:23.150111Z",
     "iopub.status.idle": "2023-05-06T14:47:23.236839Z",
     "shell.execute_reply": "2023-05-06T14:47:23.235644Z"
    },
    "papermill": {
     "duration": 0.140234,
     "end_time": "2023-05-06T14:47:23.239054",
     "exception": false,
     "start_time": "2023-05-06T14:47:23.098820",
     "status": "completed"
    },
    "tags": []
   },
   "outputs": [
    {
     "data": {
      "text/plain": [
       "'Chapter 4 Test Bank \\n\\n\\n\\nMultiple Choice Questions\\n\\n\\n\\n\\n\\n1. The “law of supply” functions in labor markets; that is, a higher ___________ for labor leads to a higher quantity of labor supplied.\\n\\n\\n\\nA. price \\n\\nB. demand\\n\\nC. supply\\n\\nD. quantity\\n\\n\\n\\nAnswer: A\\t\\n\\n\\n\\nReference:\\n\\n\\n\\nExplanation:\\n\\n\\n\\n\\n\\n2. As the _'"
      ]
     },
     "execution_count": 129,
     "metadata": {},
     "output_type": "execute_result"
    }
   ],
   "source": [
    "files = sorted(glob('/kaggle/input/csnlp-datasets/openstax/openstax/AP_Micro_2e_Test_Bank/*.docx'))\n",
    "text = docx2txt.process(files[3])\n",
    "text[:300]\n",
    "# BOOK = 'Microeconomics 2e'"
   ]
  },
  {
   "cell_type": "code",
   "execution_count": 130,
   "id": "c63b61ce",
   "metadata": {
    "execution": {
     "iopub.execute_input": "2023-05-06T14:47:23.338905Z",
     "iopub.status.busy": "2023-05-06T14:47:23.338199Z",
     "iopub.status.idle": "2023-05-06T14:47:25.257540Z",
     "shell.execute_reply": "2023-05-06T14:47:25.256557Z"
    },
    "papermill": {
     "duration": 1.972444,
     "end_time": "2023-05-06T14:47:25.260134",
     "exception": false,
     "start_time": "2023-05-06T14:47:23.287690",
     "status": "completed"
    },
    "tags": []
   },
   "outputs": [],
   "source": [
    "for file in files:\n",
    "    text = docx2txt.process(file)\n",
    "    if not re.search('Essay Questions', text):\n",
    "        print(f'have not: {file}')\n",
    "    if not re.search('Multiple Choice Questions', text):\n",
    "        print(f'have not: {file}')\n",
    "    "
   ]
  },
  {
   "cell_type": "code",
   "execution_count": 131,
   "id": "30b8a336",
   "metadata": {
    "execution": {
     "iopub.execute_input": "2023-05-06T14:47:25.360478Z",
     "iopub.status.busy": "2023-05-06T14:47:25.359697Z",
     "iopub.status.idle": "2023-05-06T14:47:25.364565Z",
     "shell.execute_reply": "2023-05-06T14:47:25.363321Z"
    },
    "papermill": {
     "duration": 0.057067,
     "end_time": "2023-05-06T14:47:25.366887",
     "exception": false,
     "start_time": "2023-05-06T14:47:25.309820",
     "status": "completed"
    },
    "tags": []
   },
   "outputs": [],
   "source": [
    "# essay = text[essay_start:]\n",
    "# essay = re.findall('\\n\\n\\n\\n[1-9].(.*?)\\n\\n\\n\\nExplanation', essay, re.DOTALL)\n",
    "# # mcq[:3]\n",
    "# essay"
   ]
  },
  {
   "cell_type": "markdown",
   "id": "e03738cd",
   "metadata": {
    "papermill": {
     "duration": 0.048658,
     "end_time": "2023-05-06T14:47:25.466105",
     "exception": false,
     "start_time": "2023-05-06T14:47:25.417447",
     "status": "completed"
    },
    "tags": []
   },
   "source": [
    "\\n\\n\\n\\n1. A tariff differs from a quota in that a tariff is:\\n\\n\\n\\nA. levied on imports, whereas a quota is imposed on exports.\\n\\nB. levied on exports, whereas a quota is imposed on imports.\\n\\nC. a tax levied on exports, whereas a quota is a limit on the number of units of a good that can be exported.\\n\\nD. a tax imposed on imports, whereas a quota is an absolute limit to the number of units of a good that can be imported.\\n\\n\\n\\nAnswer:"
   ]
  },
  {
   "cell_type": "code",
   "execution_count": 132,
   "id": "2d38a445",
   "metadata": {
    "execution": {
     "iopub.execute_input": "2023-05-06T14:47:25.569881Z",
     "iopub.status.busy": "2023-05-06T14:47:25.567623Z",
     "iopub.status.idle": "2023-05-06T14:47:25.574330Z",
     "shell.execute_reply": "2023-05-06T14:47:25.573395Z"
    },
    "papermill": {
     "duration": 0.060358,
     "end_time": "2023-05-06T14:47:25.576586",
     "exception": false,
     "start_time": "2023-05-06T14:47:25.516228",
     "status": "completed"
    },
    "tags": []
   },
   "outputs": [],
   "source": [
    "# mcq = text[multiple_start:essay_start]\n",
    "# mcq = re.findall('\\n\\n\\n\\n[1-9].(.*?)\\n\\n\\n\\nAnswer', mcq, re.DOTALL)\n",
    "# mcq[:3]"
   ]
  },
  {
   "cell_type": "code",
   "execution_count": 133,
   "id": "7cce2d8d",
   "metadata": {
    "execution": {
     "iopub.execute_input": "2023-05-06T14:47:25.677953Z",
     "iopub.status.busy": "2023-05-06T14:47:25.677572Z",
     "iopub.status.idle": "2023-05-06T14:47:25.689562Z",
     "shell.execute_reply": "2023-05-06T14:47:25.688666Z"
    },
    "papermill": {
     "duration": 0.066404,
     "end_time": "2023-05-06T14:47:25.692093",
     "exception": false,
     "start_time": "2023-05-06T14:47:25.625689",
     "status": "completed"
    },
    "tags": []
   },
   "outputs": [],
   "source": [
    "def micro2e_testbank(files, BOOK):\n",
    "    print(f\"Book: {BOOK}\")\n",
    "    rows = []\n",
    "    for file in files:\n",
    "        text = docx2txt.process(file)\n",
    "        filename = file.split('/')[-1].strip('.docx')\n",
    "        chapter = filename.split('TestBank-')[-1].split('-')[0].strip('Ch')\n",
    "        #get multiple choice questions\n",
    "        multiple_start = re.search('Multiple Choice Questions', text).start() \n",
    "        essay_start = re.search('Essay Questions', text).start()\n",
    "        mcq = text[multiple_start:essay_start]\n",
    "        mcq = re.findall('\\n\\n\\n\\n[1-9].(.*?)\\n\\n\\n\\nAnswer', mcq, re.DOTALL)\n",
    "        #get essay questions\n",
    "        essay = text[essay_start:]\n",
    "        if 'Test Bank Statistics Summary' in essay:\n",
    "            essay_end = re.search('Test Bank Statistics', essay).start()\n",
    "            essay = essay[:essay_end]\n",
    "        essay = re.findall('\\n\\n\\n\\n[1-9].(.*?)\\n\\n\\n\\nExplanation', essay, re.DOTALL)\n",
    "        for q in mcq:\n",
    "            q = q.strip(\" \")\n",
    "            fill_blank = False\n",
    "            if '___' in q:\n",
    "                fill_blank = True\n",
    "            row = dict()\n",
    "            row['Book'] = BOOK\n",
    "            row['Chapter'] = chapter\n",
    "            row['text'] = q.strip('\\n\\n').strip('\\n')\n",
    "            row['is_question'] = True\n",
    "            row['truefalse'] = False\n",
    "            row['fillblank'] = fill_blank\n",
    "            row['mc'] = True\n",
    "            rows.append(row)\n",
    "        for q in essay:\n",
    "            q = q.strip(\" \")\n",
    "            row = dict()\n",
    "            row['Book'] = BOOK\n",
    "            row['Chapter'] = chapter\n",
    "            row['text'] = q.strip('\\n\\n').strip('\\n')\n",
    "            row['is_question'] = True\n",
    "            row['truefalse'] = False\n",
    "            row['fillblank'] = False\n",
    "            row['mc'] = False\n",
    "            rows.append(row)\n",
    "    return rows"
   ]
  },
  {
   "cell_type": "code",
   "execution_count": 134,
   "id": "93099abc",
   "metadata": {
    "execution": {
     "iopub.execute_input": "2023-05-06T14:47:25.791586Z",
     "iopub.status.busy": "2023-05-06T14:47:25.790611Z",
     "iopub.status.idle": "2023-05-06T14:47:27.608686Z",
     "shell.execute_reply": "2023-05-06T14:47:27.607717Z"
    },
    "papermill": {
     "duration": 1.870553,
     "end_time": "2023-05-06T14:47:27.611587",
     "exception": false,
     "start_time": "2023-05-06T14:47:25.741034",
     "status": "completed"
    },
    "tags": []
   },
   "outputs": [
    {
     "name": "stdout",
     "output_type": "stream",
     "text": [
      "Book: Microeconomics 2e\n"
     ]
    }
   ],
   "source": [
    "pd.DataFrame(micro2e_testbank(files, BOOK = BOOK)).to_parquet('micro2e_testbank.pq')"
   ]
  },
  {
   "cell_type": "markdown",
   "id": "f59832fb",
   "metadata": {
    "papermill": {
     "duration": 0.048472,
     "end_time": "2023-05-06T14:47:27.710002",
     "exception": false,
     "start_time": "2023-05-06T14:47:27.661530",
     "status": "completed"
    },
    "tags": []
   },
   "source": [
    "# Principles of Macroeconomics 2e Testbank\n",
    "- same as micro eco also no true false, so odd\n"
   ]
  },
  {
   "cell_type": "code",
   "execution_count": 135,
   "id": "2fbc70f9",
   "metadata": {
    "execution": {
     "iopub.execute_input": "2023-05-06T14:47:27.812049Z",
     "iopub.status.busy": "2023-05-06T14:47:27.811616Z",
     "iopub.status.idle": "2023-05-06T14:47:27.908172Z",
     "shell.execute_reply": "2023-05-06T14:47:27.907140Z"
    },
    "papermill": {
     "duration": 0.151076,
     "end_time": "2023-05-06T14:47:27.911085",
     "exception": false,
     "start_time": "2023-05-06T14:47:27.760009",
     "status": "completed"
    },
    "tags": []
   },
   "outputs": [],
   "source": [
    "files = sorted(glob('/kaggle/input/csnlp-datasets/openstax/openstax/APMacroEconomics2e-TestBank/APMacroEconomics2e-TestBank/*.docx'))\n",
    "text = docx2txt.process(files[3])\n",
    "BOOK = 'Macroeconomics 2e'"
   ]
  },
  {
   "cell_type": "code",
   "execution_count": 136,
   "id": "a8df0d53",
   "metadata": {
    "execution": {
     "iopub.execute_input": "2023-05-06T14:47:28.014633Z",
     "iopub.status.busy": "2023-05-06T14:47:28.013941Z",
     "iopub.status.idle": "2023-05-06T14:47:28.021364Z",
     "shell.execute_reply": "2023-05-06T14:47:28.020088Z"
    },
    "papermill": {
     "duration": 0.061487,
     "end_time": "2023-05-06T14:47:28.024016",
     "exception": false,
     "start_time": "2023-05-06T14:47:27.962529",
     "status": "completed"
    },
    "tags": []
   },
   "outputs": [
    {
     "data": {
      "text/plain": [
       "'16'"
      ]
     },
     "execution_count": 136,
     "metadata": {},
     "output_type": "execute_result"
    }
   ],
   "source": [
    "files[-1].split('/')[-1].strip('.docx').split('-')[1].strip(\"TestBankCh\")"
   ]
  },
  {
   "cell_type": "code",
   "execution_count": 137,
   "id": "7eefbe5f",
   "metadata": {
    "execution": {
     "iopub.execute_input": "2023-05-06T14:47:28.126577Z",
     "iopub.status.busy": "2023-05-06T14:47:28.126174Z",
     "iopub.status.idle": "2023-05-06T14:47:28.138658Z",
     "shell.execute_reply": "2023-05-06T14:47:28.137788Z"
    },
    "papermill": {
     "duration": 0.066382,
     "end_time": "2023-05-06T14:47:28.140891",
     "exception": false,
     "start_time": "2023-05-06T14:47:28.074509",
     "status": "completed"
    },
    "tags": []
   },
   "outputs": [],
   "source": [
    "def macro2e_testbank(files, BOOK):\n",
    "    print(f\"Book: {BOOK}\")\n",
    "    rows = []\n",
    "    for file in files:\n",
    "        text = docx2txt.process(file)\n",
    "        filename = file.split('/')[-1].strip('.docx')\n",
    "        if 'TestBankCh' in filename:\n",
    "            chapter = filename.split('-')[1].strip(\"TestBankCh\")\n",
    "        else:\n",
    "            chapter = filename.split('TestBank-')[-1].split('-')[0].strip('Ch')\n",
    "        #get multiple choice questions\n",
    "        multiple_start = re.search('Multiple Choice Questions', text).start() \n",
    "        essay_start = re.search('Essay Questions', text).start()\n",
    "        mcq = text[multiple_start:essay_start]\n",
    "        mcq = re.findall('\\n\\n\\n\\n[1-9].(.*?)\\n\\n\\n\\nAnswer', mcq, re.DOTALL)\n",
    "        #get essay questions\n",
    "        essay = text[essay_start:]\n",
    "        if 'Test Bank Statistics Summary' in essay:\n",
    "            essay_end = re.search('Test Bank Statistics', essay).start()\n",
    "            essay = essay[:essay_end]\n",
    "        essay = re.findall('\\n\\n\\n\\n[1-9].(.*?)\\n\\n\\n\\nExplanation', essay, re.DOTALL)\n",
    "        for q in mcq:\n",
    "            q = q.strip(\" \")\n",
    "            fill_blank = False\n",
    "            if '___' in q:\n",
    "                fill_blank = True\n",
    "            row = dict()\n",
    "            row['Book'] = BOOK\n",
    "            row['Chapter'] = chapter\n",
    "            row['text'] = q.strip('\\n\\n').strip('\\n')\n",
    "            row['is_question'] = True\n",
    "            row['truefalse'] = False\n",
    "            row['fillblank'] = fill_blank\n",
    "            row['mc'] = True\n",
    "            rows.append(row)\n",
    "        for q in essay:\n",
    "            q = q.strip(\" \")\n",
    "            row = dict()\n",
    "            row['Book'] = BOOK\n",
    "            row['Chapter'] = chapter\n",
    "            row['text'] = q.strip('\\n\\n').strip('\\n')\n",
    "            row['is_question'] = True\n",
    "            row['truefalse'] = False\n",
    "            row['fillblank'] = False\n",
    "            row['mc'] = False\n",
    "            rows.append(row)\n",
    "    return rows"
   ]
  },
  {
   "cell_type": "code",
   "execution_count": 138,
   "id": "dc3271bf",
   "metadata": {
    "execution": {
     "iopub.execute_input": "2023-05-06T14:47:28.240746Z",
     "iopub.status.busy": "2023-05-06T14:47:28.239695Z",
     "iopub.status.idle": "2023-05-06T14:47:29.194397Z",
     "shell.execute_reply": "2023-05-06T14:47:29.193460Z"
    },
    "papermill": {
     "duration": 1.006617,
     "end_time": "2023-05-06T14:47:29.196857",
     "exception": false,
     "start_time": "2023-05-06T14:47:28.190240",
     "status": "completed"
    },
    "tags": []
   },
   "outputs": [
    {
     "name": "stdout",
     "output_type": "stream",
     "text": [
      "Book: Macroeconomics 2e\n"
     ]
    }
   ],
   "source": [
    "pd.DataFrame(macro2e_testbank(files, BOOK)).to_parquet('macroeconomics2e_testbank')"
   ]
  },
  {
   "cell_type": "markdown",
   "id": "52666140",
   "metadata": {
    "papermill": {
     "duration": 0.049062,
     "end_time": "2023-05-06T14:47:29.294396",
     "exception": false,
     "start_time": "2023-05-06T14:47:29.245334",
     "status": "completed"
    },
    "tags": []
   },
   "source": [
    "# Principles of MacroEconomics 2e"
   ]
  },
  {
   "cell_type": "markdown",
   "id": "d13e6994",
   "metadata": {
    "papermill": {
     "duration": 0.049005,
     "end_time": "2023-05-06T14:47:29.393119",
     "exception": false,
     "start_time": "2023-05-06T14:47:29.344114",
     "status": "completed"
    },
    "tags": []
   },
   "source": [
    "- same structure as micro 2e, \n",
    "- could possibly get rid of the extra files appendices?"
   ]
  },
  {
   "cell_type": "code",
   "execution_count": 139,
   "id": "9af8e0b5",
   "metadata": {
    "execution": {
     "iopub.execute_input": "2023-05-06T14:47:29.491705Z",
     "iopub.status.busy": "2023-05-06T14:47:29.491085Z",
     "iopub.status.idle": "2023-05-06T14:47:29.558891Z",
     "shell.execute_reply": "2023-05-06T14:47:29.558081Z"
    },
    "papermill": {
     "duration": 0.119772,
     "end_time": "2023-05-06T14:47:29.561500",
     "exception": false,
     "start_time": "2023-05-06T14:47:29.441728",
     "status": "completed"
    },
    "tags": []
   },
   "outputs": [
    {
     "data": {
      "text/plain": [
       "\"1.4   How To Organize Economies: An Overview of Economic Systems\\n\\nLearning Objectives\\n\\nBy the end of this section, you will be able to:\\n\\nContrast traditional economies, command economies, and market economies\\n\\nExplain gross domestic product (GDP)\\n\\nAssess the importance and effects of globalization\\n\\nThink about what a complex system a modern economy is. It includes all production of goods and services, all buying and selling, all employment. The economic life of every individual is interrelated, at least to a small extent, with the economic lives of thousands or even millions of other individuals. Who organizes and coordinates this system? Who ensures that, for example, the number of televisions a society provides is the same as the amount it needs and wants? Who ensures that the right number of employees work in the electronics industry? Who ensures that televisions are produced in the best way possible? How does it all get done?\\n\\nThere are at least three ways that societies organize an economy. The first is the traditional economy, which is the oldest economic system and is used in parts of Asia, Africa, and South America. Traditional economies organize their economic affairs the way they have always done (i.e., tradition). Occupations stay in the family. Most families are farmers who grow the crops using traditional methods. What you produce is what you consume. Because tradition drives the way of life, there is little economic progress or development.\\n\\n\\n\\nFigure  1.7   A Command Economy   Ancient Egypt was an example of a command economy. (Credit: Jay Bergesen/Flickr Creative Commons)\\n\\nCommand economies are very different. In a command economy, economic effort is devoted to goals passed down from a ruler or ruling class. Ancient Egypt was a good example: a large part of economic life was devoted to building pyramids, like those in Figure 1.7, for the pharaohs. Medieval manor life is another example: the lord provided the land for growing crops and protection in the event of war. In return, vassals provided labor and soldiers to do the lord’s bidding. In the last century, communism emphasized command economies.\\n\\nIn a command economy, the government decides what goods and services will be produced and what prices it will charge for them. The government decides what methods of production to use and sets wages for workers. The government provides many necessities like healthcare and education for free. Currently, Cuba and North Korea have command economies.\\n\\n\\n\\nFigure  1.8   A Market Economy   Nothing says “market” more than The New York Stock Exchange. (Credit: Erik Drost/Flickr Creative Commons)\\n\\nAlthough command economies have a very centralized structure for economic decisions, market economies have a very decentralized structure. A market is an institution that brings together buyers and sellers of goods or services, who may be either individuals or businesses. The New York Stock Exchange (Figure 1.8) is a prime example of a market which brings buyers and sellers together. In a market economy, decision-making is decentralized. Market economies are based on private enterprise: the private individuals or groups of private individuals own and operate the means of production (resources and businesses). Businesses supply goods and services based on demand. (In a command economy, by contrast, the government owns resources and businesses.) Supply of goods and services depends on what the demands are. A person’s income is based on his or her ability to convert resources (especially labor) into something that society values. The more society values the person’s output, the higher the income (think Lady Gaga or LeBron James). In this scenario, market forces, not governments, determine economic decisions.\\n\\nMost economies in the real world are mixed. They combine elements of command and market (and even traditional) systems. The U.S. economy is positioned toward the market-oriented end of the spectrum. Many countries in Europe and Latin America, while primarily market-oriented, have a greater degree of government involvement in economic decisions than the U.S. economy. China and Russia, while over the past several decades have moved more in the direction of having a market-oriented system, remain closer to the command economy end of the spectrum. The Heritage Foundation provides perspective on countries’ economic freedom, as the following Clear It Up feature discusses.\\n\\nClear It Up\\n\\nWhat countries are considered economically free?\\n\\nWho is in control of economic decisions? Are people free to do what they want and to work where they want? Are businesses free to produce when they want and what they choose, and to hire and fire as they wish? Are banks free to choose who will receive loans, or does the government control these kinds of choices? Each year, researchers at the Heritage Foundation and the Wall Street Journal look at 50 different categories of economic freedom for countries around the world. They give each nation a score based on the extent of economic freedom in each category. Note that while the Heritage Foundation/WSJ index is widely cited by an array of scholars and publications, it should be regarded as only one viewpoint. Some experts indicate that the index’s category choices and scores are politically biased. However, the index and others like it provide a useful resource for critical discussion of economic freedom.\\n\\nThe 2016 Heritage Foundation’s Index of Economic Freedom report ranked 178 countries around the world: Table 1.1 lists some examples of the most free and the least free countries. Although technically not a separate country, Hong Kong has been granted a degree of autonomy such that, for purposes of measuring economic statistics, it is often treated as a separate country. Several additional countries were not ranked because of extreme instability that made judgments about economic freedom impossible. These countries include Afghanistan, Iraq, Libya, Syria, Somalia, and Yemen.\\n\\nThe assigned rankings are inevitably based on estimates, yet even these rough measures can be useful for discerning trends. In 2015, 101 of the 178 included countries shifted toward greater economic freedom, although 77 of the countries shifted toward less economic freedom. In recent decades, the overall trend has been a higher level of economic freedom around the world.\\n\\nMost Economic Freedom\\n\\nLeast Economic Freedom\\n\\n1. Hong Kong\\n\\n167. Timor-Leste\\n\\n2. Singapore\\n\\n168. Democratic Republic of Congo\\n\\n3. New Zealand\\n\\n169. Argentina\\n\\n4. Switzerland\\n\\n170. Equatorial Guinea\\n\\n5. Australia\\n\\n171. Iran\\n\\n6. Canada\\n\\n172. Republic of Congo\\n\\n7. Chile\\n\\n173. Eritrea\\n\\n8. Ireland\\n\\n174. Turkmenistan\\n\\n9. Estonia\\n\\n175. Zimbabwe\\n\\n10. United Kingdom\\n\\n176. Venezuela\\n\\n11. United States\\n\\n177. Cuba\\n\\n12. Denmark\\n\\n178. North Korea\\n\\nTable  1.1   Economic Freedoms, 2016   (Source: The Heritage Foundation, 2016 Index of Economic Freedom, Country Rankings, http://www.heritage.org/index/ranking)\\n\\nRegulations: The Rules of the Game\\n\\nMarkets and government regulations are always entangled. There is no such thing as an absolutely free market. Regulations always define the “rules of the game” in the economy. Economies that are primarily market-oriented have fewer regulations—ideally just enough to maintain an even playing field for participants. At a minimum, these laws govern matters like safeguarding private property against theft, protecting people from violence, enforcing legal contracts, preventing fraud, and collecting taxes. Conversely, even the most command-oriented economies operate using markets. How else would buying and selling occur? The government heavily regulates decisions of what to produce and prices to charge. Heavily regulated economies often have underground economies (or black markets), which are markets where the buyers and sellers make transactions without the government’s approval.\\n\\nThe question of how to organize economic institutions is typically not a black-or-white choice between all market or all government, but instead involves a balancing act over the appropriate combination of market freedom and government rules.\\n\\n\\n\\nFigure  1.9   Globalization   Cargo ships are one mode of transportation for shipping goods in the global economy. (Credit: Raul Valdez/Flickr Creative Commons)\\n\\nThe Rise of Globalization\\n\\nRecent decades have seen a trend toward globalization, which is the expanding cultural, political, and economic connections between people around the world. One measure of this is the increased buying and selling of goods, services, and assets across national borders—in other words, international trade and financial capital flows.\\n\\nGlobalization has occurred for a number of reasons. Improvements in shipping, as illustrated by the container ship in Figure 1.9, and air cargo have driven down transportation costs. Innovations in computing and telecommunications have made it easier and cheaper to manage long-distance economic connections of production and sales. Many valuable products and services in the modern economy can take the form of information—for example: computer software; financial advice; travel planning; music, books and movies; and blueprints for designing a building. These products and many others can be transported over telephones and computer networks at ever-lower costs. Finally, international agreements and treaties between countries have encouraged greater trade.\\n\\nTable 1.2 presents one measure of globalization. It shows the percentage of domestic economic production that was exported for a selection of countries from 2010 to 2015, according to an entity known as The World Bank. Exports are the goods and services that one produces domestically and sells abroad. Imports are the goods and services that one produces abroad and then sells domestically. Gross domestic product (GDP) measures the size of total production in an economy. Thus, the ratio of exports divided by GDP measures what share of a country’s total economic production is sold in other countries.\\n\\nCountry\\n\\n2010\\n\\n2011\\n\\n2012\\n\\n2013\\n\\n2014\\n\\n2015\\n\\n\\n\\nHigher Income Countries\\n\\n\\n\\n\\n\\n\\n\\n\\n\\n\\n\\n\\n\\n\\n\\nUnited States\\n\\n12.4\\n\\n13.6\\n\\n13.6\\n\\n13.5\\n\\n13.5\\n\\n12.6\\n\\n\\n\\nBelgium\\n\\n76.2\\n\\n81.4\\n\\n82.2\\n\\n82.8\\n\\n84.0\\n\\n84.4\\n\\n\\n\\nCanada\\n\\n29.1\\n\\n30.7\\n\\n30.0\\n\\n30.1\\n\\n31.7\\n\\n31.5\\n\\n\\n\\nFrance\\n\\n26.0\\n\\n27.8\\n\\n28.1\\n\\n28.3\\n\\n29.0\\n\\n30.0\\n\\n\\n\\nMiddle Income Countries\\n\\n\\n\\n\\n\\n\\n\\n\\n\\n\\n\\n\\n\\n\\n\\nBrazil\\n\\n10.9\\n\\n11.9\\n\\n12.6\\n\\n12.6\\n\\n11.2\\n\\n13.0\\n\\n\\n\\nMexico\\n\\n29.9\\n\\n31.2\\n\\n32.6\\n\\n31.7\\n\\n32.3\\n\\n35.3\\n\\n\\n\\nSouth Korea\\n\\n49.4\\n\\n55.7\\n\\n56.3\\n\\n53.9\\n\\n50.3\\n\\n45.9\\n\\n\\n\\nLower Income Countries\\n\\n\\n\\n\\n\\n\\n\\n\\n\\n\\n\\n\\n\\n\\n\\nChad\\n\\n36.8\\n\\n38.9\\n\\n36.9\\n\\n32.2\\n\\n34.2\\n\\n29.8\\n\\n\\n\\nChina\\n\\n29.4\\n\\n28.5\\n\\n27.3\\n\\n26.4\\n\\n23.9\\n\\n22.4\\n\\n\\n\\nIndia\\n\\n22.0\\n\\n23.9\\n\\n24.0\\n\\n24.8\\n\\n22.9\\n\\n-\\n\\n\\n\\nNigeria\\n\\n25.3\\n\\n31.3\\n\\n31.4\\n\\n18.0\\n\\n18.4\\n\\n-\\n\\n\\n\\nTable  1.2   The Extent of Globalization (exports/GDP)   (Source: http://databank.worldbank.org/data/)\\n\\nIn recent decades, the export/GDP ratio has generally risen, both worldwide and for the U.S. economy. Interestingly, the share of U.S. exports in proportion to the U.S. economy is well below the global average, in part because large economies like the United States can contain more of the division of labor inside their national borders. However, smaller economies like Belgium, Korea, and Canada need to trade across their borders with other countries to take full advantage of division of labor, specialization, and economies of scale. In this sense, the enormous U.S. economy is less affected by globalization than most other countries.\\n\\nTable 1.2 indicates that many medium and low income countries around the world, like Mexico and China, have also experienced a surge of globalization in recent decades. If an astronaut in orbit could put on special glasses that make all economic transactions visible as brightly colored lines and look down at Earth, the astronaut would see the planet covered with connections.\\n\\nDespite the rise in globalization over the last few decades, in recent years we've seen significant pushback against globalization from people across the world concerned about loss of jobs, loss of political sovereignty, and increased economic inequality. Prominent examples of this pushback include the 2016 vote in Great Britain to exit the European Union (i.e. Brexit), and the election of Donald J. Trump for President of the United States.\\n\\nHopefully, you now have an idea about economics. Before you move to any other chapter of study, be sure to read the very important appendix to this chapter called The Use of Mathematics in Principles of Economics. It is essential that you learn more about how to read and use models in economics.\\n\\nBring It Home\\n\\nDecisions ... Decisions in the Social Media Age\\n\\nThe world we live in today provides nearly instant access to a wealth of information. Consider that as recently as the late 1970s, the Farmer’s Almanac, along with the Weather Bureau of the U.S. Department of Agriculture, were the primary sources American farmers used to determine when to plant and harvest their crops. Today, farmers are more likely to access, online, weather forecasts from the National Oceanic and Atmospheric Administration or watch the Weather Channel. After all, knowing the upcoming forecast could drive when to harvest crops. Consequently, knowing the upcoming weather could change the amount of crop harvested.\\n\\nSome relatively new information forums, such as Facebook, are rapidly changing how information is distributed; hence, influencing decision making. In 2014, the Pew Research Center reported that 71% of online adults use Facebook. This social media forum posts topics ranging from the National Basketball Association, to celebrity singers and performers, to farmers.\\n\\nInformation helps us make decisions as simple as what to wear today to how many reporters the media should send to cover a crash. Each of these decisions is an economic decision. After all, resources are scarce. If the media send ten reporters to cover an accident, they are not available to cover other stories or complete other tasks. Information provides the necessary knowledge to make the best possible decisions on how to utilize scarce resources. Welcome to the world of economics!\\n\\nAccess for free at https://openstax.org\""
      ]
     },
     "execution_count": 139,
     "metadata": {},
     "output_type": "execute_result"
    }
   ],
   "source": [
    "files = sorted(glob('/kaggle/input/csnlp-datasets/openstax/openstax/ap-macroeconomics-2e-docx/*.docx'))\n",
    "text = docx2txt.process(files[3])\n",
    "text"
   ]
  },
  {
   "cell_type": "code",
   "execution_count": 140,
   "id": "6a222774",
   "metadata": {
    "execution": {
     "iopub.execute_input": "2023-05-06T14:47:29.669942Z",
     "iopub.status.busy": "2023-05-06T14:47:29.669413Z",
     "iopub.status.idle": "2023-05-06T14:47:29.684009Z",
     "shell.execute_reply": "2023-05-06T14:47:29.683288Z"
    },
    "papermill": {
     "duration": 0.075134,
     "end_time": "2023-05-06T14:47:29.686937",
     "exception": false,
     "start_time": "2023-05-06T14:47:29.611803",
     "status": "completed"
    },
    "tags": []
   },
   "outputs": [],
   "source": [
    "question_files = ['problems', 'questions']\n",
    "def ap_macro(files, BOOK):\n",
    "    print(f\"book: {BOOK}\")\n",
    "    rows = []\n",
    "    for file in files:\n",
    "        if 'chapter' in file:\n",
    "            #answers to self-check questions\n",
    "            continue\n",
    "        if 'references' in file or 'preface' in file:\n",
    "            continue\n",
    "        row = dict()\n",
    "        text = docx2txt.process(file)\n",
    "        try:\n",
    "            start = re.search(\"\\nAccess for free\", text).start()\n",
    "            text = text[:start]\n",
    "        except:\n",
    "            text = text\n",
    "        filename = file.split('/')[-1]\n",
    "        section_title = re.sub(r\"\\.docx$\", \"\", filename)\n",
    "        chapter = filename.split('-')[0]\n",
    "        if 'a' in chapter or 'b' in chapter or 'c' in chapter:\n",
    "            continue\n",
    "        is_question = any(q for q in question_files if q in file)\n",
    "        if is_question:\n",
    "            if 'review' in filename or 'self-check' in filename or 'critical' in filename:\n",
    "                qs = re.findall('\\n\\n[A-Z].*?\\n\\n', text, re.DOTALL)\n",
    "                for q in qs:\n",
    "                    row = dict()\n",
    "                    row['Book'] = BOOK\n",
    "                    row['Chapter'] = chapter\n",
    "                    row['section_title'] = section_title\n",
    "                    row['is_question'] = True\n",
    "                    row['text'] = q.strip('\\n\\n').strip('\\n')\n",
    "                    rows.append(row)\n",
    "            elif 'problems' in filename:\n",
    "                qs = re.findall('\\n\\n[A-Z].*?(?:\\n\\n[1-9]|\\n\\nAccess)', text, re.DOTALL)\n",
    "                for q in qs:\n",
    "                    row = dict()\n",
    "                    row['Book'] = BOOK\n",
    "                    row['Chapter'] = chapter\n",
    "                    row['section_title'] = section_title\n",
    "                    row['is_question'] = True\n",
    "                    row['text'] = q.strip('\\n\\n').strip('\\n')\n",
    "                    rows.append(row)\n",
    "        else:\n",
    "            row = dict()\n",
    "            row['Book'] = BOOK\n",
    "            row['Chapter'] = chapter\n",
    "            row['section_title'] = section_title\n",
    "            row['is_question'] = False\n",
    "            row['text'] = text.strip('\\n\\n').strip('\\n')\n",
    "            rows.append(row)\n",
    "    return rows"
   ]
  },
  {
   "cell_type": "code",
   "execution_count": 141,
   "id": "a792df5f",
   "metadata": {
    "execution": {
     "iopub.execute_input": "2023-05-06T14:47:29.804489Z",
     "iopub.status.busy": "2023-05-06T14:47:29.804054Z",
     "iopub.status.idle": "2023-05-06T14:47:31.652535Z",
     "shell.execute_reply": "2023-05-06T14:47:31.651539Z"
    },
    "papermill": {
     "duration": 1.901966,
     "end_time": "2023-05-06T14:47:31.655154",
     "exception": false,
     "start_time": "2023-05-06T14:47:29.753188",
     "status": "completed"
    },
    "tags": []
   },
   "outputs": [
    {
     "name": "stdout",
     "output_type": "stream",
     "text": [
      "book: Macroeconomics 2e\n"
     ]
    }
   ],
   "source": [
    "pd.DataFrame(ap_macro(files, BOOK)).to_parquet('macroeconomics2e_tq.pq')"
   ]
  },
  {
   "cell_type": "markdown",
   "id": "ff053256",
   "metadata": {
    "papermill": {
     "duration": 0.047587,
     "end_time": "2023-05-06T14:47:31.750604",
     "exception": false,
     "start_time": "2023-05-06T14:47:31.703017",
     "status": "completed"
    },
    "tags": []
   },
   "source": [
    "# Principles of Microeconomics 3e\n",
    "- same as micro 2e but more content (bigger chapters, also more questions) though much is redundant, may need to filter for duplicates\n",
    "- questions every chapter, review, critical thinking and self-check questions\n",
    "- problems almost every chapter"
   ]
  },
  {
   "cell_type": "code",
   "execution_count": 142,
   "id": "1edc51ad",
   "metadata": {
    "execution": {
     "iopub.execute_input": "2023-05-06T14:47:31.848379Z",
     "iopub.status.busy": "2023-05-06T14:47:31.847996Z",
     "iopub.status.idle": "2023-05-06T14:47:33.981426Z",
     "shell.execute_reply": "2023-05-06T14:47:33.980490Z"
    },
    "papermill": {
     "duration": 2.186034,
     "end_time": "2023-05-06T14:47:33.984077",
     "exception": false,
     "start_time": "2023-05-06T14:47:31.798043",
     "status": "completed"
    },
    "tags": []
   },
   "outputs": [
    {
     "name": "stdout",
     "output_type": "stream",
     "text": [
      "Book: Microeconomics 3e\n"
     ]
    }
   ],
   "source": [
    "files = sorted(glob('/kaggle/input/csnlp-datasets/openstax/openstax/Macroeconomics3e_docx/*.docx'))\n",
    "BOOK = 'Microeconomics 3e'\n",
    "pd.DataFrame(ap_micro(files, BOOK)).to_parquet('microeconomics3e_tq.pq')"
   ]
  },
  {
   "cell_type": "code",
   "execution_count": 143,
   "id": "da8f055f",
   "metadata": {
    "execution": {
     "iopub.execute_input": "2023-05-06T14:47:34.079734Z",
     "iopub.status.busy": "2023-05-06T14:47:34.079336Z",
     "iopub.status.idle": "2023-05-06T14:47:34.981970Z",
     "shell.execute_reply": "2023-05-06T14:47:34.980924Z"
    },
    "papermill": {
     "duration": 0.953453,
     "end_time": "2023-05-06T14:47:34.984479",
     "exception": false,
     "start_time": "2023-05-06T14:47:34.031026",
     "status": "completed"
    },
    "tags": []
   },
   "outputs": [
    {
     "name": "stdout",
     "output_type": "stream",
     "text": [
      "Book: Microeconomics 3e\n"
     ]
    },
    {
     "data": {
      "text/html": [
       "<div>\n",
       "<style scoped>\n",
       "    .dataframe tbody tr th:only-of-type {\n",
       "        vertical-align: middle;\n",
       "    }\n",
       "\n",
       "    .dataframe tbody tr th {\n",
       "        vertical-align: top;\n",
       "    }\n",
       "\n",
       "    .dataframe thead th {\n",
       "        text-align: right;\n",
       "    }\n",
       "</style>\n",
       "<table border=\"1\" class=\"dataframe\">\n",
       "  <thead>\n",
       "    <tr style=\"text-align: right;\">\n",
       "      <th></th>\n",
       "      <th>Book</th>\n",
       "      <th>Chapter</th>\n",
       "      <th>section_title</th>\n",
       "      <th>is_question</th>\n",
       "      <th>text</th>\n",
       "    </tr>\n",
       "  </thead>\n",
       "  <tbody>\n",
       "    <tr>\n",
       "      <th>0</th>\n",
       "      <td>Microeconomics 3e</td>\n",
       "      <td>1</td>\n",
       "      <td>1-1-what-is-economics-and-why-is-it-important</td>\n",
       "      <td>False</td>\n",
       "      <td>1.1   What Is Economics, and Why Is It Importa...</td>\n",
       "    </tr>\n",
       "    <tr>\n",
       "      <th>1</th>\n",
       "      <td>Microeconomics 3e</td>\n",
       "      <td>1</td>\n",
       "      <td>1-2-microeconomics-and-macroeconomics</td>\n",
       "      <td>False</td>\n",
       "      <td>1.2   Microeconomics and Macroeconomics\\n\\nLea...</td>\n",
       "    </tr>\n",
       "    <tr>\n",
       "      <th>2</th>\n",
       "      <td>Microeconomics 3e</td>\n",
       "      <td>1</td>\n",
       "      <td>1-3-how-economists-use-theories-and-models-to-...</td>\n",
       "      <td>False</td>\n",
       "      <td>1.3   How Economists Use Theories and Models t...</td>\n",
       "    </tr>\n",
       "    <tr>\n",
       "      <th>3</th>\n",
       "      <td>Microeconomics 3e</td>\n",
       "      <td>1</td>\n",
       "      <td>1-4-how-to-organize-economies-an-overview-of-e...</td>\n",
       "      <td>False</td>\n",
       "      <td>1.4   How To Organize Economies: An Overview o...</td>\n",
       "    </tr>\n",
       "    <tr>\n",
       "      <th>4</th>\n",
       "      <td>Microeconomics 3e</td>\n",
       "      <td>1</td>\n",
       "      <td>1-critical-thinking-questions</td>\n",
       "      <td>True</td>\n",
       "      <td>Suppose you have a team of two workers: one is...</td>\n",
       "    </tr>\n",
       "    <tr>\n",
       "      <th>...</th>\n",
       "      <td>...</td>\n",
       "      <td>...</td>\n",
       "      <td>...</td>\n",
       "      <td>...</td>\n",
       "      <td>...</td>\n",
       "    </tr>\n",
       "    <tr>\n",
       "      <th>983</th>\n",
       "      <td>Microeconomics 3e</td>\n",
       "      <td>9</td>\n",
       "      <td>9-self-check-questions</td>\n",
       "      <td>True</td>\n",
       "      <td>How to Measure Changes in the Cost of Living i...</td>\n",
       "    </tr>\n",
       "    <tr>\n",
       "      <th>984</th>\n",
       "      <td>Microeconomics 3e</td>\n",
       "      <td>9</td>\n",
       "      <td>9-self-check-questions</td>\n",
       "      <td>True</td>\n",
       "      <td>The Consumer Price Index is subject to the sub...</td>\n",
       "    </tr>\n",
       "    <tr>\n",
       "      <th>985</th>\n",
       "      <td>Microeconomics 3e</td>\n",
       "      <td>9</td>\n",
       "      <td>9-self-check-questions</td>\n",
       "      <td>True</td>\n",
       "      <td>Go to this website for the Purchasing Power Ca...</td>\n",
       "    </tr>\n",
       "    <tr>\n",
       "      <th>986</th>\n",
       "      <td>Microeconomics 3e</td>\n",
       "      <td>9</td>\n",
       "      <td>9-self-check-questions</td>\n",
       "      <td>True</td>\n",
       "      <td>If inflation rises unexpectedly by 5%, would a...</td>\n",
       "    </tr>\n",
       "    <tr>\n",
       "      <th>987</th>\n",
       "      <td>Microeconomics 3e</td>\n",
       "      <td>9</td>\n",
       "      <td>9-self-check-questions</td>\n",
       "      <td>True</td>\n",
       "      <td>How should an increase in inflation affect the...</td>\n",
       "    </tr>\n",
       "  </tbody>\n",
       "</table>\n",
       "<p>988 rows × 5 columns</p>\n",
       "</div>"
      ],
      "text/plain": [
       "                  Book Chapter  \\\n",
       "0    Microeconomics 3e       1   \n",
       "1    Microeconomics 3e       1   \n",
       "2    Microeconomics 3e       1   \n",
       "3    Microeconomics 3e       1   \n",
       "4    Microeconomics 3e       1   \n",
       "..                 ...     ...   \n",
       "983  Microeconomics 3e       9   \n",
       "984  Microeconomics 3e       9   \n",
       "985  Microeconomics 3e       9   \n",
       "986  Microeconomics 3e       9   \n",
       "987  Microeconomics 3e       9   \n",
       "\n",
       "                                         section_title  is_question  \\\n",
       "0        1-1-what-is-economics-and-why-is-it-important        False   \n",
       "1                1-2-microeconomics-and-macroeconomics        False   \n",
       "2    1-3-how-economists-use-theories-and-models-to-...        False   \n",
       "3    1-4-how-to-organize-economies-an-overview-of-e...        False   \n",
       "4                        1-critical-thinking-questions         True   \n",
       "..                                                 ...          ...   \n",
       "983                             9-self-check-questions         True   \n",
       "984                             9-self-check-questions         True   \n",
       "985                             9-self-check-questions         True   \n",
       "986                             9-self-check-questions         True   \n",
       "987                             9-self-check-questions         True   \n",
       "\n",
       "                                                  text  \n",
       "0    1.1   What Is Economics, and Why Is It Importa...  \n",
       "1    1.2   Microeconomics and Macroeconomics\\n\\nLea...  \n",
       "2    1.3   How Economists Use Theories and Models t...  \n",
       "3    1.4   How To Organize Economies: An Overview o...  \n",
       "4    Suppose you have a team of two workers: one is...  \n",
       "..                                                 ...  \n",
       "983  How to Measure Changes in the Cost of Living i...  \n",
       "984  The Consumer Price Index is subject to the sub...  \n",
       "985  Go to this website for the Purchasing Power Ca...  \n",
       "986  If inflation rises unexpectedly by 5%, would a...  \n",
       "987  How should an increase in inflation affect the...  \n",
       "\n",
       "[988 rows x 5 columns]"
      ]
     },
     "execution_count": 143,
     "metadata": {},
     "output_type": "execute_result"
    }
   ],
   "source": [
    "pd.DataFrame(ap_micro(files, BOOK))"
   ]
  },
  {
   "cell_type": "markdown",
   "id": "85f081ec",
   "metadata": {
    "papermill": {
     "duration": 0.050543,
     "end_time": "2023-05-06T14:47:35.083914",
     "exception": false,
     "start_time": "2023-05-06T14:47:35.033371",
     "status": "completed"
    },
    "tags": []
   },
   "source": [
    "# MicroEconomics Testbank\n",
    "- mostly the same too\n",
    "- issues with redundancy again"
   ]
  },
  {
   "cell_type": "code",
   "execution_count": 144,
   "id": "87cf88f3",
   "metadata": {
    "execution": {
     "iopub.execute_input": "2023-05-06T14:47:35.237088Z",
     "iopub.status.busy": "2023-05-06T14:47:35.236655Z",
     "iopub.status.idle": "2023-05-06T14:47:35.433130Z",
     "shell.execute_reply": "2023-05-06T14:47:35.432244Z"
    },
    "papermill": {
     "duration": 0.30098,
     "end_time": "2023-05-06T14:47:35.435244",
     "exception": false,
     "start_time": "2023-05-06T14:47:35.134264",
     "status": "completed"
    },
    "tags": []
   },
   "outputs": [
    {
     "data": {
      "text/plain": [
       "'Chapter 4 Test Bank \\n\\n\\n\\nMultiple Choice Questions\\n\\n\\n\\n\\n\\n1. The “law of supply” functions in labor markets; that is, a higher ___________ for labor leads to a higher quantity of labor supplied.\\n\\n\\n\\nA. price \\n\\nB. demand\\n\\nC. supply\\n\\nD. quantity\\n\\n\\n\\nAnswer: A\\t\\n\\n\\n\\nReference:\\n\\n\\n\\nExplanation:\\n\\n\\n\\n\\n\\n2. As the _'"
      ]
     },
     "execution_count": 144,
     "metadata": {},
     "output_type": "execute_result"
    }
   ],
   "source": [
    "files = sorted(glob('/kaggle/input/csnlp-datasets/openstax/openstax/Microeconomics3e_Test_Bank/*.docx'))\n",
    "text = docx2txt.process(files[3])\n",
    "text[:300]"
   ]
  },
  {
   "cell_type": "code",
   "execution_count": 145,
   "id": "95d59783",
   "metadata": {
    "execution": {
     "iopub.execute_input": "2023-05-06T14:47:35.532028Z",
     "iopub.status.busy": "2023-05-06T14:47:35.531415Z",
     "iopub.status.idle": "2023-05-06T14:47:37.962762Z",
     "shell.execute_reply": "2023-05-06T14:47:37.961827Z"
    },
    "papermill": {
     "duration": 2.483263,
     "end_time": "2023-05-06T14:47:37.965400",
     "exception": false,
     "start_time": "2023-05-06T14:47:35.482137",
     "status": "completed"
    },
    "tags": []
   },
   "outputs": [
    {
     "name": "stdout",
     "output_type": "stream",
     "text": [
      "Book: Microeconomics 3e\n"
     ]
    }
   ],
   "source": [
    "pd.DataFrame(micro2e_testbank(files, BOOK)).to_parquet('micro3e_testbank.pq')"
   ]
  },
  {
   "cell_type": "markdown",
   "id": "b6505e78",
   "metadata": {
    "papermill": {
     "duration": 0.04667,
     "end_time": "2023-05-06T14:47:38.059507",
     "exception": false,
     "start_time": "2023-05-06T14:47:38.012837",
     "status": "completed"
    },
    "tags": []
   },
   "source": [
    "# Principles of Macroeconomics 3e\n",
    "- lucky same again"
   ]
  },
  {
   "cell_type": "code",
   "execution_count": 146,
   "id": "f1e05d86",
   "metadata": {
    "execution": {
     "iopub.execute_input": "2023-05-06T14:47:38.158248Z",
     "iopub.status.busy": "2023-05-06T14:47:38.157479Z",
     "iopub.status.idle": "2023-05-06T14:47:39.183355Z",
     "shell.execute_reply": "2023-05-06T14:47:39.182200Z"
    },
    "papermill": {
     "duration": 1.078081,
     "end_time": "2023-05-06T14:47:39.186306",
     "exception": false,
     "start_time": "2023-05-06T14:47:38.108225",
     "status": "completed"
    },
    "tags": []
   },
   "outputs": [
    {
     "name": "stdout",
     "output_type": "stream",
     "text": [
      "book: Macroeconomics 3e\n"
     ]
    }
   ],
   "source": [
    "files = sorted(glob('/kaggle/input/csnlp-datasets/openstax/openstax/Macroeconomics3e_docx/*.docx'))\n",
    "BOOK = 'Macroeconomics 3e'\n",
    "pd.DataFrame(ap_macro(files, BOOK)).to_parquet('macroeconomics3e_tq.pq')"
   ]
  },
  {
   "cell_type": "code",
   "execution_count": 147,
   "id": "b1dc03fa",
   "metadata": {
    "execution": {
     "iopub.execute_input": "2023-05-06T14:47:39.284825Z",
     "iopub.status.busy": "2023-05-06T14:47:39.284049Z",
     "iopub.status.idle": "2023-05-06T14:47:40.176522Z",
     "shell.execute_reply": "2023-05-06T14:47:40.175364Z"
    },
    "papermill": {
     "duration": 0.945108,
     "end_time": "2023-05-06T14:47:40.179148",
     "exception": false,
     "start_time": "2023-05-06T14:47:39.234040",
     "status": "completed"
    },
    "tags": []
   },
   "outputs": [
    {
     "name": "stdout",
     "output_type": "stream",
     "text": [
      "book: Macroeconomics 3e\n"
     ]
    },
    {
     "data": {
      "text/html": [
       "<div>\n",
       "<style scoped>\n",
       "    .dataframe tbody tr th:only-of-type {\n",
       "        vertical-align: middle;\n",
       "    }\n",
       "\n",
       "    .dataframe tbody tr th {\n",
       "        vertical-align: top;\n",
       "    }\n",
       "\n",
       "    .dataframe thead th {\n",
       "        text-align: right;\n",
       "    }\n",
       "</style>\n",
       "<table border=\"1\" class=\"dataframe\">\n",
       "  <thead>\n",
       "    <tr style=\"text-align: right;\">\n",
       "      <th></th>\n",
       "      <th>Book</th>\n",
       "      <th>Chapter</th>\n",
       "      <th>section_title</th>\n",
       "      <th>is_question</th>\n",
       "      <th>text</th>\n",
       "    </tr>\n",
       "  </thead>\n",
       "  <tbody>\n",
       "    <tr>\n",
       "      <th>0</th>\n",
       "      <td>Macroeconomics 3e</td>\n",
       "      <td>1</td>\n",
       "      <td>1-1-what-is-economics-and-why-is-it-important</td>\n",
       "      <td>False</td>\n",
       "      <td>1.1   What Is Economics, and Why Is It Importa...</td>\n",
       "    </tr>\n",
       "    <tr>\n",
       "      <th>1</th>\n",
       "      <td>Macroeconomics 3e</td>\n",
       "      <td>1</td>\n",
       "      <td>1-2-microeconomics-and-macroeconomics</td>\n",
       "      <td>False</td>\n",
       "      <td>1.2   Microeconomics and Macroeconomics\\n\\nLea...</td>\n",
       "    </tr>\n",
       "    <tr>\n",
       "      <th>2</th>\n",
       "      <td>Macroeconomics 3e</td>\n",
       "      <td>1</td>\n",
       "      <td>1-3-how-economists-use-theories-and-models-to-...</td>\n",
       "      <td>False</td>\n",
       "      <td>1.3   How Economists Use Theories and Models t...</td>\n",
       "    </tr>\n",
       "    <tr>\n",
       "      <th>3</th>\n",
       "      <td>Macroeconomics 3e</td>\n",
       "      <td>1</td>\n",
       "      <td>1-4-how-to-organize-economies-an-overview-of-e...</td>\n",
       "      <td>False</td>\n",
       "      <td>1.4   How To Organize Economies: An Overview o...</td>\n",
       "    </tr>\n",
       "    <tr>\n",
       "      <th>4</th>\n",
       "      <td>Macroeconomics 3e</td>\n",
       "      <td>1</td>\n",
       "      <td>1-critical-thinking-questions</td>\n",
       "      <td>True</td>\n",
       "      <td>Suppose you have a team of two workers: one is...</td>\n",
       "    </tr>\n",
       "    <tr>\n",
       "      <th>...</th>\n",
       "      <td>...</td>\n",
       "      <td>...</td>\n",
       "      <td>...</td>\n",
       "      <td>...</td>\n",
       "      <td>...</td>\n",
       "    </tr>\n",
       "    <tr>\n",
       "      <th>983</th>\n",
       "      <td>Macroeconomics 3e</td>\n",
       "      <td>9</td>\n",
       "      <td>9-self-check-questions</td>\n",
       "      <td>True</td>\n",
       "      <td>How to Measure Changes in the Cost of Living i...</td>\n",
       "    </tr>\n",
       "    <tr>\n",
       "      <th>984</th>\n",
       "      <td>Macroeconomics 3e</td>\n",
       "      <td>9</td>\n",
       "      <td>9-self-check-questions</td>\n",
       "      <td>True</td>\n",
       "      <td>The Consumer Price Index is subject to the sub...</td>\n",
       "    </tr>\n",
       "    <tr>\n",
       "      <th>985</th>\n",
       "      <td>Macroeconomics 3e</td>\n",
       "      <td>9</td>\n",
       "      <td>9-self-check-questions</td>\n",
       "      <td>True</td>\n",
       "      <td>Go to this website for the Purchasing Power Ca...</td>\n",
       "    </tr>\n",
       "    <tr>\n",
       "      <th>986</th>\n",
       "      <td>Macroeconomics 3e</td>\n",
       "      <td>9</td>\n",
       "      <td>9-self-check-questions</td>\n",
       "      <td>True</td>\n",
       "      <td>If inflation rises unexpectedly by 5%, would a...</td>\n",
       "    </tr>\n",
       "    <tr>\n",
       "      <th>987</th>\n",
       "      <td>Macroeconomics 3e</td>\n",
       "      <td>9</td>\n",
       "      <td>9-self-check-questions</td>\n",
       "      <td>True</td>\n",
       "      <td>How should an increase in inflation affect the...</td>\n",
       "    </tr>\n",
       "  </tbody>\n",
       "</table>\n",
       "<p>988 rows × 5 columns</p>\n",
       "</div>"
      ],
      "text/plain": [
       "                  Book Chapter  \\\n",
       "0    Macroeconomics 3e       1   \n",
       "1    Macroeconomics 3e       1   \n",
       "2    Macroeconomics 3e       1   \n",
       "3    Macroeconomics 3e       1   \n",
       "4    Macroeconomics 3e       1   \n",
       "..                 ...     ...   \n",
       "983  Macroeconomics 3e       9   \n",
       "984  Macroeconomics 3e       9   \n",
       "985  Macroeconomics 3e       9   \n",
       "986  Macroeconomics 3e       9   \n",
       "987  Macroeconomics 3e       9   \n",
       "\n",
       "                                         section_title  is_question  \\\n",
       "0        1-1-what-is-economics-and-why-is-it-important        False   \n",
       "1                1-2-microeconomics-and-macroeconomics        False   \n",
       "2    1-3-how-economists-use-theories-and-models-to-...        False   \n",
       "3    1-4-how-to-organize-economies-an-overview-of-e...        False   \n",
       "4                        1-critical-thinking-questions         True   \n",
       "..                                                 ...          ...   \n",
       "983                             9-self-check-questions         True   \n",
       "984                             9-self-check-questions         True   \n",
       "985                             9-self-check-questions         True   \n",
       "986                             9-self-check-questions         True   \n",
       "987                             9-self-check-questions         True   \n",
       "\n",
       "                                                  text  \n",
       "0    1.1   What Is Economics, and Why Is It Importa...  \n",
       "1    1.2   Microeconomics and Macroeconomics\\n\\nLea...  \n",
       "2    1.3   How Economists Use Theories and Models t...  \n",
       "3    1.4   How To Organize Economies: An Overview o...  \n",
       "4    Suppose you have a team of two workers: one is...  \n",
       "..                                                 ...  \n",
       "983  How to Measure Changes in the Cost of Living i...  \n",
       "984  The Consumer Price Index is subject to the sub...  \n",
       "985  Go to this website for the Purchasing Power Ca...  \n",
       "986  If inflation rises unexpectedly by 5%, would a...  \n",
       "987  How should an increase in inflation affect the...  \n",
       "\n",
       "[988 rows x 5 columns]"
      ]
     },
     "execution_count": 147,
     "metadata": {},
     "output_type": "execute_result"
    }
   ],
   "source": [
    "pd.DataFrame(ap_macro(files, BOOK))"
   ]
  },
  {
   "cell_type": "code",
   "execution_count": 148,
   "id": "f8106971",
   "metadata": {
    "execution": {
     "iopub.execute_input": "2023-05-06T14:47:40.278972Z",
     "iopub.status.busy": "2023-05-06T14:47:40.277907Z",
     "iopub.status.idle": "2023-05-06T14:47:41.718420Z",
     "shell.execute_reply": "2023-05-06T14:47:41.717147Z"
    },
    "papermill": {
     "duration": 1.492593,
     "end_time": "2023-05-06T14:47:41.721022",
     "exception": false,
     "start_time": "2023-05-06T14:47:40.228429",
     "status": "completed"
    },
    "tags": []
   },
   "outputs": [
    {
     "name": "stdout",
     "output_type": "stream",
     "text": [
      "Book: Macroeconomics 3e\n"
     ]
    }
   ],
   "source": [
    "files = sorted(glob('/kaggle/input/csnlp-datasets/openstax/openstax/Macroeconomics3e_TestBank/*.docx'))\n",
    "pd.DataFrame(macro2e_testbank(files, BOOK)).to_parquet('macroeconomics3e_testbank')"
   ]
  },
  {
   "cell_type": "code",
   "execution_count": 149,
   "id": "3c850e0f",
   "metadata": {
    "execution": {
     "iopub.execute_input": "2023-05-06T14:47:41.821808Z",
     "iopub.status.busy": "2023-05-06T14:47:41.820957Z",
     "iopub.status.idle": "2023-05-06T14:47:43.070617Z",
     "shell.execute_reply": "2023-05-06T14:47:43.069702Z"
    },
    "papermill": {
     "duration": 1.30249,
     "end_time": "2023-05-06T14:47:43.073132",
     "exception": false,
     "start_time": "2023-05-06T14:47:41.770642",
     "status": "completed"
    },
    "tags": []
   },
   "outputs": [
    {
     "name": "stdout",
     "output_type": "stream",
     "text": [
      "Book: Macroeconomics 3e\n"
     ]
    },
    {
     "data": {
      "text/html": [
       "<div>\n",
       "<style scoped>\n",
       "    .dataframe tbody tr th:only-of-type {\n",
       "        vertical-align: middle;\n",
       "    }\n",
       "\n",
       "    .dataframe tbody tr th {\n",
       "        vertical-align: top;\n",
       "    }\n",
       "\n",
       "    .dataframe thead th {\n",
       "        text-align: right;\n",
       "    }\n",
       "</style>\n",
       "<table border=\"1\" class=\"dataframe\">\n",
       "  <thead>\n",
       "    <tr style=\"text-align: right;\">\n",
       "      <th></th>\n",
       "      <th>Book</th>\n",
       "      <th>Chapter</th>\n",
       "      <th>text</th>\n",
       "      <th>is_question</th>\n",
       "      <th>truefalse</th>\n",
       "      <th>fillblank</th>\n",
       "      <th>mc</th>\n",
       "    </tr>\n",
       "  </thead>\n",
       "  <tbody>\n",
       "    <tr>\n",
       "      <th>0</th>\n",
       "      <td>Macroeconomics 3e</td>\n",
       "      <td>01</td>\n",
       "      <td>In countries like _____________ the command ec...</td>\n",
       "      <td>True</td>\n",
       "      <td>False</td>\n",
       "      <td>True</td>\n",
       "      <td>True</td>\n",
       "    </tr>\n",
       "    <tr>\n",
       "      <th>1</th>\n",
       "      <td>Macroeconomics 3e</td>\n",
       "      <td>01</td>\n",
       "      <td>In which of the following countries will the n...</td>\n",
       "      <td>True</td>\n",
       "      <td>False</td>\n",
       "      <td>False</td>\n",
       "      <td>True</td>\n",
       "    </tr>\n",
       "    <tr>\n",
       "      <th>2</th>\n",
       "      <td>Macroeconomics 3e</td>\n",
       "      <td>01</td>\n",
       "      <td>In a command economy, the __________ either ma...</td>\n",
       "      <td>True</td>\n",
       "      <td>False</td>\n",
       "      <td>True</td>\n",
       "      <td>True</td>\n",
       "    </tr>\n",
       "    <tr>\n",
       "      <th>3</th>\n",
       "      <td>Macroeconomics 3e</td>\n",
       "      <td>01</td>\n",
       "      <td>Because of their relatively small national eco...</td>\n",
       "      <td>True</td>\n",
       "      <td>False</td>\n",
       "      <td>False</td>\n",
       "      <td>True</td>\n",
       "    </tr>\n",
       "    <tr>\n",
       "      <th>4</th>\n",
       "      <td>Macroeconomics 3e</td>\n",
       "      <td>01</td>\n",
       "      <td>In a discussion of economics, which of the fol...</td>\n",
       "      <td>True</td>\n",
       "      <td>False</td>\n",
       "      <td>False</td>\n",
       "      <td>True</td>\n",
       "    </tr>\n",
       "    <tr>\n",
       "      <th>...</th>\n",
       "      <td>...</td>\n",
       "      <td>...</td>\n",
       "      <td>...</td>\n",
       "      <td>...</td>\n",
       "      <td>...</td>\n",
       "      <td>...</td>\n",
       "      <td>...</td>\n",
       "    </tr>\n",
       "    <tr>\n",
       "      <th>1067</th>\n",
       "      <td>Macroeconomics 3e</td>\n",
       "      <td>21</td>\n",
       "      <td>“Block Imports—Save Jobs for Some Americans, L...</td>\n",
       "      <td>True</td>\n",
       "      <td>False</td>\n",
       "      <td>False</td>\n",
       "      <td>False</td>\n",
       "    </tr>\n",
       "    <tr>\n",
       "      <th>1068</th>\n",
       "      <td>Macroeconomics 3e</td>\n",
       "      <td>21</td>\n",
       "      <td>Define protectionism as a policy and describe ...</td>\n",
       "      <td>True</td>\n",
       "      <td>False</td>\n",
       "      <td>False</td>\n",
       "      <td>False</td>\n",
       "    </tr>\n",
       "    <tr>\n",
       "      <th>1069</th>\n",
       "      <td>Macroeconomics 3e</td>\n",
       "      <td>21</td>\n",
       "      <td>In theory, imports might injure workers in sev...</td>\n",
       "      <td>True</td>\n",
       "      <td>False</td>\n",
       "      <td>False</td>\n",
       "      <td>False</td>\n",
       "    </tr>\n",
       "    <tr>\n",
       "      <th>1070</th>\n",
       "      <td>Macroeconomics 3e</td>\n",
       "      <td>21</td>\n",
       "      <td>What is the World Trade Organization and what ...</td>\n",
       "      <td>True</td>\n",
       "      <td>False</td>\n",
       "      <td>False</td>\n",
       "      <td>False</td>\n",
       "    </tr>\n",
       "    <tr>\n",
       "      <th>1071</th>\n",
       "      <td>Macroeconomics 3e</td>\n",
       "      <td>21</td>\n",
       "      <td>“The Unsafe consumer Products Argument” is one...</td>\n",
       "      <td>True</td>\n",
       "      <td>False</td>\n",
       "      <td>False</td>\n",
       "      <td>False</td>\n",
       "    </tr>\n",
       "  </tbody>\n",
       "</table>\n",
       "<p>1072 rows × 7 columns</p>\n",
       "</div>"
      ],
      "text/plain": [
       "                   Book Chapter  \\\n",
       "0     Macroeconomics 3e      01   \n",
       "1     Macroeconomics 3e      01   \n",
       "2     Macroeconomics 3e      01   \n",
       "3     Macroeconomics 3e      01   \n",
       "4     Macroeconomics 3e      01   \n",
       "...                 ...     ...   \n",
       "1067  Macroeconomics 3e      21   \n",
       "1068  Macroeconomics 3e      21   \n",
       "1069  Macroeconomics 3e      21   \n",
       "1070  Macroeconomics 3e      21   \n",
       "1071  Macroeconomics 3e      21   \n",
       "\n",
       "                                                   text  is_question  \\\n",
       "0     In countries like _____________ the command ec...         True   \n",
       "1     In which of the following countries will the n...         True   \n",
       "2     In a command economy, the __________ either ma...         True   \n",
       "3     Because of their relatively small national eco...         True   \n",
       "4     In a discussion of economics, which of the fol...         True   \n",
       "...                                                 ...          ...   \n",
       "1067  “Block Imports—Save Jobs for Some Americans, L...         True   \n",
       "1068  Define protectionism as a policy and describe ...         True   \n",
       "1069  In theory, imports might injure workers in sev...         True   \n",
       "1070  What is the World Trade Organization and what ...         True   \n",
       "1071  “The Unsafe consumer Products Argument” is one...         True   \n",
       "\n",
       "      truefalse  fillblank     mc  \n",
       "0         False       True   True  \n",
       "1         False      False   True  \n",
       "2         False       True   True  \n",
       "3         False      False   True  \n",
       "4         False      False   True  \n",
       "...         ...        ...    ...  \n",
       "1067      False      False  False  \n",
       "1068      False      False  False  \n",
       "1069      False      False  False  \n",
       "1070      False      False  False  \n",
       "1071      False      False  False  \n",
       "\n",
       "[1072 rows x 7 columns]"
      ]
     },
     "execution_count": 149,
     "metadata": {},
     "output_type": "execute_result"
    }
   ],
   "source": [
    "pd.DataFrame(macro2e_testbank(files, BOOK))"
   ]
  },
  {
   "cell_type": "markdown",
   "id": "8391d585",
   "metadata": {
    "papermill": {
     "duration": 0.051014,
     "end_time": "2023-05-06T14:47:43.175882",
     "exception": false,
     "start_time": "2023-05-06T14:47:43.124868",
     "status": "completed"
    },
    "tags": []
   },
   "source": [
    "# Economics 3e\n",
    "- structure is the same as micro and macro but little to no overlap, similar topics though, will add for nice variance\n",
    "- very large book\n",
    "- questions every chapter, review, critical thinking and self-check questions\n",
    "- problems almost every chapter\n",
    "- no true or false again"
   ]
  },
  {
   "cell_type": "code",
   "execution_count": 150,
   "id": "6bfde495",
   "metadata": {
    "execution": {
     "iopub.execute_input": "2023-05-06T14:47:43.288639Z",
     "iopub.status.busy": "2023-05-06T14:47:43.288245Z",
     "iopub.status.idle": "2023-05-06T14:47:46.996130Z",
     "shell.execute_reply": "2023-05-06T14:47:46.994894Z"
    },
    "papermill": {
     "duration": 3.76807,
     "end_time": "2023-05-06T14:47:46.999114",
     "exception": false,
     "start_time": "2023-05-06T14:47:43.231044",
     "status": "completed"
    },
    "tags": []
   },
   "outputs": [
    {
     "name": "stdout",
     "output_type": "stream",
     "text": [
      "book: Economics 3e\n"
     ]
    }
   ],
   "source": [
    "files = sorted(glob('/kaggle/input/csnlp-datasets/openstax/openstax/Economics3e_docx/*.docx'))\n",
    "BOOK = 'Economics 3e'\n",
    "df = pd.DataFrame(ap_macro(files, BOOK)).to_parquet('economics3e_tq.pq')"
   ]
  },
  {
   "cell_type": "markdown",
   "id": "e23471d0",
   "metadata": {
    "papermill": {
     "duration": 0.05142,
     "end_time": "2023-05-06T14:47:47.102944",
     "exception": false,
     "start_time": "2023-05-06T14:47:47.051524",
     "status": "completed"
    },
    "tags": []
   },
   "source": [
    "# Economics 3e\n",
    "- same and again no TF"
   ]
  },
  {
   "cell_type": "code",
   "execution_count": 151,
   "id": "4053bd3a",
   "metadata": {
    "execution": {
     "iopub.execute_input": "2023-05-06T14:47:47.208310Z",
     "iopub.status.busy": "2023-05-06T14:47:47.207526Z",
     "iopub.status.idle": "2023-05-06T14:47:50.669150Z",
     "shell.execute_reply": "2023-05-06T14:47:50.668218Z"
    },
    "papermill": {
     "duration": 3.517939,
     "end_time": "2023-05-06T14:47:50.671741",
     "exception": false,
     "start_time": "2023-05-06T14:47:47.153802",
     "status": "completed"
    },
    "tags": []
   },
   "outputs": [
    {
     "name": "stdout",
     "output_type": "stream",
     "text": [
      "Book: Economics 3e\n"
     ]
    }
   ],
   "source": [
    "files = sorted(glob('/kaggle/input/csnlp-datasets/openstax/openstax/Economics3e_TestBank/*.docx'))\n",
    "pd.DataFrame(macro2e_testbank(files, BOOK)).to_parquet('economics3e_testbank.pq')"
   ]
  },
  {
   "cell_type": "markdown",
   "id": "402f7099",
   "metadata": {
    "papermill": {
     "duration": 0.049328,
     "end_time": "2023-05-06T14:47:50.772667",
     "exception": false,
     "start_time": "2023-05-06T14:47:50.723339",
     "status": "completed"
    },
    "tags": []
   },
   "source": [
    "# Principles of Marketing\n",
    "- every section has knowledge-checks\n",
    "- critical thinking exercises for most chapters\n",
    "- some chapters have applied marketing questions\n",
    "- what do marketers do (not really questions but not really lectures either), hybrid, maybe skip\n",
    "- marketing plan are exercises requiring online files"
   ]
  },
  {
   "cell_type": "code",
   "execution_count": 152,
   "id": "c9e963f4",
   "metadata": {
    "execution": {
     "iopub.execute_input": "2023-05-06T14:47:50.875476Z",
     "iopub.status.busy": "2023-05-06T14:47:50.874302Z",
     "iopub.status.idle": "2023-05-06T14:47:50.944531Z",
     "shell.execute_reply": "2023-05-06T14:47:50.943516Z"
    },
    "papermill": {
     "duration": 0.124666,
     "end_time": "2023-05-06T14:47:50.947407",
     "exception": false,
     "start_time": "2023-05-06T14:47:50.822741",
     "status": "completed"
    },
    "tags": []
   },
   "outputs": [],
   "source": [
    "files = sorted(glob('/kaggle/input/csnlp-datasets/openstax/openstax/principles-marketing_docx/*.docx'))\n",
    "text = docx2txt.process(files[3])\n",
    "BOOK = 'Marketing'"
   ]
  },
  {
   "cell_type": "code",
   "execution_count": 153,
   "id": "fec690a0",
   "metadata": {
    "execution": {
     "iopub.execute_input": "2023-05-06T14:47:51.053129Z",
     "iopub.status.busy": "2023-05-06T14:47:51.052655Z",
     "iopub.status.idle": "2023-05-06T14:47:51.062726Z",
     "shell.execute_reply": "2023-05-06T14:47:51.061911Z"
    },
    "papermill": {
     "duration": 0.064988,
     "end_time": "2023-05-06T14:47:51.064905",
     "exception": false,
     "start_time": "2023-05-06T14:47:50.999917",
     "status": "completed"
    },
    "tags": []
   },
   "outputs": [],
   "source": [
    "# for file in files:\n",
    "#     if 'what-do-marketers-do' in file:\n",
    "#         print(file)\n",
    "#     if 'marketing-plan-exercise' in file:\n",
    "#         print(file)\n",
    "for file in files:\n",
    "    if 'questions' in file:\n",
    "        text = docx2txt.process(file)\n",
    "        break"
   ]
  },
  {
   "cell_type": "code",
   "execution_count": 154,
   "id": "9d433418",
   "metadata": {
    "execution": {
     "iopub.execute_input": "2023-05-06T14:47:51.164399Z",
     "iopub.status.busy": "2023-05-06T14:47:51.163657Z",
     "iopub.status.idle": "2023-05-06T14:47:51.169399Z",
     "shell.execute_reply": "2023-05-06T14:47:51.168602Z"
    },
    "papermill": {
     "duration": 0.056503,
     "end_time": "2023-05-06T14:47:51.171325",
     "exception": false,
     "start_time": "2023-05-06T14:47:51.114822",
     "status": "completed"
    },
    "tags": []
   },
   "outputs": [
    {
     "data": {
      "text/plain": [
       "'Applied Marketing Knowledge: Discussion Questions\\n\\n1. \\n\\nWhy is capturing customer lifetime value so important? Choose a retailer, and apply this concept as a way to explain, in part, its profitability and long-term viability in the marketplace.\\n\\n2. \\n\\nThe marketing mix has been compared to a toolbelt. In other words, successful marketers can devise an appropriate marketing mix by combining the right blend of tools: product, price, place, and promotion. Describe a recent product that you purchased on Amazon.com or some other online retailer (place), how you located it (promotion), and whether the price was competitive when compared to similar products.\\n\\n3. \\n\\nWhy do some marketers prefer to follow the 4Ps (product, price, place, and promotion) of marketing and others might prefer to follow the new pattern of the 5Ms (minds, minutes, machinery, materials, and money)?\\n\\n4. \\n\\nA person can be a product. Please give an example of this.\\n\\n5. \\n\\nAccording to the US Centers for Disease Control and Prevention, the birthrate is falling in communities around the world. In the United States, the birthrate fell by 4 percent in 2020, an all-time low. Describe why dwindling population is a demographic concern in the macroenvironment all businesses must contend with.\\n\\nAccess for free at https://openstax.org'"
      ]
     },
     "execution_count": 154,
     "metadata": {},
     "output_type": "execute_result"
    }
   ],
   "source": [
    "text"
   ]
  },
  {
   "cell_type": "code",
   "execution_count": 155,
   "id": "af4a89e8",
   "metadata": {
    "execution": {
     "iopub.execute_input": "2023-05-06T14:47:51.266352Z",
     "iopub.status.busy": "2023-05-06T14:47:51.266003Z",
     "iopub.status.idle": "2023-05-06T14:47:51.272661Z",
     "shell.execute_reply": "2023-05-06T14:47:51.271704Z"
    },
    "papermill": {
     "duration": 0.056487,
     "end_time": "2023-05-06T14:47:51.274914",
     "exception": false,
     "start_time": "2023-05-06T14:47:51.218427",
     "status": "completed"
    },
    "tags": []
   },
   "outputs": [
    {
     "data": {
      "text/plain": [
       "['\\n\\nWhy is capturing customer lifetime value so important? Choose a retailer, and apply this concept as a way to explain, in part, its profitability and long-term viability in the marketplace.\\n\\n2',\n",
       " '\\n\\nThe marketing mix has been compared to a toolbelt. In other words, successful marketers can devise an appropriate marketing mix by combining the right blend of tools: product, price, place, and promotion. Describe a recent product that you purchased on Amazon.com or some other online retailer (place), how you located it (promotion), and whether the price was competitive when compared to similar products.\\n\\n3',\n",
       " '\\n\\nWhy do some marketers prefer to follow the 4Ps (product, price, place, and promotion) of marketing and others might prefer to follow the new pattern of the 5Ms (minds, minutes, machinery, materials, and money)?\\n\\n4',\n",
       " '\\n\\nA person can be a product. Please give an example of this.\\n\\n5',\n",
       " '\\n\\nAccording to the US Centers for Disease Control and Prevention, the birthrate is falling in communities around the world. In the United States, the birthrate fell by 4 percent in 2020, an all-time low. Describe why dwindling population is a demographic concern in the macroenvironment all businesses must contend with.\\n\\nAccess']"
      ]
     },
     "execution_count": 155,
     "metadata": {},
     "output_type": "execute_result"
    }
   ],
   "source": [
    "pattern = r'\\n\\n(?:.*?)\\n\\n(?:\\d|Access)'\n",
    "re.findall(pattern, text)"
   ]
  },
  {
   "cell_type": "code",
   "execution_count": 156,
   "id": "9fece334",
   "metadata": {
    "execution": {
     "iopub.execute_input": "2023-05-06T14:47:51.372674Z",
     "iopub.status.busy": "2023-05-06T14:47:51.372271Z",
     "iopub.status.idle": "2023-05-06T14:47:51.379454Z",
     "shell.execute_reply": "2023-05-06T14:47:51.378192Z"
    },
    "papermill": {
     "duration": 0.059295,
     "end_time": "2023-05-06T14:47:51.381812",
     "exception": false,
     "start_time": "2023-05-06T14:47:51.322517",
     "status": "completed"
    },
    "tags": []
   },
   "outputs": [
    {
     "data": {
      "text/plain": [
       "'/kaggle/input/csnlp-datasets/openstax/openstax/principles-marketing_docx/1-6-customer-relationship-management-crm.docx'"
      ]
     },
     "execution_count": 156,
     "metadata": {},
     "output_type": "execute_result"
    }
   ],
   "source": [
    "files[5]"
   ]
  },
  {
   "cell_type": "code",
   "execution_count": 157,
   "id": "e7f1a606",
   "metadata": {
    "execution": {
     "iopub.execute_input": "2023-05-06T14:47:51.484339Z",
     "iopub.status.busy": "2023-05-06T14:47:51.483899Z",
     "iopub.status.idle": "2023-05-06T14:47:51.496152Z",
     "shell.execute_reply": "2023-05-06T14:47:51.495207Z"
    },
    "papermill": {
     "duration": 0.066125,
     "end_time": "2023-05-06T14:47:51.498489",
     "exception": false,
     "start_time": "2023-05-06T14:47:51.432364",
     "status": "completed"
    },
    "tags": []
   },
   "outputs": [],
   "source": [
    "question_files = ['problems', 'questions', 'critical-thinking']\n",
    "def marketing(files):\n",
    "    rows = []\n",
    "    for file in files:\n",
    "        filename = file.split('/')[-1]\n",
    "        section_title = re.sub(r\"\\.docx$\", \"\", filename)\n",
    "        chapter = filename.split('-')[0]\n",
    "        if 'chapter' in file:\n",
    "            #answers to self-check questions\n",
    "            continue\n",
    "        if 'what-do-marketers-do' in file or 'marketing-plan-exercise' in file:\n",
    "            continue\n",
    "        if 'references' in file or 'preface' in file:\n",
    "            continue\n",
    "        row = dict()\n",
    "        text = docx2txt.process(file)\n",
    "        if 'critical-thinking' in file:\n",
    "            pattern = r'\\n\\n(?:.*?)\\n\\n(?:\\d|Access)'\n",
    "            questions = re.findall(pattern, text)\n",
    "            for q in questions:\n",
    "                row = dict()\n",
    "                row['Chapter'] = chapter\n",
    "                row['section_title'] = section_title\n",
    "                row['is_question'] = True\n",
    "                row['text'] = q.strip('\\n\\n').strip('\\n')\n",
    "                rows.append(row)\n",
    "        elif 'questions' in file:\n",
    "            pattern = r'\\n\\n(?:.*?)\\n\\n(?:\\d|Access)'\n",
    "            questions = re.findall(pattern, text)\n",
    "            for q in questions:\n",
    "                row = dict()\n",
    "                row['Chapter'] = chapter\n",
    "                row['section_title'] = section_title\n",
    "                row['is_question'] = True\n",
    "                row['text'] = q.strip('\\n\\n').strip('\\n')\n",
    "                rows.append(row)\n",
    "        else:\n",
    "            try:\n",
    "                start = re.search(\"\\nAccess for free\", text).start()\n",
    "                text = text[:start]\n",
    "            except:\n",
    "                text = text\n",
    "            row = dict()    \n",
    "            row['Chapter'] = chapter\n",
    "            row['section_title'] = section_title\n",
    "            row['is_question'] = False\n",
    "            row['text'] = text.strip('\\n\\n').strip('\\n')\n",
    "            rows.append(row)\n",
    "    return rows"
   ]
  },
  {
   "cell_type": "code",
   "execution_count": 158,
   "id": "02b0c17e",
   "metadata": {
    "execution": {
     "iopub.execute_input": "2023-05-06T14:47:51.599811Z",
     "iopub.status.busy": "2023-05-06T14:47:51.599024Z",
     "iopub.status.idle": "2023-05-06T14:47:54.079950Z",
     "shell.execute_reply": "2023-05-06T14:47:54.078607Z"
    },
    "papermill": {
     "duration": 2.534405,
     "end_time": "2023-05-06T14:47:54.082966",
     "exception": false,
     "start_time": "2023-05-06T14:47:51.548561",
     "status": "completed"
    },
    "tags": []
   },
   "outputs": [],
   "source": [
    "df = pd.DataFrame(marketing(files))\n",
    "df['Book'] = BOOK\n",
    "df = df[['Book', 'Chapter', 'section_title', 'is_question', 'text']]\n",
    "df.to_parquet('marketing_tq.pq')"
   ]
  },
  {
   "cell_type": "code",
   "execution_count": 159,
   "id": "3b4d1684",
   "metadata": {
    "execution": {
     "iopub.execute_input": "2023-05-06T14:47:54.184662Z",
     "iopub.status.busy": "2023-05-06T14:47:54.183572Z",
     "iopub.status.idle": "2023-05-06T14:47:54.200149Z",
     "shell.execute_reply": "2023-05-06T14:47:54.199056Z"
    },
    "papermill": {
     "duration": 0.070088,
     "end_time": "2023-05-06T14:47:54.202612",
     "exception": false,
     "start_time": "2023-05-06T14:47:54.132524",
     "status": "completed"
    },
    "tags": []
   },
   "outputs": [
    {
     "data": {
      "text/html": [
       "<div>\n",
       "<style scoped>\n",
       "    .dataframe tbody tr th:only-of-type {\n",
       "        vertical-align: middle;\n",
       "    }\n",
       "\n",
       "    .dataframe tbody tr th {\n",
       "        vertical-align: top;\n",
       "    }\n",
       "\n",
       "    .dataframe thead th {\n",
       "        text-align: right;\n",
       "    }\n",
       "</style>\n",
       "<table border=\"1\" class=\"dataframe\">\n",
       "  <thead>\n",
       "    <tr style=\"text-align: right;\">\n",
       "      <th></th>\n",
       "      <th>Book</th>\n",
       "      <th>Chapter</th>\n",
       "      <th>section_title</th>\n",
       "      <th>is_question</th>\n",
       "      <th>text</th>\n",
       "    </tr>\n",
       "  </thead>\n",
       "  <tbody>\n",
       "    <tr>\n",
       "      <th>0</th>\n",
       "      <td>Marketing</td>\n",
       "      <td>1</td>\n",
       "      <td>1-1-marketing-and-the-marketing-process</td>\n",
       "      <td>False</td>\n",
       "      <td>1.1   Marketing and the Marketing Process\\n\\nL...</td>\n",
       "    </tr>\n",
       "    <tr>\n",
       "      <th>1</th>\n",
       "      <td>Marketing</td>\n",
       "      <td>1</td>\n",
       "      <td>1-2-the-marketing-mix-and-the-4ps-of-marketing</td>\n",
       "      <td>False</td>\n",
       "      <td>1.2   The Marketing Mix and the 4Ps of Marketi...</td>\n",
       "    </tr>\n",
       "    <tr>\n",
       "      <th>2</th>\n",
       "      <td>Marketing</td>\n",
       "      <td>1</td>\n",
       "      <td>1-3-factors-comprising-and-affecting-the-marke...</td>\n",
       "      <td>False</td>\n",
       "      <td>1.3   Factors Comprising and Affecting the Mar...</td>\n",
       "    </tr>\n",
       "    <tr>\n",
       "      <th>3</th>\n",
       "      <td>Marketing</td>\n",
       "      <td>1</td>\n",
       "      <td>1-4-evolution-of-the-marketing-concept</td>\n",
       "      <td>False</td>\n",
       "      <td>1.4   Evolution of the Marketing Concept\\n\\nLe...</td>\n",
       "    </tr>\n",
       "    <tr>\n",
       "      <th>4</th>\n",
       "      <td>Marketing</td>\n",
       "      <td>1</td>\n",
       "      <td>1-5-determining-consumer-needs-and-wants</td>\n",
       "      <td>False</td>\n",
       "      <td>1.5   Determining Consumer Needs and Wants\\n\\n...</td>\n",
       "    </tr>\n",
       "    <tr>\n",
       "      <th>...</th>\n",
       "      <td>...</td>\n",
       "      <td>...</td>\n",
       "      <td>...</td>\n",
       "      <td>...</td>\n",
       "      <td>...</td>\n",
       "    </tr>\n",
       "    <tr>\n",
       "      <th>334</th>\n",
       "      <td>Marketing</td>\n",
       "      <td>9</td>\n",
       "      <td>9-critical-thinking-exercises</td>\n",
       "      <td>True</td>\n",
       "      <td>Explain the product life cycle. How and why mi...</td>\n",
       "    </tr>\n",
       "    <tr>\n",
       "      <th>335</th>\n",
       "      <td>Marketing</td>\n",
       "      <td>9</td>\n",
       "      <td>9-critical-thinking-exercises</td>\n",
       "      <td>True</td>\n",
       "      <td>Examine the package of a product that you have...</td>\n",
       "    </tr>\n",
       "    <tr>\n",
       "      <th>336</th>\n",
       "      <td>Marketing</td>\n",
       "      <td>9</td>\n",
       "      <td>9-in-the-spotlight</td>\n",
       "      <td>False</td>\n",
       "      <td>Figure  9.1   Marketing strategies define and ...</td>\n",
       "    </tr>\n",
       "    <tr>\n",
       "      <th>337</th>\n",
       "      <td>Marketing</td>\n",
       "      <td>9</td>\n",
       "      <td>9-key-terms</td>\n",
       "      <td>False</td>\n",
       "      <td>Key Terms\\n\\nactual product\\n\\nproduct availab...</td>\n",
       "    </tr>\n",
       "    <tr>\n",
       "      <th>338</th>\n",
       "      <td>Marketing</td>\n",
       "      <td>index.docx</td>\n",
       "      <td>index</td>\n",
       "      <td>False</td>\n",
       "      <td>Index\\n\\nSymbols\\n\\n1977 Foreign Corrupt Pract...</td>\n",
       "    </tr>\n",
       "  </tbody>\n",
       "</table>\n",
       "<p>339 rows × 5 columns</p>\n",
       "</div>"
      ],
      "text/plain": [
       "          Book     Chapter                                      section_title  \\\n",
       "0    Marketing           1            1-1-marketing-and-the-marketing-process   \n",
       "1    Marketing           1     1-2-the-marketing-mix-and-the-4ps-of-marketing   \n",
       "2    Marketing           1  1-3-factors-comprising-and-affecting-the-marke...   \n",
       "3    Marketing           1             1-4-evolution-of-the-marketing-concept   \n",
       "4    Marketing           1           1-5-determining-consumer-needs-and-wants   \n",
       "..         ...         ...                                                ...   \n",
       "334  Marketing           9                      9-critical-thinking-exercises   \n",
       "335  Marketing           9                      9-critical-thinking-exercises   \n",
       "336  Marketing           9                                 9-in-the-spotlight   \n",
       "337  Marketing           9                                        9-key-terms   \n",
       "338  Marketing  index.docx                                              index   \n",
       "\n",
       "     is_question                                               text  \n",
       "0          False  1.1   Marketing and the Marketing Process\\n\\nL...  \n",
       "1          False  1.2   The Marketing Mix and the 4Ps of Marketi...  \n",
       "2          False  1.3   Factors Comprising and Affecting the Mar...  \n",
       "3          False  1.4   Evolution of the Marketing Concept\\n\\nLe...  \n",
       "4          False  1.5   Determining Consumer Needs and Wants\\n\\n...  \n",
       "..           ...                                                ...  \n",
       "334         True  Explain the product life cycle. How and why mi...  \n",
       "335         True  Examine the package of a product that you have...  \n",
       "336        False  Figure  9.1   Marketing strategies define and ...  \n",
       "337        False  Key Terms\\n\\nactual product\\n\\nproduct availab...  \n",
       "338        False  Index\\n\\nSymbols\\n\\n1977 Foreign Corrupt Pract...  \n",
       "\n",
       "[339 rows x 5 columns]"
      ]
     },
     "execution_count": 159,
     "metadata": {},
     "output_type": "execute_result"
    }
   ],
   "source": [
    "df"
   ]
  },
  {
   "cell_type": "code",
   "execution_count": 160,
   "id": "e4622bf9",
   "metadata": {
    "execution": {
     "iopub.execute_input": "2023-05-06T14:47:54.304813Z",
     "iopub.status.busy": "2023-05-06T14:47:54.304209Z",
     "iopub.status.idle": "2023-05-06T14:47:55.323819Z",
     "shell.execute_reply": "2023-05-06T14:47:55.322537Z"
    },
    "papermill": {
     "duration": 1.073768,
     "end_time": "2023-05-06T14:47:55.326445",
     "exception": false,
     "start_time": "2023-05-06T14:47:54.252677",
     "status": "completed"
    },
    "tags": []
   },
   "outputs": [
    {
     "name": "stdout",
     "output_type": "stream",
     "text": [
      "Python 3.7.12\r\n"
     ]
    }
   ],
   "source": [
    "!python --version"
   ]
  },
  {
   "cell_type": "code",
   "execution_count": null,
   "id": "d50b5f7c",
   "metadata": {
    "papermill": {
     "duration": 0.049501,
     "end_time": "2023-05-06T14:47:55.424491",
     "exception": false,
     "start_time": "2023-05-06T14:47:55.374990",
     "status": "completed"
    },
    "tags": []
   },
   "outputs": [],
   "source": []
  }
 ],
 "metadata": {
  "kernelspec": {
   "display_name": "Python 3",
   "language": "python",
   "name": "python3"
  },
  "language_info": {
   "codemirror_mode": {
    "name": "ipython",
    "version": 3
   },
   "file_extension": ".py",
   "mimetype": "text/x-python",
   "name": "python",
   "nbconvert_exporter": "python",
   "pygments_lexer": "ipython3",
   "version": "3.7.12"
  },
  "papermill": {
   "default_parameters": {},
   "duration": 123.492889,
   "end_time": "2023-05-06T14:47:56.195776",
   "environment_variables": {},
   "exception": null,
   "input_path": "__notebook__.ipynb",
   "output_path": "__notebook__.ipynb",
   "parameters": {},
   "start_time": "2023-05-06T14:45:52.702887",
   "version": "2.4.0"
  }
 },
 "nbformat": 4,
 "nbformat_minor": 5
}
