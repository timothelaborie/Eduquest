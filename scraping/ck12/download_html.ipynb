{
 "cells": [
  {
   "cell_type": "code",
   "execution_count": 1,
   "metadata": {},
   "outputs": [],
   "source": [
    "import numpy as np\n",
    "import pandas as pd\n",
    "import urllib.request\n",
    "import json\n",
    "import regex as re"
   ]
  },
  {
   "cell_type": "code",
   "execution_count": 3,
   "metadata": {},
   "outputs": [
    {
     "name": "stdout",
     "output_type": "stream",
     "text": [
      "http://www.ck12.org/api/flx/get/perma/modality/lesson/Nature-of-Science/SCI.PSC.111.2?extension=version%3A57&format=html&_=1456058313236\n",
      "http://www.ck12.org/api/flx/get/perma/modality/lesson/Permutations-and-Combinations-Compared/SCI.PSC.111.2?extension=version%3A20&format=html&_=1456059741830\n",
      "http://www.ck12.org/api/flx/get/perma/modality/lesson/Components-of-Blood/SCI.PSC.111.2?extension=version%3A43&format=html&_=1456061273279\n",
      "http://www.ck12.org/api/flx/get/perma/modality/lesson/Theorems-about-Lines-and-Angles/SCI.PSC.111.2?extension=version%3A18&format=html&_=1456062756946\n",
      "http://www.ck12.org/api/flx/get/perma/modality/lesson/Impact-of-Continued-Global-Warming/SCI.PSC.111.2?extension=version%3A35&format=html&_=1456064382060\n",
      "http://www.ck12.org/api/flx/get/perma/modality/lesson/Resistors-in-Parallel/SCI.PSC.111.2?extension=version%3A24&format=html&_=1456065983677\n"
     ]
    }
   ],
   "source": [
    "with open(\"ck12-lessons-urls.txt\") as f:\n",
    "    lines = f.read().splitlines()\n",
    "    # opener = urllib.request.FancyURLopener({})\n",
    "    for i in np.arange(0, len(lines), 1000):\n",
    "        url = lines[i]\n",
    "        print(url)\n",
    "        # f2 = opener.open(url)\n",
    "        # content = f2.read()\n",
    "        try:\n",
    "            content = urllib.request.urlopen(url).read()\n",
    "        except Exception as e:\n",
    "            print(e)\n",
    "            continue\n",
    "\n",
    "\n",
    "        #save the html file\n",
    "        filename = \"downloaded/lesson\" + str(i) + \".html\"\n",
    "        with open(filename, \"wb\") as f:\n",
    "            f.write(content)\n"
   ]
  }
 ],
 "metadata": {
  "kernelspec": {
   "display_name": "base",
   "language": "python",
   "name": "python3"
  },
  "language_info": {
   "codemirror_mode": {
    "name": "ipython",
    "version": 3
   },
   "file_extension": ".py",
   "mimetype": "text/x-python",
   "name": "python",
   "nbconvert_exporter": "python",
   "pygments_lexer": "ipython3",
   "version": "3.9.7"
  },
  "orig_nbformat": 4,
  "vscode": {
   "interpreter": {
    "hash": "ad2bdc8ecc057115af97d19610ffacc2b4e99fae6737bb82f5d7fb13d2f2c186"
   }
  }
 },
 "nbformat": 4,
 "nbformat_minor": 2
}
